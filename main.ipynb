{
 "cells": [
  {
   "cell_type": "code",
   "execution_count": 20,
   "id": "1aeafdd7",
   "metadata": {},
   "outputs": [],
   "source": [
    "import requests\n",
    "import json\n",
    "import plotly.express as px\n",
    "\n",
    "import numpy as np\n",
    "\n",
    "from datetime import datetime\n",
    "import pandas as pd\n",
    "\n",
    "# custom libraries\n",
    "from data import Data\n",
    "from util import *\n",
    "from visualization import *"
   ]
  },
  {
   "cell_type": "code",
   "execution_count": 21,
   "id": "1798690f",
   "metadata": {},
   "outputs": [],
   "source": [
    "# Leemos api.json\n",
    "with open('api.json') as file:\n",
    "    api = json.load(file)\n",
    "    clientID = api['IGDB']['clientID']\n",
    "    clientSecret = api['IGDB']['clientSecret']"
   ]
  },
  {
   "cell_type": "code",
   "execution_count": 22,
   "id": "e678fe9c",
   "metadata": {},
   "outputs": [],
   "source": [
    "# Creamos objeto Data\n",
    "data = Data(clientID = clientID, clientSecret = clientSecret)"
   ]
  },
  {
   "cell_type": "code",
   "execution_count": 4,
   "id": "3efa568d",
   "metadata": {},
   "outputs": [
    {
     "name": "stdout",
     "output_type": "stream",
     "text": [
      "[REQUEST] | 07/31/23 14:22:57 | Status 200 | Endpoint: https://api.igdb.com/v4/games | Batch 1 | Response time [1.18s] | Time elapsed [1.18s]\n",
      "[REQUEST] | 07/31/23 14:22:58 | Status 200 | Endpoint: https://api.igdb.com/v4/games | Batch 2 | Response time [0.81s] | Time elapsed [2.0s]\n",
      "[REQUEST] | 07/31/23 14:22:59 | Status 200 | Endpoint: https://api.igdb.com/v4/games | Batch 3 | Response time [1.12s] | Time elapsed [3.15s]\n",
      "[REQUEST] | 07/31/23 14:22:59 | Status 200 | Endpoint: https://api.igdb.com/v4/games | Batch 4 | Response time [0.5s] | Time elapsed [3.74s]\n",
      "[REQUEST] | 07/31/23 14:23:01 | Status 200 | Endpoint: https://api.igdb.com/v4/games | Batch 5 | Response time [1.08s] | Time elapsed [4.82s]\n",
      "[REQUEST] | 07/31/23 14:23:02 | Status 200 | Endpoint: https://api.igdb.com/v4/games | Batch 6 | Response time [1.14s] | Time elapsed [5.97s]\n",
      "[REQUEST] | 07/31/23 14:23:03 | Status 200 | Endpoint: https://api.igdb.com/v4/games | Batch 7 | Response time [1.14s] | Time elapsed [7.12s]\n",
      "[REQUEST] | 07/31/23 14:23:04 | Status 200 | Endpoint: https://api.igdb.com/v4/games | Batch 8 | Response time [1.35s] | Time elapsed [8.49s]\n",
      "[REQUEST] | 07/31/23 14:23:05 | Status 200 | Endpoint: https://api.igdb.com/v4/games | Batch 9 | Response time [0.52s] | Time elapsed [9.02s]\n",
      "[REQUEST] | 07/31/23 14:23:06 | Status 200 | Endpoint: https://api.igdb.com/v4/games | Batch 10 | Response time [1.17s] | Time elapsed [10.21s]\n",
      "[REQUEST] | 07/31/23 14:23:07 | Status 200 | Endpoint: https://api.igdb.com/v4/games | Batch 11 | Response time [1.18s] | Time elapsed [11.41s]\n",
      "[REQUEST] | 07/31/23 14:23:08 | Status 200 | Endpoint: https://api.igdb.com/v4/games | Batch 12 | Response time [1.16s] | Time elapsed [12.59s]\n",
      "[REQUEST] | 07/31/23 14:23:09 | Status 200 | Endpoint: https://api.igdb.com/v4/games | Batch 13 | Response time [1.08s] | Time elapsed [13.69s]\n",
      "[REQUEST] | 07/31/23 14:23:10 | Status 200 | Endpoint: https://api.igdb.com/v4/games | Batch 14 | Response time [0.51s] | Time elapsed [14.22s]\n",
      "[REQUEST] | 07/31/23 14:23:11 | Status 200 | Endpoint: https://api.igdb.com/v4/games | Batch 15 | Response time [1.09s] | Time elapsed [15.43s]\n",
      "[REQUEST] | 07/31/23 14:23:12 | Status 200 | Endpoint: https://api.igdb.com/v4/games | Batch 16 | Response time [1.19s] | Time elapsed [16.64s]\n",
      "[REQUEST] | 07/31/23 14:23:14 | Status 200 | Endpoint: https://api.igdb.com/v4/games | Batch 17 | Response time [1.14s] | Time elapsed [17.79s]\n",
      "[REQUEST] | 07/31/23 14:23:15 | Status 200 | Endpoint: https://api.igdb.com/v4/games | Batch 18 | Response time [1.13s] | Time elapsed [18.95s]\n",
      "[REQUEST] | 07/31/23 14:23:16 | Status 200 | Endpoint: https://api.igdb.com/v4/games | Batch 19 | Response time [1.15s] | Time elapsed [20.11s]\n",
      "[REQUEST] | 07/31/23 14:23:17 | Status 200 | Endpoint: https://api.igdb.com/v4/games | Batch 20 | Response time [1.23s] | Time elapsed [21.36s]\n",
      "[REQUEST] | 07/31/23 14:23:18 | Status 200 | Endpoint: https://api.igdb.com/v4/games | Batch 21 | Response time [1.16s] | Time elapsed [22.54s]\n",
      "[REQUEST] | 07/31/23 14:23:19 | Status 200 | Endpoint: https://api.igdb.com/v4/games | Batch 22 | Response time [1.16s] | Time elapsed [23.72s]\n",
      "[REQUEST] | 07/31/23 14:23:21 | Status 200 | Endpoint: https://api.igdb.com/v4/games | Batch 23 | Response time [1.12s] | Time elapsed [24.85s]\n",
      "[REQUEST] | 07/31/23 14:23:23 | Status 200 | Endpoint: https://api.igdb.com/v4/games | Batch 24 | Response time [1.95s] | Time elapsed [26.83s]\n",
      "[REQUEST] | 07/31/23 14:23:24 | Status 200 | Endpoint: https://api.igdb.com/v4/games | Batch 25 | Response time [1.21s] | Time elapsed [28.05s]\n",
      "[REQUEST] | 07/31/23 14:23:25 | Status 200 | Endpoint: https://api.igdb.com/v4/games | Batch 26 | Response time [1.17s] | Time elapsed [29.35s]\n",
      "[REQUEST] | 07/31/23 14:23:26 | Status 200 | Endpoint: https://api.igdb.com/v4/games | Batch 27 | Response time [1.13s] | Time elapsed [30.5s]\n",
      "[REQUEST] | 07/31/23 14:23:27 | Status 200 | Endpoint: https://api.igdb.com/v4/games | Batch 28 | Response time [1.17s] | Time elapsed [31.69s]\n",
      "[REQUEST] | 07/31/23 14:23:29 | Status 200 | Endpoint: https://api.igdb.com/v4/games | Batch 29 | Response time [1.3s] | Time elapsed [32.99s]\n",
      "[REQUEST] | 07/31/23 14:23:30 | Status 200 | Endpoint: https://api.igdb.com/v4/games | Batch 30 | Response time [1.14s] | Time elapsed [34.15s]\n",
      "[REQUEST] | 07/31/23 14:23:31 | Status 200 | Endpoint: https://api.igdb.com/v4/games | Batch 31 | Response time [1.23s] | Time elapsed [35.4s]\n",
      "[REQUEST] | 07/31/23 14:23:32 | Status 200 | Endpoint: https://api.igdb.com/v4/games | Batch 32 | Response time [0.39s] | Time elapsed [35.81s]\n",
      "[REQUEST] | 07/31/23 14:23:33 | Status 200 | Endpoint: https://api.igdb.com/v4/games | Batch 33 | Response time [1.16s] | Time elapsed [36.99s]\n",
      "[REQUEST] | 07/31/23 14:23:34 | Status 200 | Endpoint: https://api.igdb.com/v4/games | Batch 34 | Response time [0.88s] | Time elapsed [37.89s]\n",
      "[REQUEST] | 07/31/23 14:23:34 | Status 200 | Endpoint: https://api.igdb.com/v4/games | Batch 35 | Response time [0.53s] | Time elapsed [38.43s]\n",
      "[REQUEST] | 07/31/23 14:23:35 | Status 200 | Endpoint: https://api.igdb.com/v4/games | Batch 36 | Response time [1.12s] | Time elapsed [39.57s]\n",
      "[REQUEST] | 07/31/23 14:23:36 | Status 200 | Endpoint: https://api.igdb.com/v4/games | Batch 37 | Response time [1.16s] | Time elapsed [40.74s]\n",
      "[REQUEST] | 07/31/23 14:23:38 | Status 200 | Endpoint: https://api.igdb.com/v4/games | Batch 38 | Response time [1.11s] | Time elapsed [41.87s]\n",
      "[REQUEST] | 07/31/23 14:23:39 | Status 200 | Endpoint: https://api.igdb.com/v4/games | Batch 39 | Response time [1.11s] | Time elapsed [43.0s]\n",
      "[REQUEST] | 07/31/23 14:23:40 | Status 200 | Endpoint: https://api.igdb.com/v4/games | Batch 40 | Response time [1.09s] | Time elapsed [44.09s]\n",
      "[REQUEST] | 07/31/23 14:23:41 | Status 200 | Endpoint: https://api.igdb.com/v4/games | Batch 41 | Response time [1.12s] | Time elapsed [45.23s]\n",
      "[REQUEST] | 07/31/23 14:23:42 | Status 200 | Endpoint: https://api.igdb.com/v4/games | Batch 42 | Response time [1.2s] | Time elapsed [46.46s]\n",
      "[REQUEST] | 07/31/23 14:23:43 | Status 200 | Endpoint: https://api.igdb.com/v4/games | Batch 43 | Response time [0.53s] | Time elapsed [47.0s]\n",
      "[REQUEST] | 07/31/23 14:23:43 | Status 200 | Endpoint: https://api.igdb.com/v4/games | Batch 44 | Response time [0.52s] | Time elapsed [47.66s]\n",
      "[REQUEST] | 07/31/23 14:23:45 | Status 200 | Endpoint: https://api.igdb.com/v4/games | Batch 45 | Response time [1.14s] | Time elapsed [48.82s]\n",
      "[REQUEST] | 07/31/23 14:23:46 | Status 200 | Endpoint: https://api.igdb.com/v4/games | Batch 46 | Response time [1.11s] | Time elapsed [49.95s]\n",
      "[REQUEST] | 07/31/23 14:23:47 | Status 200 | Endpoint: https://api.igdb.com/v4/games | Batch 47 | Response time [1.13s] | Time elapsed [51.09s]\n",
      "[REQUEST] | 07/31/23 14:23:48 | Status 200 | Endpoint: https://api.igdb.com/v4/games | Batch 48 | Response time [0.85s] | Time elapsed [51.96s]\n",
      "[REQUEST] | 07/31/23 14:23:49 | Status 200 | Endpoint: https://api.igdb.com/v4/games | Batch 49 | Response time [1.12s] | Time elapsed [53.09s]\n",
      "[REQUEST] | 07/31/23 14:23:50 | Status 200 | Endpoint: https://api.igdb.com/v4/games | Batch 50 | Response time [1.12s] | Time elapsed [54.22s]\n",
      "[REQUEST] | 07/31/23 14:23:51 | Status 200 | Endpoint: https://api.igdb.com/v4/games | Batch 51 | Response time [0.83s] | Time elapsed [55.05s]\n",
      "[REQUEST] | 07/31/23 14:23:52 | Status 200 | Endpoint: https://api.igdb.com/v4/games | Batch 52 | Response time [1.14s] | Time elapsed [56.2s]\n",
      "[REQUEST] | 07/31/23 14:23:53 | Status 200 | Endpoint: https://api.igdb.com/v4/games | Batch 53 | Response time [1.15s] | Time elapsed [57.37s]\n",
      "[REQUEST] | 07/31/23 14:23:54 | Status 200 | Endpoint: https://api.igdb.com/v4/games | Batch 54 | Response time [1.1s] | Time elapsed [58.5s]\n",
      "[REQUEST] | 07/31/23 14:23:55 | Status 200 | Endpoint: https://api.igdb.com/v4/games | Batch 55 | Response time [1.19s] | Time elapsed [59.69s]\n",
      "[REQUEST] | 07/31/23 14:23:56 | Status 200 | Endpoint: https://api.igdb.com/v4/games | Batch 56 | Response time [0.91s] | Time elapsed [60.61s]\n",
      "[REQUEST] | 07/31/23 14:23:57 | Status 200 | Endpoint: https://api.igdb.com/v4/games | Batch 57 | Response time [0.59s] | Time elapsed [61.21s]\n",
      "[REQUEST] | 07/31/23 14:23:58 | Status 200 | Endpoint: https://api.igdb.com/v4/games | Batch 58 | Response time [1.17s] | Time elapsed [62.39s]\n",
      "[REQUEST] | 07/31/23 14:23:59 | Status 200 | Endpoint: https://api.igdb.com/v4/games | Batch 59 | Response time [1.2s] | Time elapsed [63.59s]\n",
      "[REQUEST] | 07/31/23 14:24:01 | Status 200 | Endpoint: https://api.igdb.com/v4/games | Batch 60 | Response time [1.13s] | Time elapsed [64.87s]\n",
      "[REQUEST] | 07/31/23 14:24:02 | Status 200 | Endpoint: https://api.igdb.com/v4/games | Batch 61 | Response time [1.21s] | Time elapsed [66.09s]\n",
      "[REQUEST] | 07/31/23 14:24:03 | Status 200 | Endpoint: https://api.igdb.com/v4/games | Batch 62 | Response time [1.18s] | Time elapsed [67.3s]\n",
      "[REQUEST] | 07/31/23 14:24:04 | Status 200 | Endpoint: https://api.igdb.com/v4/games | Batch 63 | Response time [1.29s] | Time elapsed [68.6s]\n",
      "[REQUEST] | 07/31/23 14:24:05 | Status 200 | Endpoint: https://api.igdb.com/v4/games | Batch 64 | Response time [0.92s] | Time elapsed [69.54s]\n",
      "[REQUEST] | 07/31/23 14:24:06 | Status 200 | Endpoint: https://api.igdb.com/v4/games | Batch 65 | Response time [1.17s] | Time elapsed [70.73s]\n",
      "[REQUEST] | 07/31/23 14:24:07 | Status 200 | Endpoint: https://api.igdb.com/v4/games | Batch 66 | Response time [0.82s] | Time elapsed [71.56s]\n",
      "[REQUEST] | 07/31/23 14:24:08 | Status 200 | Endpoint: https://api.igdb.com/v4/games | Batch 67 | Response time [1.17s] | Time elapsed [72.76s]\n",
      "[REQUEST] | 07/31/23 14:24:10 | Status 200 | Endpoint: https://api.igdb.com/v4/games | Batch 68 | Response time [1.26s] | Time elapsed [74.04s]\n",
      "[REQUEST] | 07/31/23 14:24:11 | Status 200 | Endpoint: https://api.igdb.com/v4/games | Batch 69 | Response time [1.15s] | Time elapsed [75.21s]\n",
      "[REQUEST] | 07/31/23 14:24:12 | Status 200 | Endpoint: https://api.igdb.com/v4/games | Batch 70 | Response time [1.26s] | Time elapsed [76.49s]\n",
      "[REQUEST] | 07/31/23 14:24:13 | Status 200 | Endpoint: https://api.igdb.com/v4/games | Batch 71 | Response time [1.15s] | Time elapsed [77.65s]\n",
      "[REQUEST] | 07/31/23 14:24:15 | Status 200 | Endpoint: https://api.igdb.com/v4/games | Batch 72 | Response time [1.14s] | Time elapsed [78.81s]\n",
      "[REQUEST] | 07/31/23 14:24:16 | Status 200 | Endpoint: https://api.igdb.com/v4/games | Batch 73 | Response time [1.2s] | Time elapsed [80.02s]\n",
      "[REQUEST] | 07/31/23 14:24:17 | Status 200 | Endpoint: https://api.igdb.com/v4/games | Batch 74 | Response time [1.1s] | Time elapsed [81.13s]\n",
      "[REQUEST] | 07/31/23 14:24:18 | Status 200 | Endpoint: https://api.igdb.com/v4/games | Batch 75 | Response time [1.25s] | Time elapsed [82.4s]\n",
      "[REQUEST] | 07/31/23 14:24:19 | Status 200 | Endpoint: https://api.igdb.com/v4/games | Batch 76 | Response time [1.18s] | Time elapsed [83.59s]\n",
      "[REQUEST] | 07/31/23 14:24:20 | Status 200 | Endpoint: https://api.igdb.com/v4/games | Batch 77 | Response time [1.15s] | Time elapsed [84.75s]\n",
      "[REQUEST] | 07/31/23 14:24:22 | Status 200 | Endpoint: https://api.igdb.com/v4/games | Batch 78 | Response time [1.35s] | Time elapsed [86.11s]\n",
      "[REQUEST] | 07/31/23 14:24:23 | Status 200 | Endpoint: https://api.igdb.com/v4/games | Batch 79 | Response time [1.14s] | Time elapsed [87.43s]\n",
      "[REQUEST] | 07/31/23 14:24:24 | Status 200 | Endpoint: https://api.igdb.com/v4/games | Batch 80 | Response time [0.53s] | Time elapsed [87.97s]\n",
      "[REQUEST] | 07/31/23 14:24:25 | Status 200 | Endpoint: https://api.igdb.com/v4/games | Batch 81 | Response time [1.17s] | Time elapsed [89.15s]\n",
      "[REQUEST] | 07/31/23 14:24:26 | Status 200 | Endpoint: https://api.igdb.com/v4/games | Batch 82 | Response time [1.17s] | Time elapsed [90.35s]\n",
      "[REQUEST] | 07/31/23 14:24:27 | Status 200 | Endpoint: https://api.igdb.com/v4/games | Batch 83 | Response time [1.11s] | Time elapsed [91.47s]\n",
      "[REQUEST] | 07/31/23 14:24:29 | Status 200 | Endpoint: https://api.igdb.com/v4/games | Batch 84 | Response time [1.31s] | Time elapsed [92.8s]\n",
      "[REQUEST] | 07/31/23 14:24:30 | Status 200 | Endpoint: https://api.igdb.com/v4/games | Batch 85 | Response time [1.25s] | Time elapsed [94.07s]\n",
      "[REQUEST] | 07/31/23 14:24:31 | Status 200 | Endpoint: https://api.igdb.com/v4/games | Batch 86 | Response time [1.14s] | Time elapsed [95.22s]\n",
      "[REQUEST] | 07/31/23 14:24:32 | Status 200 | Endpoint: https://api.igdb.com/v4/games | Batch 87 | Response time [1.11s] | Time elapsed [96.35s]\n",
      "[REQUEST] | 07/31/23 14:24:33 | Status 200 | Endpoint: https://api.igdb.com/v4/games | Batch 88 | Response time [1.21s] | Time elapsed [97.57s]\n",
      "[REQUEST] | 07/31/23 14:24:35 | Status 200 | Endpoint: https://api.igdb.com/v4/games | Batch 89 | Response time [1.31s] | Time elapsed [98.9s]\n",
      "[REQUEST] | 07/31/23 14:24:36 | Status 200 | Endpoint: https://api.igdb.com/v4/games | Batch 90 | Response time [1.18s] | Time elapsed [100.1s]\n",
      "[REQUEST] | 07/31/23 14:24:36 | Status 200 | Endpoint: https://api.igdb.com/v4/games | Batch 91 | Response time [0.55s] | Time elapsed [100.66s]\n",
      "[REQUEST] | 07/31/23 14:24:38 | Status 200 | Endpoint: https://api.igdb.com/v4/games | Batch 92 | Response time [1.19s] | Time elapsed [101.88s]\n",
      "[REQUEST] | 07/31/23 14:24:39 | Status 200 | Endpoint: https://api.igdb.com/v4/games | Batch 93 | Response time [1.15s] | Time elapsed [103.03s]\n",
      "[REQUEST] | 07/31/23 14:24:40 | Status 200 | Endpoint: https://api.igdb.com/v4/games | Batch 94 | Response time [1.18s] | Time elapsed [104.22s]\n",
      "[REQUEST] | 07/31/23 14:24:41 | Status 200 | Endpoint: https://api.igdb.com/v4/games | Batch 95 | Response time [1.17s] | Time elapsed [105.4s]\n",
      "[REQUEST] | 07/31/23 14:24:42 | Status 200 | Endpoint: https://api.igdb.com/v4/games | Batch 96 | Response time [1.12s] | Time elapsed [106.53s]\n",
      "[REQUEST] | 07/31/23 14:24:43 | Status 200 | Endpoint: https://api.igdb.com/v4/games | Batch 97 | Response time [0.84s] | Time elapsed [107.39s]\n",
      "[REQUEST] | 07/31/23 14:24:45 | Status 200 | Endpoint: https://api.igdb.com/v4/games | Batch 98 | Response time [2.17s] | Time elapsed [109.58s]\n",
      "[REQUEST] | 07/31/23 14:24:46 | Status 200 | Endpoint: https://api.igdb.com/v4/games | Batch 99 | Response time [0.66s] | Time elapsed [110.25s]\n",
      "[REQUEST] | 07/31/23 14:24:47 | Status 200 | Endpoint: https://api.igdb.com/v4/games | Batch 100 | Response time [1.16s] | Time elapsed [111.61s]\n",
      "[REQUEST] | 07/31/23 14:24:49 | Status 200 | Endpoint: https://api.igdb.com/v4/games | Batch 101 | Response time [1.29s] | Time elapsed [112.91s]\n",
      "[REQUEST] | 07/31/23 14:24:50 | Status 200 | Endpoint: https://api.igdb.com/v4/games | Batch 102 | Response time [1.59s] | Time elapsed [114.51s]\n",
      "[REQUEST] | 07/31/23 14:24:51 | Status 200 | Endpoint: https://api.igdb.com/v4/games | Batch 103 | Response time [1.11s] | Time elapsed [115.64s]\n",
      "[REQUEST] | 07/31/23 14:24:53 | Status 200 | Endpoint: https://api.igdb.com/v4/games | Batch 104 | Response time [1.18s] | Time elapsed [116.84s]\n",
      "[REQUEST] | 07/31/23 14:24:54 | Status 200 | Endpoint: https://api.igdb.com/v4/games | Batch 105 | Response time [1.16s] | Time elapsed [118.03s]\n",
      "[REQUEST] | 07/31/23 14:24:55 | Status 200 | Endpoint: https://api.igdb.com/v4/games | Batch 106 | Response time [0.87s] | Time elapsed [118.93s]\n",
      "[REQUEST] | 07/31/23 14:24:56 | Status 200 | Endpoint: https://api.igdb.com/v4/games | Batch 107 | Response time [1.31s] | Time elapsed [120.25s]\n",
      "[REQUEST] | 07/31/23 14:24:57 | Status 200 | Endpoint: https://api.igdb.com/v4/games | Batch 108 | Response time [0.88s] | Time elapsed [121.15s]\n",
      "[REQUEST] | 07/31/23 14:24:58 | Status 200 | Endpoint: https://api.igdb.com/v4/games | Batch 109 | Response time [1.19s] | Time elapsed [122.34s]\n",
      "[REQUEST] | 07/31/23 14:24:59 | Status 200 | Endpoint: https://api.igdb.com/v4/games | Batch 110 | Response time [1.13s] | Time elapsed [123.48s]\n",
      "[REQUEST] | 07/31/23 14:25:00 | Status 200 | Endpoint: https://api.igdb.com/v4/games | Batch 111 | Response time [1.21s] | Time elapsed [124.7s]\n",
      "[REQUEST] | 07/31/23 14:25:01 | Status 200 | Endpoint: https://api.igdb.com/v4/games | Batch 112 | Response time [0.87s] | Time elapsed [125.58s]\n",
      "[REQUEST] | 07/31/23 14:25:03 | Status 200 | Endpoint: https://api.igdb.com/v4/games | Batch 113 | Response time [1.33s] | Time elapsed [126.92s]\n",
      "[REQUEST] | 07/31/23 14:25:04 | Status 200 | Endpoint: https://api.igdb.com/v4/games | Batch 114 | Response time [1.16s] | Time elapsed [128.09s]\n",
      "[REQUEST] | 07/31/23 14:25:04 | Status 200 | Endpoint: https://api.igdb.com/v4/games | Batch 115 | Response time [0.58s] | Time elapsed [128.68s]\n",
      "[REQUEST] | 07/31/23 14:25:05 | Status 200 | Endpoint: https://api.igdb.com/v4/games | Batch 116 | Response time [0.54s] | Time elapsed [129.23s]\n",
      "[REQUEST] | 07/31/23 14:25:06 | Status 200 | Endpoint: https://api.igdb.com/v4/games | Batch 117 | Response time [1.17s] | Time elapsed [130.41s]\n",
      "[REQUEST] | 07/31/23 14:25:07 | Status 200 | Endpoint: https://api.igdb.com/v4/games | Batch 118 | Response time [1.18s] | Time elapsed [131.61s]\n",
      "[REQUEST] | 07/31/23 14:25:08 | Status 200 | Endpoint: https://api.igdb.com/v4/games | Batch 119 | Response time [1.13s] | Time elapsed [132.76s]\n",
      "[REQUEST] | 07/31/23 14:25:10 | Status 200 | Endpoint: https://api.igdb.com/v4/games | Batch 120 | Response time [1.17s] | Time elapsed [133.94s]\n",
      "[REQUEST] | 07/31/23 14:25:11 | Status 200 | Endpoint: https://api.igdb.com/v4/games | Batch 121 | Response time [1.15s] | Time elapsed [135.1s]\n",
      "[REQUEST] | 07/31/23 14:25:12 | Status 200 | Endpoint: https://api.igdb.com/v4/games | Batch 122 | Response time [1.16s] | Time elapsed [136.28s]\n",
      "[REQUEST] | 07/31/23 14:25:13 | Status 200 | Endpoint: https://api.igdb.com/v4/games | Batch 123 | Response time [1.17s] | Time elapsed [137.46s]\n",
      "[REQUEST] | 07/31/23 14:25:15 | Status 200 | Endpoint: https://api.igdb.com/v4/games | Batch 124 | Response time [1.18s] | Time elapsed [138.88s]\n",
      "[REQUEST] | 07/31/23 14:25:16 | Status 200 | Endpoint: https://api.igdb.com/v4/games | Batch 125 | Response time [1.23s] | Time elapsed [140.12s]\n",
      "[REQUEST] | 07/31/23 14:25:17 | Status 200 | Endpoint: https://api.igdb.com/v4/games | Batch 126 | Response time [1.17s] | Time elapsed [141.3s]\n",
      "[REQUEST] | 07/31/23 14:25:18 | Status 200 | Endpoint: https://api.igdb.com/v4/games | Batch 127 | Response time [1.21s] | Time elapsed [142.53s]\n",
      "[REQUEST] | 07/31/23 14:25:20 | Status 200 | Endpoint: https://api.igdb.com/v4/games | Batch 128 | Response time [1.37s] | Time elapsed [143.92s]\n",
      "[REQUEST] | 07/31/23 14:25:21 | Status 200 | Endpoint: https://api.igdb.com/v4/games | Batch 129 | Response time [1.38s] | Time elapsed [145.32s]\n",
      "[REQUEST] | 07/31/23 14:25:22 | Status 200 | Endpoint: https://api.igdb.com/v4/games | Batch 130 | Response time [1.18s] | Time elapsed [146.52s]\n",
      "[REQUEST] | 07/31/23 14:25:23 | Status 200 | Endpoint: https://api.igdb.com/v4/games | Batch 131 | Response time [1.17s] | Time elapsed [147.71s]\n",
      "[REQUEST] | 07/31/23 14:25:25 | Status 200 | Endpoint: https://api.igdb.com/v4/games | Batch 132 | Response time [1.26s] | Time elapsed [149.0s]\n",
      "[REQUEST] | 07/31/23 14:25:26 | Status 200 | Endpoint: https://api.igdb.com/v4/games | Batch 133 | Response time [1.19s] | Time elapsed [150.2s]\n",
      "[REQUEST] | 07/31/23 14:25:27 | Status 200 | Endpoint: https://api.igdb.com/v4/games | Batch 134 | Response time [1.15s] | Time elapsed [151.35s]\n",
      "[REQUEST] | 07/31/23 14:25:28 | Status 200 | Endpoint: https://api.igdb.com/v4/games | Batch 135 | Response time [1.19s] | Time elapsed [152.56s]\n",
      "[REQUEST] | 07/31/23 14:25:29 | Status 200 | Endpoint: https://api.igdb.com/v4/games | Batch 136 | Response time [1.17s] | Time elapsed [153.75s]\n",
      "[REQUEST] | 07/31/23 14:25:30 | Status 200 | Endpoint: https://api.igdb.com/v4/games | Batch 137 | Response time [0.85s] | Time elapsed [154.61s]\n",
      "[REQUEST] | 07/31/23 14:25:32 | Status 200 | Endpoint: https://api.igdb.com/v4/games | Batch 138 | Response time [1.19s] | Time elapsed [155.81s]\n",
      "[REQUEST] | 07/31/23 14:25:33 | Status 200 | Endpoint: https://api.igdb.com/v4/games | Batch 139 | Response time [1.17s] | Time elapsed [157.0s]\n",
      "[REQUEST] | 07/31/23 14:25:34 | Status 200 | Endpoint: https://api.igdb.com/v4/games | Batch 140 | Response time [1.17s] | Time elapsed [158.17s]\n",
      "[REQUEST] | 07/31/23 14:25:35 | Status 200 | Endpoint: https://api.igdb.com/v4/games | Batch 141 | Response time [1.15s] | Time elapsed [159.35s]\n",
      "[REQUEST] | 07/31/23 14:25:36 | Status 200 | Endpoint: https://api.igdb.com/v4/games | Batch 142 | Response time [1.17s] | Time elapsed [160.54s]\n",
      "[REQUEST] | 07/31/23 14:25:37 | Status 200 | Endpoint: https://api.igdb.com/v4/games | Batch 143 | Response time [0.57s] | Time elapsed [161.13s]\n",
      "[REQUEST] | 07/31/23 14:25:38 | Status 200 | Endpoint: https://api.igdb.com/v4/games | Batch 144 | Response time [1.13s] | Time elapsed [162.29s]\n",
      "[REQUEST] | 07/31/23 14:25:39 | Status 200 | Endpoint: https://api.igdb.com/v4/games | Batch 145 | Response time [1.16s] | Time elapsed [163.47s]\n",
      "[REQUEST] | 07/31/23 14:25:40 | Status 200 | Endpoint: https://api.igdb.com/v4/games | Batch 146 | Response time [1.15s] | Time elapsed [164.64s]\n",
      "[REQUEST] | 07/31/23 14:25:42 | Status 200 | Endpoint: https://api.igdb.com/v4/games | Batch 147 | Response time [1.18s] | Time elapsed [165.84s]\n",
      "[REQUEST] | 07/31/23 14:25:43 | Status 200 | Endpoint: https://api.igdb.com/v4/games | Batch 148 | Response time [1.15s] | Time elapsed [167.02s]\n",
      "[REQUEST] | 07/31/23 14:25:43 | Status 200 | Endpoint: https://api.igdb.com/v4/games | Batch 149 | Response time [0.58s] | Time elapsed [167.61s]\n",
      "[REQUEST] | 07/31/23 14:25:45 | Status 200 | Endpoint: https://api.igdb.com/v4/games | Batch 150 | Response time [1.18s] | Time elapsed [168.8s]\n",
      "[REQUEST] | 07/31/23 14:25:46 | Status 200 | Endpoint: https://api.igdb.com/v4/games | Batch 151 | Response time [1.2s] | Time elapsed [170.02s]\n",
      "[REQUEST] | 07/31/23 14:25:47 | Status 200 | Endpoint: https://api.igdb.com/v4/games | Batch 152 | Response time [1.24s] | Time elapsed [171.54s]\n",
      "[REQUEST] | 07/31/23 14:25:50 | Status 200 | Endpoint: https://api.igdb.com/v4/games | Batch 153 | Response time [2.27s] | Time elapsed [173.82s]\n",
      "[REQUEST] | 07/31/23 14:25:51 | Status 200 | Endpoint: https://api.igdb.com/v4/games | Batch 154 | Response time [1.24s] | Time elapsed [175.08s]\n",
      "[REQUEST] | 07/31/23 14:25:52 | Status 200 | Endpoint: https://api.igdb.com/v4/games | Batch 155 | Response time [1.22s] | Time elapsed [176.31s]\n",
      "[REQUEST] | 07/31/23 14:25:53 | Status 200 | Endpoint: https://api.igdb.com/v4/games | Batch 156 | Response time [1.32s] | Time elapsed [177.65s]\n",
      "[REQUEST] | 07/31/23 14:25:54 | Status 200 | Endpoint: https://api.igdb.com/v4/games | Batch 157 | Response time [0.92s] | Time elapsed [178.58s]\n",
      "[REQUEST] | 07/31/23 14:25:55 | Status 200 | Endpoint: https://api.igdb.com/v4/games | Batch 158 | Response time [0.64s] | Time elapsed [179.23s]\n",
      "[REQUEST] | 07/31/23 14:25:56 | Status 200 | Endpoint: https://api.igdb.com/v4/games | Batch 159 | Response time [1.17s] | Time elapsed [180.41s]\n",
      "[REQUEST] | 07/31/23 14:25:57 | Status 200 | Endpoint: https://api.igdb.com/v4/games | Batch 160 | Response time [1.18s] | Time elapsed [181.61s]\n",
      "[REQUEST] | 07/31/23 14:26:00 | Status 200 | Endpoint: https://api.igdb.com/v4/games | Batch 161 | Response time [2.42s] | Time elapsed [184.05s]\n",
      "[REQUEST] | 07/31/23 14:26:01 | Status 200 | Endpoint: https://api.igdb.com/v4/games | Batch 162 | Response time [1.19s] | Time elapsed [185.24s]\n",
      "[REQUEST] | 07/31/23 14:26:02 | Status 200 | Endpoint: https://api.igdb.com/v4/games | Batch 163 | Response time [1.18s] | Time elapsed [186.45s]\n",
      "[REQUEST] | 07/31/23 14:26:04 | Status 200 | Endpoint: https://api.igdb.com/v4/games | Batch 164 | Response time [2.14s] | Time elapsed [188.61s]\n",
      "[REQUEST] | 07/31/23 14:26:06 | Status 200 | Endpoint: https://api.igdb.com/v4/games | Batch 165 | Response time [1.18s] | Time elapsed [189.8s]\n",
      "[REQUEST] | 07/31/23 14:26:07 | Status 200 | Endpoint: https://api.igdb.com/v4/games | Batch 166 | Response time [1.18s] | Time elapsed [190.99s]\n",
      "[REQUEST] | 07/31/23 14:26:08 | Status 200 | Endpoint: https://api.igdb.com/v4/games | Batch 167 | Response time [1.28s] | Time elapsed [192.29s]\n",
      "[REQUEST] | 07/31/23 14:26:09 | Status 200 | Endpoint: https://api.igdb.com/v4/games | Batch 168 | Response time [0.6s] | Time elapsed [192.9s]\n",
      "[REQUEST] | 07/31/23 14:26:10 | Status 200 | Endpoint: https://api.igdb.com/v4/games | Batch 169 | Response time [1.21s] | Time elapsed [194.12s]\n",
      "[REQUEST] | 07/31/23 14:26:12 | Status 200 | Endpoint: https://api.igdb.com/v4/games | Batch 170 | Response time [2.13s] | Time elapsed [196.26s]\n",
      "[REQUEST] | 07/31/23 14:26:13 | Status 200 | Endpoint: https://api.igdb.com/v4/games | Batch 171 | Response time [1.25s] | Time elapsed [197.53s]\n",
      "[REQUEST] | 07/31/23 14:26:15 | Status 200 | Endpoint: https://api.igdb.com/v4/games | Batch 172 | Response time [1.24s] | Time elapsed [198.78s]\n",
      "[REQUEST] | 07/31/23 14:26:15 | Status 200 | Endpoint: https://api.igdb.com/v4/games | Batch 173 | Response time [0.91s] | Time elapsed [199.7s]\n",
      "[REQUEST] | 07/31/23 14:26:17 | Status 200 | Endpoint: https://api.igdb.com/v4/games | Batch 174 | Response time [1.38s] | Time elapsed [201.11s]\n",
      "[REQUEST] | 07/31/23 14:26:18 | Status 200 | Endpoint: https://api.igdb.com/v4/games | Batch 175 | Response time [1.49s] | Time elapsed [202.62s]\n",
      "[REQUEST] | 07/31/23 14:26:20 | Status 200 | Endpoint: https://api.igdb.com/v4/games | Batch 176 | Response time [1.58s] | Time elapsed [204.23s]\n",
      "[REQUEST] | 07/31/23 14:26:21 | Status 200 | Endpoint: https://api.igdb.com/v4/games | Batch 177 | Response time [1.36s] | Time elapsed [205.62s]\n",
      "[REQUEST] | 07/31/23 14:26:23 | Status 200 | Endpoint: https://api.igdb.com/v4/games | Batch 178 | Response time [1.26s] | Time elapsed [206.9s]\n",
      "[REQUEST] | 07/31/23 14:26:24 | Status 200 | Endpoint: https://api.igdb.com/v4/games | Batch 179 | Response time [0.9s] | Time elapsed [207.82s]\n",
      "[REQUEST] | 07/31/23 14:26:25 | Status 200 | Endpoint: https://api.igdb.com/v4/games | Batch 180 | Response time [1.3s] | Time elapsed [209.14s]\n",
      "[REQUEST] | 07/31/23 14:26:26 | Status 200 | Endpoint: https://api.igdb.com/v4/games | Batch 181 | Response time [1.25s] | Time elapsed [210.42s]\n",
      "[REQUEST] | 07/31/23 14:26:28 | Status 200 | Endpoint: https://api.igdb.com/v4/games | Batch 182 | Response time [1.24s] | Time elapsed [211.66s]\n",
      "[REQUEST] | 07/31/23 14:26:29 | Status 200 | Endpoint: https://api.igdb.com/v4/games | Batch 183 | Response time [1.23s] | Time elapsed [213.21s]\n",
      "[REQUEST] | 07/31/23 14:26:30 | Status 200 | Endpoint: https://api.igdb.com/v4/games | Batch 184 | Response time [1.0s] | Time elapsed [214.22s]\n",
      "[REQUEST] | 07/31/23 14:26:31 | Status 200 | Endpoint: https://api.igdb.com/v4/games | Batch 185 | Response time [1.24s] | Time elapsed [215.48s]\n",
      "[REQUEST] | 07/31/23 14:26:32 | Status 200 | Endpoint: https://api.igdb.com/v4/games | Batch 186 | Response time [0.61s] | Time elapsed [216.12s]\n",
      "[REQUEST] | 07/31/23 14:26:34 | Status 200 | Endpoint: https://api.igdb.com/v4/games | Batch 187 | Response time [1.88s] | Time elapsed [218.02s]\n",
      "[REQUEST] | 07/31/23 14:26:35 | Status 200 | Endpoint: https://api.igdb.com/v4/games | Batch 188 | Response time [1.22s] | Time elapsed [219.27s]\n",
      "[REQUEST] | 07/31/23 14:26:36 | Status 200 | Endpoint: https://api.igdb.com/v4/games | Batch 189 | Response time [1.4s] | Time elapsed [220.69s]\n",
      "[REQUEST] | 07/31/23 14:26:39 | Status 200 | Endpoint: https://api.igdb.com/v4/games | Batch 190 | Response time [2.26s] | Time elapsed [222.98s]\n",
      "[REQUEST] | 07/31/23 14:26:40 | Status 200 | Endpoint: https://api.igdb.com/v4/games | Batch 191 | Response time [1.21s] | Time elapsed [224.22s]\n",
      "[REQUEST] | 07/31/23 14:26:41 | Status 200 | Endpoint: https://api.igdb.com/v4/games | Batch 192 | Response time [0.6s] | Time elapsed [224.85s]\n",
      "[REQUEST] | 07/31/23 14:26:42 | Status 200 | Endpoint: https://api.igdb.com/v4/games | Batch 193 | Response time [1.21s] | Time elapsed [226.08s]\n",
      "[REQUEST] | 07/31/23 14:26:43 | Status 200 | Endpoint: https://api.igdb.com/v4/games | Batch 194 | Response time [1.22s] | Time elapsed [227.3s]\n",
      "[REQUEST] | 07/31/23 14:26:45 | Status 200 | Endpoint: https://api.igdb.com/v4/games | Batch 195 | Response time [2.31s] | Time elapsed [229.64s]\n",
      "[REQUEST] | 07/31/23 14:26:47 | Status 200 | Endpoint: https://api.igdb.com/v4/games | Batch 196 | Response time [1.21s] | Time elapsed [230.88s]\n",
      "[REQUEST] | 07/31/23 14:26:48 | Status 200 | Endpoint: https://api.igdb.com/v4/games | Batch 197 | Response time [1.2s] | Time elapsed [232.09s]\n",
      "[REQUEST] | 07/31/23 14:26:50 | Status 200 | Endpoint: https://api.igdb.com/v4/games | Batch 198 | Response time [2.25s] | Time elapsed [234.36s]\n",
      "[REQUEST] | 07/31/23 14:26:51 | Status 200 | Endpoint: https://api.igdb.com/v4/games | Batch 199 | Response time [0.58s] | Time elapsed [234.97s]\n",
      "[REQUEST] | 07/31/23 14:26:52 | Status 200 | Endpoint: https://api.igdb.com/v4/games | Batch 200 | Response time [1.2s] | Time elapsed [236.2s]\n",
      "[REQUEST] | 07/31/23 14:26:53 | Status 200 | Endpoint: https://api.igdb.com/v4/games | Batch 201 | Response time [1.2s] | Time elapsed [237.41s]\n",
      "[REQUEST] | 07/31/23 14:26:54 | Status 200 | Endpoint: https://api.igdb.com/v4/games | Batch 202 | Response time [1.22s] | Time elapsed [238.66s]\n",
      "[REQUEST] | 07/31/23 14:26:56 | Status 200 | Endpoint: https://api.igdb.com/v4/games | Batch 203 | Response time [1.18s] | Time elapsed [239.87s]\n",
      "[REQUEST] | 07/31/23 14:26:57 | Status 200 | Endpoint: https://api.igdb.com/v4/games | Batch 204 | Response time [1.22s] | Time elapsed [241.12s]\n",
      "[REQUEST] | 07/31/23 14:26:58 | Status 200 | Endpoint: https://api.igdb.com/v4/games | Batch 205 | Response time [1.19s] | Time elapsed [242.32s]\n",
      "[REQUEST] | 07/31/23 14:26:59 | Status 200 | Endpoint: https://api.igdb.com/v4/games | Batch 206 | Response time [1.23s] | Time elapsed [243.58s]\n",
      "[REQUEST] | 07/31/23 14:27:02 | Status 200 | Endpoint: https://api.igdb.com/v4/games | Batch 207 | Response time [2.28s] | Time elapsed [245.88s]\n",
      "[REQUEST] | 07/31/23 14:27:02 | Status 200 | Endpoint: https://api.igdb.com/v4/games | Batch 208 | Response time [0.62s] | Time elapsed [246.53s]\n",
      "[REQUEST] | 07/31/23 14:27:03 | Status 200 | Endpoint: https://api.igdb.com/v4/games | Batch 209 | Response time [1.03s] | Time elapsed [247.58s]\n",
      "[REQUEST] | 07/31/23 14:27:04 | Status 200 | Endpoint: https://api.igdb.com/v4/games | Batch 210 | Response time [1.0s] | Time elapsed [248.59s]\n",
      "[REQUEST] | 07/31/23 14:27:06 | Status 200 | Endpoint: https://api.igdb.com/v4/games | Batch 211 | Response time [1.24s] | Time elapsed [249.84s]\n",
      "[REQUEST] | 07/31/23 14:27:07 | Status 200 | Endpoint: https://api.igdb.com/v4/games | Batch 212 | Response time [1.19s] | Time elapsed [251.05s]\n",
      "[REQUEST] | 07/31/23 14:27:08 | Status 200 | Endpoint: https://api.igdb.com/v4/games | Batch 213 | Response time [1.23s] | Time elapsed [252.28s]\n",
      "[REQUEST] | 07/31/23 14:27:09 | Status 200 | Endpoint: https://api.igdb.com/v4/games | Batch 214 | Response time [0.93s] | Time elapsed [253.22s]\n",
      "[REQUEST] | 07/31/23 14:27:10 | Status 200 | Endpoint: https://api.igdb.com/v4/games | Batch 215 | Response time [0.58s] | Time elapsed [253.82s]\n",
      "[REQUEST] | 07/31/23 14:27:11 | Status 200 | Endpoint: https://api.igdb.com/v4/games | Batch 216 | Response time [1.23s] | Time elapsed [255.07s]\n",
      "[REQUEST] | 07/31/23 14:27:12 | Status 200 | Endpoint: https://api.igdb.com/v4/games | Batch 217 | Response time [1.2s] | Time elapsed [256.28s]\n",
      "[REQUEST] | 07/31/23 14:27:13 | Status 200 | Endpoint: https://api.igdb.com/v4/games | Batch 218 | Response time [1.34s] | Time elapsed [257.63s]\n",
      "[REQUEST] | 07/31/23 14:27:15 | Status 200 | Endpoint: https://api.igdb.com/v4/games | Batch 219 | Response time [1.2s] | Time elapsed [258.84s]\n",
      "[REQUEST] | 07/31/23 14:27:16 | Status 200 | Endpoint: https://api.igdb.com/v4/games | Batch 220 | Response time [1.33s] | Time elapsed [260.2s]\n",
      "[REQUEST] | 07/31/23 14:27:18 | Status 200 | Endpoint: https://api.igdb.com/v4/games | Batch 221 | Response time [1.18s] | Time elapsed [261.76s]\n",
      "[REQUEST] | 07/31/23 14:27:19 | Status 200 | Endpoint: https://api.igdb.com/v4/games | Batch 222 | Response time [1.23s] | Time elapsed [263.01s]\n",
      "[REQUEST] | 07/31/23 14:27:20 | Status 200 | Endpoint: https://api.igdb.com/v4/games | Batch 223 | Response time [1.27s] | Time elapsed [264.31s]\n",
      "[REQUEST] | 07/31/23 14:27:21 | Status 200 | Endpoint: https://api.igdb.com/v4/games | Batch 224 | Response time [1.25s] | Time elapsed [265.56s]\n",
      "[REQUEST] | 07/31/23 14:27:23 | Status 200 | Endpoint: https://api.igdb.com/v4/games | Batch 225 | Response time [1.3s] | Time elapsed [266.88s]\n",
      "[REQUEST] | 07/31/23 14:27:24 | Status 200 | Endpoint: https://api.igdb.com/v4/games | Batch 226 | Response time [1.33s] | Time elapsed [268.22s]\n",
      "[REQUEST] | 07/31/23 14:27:25 | Status 200 | Endpoint: https://api.igdb.com/v4/games | Batch 227 | Response time [1.22s] | Time elapsed [269.45s]\n",
      "[REQUEST] | 07/31/23 14:27:26 | Status 200 | Endpoint: https://api.igdb.com/v4/games | Batch 228 | Response time [1.23s] | Time elapsed [270.69s]\n",
      "[REQUEST] | 07/31/23 14:27:28 | Status 200 | Endpoint: https://api.igdb.com/v4/games | Batch 229 | Response time [1.17s] | Time elapsed [271.88s]\n",
      "[REQUEST] | 07/31/23 14:27:29 | Status 200 | Endpoint: https://api.igdb.com/v4/games | Batch 230 | Response time [0.92s] | Time elapsed [272.82s]\n",
      "[REQUEST] | 07/31/23 14:27:29 | Status 200 | Endpoint: https://api.igdb.com/v4/games | Batch 231 | Response time [0.92s] | Time elapsed [273.75s]\n",
      "[REQUEST] | 07/31/23 14:27:31 | Status 200 | Endpoint: https://api.igdb.com/v4/games | Batch 232 | Response time [1.33s] | Time elapsed [275.1s]\n",
      "[REQUEST] | 07/31/23 14:27:32 | Status 200 | Endpoint: https://api.igdb.com/v4/games | Batch 233 | Response time [1.18s] | Time elapsed [276.29s]\n",
      "[REQUEST] | 07/31/23 14:27:33 | Status 200 | Endpoint: https://api.igdb.com/v4/games | Batch 234 | Response time [1.27s] | Time elapsed [277.58s]\n",
      "[REQUEST] | 07/31/23 14:27:35 | Status 200 | Endpoint: https://api.igdb.com/v4/games | Batch 235 | Response time [1.2s] | Time elapsed [278.8s]\n",
      "[REQUEST] | 07/31/23 14:27:35 | Status 200 | Endpoint: https://api.igdb.com/v4/games | Batch 236 | Response time [0.65s] | Time elapsed [279.46s]\n",
      "[REQUEST] | 07/31/23 14:27:36 | Status 200 | Endpoint: https://api.igdb.com/v4/games | Batch 237 | Response time [1.22s] | Time elapsed [280.71s]\n",
      "[REQUEST] | 07/31/23 14:27:38 | Status 200 | Endpoint: https://api.igdb.com/v4/games | Batch 238 | Response time [1.26s] | Time elapsed [281.97s]\n",
      "[REQUEST] | 07/31/23 14:27:39 | Status 200 | Endpoint: https://api.igdb.com/v4/games | Batch 239 | Response time [1.24s] | Time elapsed [283.23s]\n",
      "[REQUEST] | 07/31/23 14:27:40 | Status 200 | Endpoint: https://api.igdb.com/v4/games | Batch 240 | Response time [1.38s] | Time elapsed [284.63s]\n",
      "[REQUEST] | 07/31/23 14:27:42 | Status 200 | Endpoint: https://api.igdb.com/v4/games | Batch 241 | Response time [1.22s] | Time elapsed [285.87s]\n",
      "[REQUEST] | 07/31/23 14:27:43 | Status 200 | Endpoint: https://api.igdb.com/v4/games | Batch 242 | Response time [1.23s] | Time elapsed [287.13s]\n",
      "[REQUEST] | 07/31/23 14:27:44 | Status 200 | Endpoint: https://api.igdb.com/v4/games | Batch 243 | Response time [1.38s] | Time elapsed [288.53s]\n",
      "[REQUEST] | 07/31/23 14:27:45 | Status 200 | Endpoint: https://api.igdb.com/v4/games | Batch 244 | Response time [1.2s] | Time elapsed [289.74s]\n",
      "[REQUEST] | 07/31/23 14:27:47 | Status 200 | Endpoint: https://api.igdb.com/v4/games | Batch 245 | Response time [1.22s] | Time elapsed [290.98s]\n",
      "[REQUEST] | 07/31/23 14:27:48 | Status 200 | Endpoint: https://api.igdb.com/v4/games | Batch 246 | Response time [1.2s] | Time elapsed [292.21s]\n",
      "[REQUEST] | 07/31/23 14:27:49 | Status 200 | Endpoint: https://api.igdb.com/v4/games | Batch 247 | Response time [0.59s] | Time elapsed [292.81s]\n",
      "[REQUEST] | 07/31/23 14:27:50 | Status 200 | Endpoint: https://api.igdb.com/v4/games | Batch 248 | Response time [1.18s] | Time elapsed [294.0s]\n",
      "[REQUEST] | 07/31/23 14:27:51 | Status 200 | Endpoint: https://api.igdb.com/v4/games | Batch 249 | Response time [1.26s] | Time elapsed [295.27s]\n",
      "[REQUEST] | 07/31/23 14:27:52 | Status 200 | Endpoint: https://api.igdb.com/v4/games | Batch 250 | Response time [0.94s] | Time elapsed [296.23s]\n",
      "[REQUEST] | 07/31/23 14:27:53 | Status 200 | Endpoint: https://api.igdb.com/v4/games | Batch 251 | Response time [1.23s] | Time elapsed [297.48s]\n",
      "[REQUEST] | 07/31/23 14:27:55 | Status 200 | Endpoint: https://api.igdb.com/v4/games | Batch 252 | Response time [1.34s] | Time elapsed [298.84s]\n",
      "[REQUEST] | 07/31/23 14:27:56 | Status 200 | Endpoint: https://api.igdb.com/v4/games | Batch 253 | Response time [1.33s] | Time elapsed [300.19s]\n",
      "[REQUEST] | 07/31/23 14:27:57 | Status 200 | Endpoint: https://api.igdb.com/v4/games | Batch 254 | Response time [1.24s] | Time elapsed [301.45s]\n",
      "[REQUEST] | 07/31/23 14:27:58 | Status 200 | Endpoint: https://api.igdb.com/v4/games | Batch 255 | Response time [1.22s] | Time elapsed [302.7s]\n",
      "[REQUEST] | 07/31/23 14:28:00 | Status 200 | Endpoint: https://api.igdb.com/v4/games | Batch 256 | Response time [1.22s] | Time elapsed [303.93s]\n",
      "[REQUEST] | 07/31/23 14:28:01 | Status 200 | Endpoint: https://api.igdb.com/v4/games | Batch 257 | Response time [0.9s] | Time elapsed [304.85s]\n",
      "[REQUEST] | 07/31/23 14:28:02 | Status 200 | Endpoint: https://api.igdb.com/v4/games | Batch 258 | Response time [1.19s] | Time elapsed [306.06s]\n",
      "[REQUEST] | 07/31/23 14:28:03 | Status 200 | Endpoint: https://api.igdb.com/v4/games | Batch 259 | Response time [1.36s] | Time elapsed [307.44s]\n",
      "[REQUEST] | 07/31/23 14:28:05 | Status 200 | Endpoint: https://api.igdb.com/v4/games | Batch 260 | Response time [1.48s] | Time elapsed [308.95s]\n",
      "[REQUEST] | 07/31/23 14:28:06 | Status 200 | Endpoint: https://api.igdb.com/v4/games | Batch 261 | Response time [1.18s] | Time elapsed [310.16s]\n",
      "[REQUEST] | 07/31/23 14:28:09 | Status 200 | Endpoint: https://api.igdb.com/v4/games | Batch 262 | Response time [2.35s] | Time elapsed [312.54s]\n",
      "[REQUEST] | 07/31/23 14:28:10 | Status 200 | Endpoint: https://api.igdb.com/v4/games | Batch 263 | Response time [1.18s] | Time elapsed [314.15s]\n",
      "[REQUEST] | 07/31/23 14:28:11 | Status 200 | Endpoint: https://api.igdb.com/v4/games | Batch 264 | Response time [0.88s] | Time elapsed [315.05s]\n",
      "[REQUEST] | 07/31/23 14:28:12 | Status 200 | Endpoint: https://api.igdb.com/v4/games | Batch 265 | Response time [0.96s] | Time elapsed [316.03s]\n",
      "[REQUEST] | 07/31/23 14:28:13 | Status 200 | Endpoint: https://api.igdb.com/v4/games | Batch 266 | Response time [1.27s] | Time elapsed [317.32s]\n",
      "[REQUEST] | 07/31/23 14:28:14 | Status 200 | Endpoint: https://api.igdb.com/v4/games | Batch 267 | Response time [0.65s] | Time elapsed [318.0s]\n",
      "[REQUEST] | 07/31/23 14:28:15 | Status 200 | Endpoint: https://api.igdb.com/v4/games | Batch 268 | Response time [1.38s] | Time elapsed [319.4s]\n",
      "[REQUEST] | 07/31/23 14:28:16 | Status 200 | Endpoint: https://api.igdb.com/v4/games | Batch 269 | Response time [0.9s] | Time elapsed [320.33s]\n",
      "[REQUEST] | 07/31/23 14:28:17 | Status 200 | Endpoint: https://api.igdb.com/v4/games | Batch 270 | Response time [0.92s] | Time elapsed [321.28s]\n",
      "[REQUEST] | 07/31/23 14:28:18 | Status 200 | Endpoint: https://api.igdb.com/v4/games | Batch 271 | Response time [0.63s] | Time elapsed [321.93s]\n",
      "[REQUEST] | 07/31/23 14:28:18 | Status 200 | Endpoint: https://api.igdb.com/v4/games | Batch 272 | Response time [0.68s] | Time elapsed [322.64s]\n",
      "[REQUEST] | 07/31/23 14:28:20 | Status 200 | Endpoint: https://api.igdb.com/v4/games | Batch 273 | Response time [1.23s] | Time elapsed [323.89s]\n",
      "[REQUEST] | 07/31/23 14:28:21 | Status 200 | Endpoint: https://api.igdb.com/v4/games | Batch 274 | Response time [1.38s] | Time elapsed [325.3s]\n",
      "[REQUEST] | 07/31/23 14:28:22 | Status 200 | Endpoint: https://api.igdb.com/v4/games | Batch 275 | Response time [1.18s] | Time elapsed [326.49s]\n",
      "[REQUEST] | 07/31/23 14:28:24 | Status 200 | Endpoint: https://api.igdb.com/v4/games | Batch 276 | Response time [1.26s] | Time elapsed [327.77s]\n",
      "[REQUEST] | 07/31/23 14:28:25 | Status 200 | Endpoint: https://api.igdb.com/v4/games | Batch 277 | Response time [1.27s] | Time elapsed [329.06s]\n",
      "[REQUEST] | 07/31/23 14:28:26 | Status 200 | Endpoint: https://api.igdb.com/v4/games | Batch 278 | Response time [1.34s] | Time elapsed [330.41s]\n",
      "[REQUEST] | 07/31/23 14:28:27 | Status 200 | Endpoint: https://api.igdb.com/v4/games | Batch 279 | Response time [0.61s] | Time elapsed [331.03s]\n",
      "[REQUEST] | 07/31/23 14:28:28 | Status 200 | Endpoint: https://api.igdb.com/v4/games | Batch 280 | Response time [1.28s] | Time elapsed [332.34s]\n",
      "[REQUEST] | 07/31/23 14:28:29 | Status 200 | Endpoint: https://api.igdb.com/v4/games | Batch 281 | Response time [1.35s] | Time elapsed [333.71s]\n",
      "[REQUEST] | 07/31/23 14:28:31 | Status 200 | Endpoint: https://api.igdb.com/v4/games | Batch 282 | Response time [1.19s] | Time elapsed [334.91s]\n",
      "[REQUEST] | 07/31/23 14:28:32 | Status 200 | Endpoint: https://api.igdb.com/v4/games | Batch 283 | Response time [1.29s] | Time elapsed [336.21s]\n",
      "[REQUEST] | 07/31/23 14:28:33 | Status 200 | Endpoint: https://api.igdb.com/v4/games | Batch 284 | Response time [1.26s] | Time elapsed [337.49s]\n",
      "[REQUEST] | 07/31/23 14:28:35 | Status 200 | Endpoint: https://api.igdb.com/v4/games | Batch 285 | Response time [1.26s] | Time elapsed [338.77s]\n",
      "[REQUEST] | 07/31/23 14:28:36 | Status 200 | Endpoint: https://api.igdb.com/v4/games | Batch 286 | Response time [1.24s] | Time elapsed [340.02s]\n",
      "[REQUEST] | 07/31/23 14:28:37 | Status 200 | Endpoint: https://api.igdb.com/v4/games | Batch 287 | Response time [1.38s] | Time elapsed [341.43s]\n",
      "[REQUEST] | 07/31/23 14:28:38 | Status 200 | Endpoint: https://api.igdb.com/v4/games | Batch 288 | Response time [1.24s] | Time elapsed [342.69s]\n",
      "[REQUEST] | 07/31/23 14:28:40 | Status 200 | Endpoint: https://api.igdb.com/v4/games | Batch 289 | Response time [1.25s] | Time elapsed [343.97s]\n",
      "[REQUEST] | 07/31/23 14:28:42 | Status 200 | Endpoint: https://api.igdb.com/v4/games | Batch 290 | Response time [2.31s] | Time elapsed [346.3s]\n",
      "[REQUEST] | 07/31/23 14:28:43 | Status 200 | Endpoint: https://api.igdb.com/v4/games | Batch 291 | Response time [0.63s] | Time elapsed [346.96s]\n",
      "[REQUEST] | 07/31/23 14:28:44 | Status 200 | Endpoint: https://api.igdb.com/v4/games | Batch 292 | Response time [1.36s] | Time elapsed [348.34s]\n",
      "[REQUEST] | 07/31/23 14:28:45 | Status 200 | Endpoint: https://api.igdb.com/v4/games | Batch 293 | Response time [1.28s] | Time elapsed [349.64s]\n",
      "[REQUEST] | 07/31/23 14:28:47 | Status 200 | Endpoint: https://api.igdb.com/v4/games | Batch 294 | Response time [1.2s] | Time elapsed [350.86s]\n",
      "[REQUEST] | 07/31/23 14:28:49 | Status 200 | Endpoint: https://api.igdb.com/v4/games | Batch 295 | Response time [2.24s] | Time elapsed [353.13s]\n",
      "[REQUEST] | 07/31/23 14:28:50 | Status 200 | Endpoint: https://api.igdb.com/v4/games | Batch 296 | Response time [1.19s] | Time elapsed [354.34s]\n",
      "[REQUEST] | 07/31/23 14:28:51 | Status 200 | Endpoint: https://api.igdb.com/v4/games | Batch 297 | Response time [1.29s] | Time elapsed [355.65s]\n",
      "[REQUEST] | 07/31/23 14:28:53 | Status 200 | Endpoint: https://api.igdb.com/v4/games | Batch 298 | Response time [1.28s] | Time elapsed [356.95s]\n",
      "[REQUEST] | 07/31/23 14:28:54 | Status 200 | Endpoint: https://api.igdb.com/v4/games | Batch 299 | Response time [1.44s] | Time elapsed [358.42s]\n",
      "[REQUEST] | 07/31/23 14:28:56 | Status 200 | Endpoint: https://api.igdb.com/v4/games | Batch 300 | Response time [1.42s] | Time elapsed [359.87s]\n",
      "[REQUEST] | 07/31/23 14:28:57 | Status 200 | Endpoint: https://api.igdb.com/v4/games | Batch 301 | Response time [1.4s] | Time elapsed [361.29s]\n",
      "[REQUEST] | 07/31/23 14:28:58 | Status 200 | Endpoint: https://api.igdb.com/v4/games | Batch 302 | Response time [1.22s] | Time elapsed [362.54s]\n",
      "[REQUEST] | 07/31/23 14:29:00 | Status 200 | Endpoint: https://api.igdb.com/v4/games | Batch 303 | Response time [1.43s] | Time elapsed [363.98s]\n",
      "[REQUEST] | 07/31/23 14:29:01 | Status 200 | Endpoint: https://api.igdb.com/v4/games | Batch 304 | Response time [1.41s] | Time elapsed [365.41s]\n",
      "[REQUEST] | 07/31/23 14:29:02 | Status 200 | Endpoint: https://api.igdb.com/v4/games | Batch 305 | Response time [1.26s] | Time elapsed [366.7s]\n",
      "[REQUEST] | 07/31/23 14:29:04 | Status 200 | Endpoint: https://api.igdb.com/v4/games | Batch 306 | Response time [1.26s] | Time elapsed [367.98s]\n",
      "[REQUEST] | 07/31/23 14:29:05 | Status 200 | Endpoint: https://api.igdb.com/v4/games | Batch 307 | Response time [1.45s] | Time elapsed [369.45s]\n",
      "[REQUEST] | 07/31/23 14:29:07 | Status 200 | Endpoint: https://api.igdb.com/v4/games | Batch 308 | Response time [1.37s] | Time elapsed [370.84s]\n",
      "[REQUEST] | 07/31/23 14:29:09 | Status 200 | Endpoint: https://api.igdb.com/v4/games | Batch 309 | Response time [2.32s] | Time elapsed [373.19s]\n",
      "[REQUEST] | 07/31/23 14:29:10 | Status 200 | Endpoint: https://api.igdb.com/v4/games | Batch 310 | Response time [1.26s] | Time elapsed [374.46s]\n",
      "[REQUEST] | 07/31/23 14:29:11 | Status 200 | Endpoint: https://api.igdb.com/v4/games | Batch 311 | Response time [1.24s] | Time elapsed [375.71s]\n",
      "[REQUEST] | 07/31/23 14:29:13 | Status 200 | Endpoint: https://api.igdb.com/v4/games | Batch 312 | Response time [1.22s] | Time elapsed [376.95s]\n",
      "[REQUEST] | 07/31/23 14:29:15 | Status 200 | Endpoint: https://api.igdb.com/v4/games | Batch 313 | Response time [1.31s] | Time elapsed [378.28s]\n",
      "[REQUEST] | 07/31/23 14:29:16 | Status 200 | Endpoint: https://api.igdb.com/v4/games | Batch 314 | Response time [1.36s] | Time elapsed [380.17s]\n",
      "[REQUEST] | 07/31/23 14:29:17 | Status 200 | Endpoint: https://api.igdb.com/v4/games | Batch 315 | Response time [1.27s] | Time elapsed [381.46s]\n",
      "[REQUEST] | 07/31/23 14:29:18 | Status 200 | Endpoint: https://api.igdb.com/v4/games | Batch 316 | Response time [0.93s] | Time elapsed [382.41s]\n",
      "[REQUEST] | 07/31/23 14:29:19 | Status 200 | Endpoint: https://api.igdb.com/v4/games | Batch 317 | Response time [0.78s] | Time elapsed [383.2s]\n",
      "[REQUEST] | 07/31/23 14:29:20 | Status 200 | Endpoint: https://api.igdb.com/v4/games | Batch 318 | Response time [1.42s] | Time elapsed [384.63s]\n",
      "[REQUEST] | 07/31/23 14:29:21 | Status 200 | Endpoint: https://api.igdb.com/v4/games | Batch 319 | Response time [0.62s] | Time elapsed [385.27s]\n",
      "[REQUEST] | 07/31/23 14:29:23 | Status 200 | Endpoint: https://api.igdb.com/v4/games | Batch 320 | Response time [2.38s] | Time elapsed [387.66s]\n",
      "[REQUEST] | 07/31/23 14:29:25 | Status 200 | Endpoint: https://api.igdb.com/v4/games | Batch 321 | Response time [1.22s] | Time elapsed [388.91s]\n",
      "[REQUEST] | 07/31/23 14:29:26 | Status 200 | Endpoint: https://api.igdb.com/v4/games | Batch 322 | Response time [1.26s] | Time elapsed [390.18s]\n",
      "[REQUEST] | 07/31/23 14:29:27 | Status 200 | Endpoint: https://api.igdb.com/v4/games | Batch 323 | Response time [1.46s] | Time elapsed [391.66s]\n",
      "[REQUEST] | 07/31/23 14:29:29 | Status 200 | Endpoint: https://api.igdb.com/v4/games | Batch 324 | Response time [1.22s] | Time elapsed [392.89s]\n",
      "[REQUEST] | 07/31/23 14:29:30 | Status 200 | Endpoint: https://api.igdb.com/v4/games | Batch 325 | Response time [1.27s] | Time elapsed [394.18s]\n",
      "[REQUEST] | 07/31/23 14:29:31 | Status 200 | Endpoint: https://api.igdb.com/v4/games | Batch 326 | Response time [1.28s] | Time elapsed [395.48s]\n",
      "[REQUEST] | 07/31/23 14:29:33 | Status 200 | Endpoint: https://api.igdb.com/v4/games | Batch 327 | Response time [1.32s] | Time elapsed [396.81s]\n",
      "[REQUEST] | 07/31/23 14:29:34 | Status 200 | Endpoint: https://api.igdb.com/v4/games | Batch 328 | Response time [1.22s] | Time elapsed [398.04s]\n",
      "[REQUEST] | 07/31/23 14:29:35 | Status 200 | Endpoint: https://api.igdb.com/v4/games | Batch 329 | Response time [1.25s] | Time elapsed [399.31s]\n",
      "[REQUEST] | 07/31/23 14:29:36 | Status 200 | Endpoint: https://api.igdb.com/v4/games | Batch 330 | Response time [1.38s] | Time elapsed [400.7s]\n",
      "[REQUEST] | 07/31/23 14:29:38 | Status 200 | Endpoint: https://api.igdb.com/v4/games | Batch 331 | Response time [1.16s] | Time elapsed [401.87s]\n",
      "[REQUEST] | 07/31/23 14:29:39 | Status 200 | Endpoint: https://api.igdb.com/v4/games | Batch 332 | Response time [1.24s] | Time elapsed [403.13s]\n",
      "[REQUEST] | 07/31/23 14:29:40 | Status 200 | Endpoint: https://api.igdb.com/v4/games | Batch 333 | Response time [0.81s] | Time elapsed [403.97s]\n",
      "[REQUEST] | 07/31/23 14:29:41 | Status 200 | Endpoint: https://api.igdb.com/v4/games | Batch 334 | Response time [1.27s] | Time elapsed [405.27s]\n",
      "[REQUEST] | 07/31/23 14:29:42 | Status 200 | Endpoint: https://api.igdb.com/v4/games | Batch 335 | Response time [1.3s] | Time elapsed [406.59s]\n",
      "[REQUEST] | 07/31/23 14:29:44 | Status 200 | Endpoint: https://api.igdb.com/v4/games | Batch 336 | Response time [1.41s] | Time elapsed [408.03s]\n",
      "[REQUEST] | 07/31/23 14:29:45 | Status 200 | Endpoint: https://api.igdb.com/v4/games | Batch 337 | Response time [1.48s] | Time elapsed [409.54s]\n",
      "[REQUEST] | 07/31/23 14:29:46 | Status 200 | Endpoint: https://api.igdb.com/v4/games | Batch 338 | Response time [0.68s] | Time elapsed [410.24s]\n",
      "[REQUEST] | 07/31/23 14:29:48 | Status 200 | Endpoint: https://api.igdb.com/v4/games | Batch 339 | Response time [2.08s] | Time elapsed [412.34s]\n",
      "[REQUEST] | 07/31/23 14:29:50 | Status 200 | Endpoint: https://api.igdb.com/v4/games | Batch 340 | Response time [2.04s] | Time elapsed [414.41s]\n",
      "[REQUEST] | 07/31/23 14:29:52 | Status 200 | Endpoint: https://api.igdb.com/v4/games | Batch 341 | Response time [1.36s] | Time elapsed [415.79s]\n",
      "[REQUEST] | 07/31/23 14:29:53 | Status 200 | Endpoint: https://api.igdb.com/v4/games | Batch 342 | Response time [1.58s] | Time elapsed [417.41s]\n",
      "[REQUEST] | 07/31/23 14:29:54 | Status 200 | Endpoint: https://api.igdb.com/v4/games | Batch 343 | Response time [1.29s] | Time elapsed [418.72s]\n",
      "[REQUEST] | 07/31/23 14:29:56 | Status 200 | Endpoint: https://api.igdb.com/v4/games | Batch 344 | Response time [1.29s] | Time elapsed [420.04s]\n",
      "[REQUEST] | 07/31/23 14:29:57 | Status 200 | Endpoint: https://api.igdb.com/v4/games | Batch 345 | Response time [1.42s] | Time elapsed [421.47s]\n",
      "[REQUEST] | 07/31/23 14:29:59 | Status 200 | Endpoint: https://api.igdb.com/v4/games | Batch 346 | Response time [1.32s] | Time elapsed [422.8s]\n",
      "[REQUEST] | 07/31/23 14:30:00 | Status 200 | Endpoint: https://api.igdb.com/v4/games | Batch 347 | Response time [1.22s] | Time elapsed [424.04s]\n",
      "[REQUEST] | 07/31/23 14:30:01 | Status 200 | Endpoint: https://api.igdb.com/v4/games | Batch 348 | Response time [1.2s] | Time elapsed [425.26s]\n",
      "[REQUEST] | 07/31/23 14:30:02 | Status 200 | Endpoint: https://api.igdb.com/v4/games | Batch 349 | Response time [1.33s] | Time elapsed [426.6s]\n",
      "[REQUEST] | 07/31/23 14:30:04 | Status 200 | Endpoint: https://api.igdb.com/v4/games | Batch 350 | Response time [1.6s] | Time elapsed [428.21s]\n",
      "[REQUEST] | 07/31/23 14:30:05 | Status 200 | Endpoint: https://api.igdb.com/v4/games | Batch 351 | Response time [1.11s] | Time elapsed [429.33s]\n",
      "[REQUEST] | 07/31/23 14:30:07 | Status 200 | Endpoint: https://api.igdb.com/v4/games | Batch 352 | Response time [1.87s] | Time elapsed [431.21s]\n",
      "[REQUEST] | 07/31/23 14:30:08 | Status 200 | Endpoint: https://api.igdb.com/v4/games | Batch 353 | Response time [1.45s] | Time elapsed [432.67s]\n",
      "[REQUEST] | 07/31/23 14:30:09 | Status 200 | Endpoint: https://api.igdb.com/v4/games | Batch 354 | Response time [1.04s] | Time elapsed [433.72s]\n",
      "[REQUEST] | 07/31/23 14:30:11 | Status 200 | Endpoint: https://api.igdb.com/v4/games | Batch 355 | Response time [1.41s] | Time elapsed [435.14s]\n",
      "[REQUEST] | 07/31/23 14:30:12 | Status 200 | Endpoint: https://api.igdb.com/v4/games | Batch 356 | Response time [1.51s] | Time elapsed [436.67s]\n",
      "[REQUEST] | 07/31/23 14:30:14 | Status 200 | Endpoint: https://api.igdb.com/v4/games | Batch 357 | Response time [1.42s] | Time elapsed [438.11s]\n",
      "[REQUEST] | 07/31/23 14:30:15 | Status 200 | Endpoint: https://api.igdb.com/v4/games | Batch 358 | Response time [1.44s] | Time elapsed [439.56s]\n",
      "[REQUEST] | 07/31/23 14:30:17 | Status 200 | Endpoint: https://api.igdb.com/v4/games | Batch 359 | Response time [1.28s] | Time elapsed [440.85s]\n",
      "[REQUEST] | 07/31/23 14:30:18 | Status 200 | Endpoint: https://api.igdb.com/v4/games | Batch 360 | Response time [1.47s] | Time elapsed [442.35s]\n",
      "[REQUEST] | 07/31/23 14:30:20 | Status 200 | Endpoint: https://api.igdb.com/v4/games | Batch 361 | Response time [1.45s] | Time elapsed [443.83s]\n",
      "[REQUEST] | 07/31/23 14:30:21 | Status 200 | Endpoint: https://api.igdb.com/v4/games | Batch 362 | Response time [1.42s] | Time elapsed [445.28s]\n",
      "[REQUEST] | 07/31/23 14:30:22 | Status 200 | Endpoint: https://api.igdb.com/v4/games | Batch 363 | Response time [1.09s] | Time elapsed [446.4s]\n",
      "[REQUEST] | 07/31/23 14:30:24 | Status 200 | Endpoint: https://api.igdb.com/v4/games | Batch 364 | Response time [1.51s] | Time elapsed [447.92s]\n",
      "[REQUEST] | 07/31/23 14:30:25 | Status 200 | Endpoint: https://api.igdb.com/v4/games | Batch 365 | Response time [1.29s] | Time elapsed [449.22s]\n",
      "[REQUEST] | 07/31/23 14:30:26 | Status 200 | Endpoint: https://api.igdb.com/v4/games | Batch 366 | Response time [1.37s] | Time elapsed [450.59s]\n",
      "[REQUEST] | 07/31/23 14:30:28 | Status 200 | Endpoint: https://api.igdb.com/v4/games | Batch 367 | Response time [1.45s] | Time elapsed [452.06s]\n",
      "[REQUEST] | 07/31/23 14:30:29 | Status 200 | Endpoint: https://api.igdb.com/v4/games | Batch 368 | Response time [1.24s] | Time elapsed [453.33s]\n",
      "[REQUEST] | 07/31/23 14:30:31 | Status 200 | Endpoint: https://api.igdb.com/v4/games | Batch 369 | Response time [2.07s] | Time elapsed [455.41s]\n",
      "[REQUEST] | 07/31/23 14:30:33 | Status 200 | Endpoint: https://api.igdb.com/v4/games | Batch 370 | Response time [1.37s] | Time elapsed [456.81s]\n",
      "[REQUEST] | 07/31/23 14:30:35 | Status 200 | Endpoint: https://api.igdb.com/v4/games | Batch 371 | Response time [1.45s] | Time elapsed [458.86s]\n",
      "[REQUEST] | 07/31/23 14:30:36 | Status 200 | Endpoint: https://api.igdb.com/v4/games | Batch 372 | Response time [1.25s] | Time elapsed [460.13s]\n",
      "[REQUEST] | 07/31/23 14:30:37 | Status 200 | Endpoint: https://api.igdb.com/v4/games | Batch 373 | Response time [1.4s] | Time elapsed [461.56s]\n",
      "[REQUEST] | 07/31/23 14:30:39 | Status 200 | Endpoint: https://api.igdb.com/v4/games | Batch 374 | Response time [1.36s] | Time elapsed [462.93s]\n",
      "[REQUEST] | 07/31/23 14:30:40 | Status 200 | Endpoint: https://api.igdb.com/v4/games | Batch 375 | Response time [1.36s] | Time elapsed [464.3s]\n",
      "[REQUEST] | 07/31/23 14:30:42 | Status 200 | Endpoint: https://api.igdb.com/v4/games | Batch 376 | Response time [1.46s] | Time elapsed [465.79s]\n",
      "[REQUEST] | 07/31/23 14:30:43 | Status 200 | Endpoint: https://api.igdb.com/v4/games | Batch 377 | Response time [1.5s] | Time elapsed [467.32s]\n",
      "[REQUEST] | 07/31/23 14:30:44 | Status 200 | Endpoint: https://api.igdb.com/v4/games | Batch 378 | Response time [1.37s] | Time elapsed [468.7s]\n",
      "[REQUEST] | 07/31/23 14:30:46 | Status 200 | Endpoint: https://api.igdb.com/v4/games | Batch 379 | Response time [1.48s] | Time elapsed [470.21s]\n",
      "[REQUEST] | 07/31/23 14:30:47 | Status 200 | Endpoint: https://api.igdb.com/v4/games | Batch 380 | Response time [1.45s] | Time elapsed [471.69s]\n",
      "[REQUEST] | 07/31/23 14:30:49 | Status 200 | Endpoint: https://api.igdb.com/v4/games | Batch 381 | Response time [1.27s] | Time elapsed [472.99s]\n",
      "[REQUEST] | 07/31/23 14:30:50 | Status 200 | Endpoint: https://api.igdb.com/v4/games | Batch 382 | Response time [1.45s] | Time elapsed [474.47s]\n",
      "[REQUEST] | 07/31/23 14:30:51 | Status 200 | Endpoint: https://api.igdb.com/v4/games | Batch 383 | Response time [0.58s] | Time elapsed [475.07s]\n",
      "[REQUEST] | 07/31/23 14:30:53 | Status 200 | Endpoint: https://api.igdb.com/v4/games | Batch 384 | Response time [2.36s] | Time elapsed [477.46s]\n",
      "[REQUEST] | 07/31/23 14:30:54 | Status 200 | Endpoint: https://api.igdb.com/v4/games | Batch 385 | Response time [0.68s] | Time elapsed [478.17s]\n",
      "[REQUEST] | 07/31/23 14:30:55 | Status 200 | Endpoint: https://api.igdb.com/v4/games | Batch 386 | Response time [1.41s] | Time elapsed [479.61s]\n",
      "[REQUEST] | 07/31/23 14:30:57 | Status 200 | Endpoint: https://api.igdb.com/v4/games | Batch 387 | Response time [1.51s] | Time elapsed [481.15s]\n",
      "[REQUEST] | 07/31/23 14:30:58 | Status 200 | Endpoint: https://api.igdb.com/v4/games | Batch 388 | Response time [1.41s] | Time elapsed [482.58s]\n",
      "[REQUEST] | 07/31/23 14:31:00 | Status 200 | Endpoint: https://api.igdb.com/v4/games | Batch 389 | Response time [1.77s] | Time elapsed [484.38s]\n",
      "[REQUEST] | 07/31/23 14:31:02 | Status 200 | Endpoint: https://api.igdb.com/v4/games | Batch 390 | Response time [1.45s] | Time elapsed [485.86s]\n",
      "[REQUEST] | 07/31/23 14:31:03 | Status 200 | Endpoint: https://api.igdb.com/v4/games | Batch 391 | Response time [1.28s] | Time elapsed [487.17s]\n",
      "[REQUEST] | 07/31/23 14:31:05 | Status 200 | Endpoint: https://api.igdb.com/v4/games | Batch 392 | Response time [1.73s] | Time elapsed [488.92s]\n",
      "[REQUEST] | 07/31/23 14:31:06 | Status 200 | Endpoint: https://api.igdb.com/v4/games | Batch 393 | Response time [1.26s] | Time elapsed [490.21s]\n",
      "[REQUEST] | 07/31/23 14:31:07 | Status 200 | Endpoint: https://api.igdb.com/v4/games | Batch 394 | Response time [1.29s] | Time elapsed [491.51s]\n",
      "[REQUEST] | 07/31/23 14:31:09 | Status 200 | Endpoint: https://api.igdb.com/v4/games | Batch 395 | Response time [1.45s] | Time elapsed [492.97s]\n",
      "[REQUEST] | 07/31/23 14:31:10 | Status 200 | Endpoint: https://api.igdb.com/v4/games | Batch 396 | Response time [1.48s] | Time elapsed [494.46s]\n",
      "[REQUEST] | 07/31/23 14:31:12 | Status 200 | Endpoint: https://api.igdb.com/v4/games | Batch 397 | Response time [1.67s] | Time elapsed [496.14s]\n",
      "[REQUEST] | 07/31/23 14:31:14 | Status 200 | Endpoint: https://api.igdb.com/v4/games | Batch 398 | Response time [2.57s] | Time elapsed [498.73s]\n",
      "[REQUEST] | 07/31/23 14:31:16 | Status 200 | Endpoint: https://api.igdb.com/v4/games | Batch 399 | Response time [1.47s] | Time elapsed [500.22s]\n",
      "[REQUEST] | 07/31/23 14:31:17 | Status 200 | Endpoint: https://api.igdb.com/v4/games | Batch 400 | Response time [1.49s] | Time elapsed [501.72s]\n",
      "[REQUEST] | 07/31/23 14:31:19 | Status 200 | Endpoint: https://api.igdb.com/v4/games | Batch 401 | Response time [1.34s] | Time elapsed [503.07s]\n",
      "[REQUEST] | 07/31/23 14:31:20 | Status 200 | Endpoint: https://api.igdb.com/v4/games | Batch 402 | Response time [1.3s] | Time elapsed [504.38s]\n",
      "[REQUEST] | 07/31/23 14:31:21 | Status 200 | Endpoint: https://api.igdb.com/v4/games | Batch 403 | Response time [1.15s] | Time elapsed [505.55s]\n",
      "[REQUEST] | 07/31/23 14:31:23 | Status 200 | Endpoint: https://api.igdb.com/v4/games | Batch 404 | Response time [1.29s] | Time elapsed [506.85s]\n",
      "[REQUEST] | 07/31/23 14:31:24 | Status 200 | Endpoint: https://api.igdb.com/v4/games | Batch 405 | Response time [1.1s] | Time elapsed [507.98s]\n",
      "[REQUEST] | 07/31/23 14:31:25 | Status 200 | Endpoint: https://api.igdb.com/v4/games | Batch 406 | Response time [1.45s] | Time elapsed [509.46s]\n",
      "[REQUEST] | 07/31/23 14:31:27 | Status 200 | Endpoint: https://api.igdb.com/v4/games | Batch 407 | Response time [1.45s] | Time elapsed [510.93s]\n",
      "[REQUEST] | 07/31/23 14:31:29 | Status 200 | Endpoint: https://api.igdb.com/v4/games | Batch 408 | Response time [2.55s] | Time elapsed [513.52s]\n",
      "[REQUEST] | 07/31/23 14:31:31 | Status 200 | Endpoint: https://api.igdb.com/v4/games | Batch 409 | Response time [1.47s] | Time elapsed [515.01s]\n",
      "[REQUEST] | 07/31/23 14:31:32 | Status 200 | Endpoint: https://api.igdb.com/v4/games | Batch 410 | Response time [1.45s] | Time elapsed [516.49s]\n",
      "[REQUEST] | 07/31/23 14:31:34 | Status 200 | Endpoint: https://api.igdb.com/v4/games | Batch 411 | Response time [1.34s] | Time elapsed [517.86s]\n",
      "[REQUEST] | 07/31/23 14:31:35 | Status 200 | Endpoint: https://api.igdb.com/v4/games | Batch 412 | Response time [1.56s] | Time elapsed [519.45s]\n",
      "[REQUEST] | 07/31/23 14:31:37 | Status 200 | Endpoint: https://api.igdb.com/v4/games | Batch 413 | Response time [1.5s] | Time elapsed [520.96s]\n",
      "[REQUEST] | 07/31/23 14:31:38 | Status 200 | Endpoint: https://api.igdb.com/v4/games | Batch 414 | Response time [1.47s] | Time elapsed [522.46s]\n",
      "[REQUEST] | 07/31/23 14:31:40 | Status 200 | Endpoint: https://api.igdb.com/v4/games | Batch 415 | Response time [2.0s] | Time elapsed [524.49s]\n",
      "[REQUEST] | 07/31/23 14:31:42 | Status 200 | Endpoint: https://api.igdb.com/v4/games | Batch 416 | Response time [1.41s] | Time elapsed [525.93s]\n",
      "[REQUEST] | 07/31/23 14:31:43 | Status 200 | Endpoint: https://api.igdb.com/v4/games | Batch 417 | Response time [1.28s] | Time elapsed [527.22s]\n",
      "[REQUEST] | 07/31/23 14:31:44 | Status 200 | Endpoint: https://api.igdb.com/v4/games | Batch 418 | Response time [1.37s] | Time elapsed [528.6s]\n",
      "[REQUEST] | 07/31/23 14:31:46 | Status 200 | Endpoint: https://api.igdb.com/v4/games | Batch 419 | Response time [1.38s] | Time elapsed [529.99s]\n",
      "[REQUEST] | 07/31/23 14:31:47 | Status 200 | Endpoint: https://api.igdb.com/v4/games | Batch 420 | Response time [1.47s] | Time elapsed [531.47s]\n",
      "[REQUEST] | 07/31/23 14:31:49 | Status 200 | Endpoint: https://api.igdb.com/v4/games | Batch 421 | Response time [1.46s] | Time elapsed [532.96s]\n",
      "[REQUEST] | 07/31/23 14:31:50 | Status 200 | Endpoint: https://api.igdb.com/v4/games | Batch 422 | Response time [1.41s] | Time elapsed [534.4s]\n",
      "[REQUEST] | 07/31/23 14:31:53 | Status 200 | Endpoint: https://api.igdb.com/v4/games | Batch 423 | Response time [2.43s] | Time elapsed [536.85s]\n",
      "[REQUEST] | 07/31/23 14:31:54 | Status 200 | Endpoint: https://api.igdb.com/v4/games | Batch 424 | Response time [1.41s] | Time elapsed [538.27s]\n",
      "[REQUEST] | 07/31/23 14:31:56 | Status 200 | Endpoint: https://api.igdb.com/v4/games | Batch 425 | Response time [1.49s] | Time elapsed [539.79s]\n",
      "[REQUEST] | 07/31/23 14:31:57 | Status 200 | Endpoint: https://api.igdb.com/v4/games | Batch 426 | Response time [1.56s] | Time elapsed [541.36s]\n",
      "[REQUEST] | 07/31/23 14:31:59 | Status 200 | Endpoint: https://api.igdb.com/v4/games | Batch 427 | Response time [1.44s] | Time elapsed [542.84s]\n",
      "[REQUEST] | 07/31/23 14:32:00 | Status 200 | Endpoint: https://api.igdb.com/v4/games | Batch 428 | Response time [1.46s] | Time elapsed [544.31s]\n",
      "[REQUEST] | 07/31/23 14:32:02 | Status 200 | Endpoint: https://api.igdb.com/v4/games | Batch 429 | Response time [1.45s] | Time elapsed [545.77s]\n",
      "[REQUEST] | 07/31/23 14:32:03 | Status 200 | Endpoint: https://api.igdb.com/v4/games | Batch 430 | Response time [1.42s] | Time elapsed [547.2s]\n",
      "[REQUEST] | 07/31/23 14:32:04 | Status 200 | Endpoint: https://api.igdb.com/v4/games | Batch 431 | Response time [1.14s] | Time elapsed [548.35s]\n",
      "[REQUEST] | 07/31/23 14:32:05 | Status 200 | Endpoint: https://api.igdb.com/v4/games | Batch 432 | Response time [1.16s] | Time elapsed [549.52s]\n",
      "[REQUEST] | 07/31/23 14:32:06 | Status 200 | Endpoint: https://api.igdb.com/v4/games | Batch 433 | Response time [0.83s] | Time elapsed [550.38s]\n",
      "[REQUEST] | 07/31/23 14:32:08 | Status 200 | Endpoint: https://api.igdb.com/v4/games | Batch 434 | Response time [1.01s] | Time elapsed [551.4s]\n",
      "[REQUEST] | 07/31/23 14:32:09 | Status 200 | Endpoint: https://api.igdb.com/v4/games | Batch 435 | Response time [1.45s] | Time elapsed [553.55s]\n",
      "[REQUEST] | 07/31/23 14:32:11 | Status 200 | Endpoint: https://api.igdb.com/v4/games | Batch 436 | Response time [1.67s] | Time elapsed [555.25s]\n",
      "[REQUEST] | 07/31/23 14:32:13 | Status 200 | Endpoint: https://api.igdb.com/v4/games | Batch 437 | Response time [1.62s] | Time elapsed [556.88s]\n",
      "[REQUEST] | 07/31/23 14:32:14 | Status 200 | Endpoint: https://api.igdb.com/v4/games | Batch 438 | Response time [1.11s] | Time elapsed [558.02s]\n",
      "[REQUEST] | 07/31/23 14:32:15 | Status 200 | Endpoint: https://api.igdb.com/v4/games | Batch 439 | Response time [1.43s] | Time elapsed [559.48s]\n",
      "[REQUEST] | 07/31/23 14:32:17 | Status 200 | Endpoint: https://api.igdb.com/v4/games | Batch 440 | Response time [1.45s] | Time elapsed [560.96s]\n",
      "[REQUEST] | 07/31/23 14:32:18 | Status 200 | Endpoint: https://api.igdb.com/v4/games | Batch 441 | Response time [1.46s] | Time elapsed [562.45s]\n",
      "[REQUEST] | 07/31/23 14:32:20 | Status 200 | Endpoint: https://api.igdb.com/v4/games | Batch 442 | Response time [1.47s] | Time elapsed [563.94s]\n",
      "[REQUEST] | 07/31/23 14:32:21 | Status 200 | Endpoint: https://api.igdb.com/v4/games | Batch 443 | Response time [1.43s] | Time elapsed [565.4s]\n",
      "[REQUEST] | 07/31/23 14:32:23 | Status 200 | Endpoint: https://api.igdb.com/v4/games | Batch 444 | Response time [1.52s] | Time elapsed [566.96s]\n",
      "[REQUEST] | 07/31/23 14:32:24 | Status 200 | Endpoint: https://api.igdb.com/v4/games | Batch 445 | Response time [1.55s] | Time elapsed [568.54s]\n",
      "[REQUEST] | 07/31/23 14:32:26 | Status 200 | Endpoint: https://api.igdb.com/v4/games | Batch 446 | Response time [1.74s] | Time elapsed [570.29s]\n",
      "[REQUEST] | 07/31/23 14:32:27 | Status 200 | Endpoint: https://api.igdb.com/v4/games | Batch 447 | Response time [1.18s] | Time elapsed [571.5s]\n",
      "[REQUEST] | 07/31/23 14:32:30 | Status 200 | Endpoint: https://api.igdb.com/v4/games | Batch 448 | Response time [2.75s] | Time elapsed [574.28s]\n",
      "[REQUEST] | 07/31/23 14:32:32 | Status 200 | Endpoint: https://api.igdb.com/v4/games | Batch 449 | Response time [1.49s] | Time elapsed [575.8s]\n",
      "[REQUEST] | 07/31/23 14:32:33 | Status 200 | Endpoint: https://api.igdb.com/v4/games | Batch 450 | Response time [1.47s] | Time elapsed [577.3s]\n",
      "[REQUEST] | 07/31/23 14:32:35 | Status 200 | Endpoint: https://api.igdb.com/v4/games | Batch 451 | Response time [1.52s] | Time elapsed [578.85s]\n",
      "[REQUEST] | 07/31/23 14:32:36 | Status 200 | Endpoint: https://api.igdb.com/v4/games | Batch 452 | Response time [1.48s] | Time elapsed [580.37s]\n",
      "[REQUEST] | 07/31/23 14:32:38 | Status 200 | Endpoint: https://api.igdb.com/v4/games | Batch 453 | Response time [1.59s] | Time elapsed [581.97s]\n",
      "[REQUEST] | 07/31/23 14:32:39 | Status 200 | Endpoint: https://api.igdb.com/v4/games | Batch 454 | Response time [1.57s] | Time elapsed [583.57s]\n",
      "[REQUEST] | 07/31/23 14:32:41 | Status 200 | Endpoint: https://api.igdb.com/v4/games | Batch 455 | Response time [1.4s] | Time elapsed [584.99s]\n",
      "[REQUEST] | 07/31/23 14:32:42 | Status 200 | Endpoint: https://api.igdb.com/v4/games | Batch 456 | Response time [1.47s] | Time elapsed [586.47s]\n",
      "[REQUEST] | 07/31/23 14:32:44 | Status 200 | Endpoint: https://api.igdb.com/v4/games | Batch 457 | Response time [1.46s] | Time elapsed [587.97s]\n",
      "[REQUEST] | 07/31/23 14:32:45 | Status 200 | Endpoint: https://api.igdb.com/v4/games | Batch 458 | Response time [1.5s] | Time elapsed [589.5s]\n",
      "[REQUEST] | 07/31/23 14:32:47 | Status 200 | Endpoint: https://api.igdb.com/v4/games | Batch 459 | Response time [1.57s] | Time elapsed [591.09s]\n",
      "[REQUEST] | 07/31/23 14:32:48 | Status 200 | Endpoint: https://api.igdb.com/v4/games | Batch 460 | Response time [1.63s] | Time elapsed [592.74s]\n",
      "[REQUEST] | 07/31/23 14:32:50 | Status 200 | Endpoint: https://api.igdb.com/v4/games | Batch 461 | Response time [1.45s] | Time elapsed [594.2s]\n",
      "[REQUEST] | 07/31/23 14:32:52 | Status 200 | Endpoint: https://api.igdb.com/v4/games | Batch 462 | Response time [1.77s] | Time elapsed [595.98s]\n",
      "[REQUEST] | 07/31/23 14:32:53 | Status 200 | Endpoint: https://api.igdb.com/v4/games | Batch 463 | Response time [1.47s] | Time elapsed [597.47s]\n",
      "[REQUEST] | 07/31/23 14:32:55 | Status 200 | Endpoint: https://api.igdb.com/v4/games | Batch 464 | Response time [1.54s] | Time elapsed [599.02s]\n",
      "[REQUEST] | 07/31/23 14:32:56 | Status 200 | Endpoint: https://api.igdb.com/v4/games | Batch 465 | Response time [1.67s] | Time elapsed [600.71s]\n",
      "[REQUEST] | 07/31/23 14:32:58 | Status 200 | Endpoint: https://api.igdb.com/v4/games | Batch 466 | Response time [1.49s] | Time elapsed [602.23s]\n",
      "[REQUEST] | 07/31/23 14:32:59 | Status 200 | Endpoint: https://api.igdb.com/v4/games | Batch 467 | Response time [1.42s] | Time elapsed [603.67s]\n",
      "[REQUEST] | 07/31/23 14:33:01 | Status 200 | Endpoint: https://api.igdb.com/v4/games | Batch 468 | Response time [1.48s] | Time elapsed [605.16s]\n",
      "[REQUEST] | 07/31/23 14:33:02 | Status 200 | Endpoint: https://api.igdb.com/v4/games | Batch 469 | Response time [1.51s] | Time elapsed [606.69s]\n",
      "[REQUEST] | 07/31/23 14:33:04 | Status 200 | Endpoint: https://api.igdb.com/v4/games | Batch 470 | Response time [1.42s] | Time elapsed [608.12s]\n",
      "[REQUEST] | 07/31/23 14:33:05 | Status 200 | Endpoint: https://api.igdb.com/v4/games | Batch 471 | Response time [1.21s] | Time elapsed [609.36s]\n",
      "[REQUEST] | 07/31/23 14:33:07 | Status 200 | Endpoint: https://api.igdb.com/v4/games | Batch 472 | Response time [1.48s] | Time elapsed [610.88s]\n",
      "[REQUEST] | 07/31/23 14:33:08 | Status 200 | Endpoint: https://api.igdb.com/v4/games | Batch 473 | Response time [1.67s] | Time elapsed [612.58s]\n",
      "[REQUEST] | 07/31/23 14:33:10 | Status 200 | Endpoint: https://api.igdb.com/v4/games | Batch 474 | Response time [1.54s] | Time elapsed [614.16s]\n",
      "[REQUEST] | 07/31/23 14:33:11 | Status 200 | Endpoint: https://api.igdb.com/v4/games | Batch 475 | Response time [1.55s] | Time elapsed [615.74s]\n",
      "[REQUEST] | 07/31/23 14:33:13 | Status 200 | Endpoint: https://api.igdb.com/v4/games | Batch 476 | Response time [1.27s] | Time elapsed [617.05s]\n",
      "[REQUEST] | 07/31/23 14:33:14 | Status 200 | Endpoint: https://api.igdb.com/v4/games | Batch 477 | Response time [1.51s] | Time elapsed [618.57s]\n",
      "[REQUEST] | 07/31/23 14:33:16 | Status 200 | Endpoint: https://api.igdb.com/v4/games | Batch 478 | Response time [1.46s] | Time elapsed [620.04s]\n",
      "[REQUEST] | 07/31/23 14:33:17 | Status 200 | Endpoint: https://api.igdb.com/v4/games | Batch 479 | Response time [1.49s] | Time elapsed [621.56s]\n",
      "[REQUEST] | 07/31/23 14:33:21 | Status 200 | Endpoint: https://api.igdb.com/v4/games | Batch 480 | Response time [3.29s] | Time elapsed [624.88s]\n",
      "[REQUEST] | 07/31/23 14:33:22 | Status 200 | Endpoint: https://api.igdb.com/v4/games | Batch 481 | Response time [1.66s] | Time elapsed [626.58s]\n",
      "[REQUEST] | 07/31/23 14:33:24 | Status 200 | Endpoint: https://api.igdb.com/v4/games | Batch 482 | Response time [1.47s] | Time elapsed [628.08s]\n",
      "[REQUEST] | 07/31/23 14:33:25 | Status 200 | Endpoint: https://api.igdb.com/v4/games | Batch 483 | Response time [1.53s] | Time elapsed [629.63s]\n",
      "\n",
      "[FETCH_DATA] | 07/31/23 14:33:26 | Total time 630.43s | Dataset size 241304\n",
      "\n",
      "====================================================================================================\n",
      "\n",
      "\n",
      "[REQUEST] | 07/31/23 14:33:34 | Status 200 | Endpoint: https://api.igdb.com/v4/game_engines | Batch 1 | Response time [0.77s] | Time elapsed [0.77s]\n",
      "[REQUEST] | 07/31/23 14:33:35 | Status 200 | Endpoint: https://api.igdb.com/v4/game_engines | Batch 2 | Response time [0.47s] | Time elapsed [1.24s]\n",
      "[REQUEST] | 07/31/23 14:33:35 | Status 200 | Endpoint: https://api.igdb.com/v4/game_engines | Batch 3 | Response time [0.29s] | Time elapsed [1.53s]\n",
      "\n",
      "[FETCH_DATA] | 07/31/23 14:33:36 | Total time 2.17s | Dataset size 1194\n",
      "\n",
      "====================================================================================================\n",
      "\n",
      "\n",
      "[REQUEST] | 07/31/23 14:33:37 | Status 200 | Endpoint: https://api.igdb.com/v4/language_supports | Batch 1 | Response time [0.77s] | Time elapsed [0.77s]\n",
      "[REQUEST] | 07/31/23 14:33:37 | Status 200 | Endpoint: https://api.igdb.com/v4/language_supports | Batch 2 | Response time [0.28s] | Time elapsed [1.05s]\n",
      "[REQUEST] | 07/31/23 14:33:37 | Status 200 | Endpoint: https://api.igdb.com/v4/language_supports | Batch 3 | Response time [0.31s] | Time elapsed [1.36s]\n",
      "[REQUEST] | 07/31/23 14:33:38 | Status 200 | Endpoint: https://api.igdb.com/v4/language_supports | Batch 4 | Response time [0.77s] | Time elapsed [2.13s]\n",
      "[REQUEST] | 07/31/23 14:33:39 | Status 200 | Endpoint: https://api.igdb.com/v4/language_supports | Batch 5 | Response time [0.84s] | Time elapsed [2.97s]\n",
      "[REQUEST] | 07/31/23 14:33:40 | Status 200 | Endpoint: https://api.igdb.com/v4/language_supports | Batch 6 | Response time [0.75s] | Time elapsed [3.72s]\n",
      "[REQUEST] | 07/31/23 14:33:40 | Status 200 | Endpoint: https://api.igdb.com/v4/language_supports | Batch 7 | Response time [0.77s] | Time elapsed [4.49s]\n",
      "[REQUEST] | 07/31/23 14:33:41 | Status 200 | Endpoint: https://api.igdb.com/v4/language_supports | Batch 8 | Response time [0.76s] | Time elapsed [5.25s]\n",
      "[REQUEST] | 07/31/23 14:33:42 | Status 200 | Endpoint: https://api.igdb.com/v4/language_supports | Batch 9 | Response time [0.76s] | Time elapsed [6.01s]\n",
      "[REQUEST] | 07/31/23 14:33:43 | Status 200 | Endpoint: https://api.igdb.com/v4/language_supports | Batch 10 | Response time [0.75s] | Time elapsed [6.77s]\n",
      "[REQUEST] | 07/31/23 14:33:43 | Status 200 | Endpoint: https://api.igdb.com/v4/language_supports | Batch 11 | Response time [0.32s] | Time elapsed [7.1s]\n",
      "[REQUEST] | 07/31/23 14:33:44 | Status 200 | Endpoint: https://api.igdb.com/v4/language_supports | Batch 12 | Response time [0.78s] | Time elapsed [7.88s]\n",
      "[REQUEST] | 07/31/23 14:33:45 | Status 200 | Endpoint: https://api.igdb.com/v4/language_supports | Batch 13 | Response time [0.74s] | Time elapsed [8.63s]\n",
      "[REQUEST] | 07/31/23 14:33:45 | Status 200 | Endpoint: https://api.igdb.com/v4/language_supports | Batch 14 | Response time [0.8s] | Time elapsed [9.43s]\n",
      "[REQUEST] | 07/31/23 14:33:46 | Status 200 | Endpoint: https://api.igdb.com/v4/language_supports | Batch 15 | Response time [0.31s] | Time elapsed [9.75s]\n",
      "[REQUEST] | 07/31/23 14:33:46 | Status 200 | Endpoint: https://api.igdb.com/v4/language_supports | Batch 16 | Response time [0.77s] | Time elapsed [10.52s]\n",
      "[REQUEST] | 07/31/23 14:33:47 | Status 200 | Endpoint: https://api.igdb.com/v4/language_supports | Batch 17 | Response time [0.82s] | Time elapsed [11.34s]\n",
      "[REQUEST] | 07/31/23 14:33:48 | Status 200 | Endpoint: https://api.igdb.com/v4/language_supports | Batch 18 | Response time [0.49s] | Time elapsed [11.83s]\n",
      "[REQUEST] | 07/31/23 14:33:48 | Status 200 | Endpoint: https://api.igdb.com/v4/language_supports | Batch 19 | Response time [0.3s] | Time elapsed [12.14s]\n",
      "[REQUEST] | 07/31/23 14:33:48 | Status 200 | Endpoint: https://api.igdb.com/v4/language_supports | Batch 20 | Response time [0.3s] | Time elapsed [12.44s]\n",
      "[REQUEST] | 07/31/23 14:33:49 | Status 200 | Endpoint: https://api.igdb.com/v4/language_supports | Batch 21 | Response time [0.33s] | Time elapsed [12.77s]\n",
      "[REQUEST] | 07/31/23 14:33:49 | Status 200 | Endpoint: https://api.igdb.com/v4/language_supports | Batch 22 | Response time [0.78s] | Time elapsed [13.55s]\n",
      "[REQUEST] | 07/31/23 14:33:50 | Status 200 | Endpoint: https://api.igdb.com/v4/language_supports | Batch 23 | Response time [0.32s] | Time elapsed [13.88s]\n",
      "[REQUEST] | 07/31/23 14:33:51 | Status 200 | Endpoint: https://api.igdb.com/v4/language_supports | Batch 24 | Response time [0.76s] | Time elapsed [14.64s]\n",
      "[REQUEST] | 07/31/23 14:33:51 | Status 200 | Endpoint: https://api.igdb.com/v4/language_supports | Batch 25 | Response time [0.49s] | Time elapsed [15.13s]\n",
      "[REQUEST] | 07/31/23 14:33:52 | Status 200 | Endpoint: https://api.igdb.com/v4/language_supports | Batch 26 | Response time [0.77s] | Time elapsed [15.91s]\n",
      "[REQUEST] | 07/31/23 14:33:52 | Status 200 | Endpoint: https://api.igdb.com/v4/language_supports | Batch 27 | Response time [0.31s] | Time elapsed [16.22s]\n",
      "[REQUEST] | 07/31/23 14:33:53 | Status 200 | Endpoint: https://api.igdb.com/v4/language_supports | Batch 28 | Response time [0.5s] | Time elapsed [16.72s]\n",
      "[REQUEST] | 07/31/23 14:33:53 | Status 200 | Endpoint: https://api.igdb.com/v4/language_supports | Batch 29 | Response time [0.76s] | Time elapsed [17.48s]\n",
      "[REQUEST] | 07/31/23 14:33:54 | Status 200 | Endpoint: https://api.igdb.com/v4/language_supports | Batch 30 | Response time [0.77s] | Time elapsed [18.25s]\n",
      "[REQUEST] | 07/31/23 14:33:55 | Status 200 | Endpoint: https://api.igdb.com/v4/language_supports | Batch 31 | Response time [0.81s] | Time elapsed [19.07s]\n",
      "[REQUEST] | 07/31/23 14:33:56 | Status 200 | Endpoint: https://api.igdb.com/v4/language_supports | Batch 32 | Response time [0.79s] | Time elapsed [19.86s]\n",
      "[REQUEST] | 07/31/23 14:33:57 | Status 200 | Endpoint: https://api.igdb.com/v4/language_supports | Batch 33 | Response time [0.72s] | Time elapsed [20.58s]\n",
      "[REQUEST] | 07/31/23 14:33:57 | Status 200 | Endpoint: https://api.igdb.com/v4/language_supports | Batch 34 | Response time [0.47s] | Time elapsed [21.06s]\n",
      "[REQUEST] | 07/31/23 14:33:58 | Status 200 | Endpoint: https://api.igdb.com/v4/language_supports | Batch 35 | Response time [0.78s] | Time elapsed [21.84s]\n",
      "[REQUEST] | 07/31/23 14:33:59 | Status 200 | Endpoint: https://api.igdb.com/v4/language_supports | Batch 36 | Response time [0.75s] | Time elapsed [22.59s]\n",
      "[REQUEST] | 07/31/23 14:33:59 | Status 200 | Endpoint: https://api.igdb.com/v4/language_supports | Batch 37 | Response time [0.78s] | Time elapsed [23.38s]\n",
      "[REQUEST] | 07/31/23 14:34:00 | Status 200 | Endpoint: https://api.igdb.com/v4/language_supports | Batch 38 | Response time [0.78s] | Time elapsed [24.16s]\n",
      "[REQUEST] | 07/31/23 14:34:01 | Status 200 | Endpoint: https://api.igdb.com/v4/language_supports | Batch 39 | Response time [0.54s] | Time elapsed [24.7s]\n",
      "[REQUEST] | 07/31/23 14:34:02 | Status 200 | Endpoint: https://api.igdb.com/v4/language_supports | Batch 40 | Response time [0.9s] | Time elapsed [25.6s]\n",
      "[REQUEST] | 07/31/23 14:34:02 | Status 200 | Endpoint: https://api.igdb.com/v4/language_supports | Batch 41 | Response time [0.77s] | Time elapsed [26.37s]\n",
      "[REQUEST] | 07/31/23 14:34:03 | Status 200 | Endpoint: https://api.igdb.com/v4/language_supports | Batch 42 | Response time [0.78s] | Time elapsed [27.16s]\n",
      "[REQUEST] | 07/31/23 14:34:04 | Status 200 | Endpoint: https://api.igdb.com/v4/language_supports | Batch 43 | Response time [0.46s] | Time elapsed [27.62s]\n",
      "[REQUEST] | 07/31/23 14:34:04 | Status 200 | Endpoint: https://api.igdb.com/v4/language_supports | Batch 44 | Response time [0.75s] | Time elapsed [28.37s]\n",
      "[REQUEST] | 07/31/23 14:34:05 | Status 200 | Endpoint: https://api.igdb.com/v4/language_supports | Batch 45 | Response time [0.46s] | Time elapsed [28.83s]\n",
      "[REQUEST] | 07/31/23 14:34:06 | Status 200 | Endpoint: https://api.igdb.com/v4/language_supports | Batch 46 | Response time [0.75s] | Time elapsed [29.58s]\n",
      "[REQUEST] | 07/31/23 14:34:06 | Status 200 | Endpoint: https://api.igdb.com/v4/language_supports | Batch 47 | Response time [0.29s] | Time elapsed [29.87s]\n",
      "[REQUEST] | 07/31/23 14:34:07 | Status 200 | Endpoint: https://api.igdb.com/v4/language_supports | Batch 48 | Response time [0.75s] | Time elapsed [30.62s]\n",
      "[REQUEST] | 07/31/23 14:34:07 | Status 200 | Endpoint: https://api.igdb.com/v4/language_supports | Batch 49 | Response time [0.82s] | Time elapsed [31.44s]\n",
      "[REQUEST] | 07/31/23 14:34:08 | Status 200 | Endpoint: https://api.igdb.com/v4/language_supports | Batch 50 | Response time [0.8s] | Time elapsed [32.24s]\n",
      "[REQUEST] | 07/31/23 14:34:09 | Status 200 | Endpoint: https://api.igdb.com/v4/language_supports | Batch 51 | Response time [0.77s] | Time elapsed [33.02s]\n",
      "[REQUEST] | 07/31/23 14:34:10 | Status 200 | Endpoint: https://api.igdb.com/v4/language_supports | Batch 52 | Response time [0.76s] | Time elapsed [33.78s]\n",
      "[REQUEST] | 07/31/23 14:34:10 | Status 200 | Endpoint: https://api.igdb.com/v4/language_supports | Batch 53 | Response time [0.75s] | Time elapsed [34.54s]\n",
      "[REQUEST] | 07/31/23 14:34:11 | Status 200 | Endpoint: https://api.igdb.com/v4/language_supports | Batch 54 | Response time [0.81s] | Time elapsed [35.35s]\n",
      "[REQUEST] | 07/31/23 14:34:12 | Status 200 | Endpoint: https://api.igdb.com/v4/language_supports | Batch 55 | Response time [0.43s] | Time elapsed [35.78s]\n",
      "[REQUEST] | 07/31/23 14:34:12 | Status 200 | Endpoint: https://api.igdb.com/v4/language_supports | Batch 56 | Response time [0.49s] | Time elapsed [36.27s]\n",
      "[REQUEST] | 07/31/23 14:34:13 | Status 200 | Endpoint: https://api.igdb.com/v4/language_supports | Batch 57 | Response time [0.81s] | Time elapsed [37.09s]\n",
      "[REQUEST] | 07/31/23 14:34:14 | Status 200 | Endpoint: https://api.igdb.com/v4/language_supports | Batch 58 | Response time [0.8s] | Time elapsed [37.89s]\n",
      "[REQUEST] | 07/31/23 14:34:15 | Status 200 | Endpoint: https://api.igdb.com/v4/language_supports | Batch 59 | Response time [0.75s] | Time elapsed [38.65s]\n",
      "[REQUEST] | 07/31/23 14:34:15 | Status 200 | Endpoint: https://api.igdb.com/v4/language_supports | Batch 60 | Response time [0.81s] | Time elapsed [39.46s]\n",
      "[REQUEST] | 07/31/23 14:34:16 | Status 200 | Endpoint: https://api.igdb.com/v4/language_supports | Batch 61 | Response time [0.76s] | Time elapsed [40.22s]\n",
      "[REQUEST] | 07/31/23 14:34:17 | Status 200 | Endpoint: https://api.igdb.com/v4/language_supports | Batch 62 | Response time [0.49s] | Time elapsed [40.71s]\n",
      "[REQUEST] | 07/31/23 14:34:17 | Status 200 | Endpoint: https://api.igdb.com/v4/language_supports | Batch 63 | Response time [0.77s] | Time elapsed [41.48s]\n",
      "[REQUEST] | 07/31/23 14:34:18 | Status 200 | Endpoint: https://api.igdb.com/v4/language_supports | Batch 64 | Response time [0.74s] | Time elapsed [42.22s]\n",
      "[REQUEST] | 07/31/23 14:34:19 | Status 200 | Endpoint: https://api.igdb.com/v4/language_supports | Batch 65 | Response time [0.77s] | Time elapsed [43.0s]\n",
      "[REQUEST] | 07/31/23 14:34:20 | Status 200 | Endpoint: https://api.igdb.com/v4/language_supports | Batch 66 | Response time [0.8s] | Time elapsed [43.8s]\n",
      "[REQUEST] | 07/31/23 14:34:21 | Status 200 | Endpoint: https://api.igdb.com/v4/language_supports | Batch 67 | Response time [0.84s] | Time elapsed [44.65s]\n",
      "[REQUEST] | 07/31/23 14:34:21 | Status 200 | Endpoint: https://api.igdb.com/v4/language_supports | Batch 68 | Response time [0.78s] | Time elapsed [45.43s]\n",
      "[REQUEST] | 07/31/23 14:34:22 | Status 200 | Endpoint: https://api.igdb.com/v4/language_supports | Batch 69 | Response time [0.77s] | Time elapsed [46.21s]\n",
      "[REQUEST] | 07/31/23 14:34:23 | Status 200 | Endpoint: https://api.igdb.com/v4/language_supports | Batch 70 | Response time [0.47s] | Time elapsed [46.69s]\n",
      "[REQUEST] | 07/31/23 14:34:23 | Status 200 | Endpoint: https://api.igdb.com/v4/language_supports | Batch 71 | Response time [0.77s] | Time elapsed [47.46s]\n",
      "[REQUEST] | 07/31/23 14:34:24 | Status 200 | Endpoint: https://api.igdb.com/v4/language_supports | Batch 72 | Response time [0.79s] | Time elapsed [48.26s]\n",
      "[REQUEST] | 07/31/23 14:34:25 | Status 200 | Endpoint: https://api.igdb.com/v4/language_supports | Batch 73 | Response time [0.76s] | Time elapsed [49.02s]\n",
      "[REQUEST] | 07/31/23 14:34:26 | Status 200 | Endpoint: https://api.igdb.com/v4/language_supports | Batch 74 | Response time [0.79s] | Time elapsed [49.82s]\n",
      "[REQUEST] | 07/31/23 14:34:27 | Status 200 | Endpoint: https://api.igdb.com/v4/language_supports | Batch 75 | Response time [0.79s] | Time elapsed [50.61s]\n",
      "[REQUEST] | 07/31/23 14:34:27 | Status 200 | Endpoint: https://api.igdb.com/v4/language_supports | Batch 76 | Response time [0.8s] | Time elapsed [51.41s]\n",
      "[REQUEST] | 07/31/23 14:34:28 | Status 200 | Endpoint: https://api.igdb.com/v4/language_supports | Batch 77 | Response time [0.77s] | Time elapsed [52.19s]\n",
      "[REQUEST] | 07/31/23 14:34:29 | Status 200 | Endpoint: https://api.igdb.com/v4/language_supports | Batch 78 | Response time [0.78s] | Time elapsed [52.97s]\n",
      "[REQUEST] | 07/31/23 14:34:30 | Status 200 | Endpoint: https://api.igdb.com/v4/language_supports | Batch 79 | Response time [0.78s] | Time elapsed [53.76s]\n",
      "[REQUEST] | 07/31/23 14:34:30 | Status 200 | Endpoint: https://api.igdb.com/v4/language_supports | Batch 80 | Response time [0.36s] | Time elapsed [54.13s]\n",
      "[REQUEST] | 07/31/23 14:34:30 | Status 200 | Endpoint: https://api.igdb.com/v4/language_supports | Batch 81 | Response time [0.29s] | Time elapsed [54.42s]\n",
      "[REQUEST] | 07/31/23 14:34:31 | Status 200 | Endpoint: https://api.igdb.com/v4/language_supports | Batch 82 | Response time [0.83s] | Time elapsed [55.25s]\n",
      "[REQUEST] | 07/31/23 14:34:32 | Status 200 | Endpoint: https://api.igdb.com/v4/language_supports | Batch 83 | Response time [0.78s] | Time elapsed [56.04s]\n",
      "[REQUEST] | 07/31/23 14:34:33 | Status 200 | Endpoint: https://api.igdb.com/v4/language_supports | Batch 84 | Response time [0.81s] | Time elapsed [56.85s]\n",
      "[REQUEST] | 07/31/23 14:34:34 | Status 200 | Endpoint: https://api.igdb.com/v4/language_supports | Batch 85 | Response time [0.81s] | Time elapsed [57.67s]\n",
      "[REQUEST] | 07/31/23 14:34:34 | Status 200 | Endpoint: https://api.igdb.com/v4/language_supports | Batch 86 | Response time [0.32s] | Time elapsed [57.99s]\n",
      "[REQUEST] | 07/31/23 14:34:35 | Status 200 | Endpoint: https://api.igdb.com/v4/language_supports | Batch 87 | Response time [0.8s] | Time elapsed [58.79s]\n",
      "[REQUEST] | 07/31/23 14:34:35 | Status 200 | Endpoint: https://api.igdb.com/v4/language_supports | Batch 88 | Response time [0.76s] | Time elapsed [59.56s]\n",
      "[REQUEST] | 07/31/23 14:34:36 | Status 200 | Endpoint: https://api.igdb.com/v4/language_supports | Batch 89 | Response time [0.78s] | Time elapsed [60.34s]\n",
      "[REQUEST] | 07/31/23 14:34:37 | Status 200 | Endpoint: https://api.igdb.com/v4/language_supports | Batch 90 | Response time [0.79s] | Time elapsed [61.14s]\n",
      "[REQUEST] | 07/31/23 14:34:37 | Status 200 | Endpoint: https://api.igdb.com/v4/language_supports | Batch 91 | Response time [0.35s] | Time elapsed [61.5s]\n",
      "[REQUEST] | 07/31/23 14:34:38 | Status 200 | Endpoint: https://api.igdb.com/v4/language_supports | Batch 92 | Response time [0.76s] | Time elapsed [62.26s]\n",
      "[REQUEST] | 07/31/23 14:34:39 | Status 200 | Endpoint: https://api.igdb.com/v4/language_supports | Batch 93 | Response time [0.75s] | Time elapsed [63.01s]\n",
      "[REQUEST] | 07/31/23 14:34:40 | Status 200 | Endpoint: https://api.igdb.com/v4/language_supports | Batch 94 | Response time [0.81s] | Time elapsed [63.82s]\n",
      "[REQUEST] | 07/31/23 14:34:41 | Status 200 | Endpoint: https://api.igdb.com/v4/language_supports | Batch 95 | Response time [0.81s] | Time elapsed [64.64s]\n",
      "[REQUEST] | 07/31/23 14:34:41 | Status 200 | Endpoint: https://api.igdb.com/v4/language_supports | Batch 96 | Response time [0.78s] | Time elapsed [65.42s]\n",
      "[REQUEST] | 07/31/23 14:34:42 | Status 200 | Endpoint: https://api.igdb.com/v4/language_supports | Batch 97 | Response time [0.77s] | Time elapsed [66.19s]\n",
      "[REQUEST] | 07/31/23 14:34:43 | Status 200 | Endpoint: https://api.igdb.com/v4/language_supports | Batch 98 | Response time [0.83s] | Time elapsed [67.02s]\n",
      "[REQUEST] | 07/31/23 14:34:44 | Status 200 | Endpoint: https://api.igdb.com/v4/language_supports | Batch 99 | Response time [0.78s] | Time elapsed [67.81s]\n",
      "[REQUEST] | 07/31/23 14:34:45 | Status 200 | Endpoint: https://api.igdb.com/v4/language_supports | Batch 100 | Response time [0.84s] | Time elapsed [68.65s]\n",
      "[REQUEST] | 07/31/23 14:34:45 | Status 200 | Endpoint: https://api.igdb.com/v4/language_supports | Batch 101 | Response time [0.32s] | Time elapsed [68.97s]\n",
      "[REQUEST] | 07/31/23 14:34:46 | Status 200 | Endpoint: https://api.igdb.com/v4/language_supports | Batch 102 | Response time [0.76s] | Time elapsed [69.73s]\n",
      "[REQUEST] | 07/31/23 14:34:46 | Status 200 | Endpoint: https://api.igdb.com/v4/language_supports | Batch 103 | Response time [0.78s] | Time elapsed [70.52s]\n",
      "[REQUEST] | 07/31/23 14:34:47 | Status 200 | Endpoint: https://api.igdb.com/v4/language_supports | Batch 104 | Response time [0.43s] | Time elapsed [70.96s]\n",
      "[REQUEST] | 07/31/23 14:34:47 | Status 200 | Endpoint: https://api.igdb.com/v4/language_supports | Batch 105 | Response time [0.33s] | Time elapsed [71.29s]\n",
      "[REQUEST] | 07/31/23 14:34:48 | Status 200 | Endpoint: https://api.igdb.com/v4/language_supports | Batch 106 | Response time [0.81s] | Time elapsed [72.1s]\n",
      "[REQUEST] | 07/31/23 14:34:49 | Status 200 | Endpoint: https://api.igdb.com/v4/language_supports | Batch 107 | Response time [0.76s] | Time elapsed [72.87s]\n",
      "[REQUEST] | 07/31/23 14:34:50 | Status 200 | Endpoint: https://api.igdb.com/v4/language_supports | Batch 108 | Response time [0.8s] | Time elapsed [73.67s]\n",
      "[REQUEST] | 07/31/23 14:34:51 | Status 200 | Endpoint: https://api.igdb.com/v4/language_supports | Batch 109 | Response time [0.89s] | Time elapsed [74.57s]\n",
      "[REQUEST] | 07/31/23 14:34:51 | Status 200 | Endpoint: https://api.igdb.com/v4/language_supports | Batch 110 | Response time [0.79s] | Time elapsed [75.36s]\n",
      "[REQUEST] | 07/31/23 14:34:52 | Status 200 | Endpoint: https://api.igdb.com/v4/language_supports | Batch 111 | Response time [0.77s] | Time elapsed [76.13s]\n",
      "[REQUEST] | 07/31/23 14:34:52 | Status 200 | Endpoint: https://api.igdb.com/v4/language_supports | Batch 112 | Response time [0.29s] | Time elapsed [76.43s]\n",
      "[REQUEST] | 07/31/23 14:34:53 | Status 200 | Endpoint: https://api.igdb.com/v4/language_supports | Batch 113 | Response time [0.76s] | Time elapsed [77.19s]\n",
      "[REQUEST] | 07/31/23 14:34:54 | Status 200 | Endpoint: https://api.igdb.com/v4/language_supports | Batch 114 | Response time [0.78s] | Time elapsed [77.98s]\n",
      "[REQUEST] | 07/31/23 14:34:55 | Status 200 | Endpoint: https://api.igdb.com/v4/language_supports | Batch 115 | Response time [0.75s] | Time elapsed [78.73s]\n",
      "[REQUEST] | 07/31/23 14:34:55 | Status 200 | Endpoint: https://api.igdb.com/v4/language_supports | Batch 116 | Response time [0.75s] | Time elapsed [79.48s]\n",
      "[REQUEST] | 07/31/23 14:34:56 | Status 200 | Endpoint: https://api.igdb.com/v4/language_supports | Batch 117 | Response time [0.76s] | Time elapsed [80.24s]\n",
      "[REQUEST] | 07/31/23 14:34:57 | Status 200 | Endpoint: https://api.igdb.com/v4/language_supports | Batch 118 | Response time [0.8s] | Time elapsed [81.04s]\n",
      "[REQUEST] | 07/31/23 14:34:58 | Status 200 | Endpoint: https://api.igdb.com/v4/language_supports | Batch 119 | Response time [0.78s] | Time elapsed [81.82s]\n",
      "[REQUEST] | 07/31/23 14:34:59 | Status 200 | Endpoint: https://api.igdb.com/v4/language_supports | Batch 120 | Response time [0.78s] | Time elapsed [82.6s]\n",
      "[REQUEST] | 07/31/23 14:34:59 | Status 200 | Endpoint: https://api.igdb.com/v4/language_supports | Batch 121 | Response time [0.77s] | Time elapsed [83.37s]\n",
      "[REQUEST] | 07/31/23 14:35:00 | Status 200 | Endpoint: https://api.igdb.com/v4/language_supports | Batch 122 | Response time [0.4s] | Time elapsed [83.77s]\n",
      "[REQUEST] | 07/31/23 14:35:00 | Status 200 | Endpoint: https://api.igdb.com/v4/language_supports | Batch 123 | Response time [0.46s] | Time elapsed [84.24s]\n",
      "[REQUEST] | 07/31/23 14:35:01 | Status 200 | Endpoint: https://api.igdb.com/v4/language_supports | Batch 124 | Response time [0.76s] | Time elapsed [85.0s]\n",
      "[REQUEST] | 07/31/23 14:35:02 | Status 200 | Endpoint: https://api.igdb.com/v4/language_supports | Batch 125 | Response time [0.81s] | Time elapsed [85.81s]\n",
      "[REQUEST] | 07/31/23 14:35:03 | Status 200 | Endpoint: https://api.igdb.com/v4/language_supports | Batch 126 | Response time [0.78s] | Time elapsed [86.59s]\n",
      "[REQUEST] | 07/31/23 14:35:03 | Status 200 | Endpoint: https://api.igdb.com/v4/language_supports | Batch 127 | Response time [0.77s] | Time elapsed [87.36s]\n",
      "[REQUEST] | 07/31/23 14:35:04 | Status 200 | Endpoint: https://api.igdb.com/v4/language_supports | Batch 128 | Response time [0.77s] | Time elapsed [88.13s]\n",
      "[REQUEST] | 07/31/23 14:35:05 | Status 200 | Endpoint: https://api.igdb.com/v4/language_supports | Batch 129 | Response time [0.78s] | Time elapsed [88.92s]\n",
      "[REQUEST] | 07/31/23 14:35:05 | Status 200 | Endpoint: https://api.igdb.com/v4/language_supports | Batch 130 | Response time [0.51s] | Time elapsed [89.43s]\n",
      "[REQUEST] | 07/31/23 14:35:06 | Status 200 | Endpoint: https://api.igdb.com/v4/language_supports | Batch 131 | Response time [0.79s] | Time elapsed [90.23s]\n",
      "[REQUEST] | 07/31/23 14:35:07 | Status 200 | Endpoint: https://api.igdb.com/v4/language_supports | Batch 132 | Response time [0.79s] | Time elapsed [91.02s]\n",
      "[REQUEST] | 07/31/23 14:35:08 | Status 200 | Endpoint: https://api.igdb.com/v4/language_supports | Batch 133 | Response time [0.76s] | Time elapsed [91.78s]\n",
      "[REQUEST] | 07/31/23 14:35:08 | Status 200 | Endpoint: https://api.igdb.com/v4/language_supports | Batch 134 | Response time [0.76s] | Time elapsed [92.54s]\n",
      "[REQUEST] | 07/31/23 14:35:09 | Status 200 | Endpoint: https://api.igdb.com/v4/language_supports | Batch 135 | Response time [0.8s] | Time elapsed [93.34s]\n",
      "[REQUEST] | 07/31/23 14:35:10 | Status 200 | Endpoint: https://api.igdb.com/v4/language_supports | Batch 136 | Response time [0.76s] | Time elapsed [94.1s]\n",
      "[REQUEST] | 07/31/23 14:35:11 | Status 200 | Endpoint: https://api.igdb.com/v4/language_supports | Batch 137 | Response time [0.77s] | Time elapsed [94.86s]\n",
      "[REQUEST] | 07/31/23 14:35:11 | Status 200 | Endpoint: https://api.igdb.com/v4/language_supports | Batch 138 | Response time [0.44s] | Time elapsed [95.31s]\n",
      "[REQUEST] | 07/31/23 14:35:12 | Status 200 | Endpoint: https://api.igdb.com/v4/language_supports | Batch 139 | Response time [0.78s] | Time elapsed [96.08s]\n",
      "[REQUEST] | 07/31/23 14:35:13 | Status 200 | Endpoint: https://api.igdb.com/v4/language_supports | Batch 140 | Response time [0.73s] | Time elapsed [96.81s]\n",
      "[REQUEST] | 07/31/23 14:35:14 | Status 200 | Endpoint: https://api.igdb.com/v4/language_supports | Batch 141 | Response time [0.78s] | Time elapsed [97.6s]\n",
      "[REQUEST] | 07/31/23 14:35:14 | Status 200 | Endpoint: https://api.igdb.com/v4/language_supports | Batch 142 | Response time [0.35s] | Time elapsed [97.95s]\n",
      "[REQUEST] | 07/31/23 14:35:15 | Status 200 | Endpoint: https://api.igdb.com/v4/language_supports | Batch 143 | Response time [0.63s] | Time elapsed [98.58s]\n",
      "[REQUEST] | 07/31/23 14:35:15 | Status 200 | Endpoint: https://api.igdb.com/v4/language_supports | Batch 144 | Response time [0.82s] | Time elapsed [99.4s]\n",
      "[REQUEST] | 07/31/23 14:35:16 | Status 200 | Endpoint: https://api.igdb.com/v4/language_supports | Batch 145 | Response time [0.78s] | Time elapsed [100.18s]\n",
      "[REQUEST] | 07/31/23 14:35:17 | Status 200 | Endpoint: https://api.igdb.com/v4/language_supports | Batch 146 | Response time [0.78s] | Time elapsed [100.97s]\n",
      "[REQUEST] | 07/31/23 14:35:18 | Status 200 | Endpoint: https://api.igdb.com/v4/language_supports | Batch 147 | Response time [0.76s] | Time elapsed [101.73s]\n",
      "[REQUEST] | 07/31/23 14:35:18 | Status 200 | Endpoint: https://api.igdb.com/v4/language_supports | Batch 148 | Response time [0.77s] | Time elapsed [102.51s]\n",
      "[REQUEST] | 07/31/23 14:35:19 | Status 200 | Endpoint: https://api.igdb.com/v4/language_supports | Batch 149 | Response time [0.8s] | Time elapsed [103.31s]\n",
      "[REQUEST] | 07/31/23 14:35:20 | Status 200 | Endpoint: https://api.igdb.com/v4/language_supports | Batch 150 | Response time [0.79s] | Time elapsed [104.09s]\n",
      "[REQUEST] | 07/31/23 14:35:21 | Status 200 | Endpoint: https://api.igdb.com/v4/language_supports | Batch 151 | Response time [0.83s] | Time elapsed [104.93s]\n",
      "[REQUEST] | 07/31/23 14:35:22 | Status 200 | Endpoint: https://api.igdb.com/v4/language_supports | Batch 152 | Response time [0.76s] | Time elapsed [105.69s]\n",
      "[REQUEST] | 07/31/23 14:35:22 | Status 200 | Endpoint: https://api.igdb.com/v4/language_supports | Batch 153 | Response time [0.31s] | Time elapsed [106.0s]\n",
      "[REQUEST] | 07/31/23 14:35:22 | Status 200 | Endpoint: https://api.igdb.com/v4/language_supports | Batch 154 | Response time [0.3s] | Time elapsed [106.31s]\n",
      "[REQUEST] | 07/31/23 14:35:23 | Status 200 | Endpoint: https://api.igdb.com/v4/language_supports | Batch 155 | Response time [0.8s] | Time elapsed [107.12s]\n",
      "[REQUEST] | 07/31/23 14:35:24 | Status 200 | Endpoint: https://api.igdb.com/v4/language_supports | Batch 156 | Response time [0.77s] | Time elapsed [107.89s]\n",
      "[REQUEST] | 07/31/23 14:35:25 | Status 200 | Endpoint: https://api.igdb.com/v4/language_supports | Batch 157 | Response time [0.76s] | Time elapsed [108.65s]\n",
      "[REQUEST] | 07/31/23 14:35:25 | Status 200 | Endpoint: https://api.igdb.com/v4/language_supports | Batch 158 | Response time [0.77s] | Time elapsed [109.43s]\n",
      "[REQUEST] | 07/31/23 14:35:26 | Status 200 | Endpoint: https://api.igdb.com/v4/language_supports | Batch 159 | Response time [0.76s] | Time elapsed [110.19s]\n",
      "[REQUEST] | 07/31/23 14:35:27 | Status 200 | Endpoint: https://api.igdb.com/v4/language_supports | Batch 160 | Response time [0.44s] | Time elapsed [110.63s]\n",
      "[REQUEST] | 07/31/23 14:35:27 | Status 200 | Endpoint: https://api.igdb.com/v4/language_supports | Batch 161 | Response time [0.81s] | Time elapsed [111.44s]\n",
      "[REQUEST] | 07/31/23 14:35:28 | Status 200 | Endpoint: https://api.igdb.com/v4/language_supports | Batch 162 | Response time [0.75s] | Time elapsed [112.2s]\n",
      "[REQUEST] | 07/31/23 14:35:28 | Status 200 | Endpoint: https://api.igdb.com/v4/language_supports | Batch 163 | Response time [0.34s] | Time elapsed [112.54s]\n",
      "[REQUEST] | 07/31/23 14:35:29 | Status 200 | Endpoint: https://api.igdb.com/v4/language_supports | Batch 164 | Response time [0.78s] | Time elapsed [113.32s]\n",
      "[REQUEST] | 07/31/23 14:35:30 | Status 200 | Endpoint: https://api.igdb.com/v4/language_supports | Batch 165 | Response time [0.75s] | Time elapsed [114.08s]\n",
      "[REQUEST] | 07/31/23 14:35:31 | Status 200 | Endpoint: https://api.igdb.com/v4/language_supports | Batch 166 | Response time [0.49s] | Time elapsed [114.58s]\n",
      "[REQUEST] | 07/31/23 14:35:31 | Status 200 | Endpoint: https://api.igdb.com/v4/language_supports | Batch 167 | Response time [0.76s] | Time elapsed [115.34s]\n",
      "[REQUEST] | 07/31/23 14:35:32 | Status 200 | Endpoint: https://api.igdb.com/v4/language_supports | Batch 168 | Response time [0.77s] | Time elapsed [116.11s]\n",
      "[REQUEST] | 07/31/23 14:35:32 | Status 200 | Endpoint: https://api.igdb.com/v4/language_supports | Batch 169 | Response time [0.35s] | Time elapsed [116.47s]\n",
      "[REQUEST] | 07/31/23 14:35:33 | Status 200 | Endpoint: https://api.igdb.com/v4/language_supports | Batch 170 | Response time [0.75s] | Time elapsed [117.21s]\n",
      "[REQUEST] | 07/31/23 14:35:34 | Status 200 | Endpoint: https://api.igdb.com/v4/language_supports | Batch 171 | Response time [0.78s] | Time elapsed [117.99s]\n",
      "[REQUEST] | 07/31/23 14:35:35 | Status 200 | Endpoint: https://api.igdb.com/v4/language_supports | Batch 172 | Response time [0.79s] | Time elapsed [118.79s]\n",
      "[REQUEST] | 07/31/23 14:35:35 | Status 200 | Endpoint: https://api.igdb.com/v4/language_supports | Batch 173 | Response time [0.32s] | Time elapsed [119.11s]\n",
      "[REQUEST] | 07/31/23 14:35:36 | Status 200 | Endpoint: https://api.igdb.com/v4/language_supports | Batch 174 | Response time [0.78s] | Time elapsed [119.9s]\n",
      "[REQUEST] | 07/31/23 14:35:37 | Status 200 | Endpoint: https://api.igdb.com/v4/language_supports | Batch 175 | Response time [0.73s] | Time elapsed [120.63s]\n",
      "[REQUEST] | 07/31/23 14:35:37 | Status 200 | Endpoint: https://api.igdb.com/v4/language_supports | Batch 176 | Response time [0.81s] | Time elapsed [121.45s]\n",
      "[REQUEST] | 07/31/23 14:35:38 | Status 200 | Endpoint: https://api.igdb.com/v4/language_supports | Batch 177 | Response time [0.75s] | Time elapsed [122.2s]\n",
      "[REQUEST] | 07/31/23 14:35:39 | Status 200 | Endpoint: https://api.igdb.com/v4/language_supports | Batch 178 | Response time [0.98s] | Time elapsed [123.18s]\n",
      "[REQUEST] | 07/31/23 14:35:40 | Status 200 | Endpoint: https://api.igdb.com/v4/language_supports | Batch 179 | Response time [0.73s] | Time elapsed [123.91s]\n",
      "[REQUEST] | 07/31/23 14:35:41 | Status 200 | Endpoint: https://api.igdb.com/v4/language_supports | Batch 180 | Response time [0.72s] | Time elapsed [124.64s]\n",
      "[REQUEST] | 07/31/23 14:35:41 | Status 200 | Endpoint: https://api.igdb.com/v4/language_supports | Batch 181 | Response time [0.76s] | Time elapsed [125.4s]\n",
      "[REQUEST] | 07/31/23 14:35:42 | Status 200 | Endpoint: https://api.igdb.com/v4/language_supports | Batch 182 | Response time [0.75s] | Time elapsed [126.15s]\n",
      "[REQUEST] | 07/31/23 14:35:43 | Status 200 | Endpoint: https://api.igdb.com/v4/language_supports | Batch 183 | Response time [0.8s] | Time elapsed [126.95s]\n",
      "[REQUEST] | 07/31/23 14:35:43 | Status 200 | Endpoint: https://api.igdb.com/v4/language_supports | Batch 184 | Response time [0.33s] | Time elapsed [127.28s]\n",
      "[REQUEST] | 07/31/23 14:35:44 | Status 200 | Endpoint: https://api.igdb.com/v4/language_supports | Batch 185 | Response time [0.75s] | Time elapsed [128.03s]\n",
      "[REQUEST] | 07/31/23 14:35:45 | Status 200 | Endpoint: https://api.igdb.com/v4/language_supports | Batch 186 | Response time [0.8s] | Time elapsed [128.84s]\n",
      "[REQUEST] | 07/31/23 14:35:46 | Status 200 | Endpoint: https://api.igdb.com/v4/language_supports | Batch 187 | Response time [0.77s] | Time elapsed [129.61s]\n",
      "[REQUEST] | 07/31/23 14:35:46 | Status 200 | Endpoint: https://api.igdb.com/v4/language_supports | Batch 188 | Response time [0.8s] | Time elapsed [130.42s]\n",
      "[REQUEST] | 07/31/23 14:35:47 | Status 200 | Endpoint: https://api.igdb.com/v4/language_supports | Batch 189 | Response time [0.46s] | Time elapsed [130.88s]\n",
      "[REQUEST] | 07/31/23 14:35:47 | Status 200 | Endpoint: https://api.igdb.com/v4/language_supports | Batch 190 | Response time [0.34s] | Time elapsed [131.22s]\n",
      "[REQUEST] | 07/31/23 14:35:48 | Status 200 | Endpoint: https://api.igdb.com/v4/language_supports | Batch 191 | Response time [0.76s] | Time elapsed [131.99s]\n",
      "[REQUEST] | 07/31/23 14:35:49 | Status 200 | Endpoint: https://api.igdb.com/v4/language_supports | Batch 192 | Response time [0.77s] | Time elapsed [132.76s]\n",
      "[REQUEST] | 07/31/23 14:35:49 | Status 200 | Endpoint: https://api.igdb.com/v4/language_supports | Batch 193 | Response time [0.78s] | Time elapsed [133.54s]\n",
      "[REQUEST] | 07/31/23 14:35:50 | Status 200 | Endpoint: https://api.igdb.com/v4/language_supports | Batch 194 | Response time [0.77s] | Time elapsed [134.31s]\n",
      "[REQUEST] | 07/31/23 14:35:51 | Status 200 | Endpoint: https://api.igdb.com/v4/language_supports | Batch 195 | Response time [0.81s] | Time elapsed [135.12s]\n",
      "[REQUEST] | 07/31/23 14:35:52 | Status 200 | Endpoint: https://api.igdb.com/v4/language_supports | Batch 196 | Response time [0.74s] | Time elapsed [135.87s]\n",
      "[REQUEST] | 07/31/23 14:35:52 | Status 200 | Endpoint: https://api.igdb.com/v4/language_supports | Batch 197 | Response time [0.34s] | Time elapsed [136.21s]\n",
      "[REQUEST] | 07/31/23 14:35:53 | Status 200 | Endpoint: https://api.igdb.com/v4/language_supports | Batch 198 | Response time [0.76s] | Time elapsed [136.97s]\n",
      "[REQUEST] | 07/31/23 14:35:53 | Status 200 | Endpoint: https://api.igdb.com/v4/language_supports | Batch 199 | Response time [0.3s] | Time elapsed [137.28s]\n",
      "[REQUEST] | 07/31/23 14:35:54 | Status 200 | Endpoint: https://api.igdb.com/v4/language_supports | Batch 200 | Response time [0.75s] | Time elapsed [138.03s]\n",
      "[REQUEST] | 07/31/23 14:35:54 | Status 200 | Endpoint: https://api.igdb.com/v4/language_supports | Batch 201 | Response time [0.33s] | Time elapsed [138.36s]\n",
      "[REQUEST] | 07/31/23 14:35:55 | Status 200 | Endpoint: https://api.igdb.com/v4/language_supports | Batch 202 | Response time [0.75s] | Time elapsed [139.11s]\n",
      "[REQUEST] | 07/31/23 14:35:55 | Status 200 | Endpoint: https://api.igdb.com/v4/language_supports | Batch 203 | Response time [0.32s] | Time elapsed [139.43s]\n",
      "[REQUEST] | 07/31/23 14:35:56 | Status 200 | Endpoint: https://api.igdb.com/v4/language_supports | Batch 204 | Response time [0.47s] | Time elapsed [139.91s]\n",
      "[REQUEST] | 07/31/23 14:35:56 | Status 200 | Endpoint: https://api.igdb.com/v4/language_supports | Batch 205 | Response time [0.3s] | Time elapsed [140.21s]\n",
      "[REQUEST] | 07/31/23 14:35:57 | Status 200 | Endpoint: https://api.igdb.com/v4/language_supports | Batch 206 | Response time [0.78s] | Time elapsed [140.99s]\n",
      "[REQUEST] | 07/31/23 14:35:58 | Status 200 | Endpoint: https://api.igdb.com/v4/language_supports | Batch 207 | Response time [0.75s] | Time elapsed [141.74s]\n",
      "[REQUEST] | 07/31/23 14:35:58 | Status 200 | Endpoint: https://api.igdb.com/v4/language_supports | Batch 208 | Response time [0.46s] | Time elapsed [142.21s]\n",
      "[REQUEST] | 07/31/23 14:35:59 | Status 200 | Endpoint: https://api.igdb.com/v4/language_supports | Batch 209 | Response time [0.78s] | Time elapsed [142.99s]\n",
      "[REQUEST] | 07/31/23 14:36:00 | Status 200 | Endpoint: https://api.igdb.com/v4/language_supports | Batch 210 | Response time [0.79s] | Time elapsed [143.78s]\n",
      "[REQUEST] | 07/31/23 14:36:00 | Status 200 | Endpoint: https://api.igdb.com/v4/language_supports | Batch 211 | Response time [0.76s] | Time elapsed [144.54s]\n",
      "[REQUEST] | 07/31/23 14:36:01 | Status 200 | Endpoint: https://api.igdb.com/v4/language_supports | Batch 212 | Response time [0.32s] | Time elapsed [144.86s]\n",
      "[REQUEST] | 07/31/23 14:36:02 | Status 200 | Endpoint: https://api.igdb.com/v4/language_supports | Batch 213 | Response time [0.81s] | Time elapsed [145.67s]\n",
      "[REQUEST] | 07/31/23 14:36:02 | Status 200 | Endpoint: https://api.igdb.com/v4/language_supports | Batch 214 | Response time [0.76s] | Time elapsed [146.43s]\n",
      "[REQUEST] | 07/31/23 14:36:04 | Status 200 | Endpoint: https://api.igdb.com/v4/language_supports | Batch 215 | Response time [1.16s] | Time elapsed [147.59s]\n",
      "[REQUEST] | 07/31/23 14:36:04 | Status 200 | Endpoint: https://api.igdb.com/v4/language_supports | Batch 216 | Response time [0.46s] | Time elapsed [148.05s]\n",
      "[REQUEST] | 07/31/23 14:36:05 | Status 200 | Endpoint: https://api.igdb.com/v4/language_supports | Batch 217 | Response time [0.76s] | Time elapsed [148.81s]\n",
      "[REQUEST] | 07/31/23 14:36:05 | Status 200 | Endpoint: https://api.igdb.com/v4/language_supports | Batch 218 | Response time [0.56s] | Time elapsed [149.37s]\n",
      "[REQUEST] | 07/31/23 14:36:06 | Status 200 | Endpoint: https://api.igdb.com/v4/language_supports | Batch 219 | Response time [0.92s] | Time elapsed [150.29s]\n",
      "[REQUEST] | 07/31/23 14:36:07 | Status 200 | Endpoint: https://api.igdb.com/v4/language_supports | Batch 220 | Response time [0.37s] | Time elapsed [150.67s]\n",
      "[REQUEST] | 07/31/23 14:36:07 | Status 200 | Endpoint: https://api.igdb.com/v4/language_supports | Batch 221 | Response time [0.55s] | Time elapsed [151.22s]\n",
      "[REQUEST] | 07/31/23 14:36:08 | Status 200 | Endpoint: https://api.igdb.com/v4/language_supports | Batch 222 | Response time [0.55s] | Time elapsed [151.77s]\n",
      "[REQUEST] | 07/31/23 14:36:09 | Status 200 | Endpoint: https://api.igdb.com/v4/language_supports | Batch 223 | Response time [0.87s] | Time elapsed [152.65s]\n",
      "[REQUEST] | 07/31/23 14:36:09 | Status 200 | Endpoint: https://api.igdb.com/v4/language_supports | Batch 224 | Response time [0.75s] | Time elapsed [153.4s]\n",
      "[REQUEST] | 07/31/23 14:36:10 | Status 200 | Endpoint: https://api.igdb.com/v4/language_supports | Batch 225 | Response time [0.5s] | Time elapsed [153.9s]\n",
      "[REQUEST] | 07/31/23 14:36:11 | Status 200 | Endpoint: https://api.igdb.com/v4/language_supports | Batch 226 | Response time [0.93s] | Time elapsed [154.84s]\n",
      "[REQUEST] | 07/31/23 14:36:12 | Status 200 | Endpoint: https://api.igdb.com/v4/language_supports | Batch 227 | Response time [0.89s] | Time elapsed [155.72s]\n",
      "[REQUEST] | 07/31/23 14:36:13 | Status 200 | Endpoint: https://api.igdb.com/v4/language_supports | Batch 228 | Response time [0.89s] | Time elapsed [156.62s]\n",
      "[REQUEST] | 07/31/23 14:36:13 | Status 200 | Endpoint: https://api.igdb.com/v4/language_supports | Batch 229 | Response time [0.47s] | Time elapsed [157.09s]\n",
      "[REQUEST] | 07/31/23 14:36:14 | Status 200 | Endpoint: https://api.igdb.com/v4/language_supports | Batch 230 | Response time [0.78s] | Time elapsed [157.88s]\n",
      "[REQUEST] | 07/31/23 14:36:15 | Status 200 | Endpoint: https://api.igdb.com/v4/language_supports | Batch 231 | Response time [0.74s] | Time elapsed [158.62s]\n",
      "[REQUEST] | 07/31/23 14:36:15 | Status 200 | Endpoint: https://api.igdb.com/v4/language_supports | Batch 232 | Response time [0.76s] | Time elapsed [159.39s]\n",
      "[REQUEST] | 07/31/23 14:36:16 | Status 200 | Endpoint: https://api.igdb.com/v4/language_supports | Batch 233 | Response time [0.78s] | Time elapsed [160.18s]\n",
      "[REQUEST] | 07/31/23 14:36:16 | Status 200 | Endpoint: https://api.igdb.com/v4/language_supports | Batch 234 | Response time [0.29s] | Time elapsed [160.47s]\n",
      "[REQUEST] | 07/31/23 14:36:17 | Status 200 | Endpoint: https://api.igdb.com/v4/language_supports | Batch 235 | Response time [0.77s] | Time elapsed [161.25s]\n",
      "[REQUEST] | 07/31/23 14:36:18 | Status 200 | Endpoint: https://api.igdb.com/v4/language_supports | Batch 236 | Response time [0.82s] | Time elapsed [162.06s]\n",
      "[REQUEST] | 07/31/23 14:36:19 | Status 200 | Endpoint: https://api.igdb.com/v4/language_supports | Batch 237 | Response time [0.79s] | Time elapsed [162.86s]\n",
      "[REQUEST] | 07/31/23 14:36:20 | Status 200 | Endpoint: https://api.igdb.com/v4/language_supports | Batch 238 | Response time [0.78s] | Time elapsed [163.64s]\n",
      "[REQUEST] | 07/31/23 14:36:20 | Status 200 | Endpoint: https://api.igdb.com/v4/language_supports | Batch 239 | Response time [0.77s] | Time elapsed [164.41s]\n",
      "[REQUEST] | 07/31/23 14:36:22 | Status 200 | Endpoint: https://api.igdb.com/v4/language_supports | Batch 240 | Response time [1.17s] | Time elapsed [165.58s]\n",
      "[REQUEST] | 07/31/23 14:36:22 | Status 200 | Endpoint: https://api.igdb.com/v4/language_supports | Batch 241 | Response time [0.8s] | Time elapsed [166.38s]\n",
      "[REQUEST] | 07/31/23 14:36:23 | Status 200 | Endpoint: https://api.igdb.com/v4/language_supports | Batch 242 | Response time [0.77s] | Time elapsed [167.16s]\n",
      "[REQUEST] | 07/31/23 14:36:24 | Status 200 | Endpoint: https://api.igdb.com/v4/language_supports | Batch 243 | Response time [0.72s] | Time elapsed [167.88s]\n",
      "[REQUEST] | 07/31/23 14:36:25 | Status 200 | Endpoint: https://api.igdb.com/v4/language_supports | Batch 244 | Response time [0.76s] | Time elapsed [168.65s]\n",
      "[REQUEST] | 07/31/23 14:36:25 | Status 200 | Endpoint: https://api.igdb.com/v4/language_supports | Batch 245 | Response time [0.78s] | Time elapsed [169.43s]\n",
      "[REQUEST] | 07/31/23 14:36:26 | Status 200 | Endpoint: https://api.igdb.com/v4/language_supports | Batch 246 | Response time [0.76s] | Time elapsed [170.2s]\n",
      "[REQUEST] | 07/31/23 14:36:26 | Status 200 | Endpoint: https://api.igdb.com/v4/language_supports | Batch 247 | Response time [0.33s] | Time elapsed [170.53s]\n",
      "[REQUEST] | 07/31/23 14:36:27 | Status 200 | Endpoint: https://api.igdb.com/v4/language_supports | Batch 248 | Response time [0.77s] | Time elapsed [171.31s]\n",
      "[REQUEST] | 07/31/23 14:36:28 | Status 200 | Endpoint: https://api.igdb.com/v4/language_supports | Batch 249 | Response time [0.77s] | Time elapsed [172.08s]\n",
      "[REQUEST] | 07/31/23 14:36:29 | Status 200 | Endpoint: https://api.igdb.com/v4/language_supports | Batch 250 | Response time [0.73s] | Time elapsed [172.81s]\n",
      "[REQUEST] | 07/31/23 14:36:29 | Status 200 | Endpoint: https://api.igdb.com/v4/language_supports | Batch 251 | Response time [0.31s] | Time elapsed [173.13s]\n",
      "[REQUEST] | 07/31/23 14:36:30 | Status 200 | Endpoint: https://api.igdb.com/v4/language_supports | Batch 252 | Response time [0.77s] | Time elapsed [173.89s]\n",
      "[REQUEST] | 07/31/23 14:36:30 | Status 200 | Endpoint: https://api.igdb.com/v4/language_supports | Batch 253 | Response time [0.31s] | Time elapsed [174.2s]\n",
      "[REQUEST] | 07/31/23 14:36:31 | Status 200 | Endpoint: https://api.igdb.com/v4/language_supports | Batch 254 | Response time [0.46s] | Time elapsed [174.67s]\n",
      "[REQUEST] | 07/31/23 14:36:31 | Status 200 | Endpoint: https://api.igdb.com/v4/language_supports | Batch 255 | Response time [0.8s] | Time elapsed [175.47s]\n",
      "[REQUEST] | 07/31/23 14:36:32 | Status 200 | Endpoint: https://api.igdb.com/v4/language_supports | Batch 256 | Response time [0.74s] | Time elapsed [176.22s]\n",
      "[REQUEST] | 07/31/23 14:36:33 | Status 200 | Endpoint: https://api.igdb.com/v4/language_supports | Batch 257 | Response time [0.5s] | Time elapsed [176.72s]\n",
      "[REQUEST] | 07/31/23 14:36:33 | Status 200 | Endpoint: https://api.igdb.com/v4/language_supports | Batch 258 | Response time [0.3s] | Time elapsed [177.01s]\n",
      "[REQUEST] | 07/31/23 14:36:34 | Status 200 | Endpoint: https://api.igdb.com/v4/language_supports | Batch 259 | Response time [0.83s] | Time elapsed [177.84s]\n",
      "[REQUEST] | 07/31/23 14:36:34 | Status 200 | Endpoint: https://api.igdb.com/v4/language_supports | Batch 260 | Response time [0.44s] | Time elapsed [178.28s]\n",
      "[REQUEST] | 07/31/23 14:36:35 | Status 200 | Endpoint: https://api.igdb.com/v4/language_supports | Batch 261 | Response time [0.44s] | Time elapsed [178.73s]\n",
      "[REQUEST] | 07/31/23 14:36:35 | Status 200 | Endpoint: https://api.igdb.com/v4/language_supports | Batch 262 | Response time [0.76s] | Time elapsed [179.49s]\n",
      "[REQUEST] | 07/31/23 14:36:36 | Status 200 | Endpoint: https://api.igdb.com/v4/language_supports | Batch 263 | Response time [0.3s] | Time elapsed [179.8s]\n",
      "[REQUEST] | 07/31/23 14:36:36 | Status 200 | Endpoint: https://api.igdb.com/v4/language_supports | Batch 264 | Response time [0.34s] | Time elapsed [180.14s]\n",
      "[REQUEST] | 07/31/23 14:36:37 | Status 200 | Endpoint: https://api.igdb.com/v4/language_supports | Batch 265 | Response time [0.79s] | Time elapsed [180.93s]\n",
      "[REQUEST] | 07/31/23 14:36:38 | Status 200 | Endpoint: https://api.igdb.com/v4/language_supports | Batch 266 | Response time [0.81s] | Time elapsed [181.74s]\n",
      "[REQUEST] | 07/31/23 14:36:38 | Status 200 | Endpoint: https://api.igdb.com/v4/language_supports | Batch 267 | Response time [0.76s] | Time elapsed [182.5s]\n",
      "[REQUEST] | 07/31/23 14:36:39 | Status 200 | Endpoint: https://api.igdb.com/v4/language_supports | Batch 268 | Response time [0.9s] | Time elapsed [183.4s]\n",
      "[REQUEST] | 07/31/23 14:36:40 | Status 200 | Endpoint: https://api.igdb.com/v4/language_supports | Batch 269 | Response time [0.44s] | Time elapsed [183.85s]\n",
      "[REQUEST] | 07/31/23 14:36:41 | Status 200 | Endpoint: https://api.igdb.com/v4/language_supports | Batch 270 | Response time [0.78s] | Time elapsed [184.63s]\n",
      "[REQUEST] | 07/31/23 14:36:41 | Status 200 | Endpoint: https://api.igdb.com/v4/language_supports | Batch 271 | Response time [0.45s] | Time elapsed [185.09s]\n",
      "[REQUEST] | 07/31/23 14:36:42 | Status 200 | Endpoint: https://api.igdb.com/v4/language_supports | Batch 272 | Response time [0.78s] | Time elapsed [185.86s]\n",
      "[REQUEST] | 07/31/23 14:36:43 | Status 200 | Endpoint: https://api.igdb.com/v4/language_supports | Batch 273 | Response time [0.79s] | Time elapsed [186.66s]\n",
      "[REQUEST] | 07/31/23 14:36:43 | Status 200 | Endpoint: https://api.igdb.com/v4/language_supports | Batch 274 | Response time [0.77s] | Time elapsed [187.43s]\n",
      "[REQUEST] | 07/31/23 14:36:44 | Status 200 | Endpoint: https://api.igdb.com/v4/language_supports | Batch 275 | Response time [0.76s] | Time elapsed [188.19s]\n",
      "[REQUEST] | 07/31/23 14:36:45 | Status 200 | Endpoint: https://api.igdb.com/v4/language_supports | Batch 276 | Response time [0.79s] | Time elapsed [188.98s]\n",
      "[REQUEST] | 07/31/23 14:36:45 | Status 200 | Endpoint: https://api.igdb.com/v4/language_supports | Batch 277 | Response time [0.32s] | Time elapsed [189.3s]\n",
      "[REQUEST] | 07/31/23 14:36:46 | Status 200 | Endpoint: https://api.igdb.com/v4/language_supports | Batch 278 | Response time [0.31s] | Time elapsed [189.61s]\n",
      "[REQUEST] | 07/31/23 14:36:46 | Status 200 | Endpoint: https://api.igdb.com/v4/language_supports | Batch 279 | Response time [0.79s] | Time elapsed [190.41s]\n",
      "[REQUEST] | 07/31/23 14:36:47 | Status 200 | Endpoint: https://api.igdb.com/v4/language_supports | Batch 280 | Response time [0.79s] | Time elapsed [191.21s]\n",
      "[REQUEST] | 07/31/23 14:36:48 | Status 200 | Endpoint: https://api.igdb.com/v4/language_supports | Batch 281 | Response time [0.77s] | Time elapsed [191.98s]\n",
      "[REQUEST] | 07/31/23 14:36:49 | Status 200 | Endpoint: https://api.igdb.com/v4/language_supports | Batch 282 | Response time [0.79s] | Time elapsed [192.77s]\n",
      "[REQUEST] | 07/31/23 14:36:49 | Status 200 | Endpoint: https://api.igdb.com/v4/language_supports | Batch 283 | Response time [0.54s] | Time elapsed [193.31s]\n",
      "[REQUEST] | 07/31/23 14:36:50 | Status 200 | Endpoint: https://api.igdb.com/v4/language_supports | Batch 284 | Response time [0.77s] | Time elapsed [194.08s]\n",
      "[REQUEST] | 07/31/23 14:36:51 | Status 200 | Endpoint: https://api.igdb.com/v4/language_supports | Batch 285 | Response time [0.81s] | Time elapsed [194.89s]\n",
      "[REQUEST] | 07/31/23 14:36:51 | Status 200 | Endpoint: https://api.igdb.com/v4/language_supports | Batch 286 | Response time [0.34s] | Time elapsed [195.23s]\n",
      "[REQUEST] | 07/31/23 14:36:52 | Status 200 | Endpoint: https://api.igdb.com/v4/language_supports | Batch 287 | Response time [0.76s] | Time elapsed [195.99s]\n",
      "[REQUEST] | 07/31/23 14:36:53 | Status 200 | Endpoint: https://api.igdb.com/v4/language_supports | Batch 288 | Response time [0.76s] | Time elapsed [196.76s]\n",
      "[REQUEST] | 07/31/23 14:36:53 | Status 200 | Endpoint: https://api.igdb.com/v4/language_supports | Batch 289 | Response time [0.49s] | Time elapsed [197.25s]\n",
      "[REQUEST] | 07/31/23 14:36:54 | Status 200 | Endpoint: https://api.igdb.com/v4/language_supports | Batch 290 | Response time [0.75s] | Time elapsed [198.0s]\n",
      "[REQUEST] | 07/31/23 14:36:55 | Status 200 | Endpoint: https://api.igdb.com/v4/language_supports | Batch 291 | Response time [1.24s] | Time elapsed [199.25s]\n",
      "[REQUEST] | 07/31/23 14:36:56 | Status 200 | Endpoint: https://api.igdb.com/v4/language_supports | Batch 292 | Response time [0.75s] | Time elapsed [200.0s]\n",
      "[REQUEST] | 07/31/23 14:36:56 | Status 200 | Endpoint: https://api.igdb.com/v4/language_supports | Batch 293 | Response time [0.34s] | Time elapsed [200.34s]\n",
      "[REQUEST] | 07/31/23 14:36:57 | Status 200 | Endpoint: https://api.igdb.com/v4/language_supports | Batch 294 | Response time [0.36s] | Time elapsed [200.71s]\n",
      "[REQUEST] | 07/31/23 14:36:57 | Status 200 | Endpoint: https://api.igdb.com/v4/language_supports | Batch 295 | Response time [0.8s] | Time elapsed [201.52s]\n",
      "[REQUEST] | 07/31/23 14:36:58 | Status 200 | Endpoint: https://api.igdb.com/v4/language_supports | Batch 296 | Response time [0.76s] | Time elapsed [202.28s]\n",
      "[REQUEST] | 07/31/23 14:36:59 | Status 200 | Endpoint: https://api.igdb.com/v4/language_supports | Batch 297 | Response time [0.74s] | Time elapsed [203.02s]\n",
      "[REQUEST] | 07/31/23 14:37:00 | Status 200 | Endpoint: https://api.igdb.com/v4/language_supports | Batch 298 | Response time [0.78s] | Time elapsed [203.81s]\n",
      "[REQUEST] | 07/31/23 14:37:01 | Status 200 | Endpoint: https://api.igdb.com/v4/language_supports | Batch 299 | Response time [0.76s] | Time elapsed [204.57s]\n",
      "[REQUEST] | 07/31/23 14:37:01 | Status 200 | Endpoint: https://api.igdb.com/v4/language_supports | Batch 300 | Response time [0.79s] | Time elapsed [205.37s]\n",
      "[REQUEST] | 07/31/23 14:37:02 | Status 200 | Endpoint: https://api.igdb.com/v4/language_supports | Batch 301 | Response time [0.78s] | Time elapsed [206.15s]\n",
      "[REQUEST] | 07/31/23 14:37:03 | Status 200 | Endpoint: https://api.igdb.com/v4/language_supports | Batch 302 | Response time [0.81s] | Time elapsed [206.96s]\n",
      "[REQUEST] | 07/31/23 14:37:04 | Status 200 | Endpoint: https://api.igdb.com/v4/language_supports | Batch 303 | Response time [0.78s] | Time elapsed [207.75s]\n",
      "[REQUEST] | 07/31/23 14:37:04 | Status 200 | Endpoint: https://api.igdb.com/v4/language_supports | Batch 304 | Response time [0.8s] | Time elapsed [208.55s]\n",
      "[REQUEST] | 07/31/23 14:37:05 | Status 200 | Endpoint: https://api.igdb.com/v4/language_supports | Batch 305 | Response time [0.46s] | Time elapsed [209.02s]\n",
      "[REQUEST] | 07/31/23 14:37:06 | Status 200 | Endpoint: https://api.igdb.com/v4/language_supports | Batch 306 | Response time [0.76s] | Time elapsed [209.78s]\n",
      "[REQUEST] | 07/31/23 14:37:07 | Status 200 | Endpoint: https://api.igdb.com/v4/language_supports | Batch 307 | Response time [0.79s] | Time elapsed [210.58s]\n",
      "[REQUEST] | 07/31/23 14:37:07 | Status 200 | Endpoint: https://api.igdb.com/v4/language_supports | Batch 308 | Response time [0.47s] | Time elapsed [211.05s]\n",
      "[REQUEST] | 07/31/23 14:37:07 | Status 200 | Endpoint: https://api.igdb.com/v4/language_supports | Batch 309 | Response time [0.32s] | Time elapsed [211.38s]\n",
      "[REQUEST] | 07/31/23 14:37:08 | Status 200 | Endpoint: https://api.igdb.com/v4/language_supports | Batch 310 | Response time [0.74s] | Time elapsed [212.12s]\n",
      "[REQUEST] | 07/31/23 14:37:09 | Status 200 | Endpoint: https://api.igdb.com/v4/language_supports | Batch 311 | Response time [0.76s] | Time elapsed [212.88s]\n",
      "[REQUEST] | 07/31/23 14:37:10 | Status 200 | Endpoint: https://api.igdb.com/v4/language_supports | Batch 312 | Response time [0.79s] | Time elapsed [213.68s]\n",
      "[REQUEST] | 07/31/23 14:37:10 | Status 200 | Endpoint: https://api.igdb.com/v4/language_supports | Batch 313 | Response time [0.32s] | Time elapsed [214.01s]\n",
      "[REQUEST] | 07/31/23 14:37:11 | Status 200 | Endpoint: https://api.igdb.com/v4/language_supports | Batch 314 | Response time [0.79s] | Time elapsed [214.8s]\n",
      "[REQUEST] | 07/31/23 14:37:11 | Status 200 | Endpoint: https://api.igdb.com/v4/language_supports | Batch 315 | Response time [0.75s] | Time elapsed [215.55s]\n",
      "[REQUEST] | 07/31/23 14:37:12 | Status 200 | Endpoint: https://api.igdb.com/v4/language_supports | Batch 316 | Response time [0.46s] | Time elapsed [216.02s]\n",
      "[REQUEST] | 07/31/23 14:37:13 | Status 200 | Endpoint: https://api.igdb.com/v4/language_supports | Batch 317 | Response time [0.78s] | Time elapsed [216.8s]\n",
      "[REQUEST] | 07/31/23 14:37:14 | Status 200 | Endpoint: https://api.igdb.com/v4/language_supports | Batch 318 | Response time [0.83s] | Time elapsed [217.64s]\n",
      "[REQUEST] | 07/31/23 14:37:14 | Status 200 | Endpoint: https://api.igdb.com/v4/language_supports | Batch 319 | Response time [0.5s] | Time elapsed [218.15s]\n",
      "[REQUEST] | 07/31/23 14:37:15 | Status 200 | Endpoint: https://api.igdb.com/v4/language_supports | Batch 320 | Response time [0.77s] | Time elapsed [218.92s]\n",
      "[REQUEST] | 07/31/23 14:37:16 | Status 200 | Endpoint: https://api.igdb.com/v4/language_supports | Batch 321 | Response time [0.81s] | Time elapsed [219.73s]\n",
      "[REQUEST] | 07/31/23 14:37:16 | Status 200 | Endpoint: https://api.igdb.com/v4/language_supports | Batch 322 | Response time [0.76s] | Time elapsed [220.5s]\n",
      "[REQUEST] | 07/31/23 14:37:17 | Status 200 | Endpoint: https://api.igdb.com/v4/language_supports | Batch 323 | Response time [0.3s] | Time elapsed [220.81s]\n",
      "[REQUEST] | 07/31/23 14:37:18 | Status 200 | Endpoint: https://api.igdb.com/v4/language_supports | Batch 324 | Response time [0.79s] | Time elapsed [221.6s]\n",
      "[REQUEST] | 07/31/23 14:37:18 | Status 200 | Endpoint: https://api.igdb.com/v4/language_supports | Batch 325 | Response time [0.8s] | Time elapsed [222.4s]\n",
      "[REQUEST] | 07/31/23 14:37:19 | Status 200 | Endpoint: https://api.igdb.com/v4/language_supports | Batch 326 | Response time [0.76s] | Time elapsed [223.17s]\n",
      "[REQUEST] | 07/31/23 14:37:20 | Status 200 | Endpoint: https://api.igdb.com/v4/language_supports | Batch 327 | Response time [0.51s] | Time elapsed [223.68s]\n",
      "[REQUEST] | 07/31/23 14:37:20 | Status 200 | Endpoint: https://api.igdb.com/v4/language_supports | Batch 328 | Response time [0.33s] | Time elapsed [224.01s]\n",
      "[REQUEST] | 07/31/23 14:37:21 | Status 200 | Endpoint: https://api.igdb.com/v4/language_supports | Batch 329 | Response time [0.82s] | Time elapsed [224.84s]\n",
      "[REQUEST] | 07/31/23 14:37:21 | Status 200 | Endpoint: https://api.igdb.com/v4/language_supports | Batch 330 | Response time [0.48s] | Time elapsed [225.32s]\n",
      "[REQUEST] | 07/31/23 14:37:22 | Status 200 | Endpoint: https://api.igdb.com/v4/language_supports | Batch 331 | Response time [0.77s] | Time elapsed [226.09s]\n",
      "[REQUEST] | 07/31/23 14:37:23 | Status 200 | Endpoint: https://api.igdb.com/v4/language_supports | Batch 332 | Response time [0.47s] | Time elapsed [226.56s]\n",
      "[REQUEST] | 07/31/23 14:37:23 | Status 200 | Endpoint: https://api.igdb.com/v4/language_supports | Batch 333 | Response time [0.47s] | Time elapsed [227.04s]\n",
      "[REQUEST] | 07/31/23 14:37:24 | Status 200 | Endpoint: https://api.igdb.com/v4/language_supports | Batch 334 | Response time [0.8s] | Time elapsed [227.84s]\n",
      "[REQUEST] | 07/31/23 14:37:25 | Status 200 | Endpoint: https://api.igdb.com/v4/language_supports | Batch 335 | Response time [0.77s] | Time elapsed [228.61s]\n",
      "[REQUEST] | 07/31/23 14:37:25 | Status 200 | Endpoint: https://api.igdb.com/v4/language_supports | Batch 336 | Response time [0.77s] | Time elapsed [229.39s]\n",
      "[REQUEST] | 07/31/23 14:37:26 | Status 200 | Endpoint: https://api.igdb.com/v4/language_supports | Batch 337 | Response time [0.33s] | Time elapsed [229.72s]\n",
      "[REQUEST] | 07/31/23 14:37:26 | Status 200 | Endpoint: https://api.igdb.com/v4/language_supports | Batch 338 | Response time [0.77s] | Time elapsed [230.5s]\n",
      "[REQUEST] | 07/31/23 14:37:27 | Status 200 | Endpoint: https://api.igdb.com/v4/language_supports | Batch 339 | Response time [0.31s] | Time elapsed [230.81s]\n",
      "[REQUEST] | 07/31/23 14:37:28 | Status 200 | Endpoint: https://api.igdb.com/v4/language_supports | Batch 340 | Response time [0.78s] | Time elapsed [231.59s]\n",
      "[REQUEST] | 07/31/23 14:37:28 | Status 200 | Endpoint: https://api.igdb.com/v4/language_supports | Batch 341 | Response time [0.77s] | Time elapsed [232.36s]\n",
      "[REQUEST] | 07/31/23 14:37:29 | Status 200 | Endpoint: https://api.igdb.com/v4/language_supports | Batch 342 | Response time [0.83s] | Time elapsed [233.2s]\n",
      "[REQUEST] | 07/31/23 14:37:30 | Status 200 | Endpoint: https://api.igdb.com/v4/language_supports | Batch 343 | Response time [0.46s] | Time elapsed [233.67s]\n",
      "[REQUEST] | 07/31/23 14:37:30 | Status 200 | Endpoint: https://api.igdb.com/v4/language_supports | Batch 344 | Response time [0.8s] | Time elapsed [234.47s]\n",
      "[REQUEST] | 07/31/23 14:37:31 | Status 200 | Endpoint: https://api.igdb.com/v4/language_supports | Batch 345 | Response time [0.31s] | Time elapsed [234.78s]\n",
      "[REQUEST] | 07/31/23 14:37:31 | Status 200 | Endpoint: https://api.igdb.com/v4/language_supports | Batch 346 | Response time [0.76s] | Time elapsed [235.54s]\n",
      "[REQUEST] | 07/31/23 14:37:32 | Status 200 | Endpoint: https://api.igdb.com/v4/language_supports | Batch 347 | Response time [0.31s] | Time elapsed [235.86s]\n",
      "[REQUEST] | 07/31/23 14:37:33 | Status 200 | Endpoint: https://api.igdb.com/v4/language_supports | Batch 348 | Response time [0.79s] | Time elapsed [236.65s]\n",
      "[REQUEST] | 07/31/23 14:37:33 | Status 200 | Endpoint: https://api.igdb.com/v4/language_supports | Batch 349 | Response time [0.78s] | Time elapsed [237.43s]\n",
      "[REQUEST] | 07/31/23 14:37:34 | Status 200 | Endpoint: https://api.igdb.com/v4/language_supports | Batch 350 | Response time [0.31s] | Time elapsed [237.74s]\n",
      "[REQUEST] | 07/31/23 14:37:34 | Status 200 | Endpoint: https://api.igdb.com/v4/language_supports | Batch 351 | Response time [0.49s] | Time elapsed [238.23s]\n",
      "[REQUEST] | 07/31/23 14:37:35 | Status 200 | Endpoint: https://api.igdb.com/v4/language_supports | Batch 352 | Response time [0.33s] | Time elapsed [238.57s]\n",
      "[REQUEST] | 07/31/23 14:37:35 | Status 200 | Endpoint: https://api.igdb.com/v4/language_supports | Batch 353 | Response time [0.78s] | Time elapsed [239.35s]\n",
      "[REQUEST] | 07/31/23 14:37:36 | Status 200 | Endpoint: https://api.igdb.com/v4/language_supports | Batch 354 | Response time [0.8s] | Time elapsed [240.15s]\n",
      "[REQUEST] | 07/31/23 14:37:37 | Status 200 | Endpoint: https://api.igdb.com/v4/language_supports | Batch 355 | Response time [0.78s] | Time elapsed [240.93s]\n",
      "[REQUEST] | 07/31/23 14:37:37 | Status 200 | Endpoint: https://api.igdb.com/v4/language_supports | Batch 356 | Response time [0.46s] | Time elapsed [241.4s]\n",
      "[REQUEST] | 07/31/23 14:37:38 | Status 200 | Endpoint: https://api.igdb.com/v4/language_supports | Batch 357 | Response time [0.79s] | Time elapsed [242.19s]\n",
      "[REQUEST] | 07/31/23 14:37:39 | Status 200 | Endpoint: https://api.igdb.com/v4/language_supports | Batch 358 | Response time [0.46s] | Time elapsed [242.66s]\n",
      "[REQUEST] | 07/31/23 14:37:39 | Status 200 | Endpoint: https://api.igdb.com/v4/language_supports | Batch 359 | Response time [0.77s] | Time elapsed [243.43s]\n",
      "[REQUEST] | 07/31/23 14:37:40 | Status 200 | Endpoint: https://api.igdb.com/v4/language_supports | Batch 360 | Response time [0.83s] | Time elapsed [244.26s]\n",
      "[REQUEST] | 07/31/23 14:37:41 | Status 200 | Endpoint: https://api.igdb.com/v4/language_supports | Batch 361 | Response time [0.47s] | Time elapsed [244.73s]\n",
      "[REQUEST] | 07/31/23 14:37:41 | Status 200 | Endpoint: https://api.igdb.com/v4/language_supports | Batch 362 | Response time [0.77s] | Time elapsed [245.51s]\n",
      "[REQUEST] | 07/31/23 14:37:42 | Status 200 | Endpoint: https://api.igdb.com/v4/language_supports | Batch 363 | Response time [0.52s] | Time elapsed [246.03s]\n",
      "[REQUEST] | 07/31/23 14:37:42 | Status 200 | Endpoint: https://api.igdb.com/v4/language_supports | Batch 364 | Response time [0.47s] | Time elapsed [246.5s]\n",
      "[REQUEST] | 07/31/23 14:37:43 | Status 200 | Endpoint: https://api.igdb.com/v4/language_supports | Batch 365 | Response time [0.77s] | Time elapsed [247.27s]\n",
      "[REQUEST] | 07/31/23 14:37:44 | Status 200 | Endpoint: https://api.igdb.com/v4/language_supports | Batch 366 | Response time [0.48s] | Time elapsed [247.76s]\n",
      "[REQUEST] | 07/31/23 14:37:44 | Status 200 | Endpoint: https://api.igdb.com/v4/language_supports | Batch 367 | Response time [0.78s] | Time elapsed [248.54s]\n",
      "[REQUEST] | 07/31/23 14:37:45 | Status 200 | Endpoint: https://api.igdb.com/v4/language_supports | Batch 368 | Response time [0.75s] | Time elapsed [249.29s]\n",
      "[REQUEST] | 07/31/23 14:37:46 | Status 200 | Endpoint: https://api.igdb.com/v4/language_supports | Batch 369 | Response time [0.76s] | Time elapsed [250.06s]\n",
      "[REQUEST] | 07/31/23 14:37:47 | Status 200 | Endpoint: https://api.igdb.com/v4/language_supports | Batch 370 | Response time [0.75s] | Time elapsed [250.81s]\n",
      "[REQUEST] | 07/31/23 14:37:48 | Status 200 | Endpoint: https://api.igdb.com/v4/language_supports | Batch 371 | Response time [0.79s] | Time elapsed [251.61s]\n",
      "[REQUEST] | 07/31/23 14:37:48 | Status 200 | Endpoint: https://api.igdb.com/v4/language_supports | Batch 372 | Response time [0.78s] | Time elapsed [252.4s]\n",
      "[REQUEST] | 07/31/23 14:37:49 | Status 200 | Endpoint: https://api.igdb.com/v4/language_supports | Batch 373 | Response time [0.79s] | Time elapsed [253.19s]\n",
      "[REQUEST] | 07/31/23 14:37:49 | Status 200 | Endpoint: https://api.igdb.com/v4/language_supports | Batch 374 | Response time [0.32s] | Time elapsed [253.52s]\n",
      "[REQUEST] | 07/31/23 14:37:50 | Status 200 | Endpoint: https://api.igdb.com/v4/language_supports | Batch 375 | Response time [0.83s] | Time elapsed [254.35s]\n",
      "[REQUEST] | 07/31/23 14:37:51 | Status 200 | Endpoint: https://api.igdb.com/v4/language_supports | Batch 376 | Response time [0.82s] | Time elapsed [255.18s]\n",
      "[REQUEST] | 07/31/23 14:37:52 | Status 200 | Endpoint: https://api.igdb.com/v4/language_supports | Batch 377 | Response time [0.75s] | Time elapsed [255.93s]\n",
      "[REQUEST] | 07/31/23 14:37:53 | Status 200 | Endpoint: https://api.igdb.com/v4/language_supports | Batch 378 | Response time [0.76s] | Time elapsed [256.7s]\n",
      "[REQUEST] | 07/31/23 14:37:54 | Status 200 | Endpoint: https://api.igdb.com/v4/language_supports | Batch 379 | Response time [0.88s] | Time elapsed [257.58s]\n",
      "[REQUEST] | 07/31/23 14:37:54 | Status 200 | Endpoint: https://api.igdb.com/v4/language_supports | Batch 380 | Response time [0.31s] | Time elapsed [257.9s]\n",
      "[REQUEST] | 07/31/23 14:37:54 | Status 200 | Endpoint: https://api.igdb.com/v4/language_supports | Batch 381 | Response time [0.49s] | Time elapsed [258.39s]\n",
      "[REQUEST] | 07/31/23 14:37:55 | Status 200 | Endpoint: https://api.igdb.com/v4/language_supports | Batch 382 | Response time [0.77s] | Time elapsed [259.17s]\n",
      "[REQUEST] | 07/31/23 14:37:56 | Status 200 | Endpoint: https://api.igdb.com/v4/language_supports | Batch 383 | Response time [0.48s] | Time elapsed [259.65s]\n",
      "[REQUEST] | 07/31/23 14:37:56 | Status 200 | Endpoint: https://api.igdb.com/v4/language_supports | Batch 384 | Response time [0.46s] | Time elapsed [260.11s]\n",
      "[REQUEST] | 07/31/23 14:37:57 | Status 200 | Endpoint: https://api.igdb.com/v4/language_supports | Batch 385 | Response time [0.85s] | Time elapsed [260.96s]\n",
      "[REQUEST] | 07/31/23 14:37:57 | Status 200 | Endpoint: https://api.igdb.com/v4/language_supports | Batch 386 | Response time [0.49s] | Time elapsed [261.46s]\n",
      "[REQUEST] | 07/31/23 14:37:58 | Status 200 | Endpoint: https://api.igdb.com/v4/language_supports | Batch 387 | Response time [0.77s] | Time elapsed [262.23s]\n",
      "[REQUEST] | 07/31/23 14:37:59 | Status 200 | Endpoint: https://api.igdb.com/v4/language_supports | Batch 388 | Response time [0.51s] | Time elapsed [262.74s]\n",
      "[REQUEST] | 07/31/23 14:37:59 | Status 200 | Endpoint: https://api.igdb.com/v4/language_supports | Batch 389 | Response time [0.4s] | Time elapsed [263.15s]\n",
      "[REQUEST] | 07/31/23 14:38:00 | Status 200 | Endpoint: https://api.igdb.com/v4/language_supports | Batch 390 | Response time [0.46s] | Time elapsed [263.62s]\n",
      "[REQUEST] | 07/31/23 14:38:00 | Status 200 | Endpoint: https://api.igdb.com/v4/language_supports | Batch 391 | Response time [0.45s] | Time elapsed [264.07s]\n",
      "[REQUEST] | 07/31/23 14:38:01 | Status 200 | Endpoint: https://api.igdb.com/v4/language_supports | Batch 392 | Response time [0.82s] | Time elapsed [264.9s]\n",
      "[REQUEST] | 07/31/23 14:38:02 | Status 200 | Endpoint: https://api.igdb.com/v4/language_supports | Batch 393 | Response time [0.76s] | Time elapsed [265.66s]\n",
      "[REQUEST] | 07/31/23 14:38:02 | Status 200 | Endpoint: https://api.igdb.com/v4/language_supports | Batch 394 | Response time [0.3s] | Time elapsed [265.97s]\n",
      "[REQUEST] | 07/31/23 14:38:03 | Status 200 | Endpoint: https://api.igdb.com/v4/language_supports | Batch 395 | Response time [0.77s] | Time elapsed [266.74s]\n",
      "[REQUEST] | 07/31/23 14:38:03 | Status 200 | Endpoint: https://api.igdb.com/v4/language_supports | Batch 396 | Response time [0.78s] | Time elapsed [267.53s]\n",
      "[REQUEST] | 07/31/23 14:38:04 | Status 200 | Endpoint: https://api.igdb.com/v4/language_supports | Batch 397 | Response time [0.33s] | Time elapsed [267.86s]\n",
      "[REQUEST] | 07/31/23 14:38:05 | Status 200 | Endpoint: https://api.igdb.com/v4/language_supports | Batch 398 | Response time [0.73s] | Time elapsed [268.6s]\n",
      "[REQUEST] | 07/31/23 14:38:05 | Status 200 | Endpoint: https://api.igdb.com/v4/language_supports | Batch 399 | Response time [0.79s] | Time elapsed [269.39s]\n",
      "[REQUEST] | 07/31/23 14:38:06 | Status 200 | Endpoint: https://api.igdb.com/v4/language_supports | Batch 400 | Response time [0.81s] | Time elapsed [270.2s]\n",
      "[REQUEST] | 07/31/23 14:38:06 | Status 200 | Endpoint: https://api.igdb.com/v4/language_supports | Batch 401 | Response time [0.32s] | Time elapsed [270.52s]\n",
      "[REQUEST] | 07/31/23 14:38:07 | Status 200 | Endpoint: https://api.igdb.com/v4/language_supports | Batch 402 | Response time [0.79s] | Time elapsed [271.32s]\n",
      "[REQUEST] | 07/31/23 14:38:08 | Status 200 | Endpoint: https://api.igdb.com/v4/language_supports | Batch 403 | Response time [0.74s] | Time elapsed [272.07s]\n",
      "[REQUEST] | 07/31/23 14:38:09 | Status 200 | Endpoint: https://api.igdb.com/v4/language_supports | Batch 404 | Response time [0.78s] | Time elapsed [272.85s]\n",
      "[REQUEST] | 07/31/23 14:38:09 | Status 200 | Endpoint: https://api.igdb.com/v4/language_supports | Batch 405 | Response time [0.29s] | Time elapsed [273.14s]\n",
      "[REQUEST] | 07/31/23 14:38:09 | Status 200 | Endpoint: https://api.igdb.com/v4/language_supports | Batch 406 | Response time [0.36s] | Time elapsed [273.51s]\n",
      "[REQUEST] | 07/31/23 14:38:10 | Status 200 | Endpoint: https://api.igdb.com/v4/language_supports | Batch 407 | Response time [0.33s] | Time elapsed [273.84s]\n",
      "[REQUEST] | 07/31/23 14:38:10 | Status 200 | Endpoint: https://api.igdb.com/v4/language_supports | Batch 408 | Response time [0.49s] | Time elapsed [274.34s]\n",
      "[REQUEST] | 07/31/23 14:38:11 | Status 200 | Endpoint: https://api.igdb.com/v4/language_supports | Batch 409 | Response time [0.79s] | Time elapsed [275.13s]\n",
      "[REQUEST] | 07/31/23 14:38:12 | Status 200 | Endpoint: https://api.igdb.com/v4/language_supports | Batch 410 | Response time [0.78s] | Time elapsed [275.92s]\n",
      "[REQUEST] | 07/31/23 14:38:12 | Status 200 | Endpoint: https://api.igdb.com/v4/language_supports | Batch 411 | Response time [0.31s] | Time elapsed [276.23s]\n",
      "[REQUEST] | 07/31/23 14:38:13 | Status 200 | Endpoint: https://api.igdb.com/v4/language_supports | Batch 412 | Response time [0.77s] | Time elapsed [277.01s]\n",
      "[REQUEST] | 07/31/23 14:38:13 | Status 200 | Endpoint: https://api.igdb.com/v4/language_supports | Batch 413 | Response time [0.49s] | Time elapsed [277.5s]\n",
      "[REQUEST] | 07/31/23 14:38:14 | Status 200 | Endpoint: https://api.igdb.com/v4/language_supports | Batch 414 | Response time [0.82s] | Time elapsed [278.33s]\n",
      "[REQUEST] | 07/31/23 14:38:15 | Status 200 | Endpoint: https://api.igdb.com/v4/language_supports | Batch 415 | Response time [0.82s] | Time elapsed [279.15s]\n",
      "[REQUEST] | 07/31/23 14:38:16 | Status 200 | Endpoint: https://api.igdb.com/v4/language_supports | Batch 416 | Response time [0.81s] | Time elapsed [279.97s]\n",
      "[REQUEST] | 07/31/23 14:38:17 | Status 200 | Endpoint: https://api.igdb.com/v4/language_supports | Batch 417 | Response time [0.82s] | Time elapsed [280.79s]\n",
      "[REQUEST] | 07/31/23 14:38:18 | Status 200 | Endpoint: https://api.igdb.com/v4/language_supports | Batch 418 | Response time [0.77s] | Time elapsed [281.57s]\n",
      "[REQUEST] | 07/31/23 14:38:18 | Status 200 | Endpoint: https://api.igdb.com/v4/language_supports | Batch 419 | Response time [0.77s] | Time elapsed [282.34s]\n",
      "[REQUEST] | 07/31/23 14:38:19 | Status 200 | Endpoint: https://api.igdb.com/v4/language_supports | Batch 420 | Response time [0.82s] | Time elapsed [283.16s]\n",
      "[REQUEST] | 07/31/23 14:38:20 | Status 200 | Endpoint: https://api.igdb.com/v4/language_supports | Batch 421 | Response time [0.81s] | Time elapsed [283.97s]\n",
      "[REQUEST] | 07/31/23 14:38:21 | Status 200 | Endpoint: https://api.igdb.com/v4/language_supports | Batch 422 | Response time [0.78s] | Time elapsed [284.76s]\n",
      "[REQUEST] | 07/31/23 14:38:21 | Status 200 | Endpoint: https://api.igdb.com/v4/language_supports | Batch 423 | Response time [0.77s] | Time elapsed [285.53s]\n",
      "[REQUEST] | 07/31/23 14:38:22 | Status 200 | Endpoint: https://api.igdb.com/v4/language_supports | Batch 424 | Response time [0.79s] | Time elapsed [286.32s]\n",
      "[REQUEST] | 07/31/23 14:38:23 | Status 200 | Endpoint: https://api.igdb.com/v4/language_supports | Batch 425 | Response time [0.77s] | Time elapsed [287.1s]\n",
      "[REQUEST] | 07/31/23 14:38:24 | Status 200 | Endpoint: https://api.igdb.com/v4/language_supports | Batch 426 | Response time [0.84s] | Time elapsed [287.95s]\n",
      "[REQUEST] | 07/31/23 14:38:25 | Status 200 | Endpoint: https://api.igdb.com/v4/language_supports | Batch 427 | Response time [0.83s] | Time elapsed [288.78s]\n",
      "[REQUEST] | 07/31/23 14:38:25 | Status 200 | Endpoint: https://api.igdb.com/v4/language_supports | Batch 428 | Response time [0.77s] | Time elapsed [289.56s]\n",
      "[REQUEST] | 07/31/23 14:38:26 | Status 200 | Endpoint: https://api.igdb.com/v4/language_supports | Batch 429 | Response time [0.8s] | Time elapsed [290.36s]\n",
      "[REQUEST] | 07/31/23 14:38:27 | Status 200 | Endpoint: https://api.igdb.com/v4/language_supports | Batch 430 | Response time [0.49s] | Time elapsed [290.85s]\n",
      "[REQUEST] | 07/31/23 14:38:28 | Status 200 | Endpoint: https://api.igdb.com/v4/language_supports | Batch 431 | Response time [0.77s] | Time elapsed [291.62s]\n",
      "[REQUEST] | 07/31/23 14:38:28 | Status 200 | Endpoint: https://api.igdb.com/v4/language_supports | Batch 432 | Response time [0.83s] | Time elapsed [292.45s]\n",
      "[REQUEST] | 07/31/23 14:38:29 | Status 200 | Endpoint: https://api.igdb.com/v4/language_supports | Batch 433 | Response time [0.79s] | Time elapsed [293.25s]\n",
      "[REQUEST] | 07/31/23 14:38:30 | Status 200 | Endpoint: https://api.igdb.com/v4/language_supports | Batch 434 | Response time [0.78s] | Time elapsed [294.03s]\n",
      "[REQUEST] | 07/31/23 14:38:31 | Status 200 | Endpoint: https://api.igdb.com/v4/language_supports | Batch 435 | Response time [0.74s] | Time elapsed [294.77s]\n",
      "[REQUEST] | 07/31/23 14:38:31 | Status 200 | Endpoint: https://api.igdb.com/v4/language_supports | Batch 436 | Response time [0.74s] | Time elapsed [295.52s]\n",
      "[REQUEST] | 07/31/23 14:38:32 | Status 200 | Endpoint: https://api.igdb.com/v4/language_supports | Batch 437 | Response time [0.77s] | Time elapsed [296.29s]\n",
      "[REQUEST] | 07/31/23 14:38:33 | Status 200 | Endpoint: https://api.igdb.com/v4/language_supports | Batch 438 | Response time [0.8s] | Time elapsed [297.1s]\n",
      "[REQUEST] | 07/31/23 14:38:34 | Status 200 | Endpoint: https://api.igdb.com/v4/language_supports | Batch 439 | Response time [0.78s] | Time elapsed [297.89s]\n",
      "[REQUEST] | 07/31/23 14:38:34 | Status 200 | Endpoint: https://api.igdb.com/v4/language_supports | Batch 440 | Response time [0.5s] | Time elapsed [298.39s]\n",
      "[REQUEST] | 07/31/23 14:38:35 | Status 200 | Endpoint: https://api.igdb.com/v4/language_supports | Batch 441 | Response time [0.79s] | Time elapsed [299.18s]\n",
      "[REQUEST] | 07/31/23 14:38:36 | Status 200 | Endpoint: https://api.igdb.com/v4/language_supports | Batch 442 | Response time [0.46s] | Time elapsed [299.65s]\n",
      "[REQUEST] | 07/31/23 14:38:36 | Status 200 | Endpoint: https://api.igdb.com/v4/language_supports | Batch 443 | Response time [0.79s] | Time elapsed [300.44s]\n",
      "[REQUEST] | 07/31/23 14:38:37 | Status 200 | Endpoint: https://api.igdb.com/v4/language_supports | Batch 444 | Response time [0.82s] | Time elapsed [301.27s]\n",
      "[REQUEST] | 07/31/23 14:38:38 | Status 200 | Endpoint: https://api.igdb.com/v4/language_supports | Batch 445 | Response time [0.78s] | Time elapsed [302.05s]\n",
      "[REQUEST] | 07/31/23 14:38:39 | Status 200 | Endpoint: https://api.igdb.com/v4/language_supports | Batch 446 | Response time [0.76s] | Time elapsed [302.81s]\n",
      "[REQUEST] | 07/31/23 14:38:40 | Status 200 | Endpoint: https://api.igdb.com/v4/language_supports | Batch 447 | Response time [0.78s] | Time elapsed [303.6s]\n",
      "[REQUEST] | 07/31/23 14:38:40 | Status 200 | Endpoint: https://api.igdb.com/v4/language_supports | Batch 448 | Response time [0.83s] | Time elapsed [304.44s]\n",
      "[REQUEST] | 07/31/23 14:38:41 | Status 200 | Endpoint: https://api.igdb.com/v4/language_supports | Batch 449 | Response time [0.36s] | Time elapsed [304.79s]\n",
      "[REQUEST] | 07/31/23 14:38:42 | Status 200 | Endpoint: https://api.igdb.com/v4/language_supports | Batch 450 | Response time [0.79s] | Time elapsed [305.58s]\n",
      "[REQUEST] | 07/31/23 14:38:42 | Status 200 | Endpoint: https://api.igdb.com/v4/language_supports | Batch 451 | Response time [0.5s] | Time elapsed [306.09s]\n",
      "[REQUEST] | 07/31/23 14:38:43 | Status 200 | Endpoint: https://api.igdb.com/v4/language_supports | Batch 452 | Response time [0.76s] | Time elapsed [306.85s]\n",
      "[REQUEST] | 07/31/23 14:38:44 | Status 200 | Endpoint: https://api.igdb.com/v4/language_supports | Batch 453 | Response time [0.86s] | Time elapsed [307.72s]\n",
      "[REQUEST] | 07/31/23 14:38:44 | Status 200 | Endpoint: https://api.igdb.com/v4/language_supports | Batch 454 | Response time [0.78s] | Time elapsed [308.5s]\n",
      "[REQUEST] | 07/31/23 14:38:45 | Status 200 | Endpoint: https://api.igdb.com/v4/language_supports | Batch 455 | Response time [0.77s] | Time elapsed [309.27s]\n",
      "[REQUEST] | 07/31/23 14:38:46 | Status 200 | Endpoint: https://api.igdb.com/v4/language_supports | Batch 456 | Response time [0.35s] | Time elapsed [309.63s]\n",
      "[REQUEST] | 07/31/23 14:38:46 | Status 200 | Endpoint: https://api.igdb.com/v4/language_supports | Batch 457 | Response time [0.76s] | Time elapsed [310.39s]\n",
      "[REQUEST] | 07/31/23 14:38:47 | Status 200 | Endpoint: https://api.igdb.com/v4/language_supports | Batch 458 | Response time [0.77s] | Time elapsed [311.16s]\n",
      "[REQUEST] | 07/31/23 14:38:48 | Status 200 | Endpoint: https://api.igdb.com/v4/language_supports | Batch 459 | Response time [0.81s] | Time elapsed [311.97s]\n",
      "[REQUEST] | 07/31/23 14:38:49 | Status 200 | Endpoint: https://api.igdb.com/v4/language_supports | Batch 460 | Response time [0.77s] | Time elapsed [312.75s]\n",
      "[REQUEST] | 07/31/23 14:38:50 | Status 200 | Endpoint: https://api.igdb.com/v4/language_supports | Batch 461 | Response time [0.81s] | Time elapsed [313.56s]\n",
      "[REQUEST] | 07/31/23 14:38:50 | Status 200 | Endpoint: https://api.igdb.com/v4/language_supports | Batch 462 | Response time [0.75s] | Time elapsed [314.32s]\n",
      "[REQUEST] | 07/31/23 14:38:51 | Status 200 | Endpoint: https://api.igdb.com/v4/language_supports | Batch 463 | Response time [0.53s] | Time elapsed [314.85s]\n",
      "[REQUEST] | 07/31/23 14:38:52 | Status 200 | Endpoint: https://api.igdb.com/v4/language_supports | Batch 464 | Response time [0.77s] | Time elapsed [315.62s]\n",
      "[REQUEST] | 07/31/23 14:38:52 | Status 200 | Endpoint: https://api.igdb.com/v4/language_supports | Batch 465 | Response time [0.79s] | Time elapsed [316.42s]\n",
      "[REQUEST] | 07/31/23 14:38:53 | Status 200 | Endpoint: https://api.igdb.com/v4/language_supports | Batch 466 | Response time [0.8s] | Time elapsed [317.22s]\n",
      "[REQUEST] | 07/31/23 14:38:54 | Status 200 | Endpoint: https://api.igdb.com/v4/language_supports | Batch 467 | Response time [0.79s] | Time elapsed [318.01s]\n",
      "[REQUEST] | 07/31/23 14:38:55 | Status 200 | Endpoint: https://api.igdb.com/v4/language_supports | Batch 468 | Response time [0.8s] | Time elapsed [318.81s]\n",
      "[REQUEST] | 07/31/23 14:38:56 | Status 200 | Endpoint: https://api.igdb.com/v4/language_supports | Batch 469 | Response time [0.85s] | Time elapsed [319.67s]\n",
      "[REQUEST] | 07/31/23 14:38:56 | Status 200 | Endpoint: https://api.igdb.com/v4/language_supports | Batch 470 | Response time [0.49s] | Time elapsed [320.16s]\n",
      "[REQUEST] | 07/31/23 14:38:57 | Status 200 | Endpoint: https://api.igdb.com/v4/language_supports | Batch 471 | Response time [0.5s] | Time elapsed [320.66s]\n",
      "[REQUEST] | 07/31/23 14:38:57 | Status 200 | Endpoint: https://api.igdb.com/v4/language_supports | Batch 472 | Response time [0.79s] | Time elapsed [321.45s]\n",
      "[REQUEST] | 07/31/23 14:38:58 | Status 200 | Endpoint: https://api.igdb.com/v4/language_supports | Batch 473 | Response time [0.78s] | Time elapsed [322.24s]\n",
      "[REQUEST] | 07/31/23 14:38:59 | Status 200 | Endpoint: https://api.igdb.com/v4/language_supports | Batch 474 | Response time [0.79s] | Time elapsed [323.03s]\n",
      "[REQUEST] | 07/31/23 14:39:00 | Status 200 | Endpoint: https://api.igdb.com/v4/language_supports | Batch 475 | Response time [0.77s] | Time elapsed [323.8s]\n",
      "[REQUEST] | 07/31/23 14:39:01 | Status 200 | Endpoint: https://api.igdb.com/v4/language_supports | Batch 476 | Response time [0.78s] | Time elapsed [324.59s]\n",
      "[REQUEST] | 07/31/23 14:39:01 | Status 200 | Endpoint: https://api.igdb.com/v4/language_supports | Batch 477 | Response time [0.81s] | Time elapsed [325.4s]\n",
      "[REQUEST] | 07/31/23 14:39:02 | Status 200 | Endpoint: https://api.igdb.com/v4/language_supports | Batch 478 | Response time [0.78s] | Time elapsed [326.18s]\n",
      "[REQUEST] | 07/31/23 14:39:03 | Status 200 | Endpoint: https://api.igdb.com/v4/language_supports | Batch 479 | Response time [0.76s] | Time elapsed [326.95s]\n",
      "[REQUEST] | 07/31/23 14:39:04 | Status 200 | Endpoint: https://api.igdb.com/v4/language_supports | Batch 480 | Response time [0.78s] | Time elapsed [327.74s]\n",
      "[REQUEST] | 07/31/23 14:39:04 | Status 200 | Endpoint: https://api.igdb.com/v4/language_supports | Batch 481 | Response time [0.77s] | Time elapsed [328.51s]\n",
      "[REQUEST] | 07/31/23 14:39:05 | Status 200 | Endpoint: https://api.igdb.com/v4/language_supports | Batch 482 | Response time [0.82s] | Time elapsed [329.34s]\n",
      "[REQUEST] | 07/31/23 14:39:06 | Status 200 | Endpoint: https://api.igdb.com/v4/language_supports | Batch 483 | Response time [0.77s] | Time elapsed [330.12s]\n",
      "[REQUEST] | 07/31/23 14:39:07 | Status 200 | Endpoint: https://api.igdb.com/v4/language_supports | Batch 484 | Response time [0.48s] | Time elapsed [330.6s]\n",
      "[REQUEST] | 07/31/23 14:39:07 | Status 200 | Endpoint: https://api.igdb.com/v4/language_supports | Batch 485 | Response time [0.8s] | Time elapsed [331.4s]\n",
      "[REQUEST] | 07/31/23 14:39:08 | Status 200 | Endpoint: https://api.igdb.com/v4/language_supports | Batch 486 | Response time [0.77s] | Time elapsed [332.18s]\n",
      "[REQUEST] | 07/31/23 14:39:08 | Status 200 | Endpoint: https://api.igdb.com/v4/language_supports | Batch 487 | Response time [0.33s] | Time elapsed [332.51s]\n",
      "[REQUEST] | 07/31/23 14:39:09 | Status 200 | Endpoint: https://api.igdb.com/v4/language_supports | Batch 488 | Response time [0.75s] | Time elapsed [333.26s]\n",
      "[REQUEST] | 07/31/23 14:39:10 | Status 200 | Endpoint: https://api.igdb.com/v4/language_supports | Batch 489 | Response time [0.78s] | Time elapsed [334.05s]\n",
      "[REQUEST] | 07/31/23 14:39:11 | Status 200 | Endpoint: https://api.igdb.com/v4/language_supports | Batch 490 | Response time [0.79s] | Time elapsed [334.85s]\n",
      "[REQUEST] | 07/31/23 14:39:11 | Status 200 | Endpoint: https://api.igdb.com/v4/language_supports | Batch 491 | Response time [0.5s] | Time elapsed [335.35s]\n",
      "[REQUEST] | 07/31/23 14:39:12 | Status 200 | Endpoint: https://api.igdb.com/v4/language_supports | Batch 492 | Response time [0.5s] | Time elapsed [335.85s]\n",
      "[REQUEST] | 07/31/23 14:39:13 | Status 200 | Endpoint: https://api.igdb.com/v4/language_supports | Batch 493 | Response time [0.78s] | Time elapsed [336.64s]\n",
      "[REQUEST] | 07/31/23 14:39:13 | Status 200 | Endpoint: https://api.igdb.com/v4/language_supports | Batch 494 | Response time [0.78s] | Time elapsed [337.42s]\n",
      "[REQUEST] | 07/31/23 14:39:14 | Status 200 | Endpoint: https://api.igdb.com/v4/language_supports | Batch 495 | Response time [0.78s] | Time elapsed [338.2s]\n",
      "[REQUEST] | 07/31/23 14:39:15 | Status 200 | Endpoint: https://api.igdb.com/v4/language_supports | Batch 496 | Response time [0.83s] | Time elapsed [339.04s]\n",
      "[REQUEST] | 07/31/23 14:39:16 | Status 200 | Endpoint: https://api.igdb.com/v4/language_supports | Batch 497 | Response time [0.78s] | Time elapsed [339.82s]\n",
      "[REQUEST] | 07/31/23 14:39:17 | Status 200 | Endpoint: https://api.igdb.com/v4/language_supports | Batch 498 | Response time [0.81s] | Time elapsed [340.64s]\n",
      "[REQUEST] | 07/31/23 14:39:17 | Status 200 | Endpoint: https://api.igdb.com/v4/language_supports | Batch 499 | Response time [0.81s] | Time elapsed [341.46s]\n",
      "[REQUEST] | 07/31/23 14:39:18 | Status 200 | Endpoint: https://api.igdb.com/v4/language_supports | Batch 500 | Response time [0.77s] | Time elapsed [342.23s]\n",
      "[REQUEST] | 07/31/23 14:39:19 | Status 200 | Endpoint: https://api.igdb.com/v4/language_supports | Batch 501 | Response time [0.77s] | Time elapsed [343.01s]\n",
      "[REQUEST] | 07/31/23 14:39:19 | Status 200 | Endpoint: https://api.igdb.com/v4/language_supports | Batch 502 | Response time [0.35s] | Time elapsed [343.36s]\n",
      "[REQUEST] | 07/31/23 14:39:20 | Status 200 | Endpoint: https://api.igdb.com/v4/language_supports | Batch 503 | Response time [0.79s] | Time elapsed [344.15s]\n",
      "[REQUEST] | 07/31/23 14:39:21 | Status 200 | Endpoint: https://api.igdb.com/v4/language_supports | Batch 504 | Response time [0.8s] | Time elapsed [344.95s]\n",
      "[REQUEST] | 07/31/23 14:39:21 | Status 200 | Endpoint: https://api.igdb.com/v4/language_supports | Batch 505 | Response time [0.46s] | Time elapsed [345.42s]\n",
      "[REQUEST] | 07/31/23 14:39:22 | Status 200 | Endpoint: https://api.igdb.com/v4/language_supports | Batch 506 | Response time [0.82s] | Time elapsed [346.24s]\n",
      "[REQUEST] | 07/31/23 14:39:23 | Status 200 | Endpoint: https://api.igdb.com/v4/language_supports | Batch 507 | Response time [0.77s] | Time elapsed [347.02s]\n",
      "[REQUEST] | 07/31/23 14:39:24 | Status 200 | Endpoint: https://api.igdb.com/v4/language_supports | Batch 508 | Response time [0.81s] | Time elapsed [347.83s]\n",
      "[REQUEST] | 07/31/23 14:39:25 | Status 200 | Endpoint: https://api.igdb.com/v4/language_supports | Batch 509 | Response time [0.77s] | Time elapsed [348.61s]\n",
      "[REQUEST] | 07/31/23 14:39:25 | Status 200 | Endpoint: https://api.igdb.com/v4/language_supports | Batch 510 | Response time [0.77s] | Time elapsed [349.38s]\n",
      "[REQUEST] | 07/31/23 14:39:26 | Status 200 | Endpoint: https://api.igdb.com/v4/language_supports | Batch 511 | Response time [0.8s] | Time elapsed [350.18s]\n",
      "[REQUEST] | 07/31/23 14:39:27 | Status 200 | Endpoint: https://api.igdb.com/v4/language_supports | Batch 512 | Response time [0.77s] | Time elapsed [350.96s]\n",
      "[REQUEST] | 07/31/23 14:39:28 | Status 200 | Endpoint: https://api.igdb.com/v4/language_supports | Batch 513 | Response time [0.74s] | Time elapsed [351.7s]\n",
      "[REQUEST] | 07/31/23 14:39:28 | Status 200 | Endpoint: https://api.igdb.com/v4/language_supports | Batch 514 | Response time [0.75s] | Time elapsed [352.45s]\n",
      "[REQUEST] | 07/31/23 14:39:29 | Status 200 | Endpoint: https://api.igdb.com/v4/language_supports | Batch 515 | Response time [0.79s] | Time elapsed [353.25s]\n",
      "[REQUEST] | 07/31/23 14:39:30 | Status 200 | Endpoint: https://api.igdb.com/v4/language_supports | Batch 516 | Response time [0.8s] | Time elapsed [354.06s]\n",
      "[REQUEST] | 07/31/23 14:39:31 | Status 200 | Endpoint: https://api.igdb.com/v4/language_supports | Batch 517 | Response time [0.81s] | Time elapsed [354.87s]\n",
      "[REQUEST] | 07/31/23 14:39:32 | Status 200 | Endpoint: https://api.igdb.com/v4/language_supports | Batch 518 | Response time [0.78s] | Time elapsed [355.65s]\n",
      "[REQUEST] | 07/31/23 14:39:32 | Status 200 | Endpoint: https://api.igdb.com/v4/language_supports | Batch 519 | Response time [0.75s] | Time elapsed [356.41s]\n",
      "[REQUEST] | 07/31/23 14:39:33 | Status 200 | Endpoint: https://api.igdb.com/v4/language_supports | Batch 520 | Response time [0.82s] | Time elapsed [357.23s]\n",
      "[REQUEST] | 07/31/23 14:39:33 | Status 200 | Endpoint: https://api.igdb.com/v4/language_supports | Batch 521 | Response time [0.3s] | Time elapsed [357.53s]\n",
      "[REQUEST] | 07/31/23 14:39:34 | Status 200 | Endpoint: https://api.igdb.com/v4/language_supports | Batch 522 | Response time [0.48s] | Time elapsed [358.01s]\n",
      "[REQUEST] | 07/31/23 14:39:35 | Status 200 | Endpoint: https://api.igdb.com/v4/language_supports | Batch 523 | Response time [0.8s] | Time elapsed [358.82s]\n",
      "[REQUEST] | 07/31/23 14:39:36 | Status 200 | Endpoint: https://api.igdb.com/v4/language_supports | Batch 524 | Response time [0.78s] | Time elapsed [359.6s]\n",
      "[REQUEST] | 07/31/23 14:39:36 | Status 200 | Endpoint: https://api.igdb.com/v4/language_supports | Batch 525 | Response time [0.8s] | Time elapsed [360.4s]\n",
      "[REQUEST] | 07/31/23 14:39:37 | Status 200 | Endpoint: https://api.igdb.com/v4/language_supports | Batch 526 | Response time [0.52s] | Time elapsed [360.93s]\n",
      "[REQUEST] | 07/31/23 14:39:38 | Status 200 | Endpoint: https://api.igdb.com/v4/language_supports | Batch 527 | Response time [0.84s] | Time elapsed [361.78s]\n",
      "[REQUEST] | 07/31/23 14:39:38 | Status 200 | Endpoint: https://api.igdb.com/v4/language_supports | Batch 528 | Response time [0.77s] | Time elapsed [362.55s]\n",
      "[REQUEST] | 07/31/23 14:39:39 | Status 200 | Endpoint: https://api.igdb.com/v4/language_supports | Batch 529 | Response time [0.74s] | Time elapsed [363.29s]\n",
      "[REQUEST] | 07/31/23 14:39:40 | Status 200 | Endpoint: https://api.igdb.com/v4/language_supports | Batch 530 | Response time [0.8s] | Time elapsed [364.1s]\n",
      "[REQUEST] | 07/31/23 14:39:41 | Status 200 | Endpoint: https://api.igdb.com/v4/language_supports | Batch 531 | Response time [0.79s] | Time elapsed [364.89s]\n",
      "[REQUEST] | 07/31/23 14:39:41 | Status 200 | Endpoint: https://api.igdb.com/v4/language_supports | Batch 532 | Response time [0.47s] | Time elapsed [365.36s]\n",
      "[REQUEST] | 07/31/23 14:39:42 | Status 200 | Endpoint: https://api.igdb.com/v4/language_supports | Batch 533 | Response time [0.77s] | Time elapsed [366.13s]\n",
      "[REQUEST] | 07/31/23 14:39:43 | Status 200 | Endpoint: https://api.igdb.com/v4/language_supports | Batch 534 | Response time [0.79s] | Time elapsed [366.93s]\n",
      "[REQUEST] | 07/31/23 14:39:44 | Status 200 | Endpoint: https://api.igdb.com/v4/language_supports | Batch 535 | Response time [0.77s] | Time elapsed [367.71s]\n",
      "[REQUEST] | 07/31/23 14:39:44 | Status 200 | Endpoint: https://api.igdb.com/v4/language_supports | Batch 536 | Response time [0.77s] | Time elapsed [368.48s]\n",
      "[REQUEST] | 07/31/23 14:39:45 | Status 200 | Endpoint: https://api.igdb.com/v4/language_supports | Batch 537 | Response time [0.93s] | Time elapsed [369.42s]\n",
      "[REQUEST] | 07/31/23 14:39:46 | Status 200 | Endpoint: https://api.igdb.com/v4/language_supports | Batch 538 | Response time [0.33s] | Time elapsed [369.75s]\n",
      "[REQUEST] | 07/31/23 14:39:46 | Status 200 | Endpoint: https://api.igdb.com/v4/language_supports | Batch 539 | Response time [0.79s] | Time elapsed [370.55s]\n",
      "[REQUEST] | 07/31/23 14:39:47 | Status 200 | Endpoint: https://api.igdb.com/v4/language_supports | Batch 540 | Response time [0.76s] | Time elapsed [371.31s]\n",
      "[REQUEST] | 07/31/23 14:39:48 | Status 200 | Endpoint: https://api.igdb.com/v4/language_supports | Batch 541 | Response time [0.34s] | Time elapsed [371.65s]\n",
      "[REQUEST] | 07/31/23 14:39:48 | Status 200 | Endpoint: https://api.igdb.com/v4/language_supports | Batch 542 | Response time [0.81s] | Time elapsed [372.47s]\n",
      "[REQUEST] | 07/31/23 14:39:49 | Status 200 | Endpoint: https://api.igdb.com/v4/language_supports | Batch 543 | Response time [0.86s] | Time elapsed [373.33s]\n",
      "[REQUEST] | 07/31/23 14:39:50 | Status 200 | Endpoint: https://api.igdb.com/v4/language_supports | Batch 544 | Response time [0.83s] | Time elapsed [374.17s]\n",
      "[REQUEST] | 07/31/23 14:39:50 | Status 200 | Endpoint: https://api.igdb.com/v4/language_supports | Batch 545 | Response time [0.31s] | Time elapsed [374.48s]\n",
      "[REQUEST] | 07/31/23 14:39:51 | Status 200 | Endpoint: https://api.igdb.com/v4/language_supports | Batch 546 | Response time [0.76s] | Time elapsed [375.25s]\n",
      "[REQUEST] | 07/31/23 14:39:52 | Status 200 | Endpoint: https://api.igdb.com/v4/language_supports | Batch 547 | Response time [0.47s] | Time elapsed [375.72s]\n",
      "[REQUEST] | 07/31/23 14:39:52 | Status 200 | Endpoint: https://api.igdb.com/v4/language_supports | Batch 548 | Response time [0.32s] | Time elapsed [376.04s]\n",
      "[REQUEST] | 07/31/23 14:39:53 | Status 200 | Endpoint: https://api.igdb.com/v4/language_supports | Batch 549 | Response time [0.82s] | Time elapsed [376.86s]\n",
      "[REQUEST] | 07/31/23 14:39:53 | Status 200 | Endpoint: https://api.igdb.com/v4/language_supports | Batch 550 | Response time [0.45s] | Time elapsed [377.32s]\n",
      "[REQUEST] | 07/31/23 14:39:54 | Status 200 | Endpoint: https://api.igdb.com/v4/language_supports | Batch 551 | Response time [0.49s] | Time elapsed [377.82s]\n",
      "[REQUEST] | 07/31/23 14:39:55 | Status 200 | Endpoint: https://api.igdb.com/v4/language_supports | Batch 552 | Response time [0.81s] | Time elapsed [378.63s]\n",
      "[REQUEST] | 07/31/23 14:39:55 | Status 200 | Endpoint: https://api.igdb.com/v4/language_supports | Batch 553 | Response time [0.79s] | Time elapsed [379.43s]\n",
      "[REQUEST] | 07/31/23 14:39:56 | Status 200 | Endpoint: https://api.igdb.com/v4/language_supports | Batch 554 | Response time [0.79s] | Time elapsed [380.22s]\n",
      "[REQUEST] | 07/31/23 14:39:57 | Status 200 | Endpoint: https://api.igdb.com/v4/language_supports | Batch 555 | Response time [0.8s] | Time elapsed [381.03s]\n",
      "[REQUEST] | 07/31/23 14:39:58 | Status 200 | Endpoint: https://api.igdb.com/v4/language_supports | Batch 556 | Response time [0.84s] | Time elapsed [381.87s]\n",
      "[REQUEST] | 07/31/23 14:39:59 | Status 200 | Endpoint: https://api.igdb.com/v4/language_supports | Batch 557 | Response time [0.79s] | Time elapsed [382.67s]\n",
      "[REQUEST] | 07/31/23 14:40:00 | Status 200 | Endpoint: https://api.igdb.com/v4/language_supports | Batch 558 | Response time [0.92s] | Time elapsed [383.59s]\n",
      "[REQUEST] | 07/31/23 14:40:00 | Status 200 | Endpoint: https://api.igdb.com/v4/language_supports | Batch 559 | Response time [0.81s] | Time elapsed [384.41s]\n",
      "[REQUEST] | 07/31/23 14:40:01 | Status 200 | Endpoint: https://api.igdb.com/v4/language_supports | Batch 560 | Response time [0.83s] | Time elapsed [385.24s]\n",
      "[REQUEST] | 07/31/23 14:40:02 | Status 200 | Endpoint: https://api.igdb.com/v4/language_supports | Batch 561 | Response time [0.84s] | Time elapsed [386.09s]\n",
      "[REQUEST] | 07/31/23 14:40:03 | Status 200 | Endpoint: https://api.igdb.com/v4/language_supports | Batch 562 | Response time [0.54s] | Time elapsed [386.64s]\n",
      "[REQUEST] | 07/31/23 14:40:03 | Status 200 | Endpoint: https://api.igdb.com/v4/language_supports | Batch 563 | Response time [0.57s] | Time elapsed [387.21s]\n",
      "[REQUEST] | 07/31/23 14:40:04 | Status 200 | Endpoint: https://api.igdb.com/v4/language_supports | Batch 564 | Response time [0.4s] | Time elapsed [387.62s]\n",
      "[REQUEST] | 07/31/23 14:40:04 | Status 200 | Endpoint: https://api.igdb.com/v4/language_supports | Batch 565 | Response time [0.54s] | Time elapsed [388.16s]\n",
      "[REQUEST] | 07/31/23 14:40:05 | Status 200 | Endpoint: https://api.igdb.com/v4/language_supports | Batch 566 | Response time [0.8s] | Time elapsed [388.96s]\n",
      "[REQUEST] | 07/31/23 14:40:06 | Status 200 | Endpoint: https://api.igdb.com/v4/language_supports | Batch 567 | Response time [0.79s] | Time elapsed [389.76s]\n",
      "[REQUEST] | 07/31/23 14:40:06 | Status 200 | Endpoint: https://api.igdb.com/v4/language_supports | Batch 568 | Response time [0.47s] | Time elapsed [390.23s]\n",
      "[REQUEST] | 07/31/23 14:40:07 | Status 200 | Endpoint: https://api.igdb.com/v4/language_supports | Batch 569 | Response time [1.0s] | Time elapsed [391.24s]\n",
      "[REQUEST] | 07/31/23 14:40:08 | Status 200 | Endpoint: https://api.igdb.com/v4/language_supports | Batch 570 | Response time [0.35s] | Time elapsed [391.6s]\n",
      "[REQUEST] | 07/31/23 14:40:08 | Status 200 | Endpoint: https://api.igdb.com/v4/language_supports | Batch 571 | Response time [0.38s] | Time elapsed [391.98s]\n",
      "[REQUEST] | 07/31/23 14:40:09 | Status 200 | Endpoint: https://api.igdb.com/v4/language_supports | Batch 572 | Response time [0.81s] | Time elapsed [392.79s]\n",
      "[REQUEST] | 07/31/23 14:40:10 | Status 200 | Endpoint: https://api.igdb.com/v4/language_supports | Batch 573 | Response time [0.8s] | Time elapsed [393.6s]\n",
      "[REQUEST] | 07/31/23 14:40:10 | Status 200 | Endpoint: https://api.igdb.com/v4/language_supports | Batch 574 | Response time [0.36s] | Time elapsed [393.97s]\n",
      "[REQUEST] | 07/31/23 14:40:11 | Status 200 | Endpoint: https://api.igdb.com/v4/language_supports | Batch 575 | Response time [0.79s] | Time elapsed [394.77s]\n",
      "[REQUEST] | 07/31/23 14:40:12 | Status 200 | Endpoint: https://api.igdb.com/v4/language_supports | Batch 576 | Response time [0.8s] | Time elapsed [395.57s]\n",
      "[REQUEST] | 07/31/23 14:40:12 | Status 200 | Endpoint: https://api.igdb.com/v4/language_supports | Batch 577 | Response time [0.82s] | Time elapsed [396.39s]\n",
      "[REQUEST] | 07/31/23 14:40:13 | Status 200 | Endpoint: https://api.igdb.com/v4/language_supports | Batch 578 | Response time [0.77s] | Time elapsed [397.16s]\n",
      "[REQUEST] | 07/31/23 14:40:14 | Status 200 | Endpoint: https://api.igdb.com/v4/language_supports | Batch 579 | Response time [0.77s] | Time elapsed [397.93s]\n",
      "[REQUEST] | 07/31/23 14:40:15 | Status 200 | Endpoint: https://api.igdb.com/v4/language_supports | Batch 580 | Response time [0.79s] | Time elapsed [398.72s]\n",
      "[REQUEST] | 07/31/23 14:40:15 | Status 200 | Endpoint: https://api.igdb.com/v4/language_supports | Batch 581 | Response time [0.48s] | Time elapsed [399.21s]\n",
      "[REQUEST] | 07/31/23 14:40:15 | Status 200 | Endpoint: https://api.igdb.com/v4/language_supports | Batch 582 | Response time [0.32s] | Time elapsed [399.54s]\n",
      "[REQUEST] | 07/31/23 14:40:16 | Status 200 | Endpoint: https://api.igdb.com/v4/language_supports | Batch 583 | Response time [0.73s] | Time elapsed [400.27s]\n",
      "[REQUEST] | 07/31/23 14:40:17 | Status 200 | Endpoint: https://api.igdb.com/v4/language_supports | Batch 584 | Response time [0.48s] | Time elapsed [400.76s]\n",
      "[REQUEST] | 07/31/23 14:40:17 | Status 200 | Endpoint: https://api.igdb.com/v4/language_supports | Batch 585 | Response time [0.76s] | Time elapsed [401.53s]\n",
      "[REQUEST] | 07/31/23 14:40:18 | Status 200 | Endpoint: https://api.igdb.com/v4/language_supports | Batch 586 | Response time [0.91s] | Time elapsed [402.44s]\n",
      "[REQUEST] | 07/31/23 14:40:19 | Status 200 | Endpoint: https://api.igdb.com/v4/language_supports | Batch 587 | Response time [0.32s] | Time elapsed [402.77s]\n",
      "[REQUEST] | 07/31/23 14:40:19 | Status 200 | Endpoint: https://api.igdb.com/v4/language_supports | Batch 588 | Response time [0.76s] | Time elapsed [403.53s]\n",
      "[REQUEST] | 07/31/23 14:40:20 | Status 200 | Endpoint: https://api.igdb.com/v4/language_supports | Batch 589 | Response time [0.47s] | Time elapsed [404.0s]\n",
      "[REQUEST] | 07/31/23 14:40:21 | Status 200 | Endpoint: https://api.igdb.com/v4/language_supports | Batch 590 | Response time [0.78s] | Time elapsed [404.79s]\n",
      "[REQUEST] | 07/31/23 14:40:22 | Status 200 | Endpoint: https://api.igdb.com/v4/language_supports | Batch 591 | Response time [0.78s] | Time elapsed [405.57s]\n",
      "[REQUEST] | 07/31/23 14:40:22 | Status 200 | Endpoint: https://api.igdb.com/v4/language_supports | Batch 592 | Response time [0.78s] | Time elapsed [406.36s]\n",
      "[REQUEST] | 07/31/23 14:40:23 | Status 200 | Endpoint: https://api.igdb.com/v4/language_supports | Batch 593 | Response time [0.81s] | Time elapsed [407.17s]\n",
      "[REQUEST] | 07/31/23 14:40:24 | Status 200 | Endpoint: https://api.igdb.com/v4/language_supports | Batch 594 | Response time [0.75s] | Time elapsed [407.93s]\n",
      "[REQUEST] | 07/31/23 14:40:25 | Status 200 | Endpoint: https://api.igdb.com/v4/language_supports | Batch 595 | Response time [0.82s] | Time elapsed [408.75s]\n",
      "[REQUEST] | 07/31/23 14:40:25 | Status 200 | Endpoint: https://api.igdb.com/v4/language_supports | Batch 596 | Response time [0.8s] | Time elapsed [409.55s]\n",
      "[REQUEST] | 07/31/23 14:40:26 | Status 200 | Endpoint: https://api.igdb.com/v4/language_supports | Batch 597 | Response time [0.77s] | Time elapsed [410.33s]\n",
      "[REQUEST] | 07/31/23 14:40:27 | Status 200 | Endpoint: https://api.igdb.com/v4/language_supports | Batch 598 | Response time [0.79s] | Time elapsed [411.12s]\n",
      "[REQUEST] | 07/31/23 14:40:28 | Status 200 | Endpoint: https://api.igdb.com/v4/language_supports | Batch 599 | Response time [0.81s] | Time elapsed [411.94s]\n",
      "[REQUEST] | 07/31/23 14:40:29 | Status 200 | Endpoint: https://api.igdb.com/v4/language_supports | Batch 600 | Response time [0.82s] | Time elapsed [412.76s]\n",
      "[REQUEST] | 07/31/23 14:40:29 | Status 200 | Endpoint: https://api.igdb.com/v4/language_supports | Batch 601 | Response time [0.79s] | Time elapsed [413.56s]\n",
      "[REQUEST] | 07/31/23 14:40:30 | Status 200 | Endpoint: https://api.igdb.com/v4/language_supports | Batch 602 | Response time [0.33s] | Time elapsed [413.89s]\n",
      "[REQUEST] | 07/31/23 14:40:31 | Status 200 | Endpoint: https://api.igdb.com/v4/language_supports | Batch 603 | Response time [0.79s] | Time elapsed [414.68s]\n",
      "[REQUEST] | 07/31/23 14:40:31 | Status 200 | Endpoint: https://api.igdb.com/v4/language_supports | Batch 604 | Response time [0.8s] | Time elapsed [415.49s]\n",
      "[REQUEST] | 07/31/23 14:40:32 | Status 200 | Endpoint: https://api.igdb.com/v4/language_supports | Batch 605 | Response time [0.79s] | Time elapsed [416.29s]\n",
      "[REQUEST] | 07/31/23 14:40:33 | Status 200 | Endpoint: https://api.igdb.com/v4/language_supports | Batch 606 | Response time [0.3s] | Time elapsed [416.59s]\n",
      "[REQUEST] | 07/31/23 14:40:33 | Status 200 | Endpoint: https://api.igdb.com/v4/language_supports | Batch 607 | Response time [0.83s] | Time elapsed [417.43s]\n",
      "[REQUEST] | 07/31/23 14:40:34 | Status 200 | Endpoint: https://api.igdb.com/v4/language_supports | Batch 608 | Response time [0.76s] | Time elapsed [418.19s]\n",
      "[REQUEST] | 07/31/23 14:40:34 | Status 200 | Endpoint: https://api.igdb.com/v4/language_supports | Batch 609 | Response time [0.35s] | Time elapsed [418.55s]\n",
      "[REQUEST] | 07/31/23 14:40:35 | Status 200 | Endpoint: https://api.igdb.com/v4/language_supports | Batch 610 | Response time [0.79s] | Time elapsed [419.34s]\n",
      "[REQUEST] | 07/31/23 14:40:36 | Status 200 | Endpoint: https://api.igdb.com/v4/language_supports | Batch 611 | Response time [0.8s] | Time elapsed [420.14s]\n",
      "[REQUEST] | 07/31/23 14:40:37 | Status 200 | Endpoint: https://api.igdb.com/v4/language_supports | Batch 612 | Response time [0.79s] | Time elapsed [420.93s]\n",
      "[REQUEST] | 07/31/23 14:40:38 | Status 200 | Endpoint: https://api.igdb.com/v4/language_supports | Batch 613 | Response time [0.77s] | Time elapsed [421.71s]\n",
      "[REQUEST] | 07/31/23 14:40:39 | Status 200 | Endpoint: https://api.igdb.com/v4/language_supports | Batch 614 | Response time [0.95s] | Time elapsed [422.66s]\n",
      "[REQUEST] | 07/31/23 14:40:39 | Status 200 | Endpoint: https://api.igdb.com/v4/language_supports | Batch 615 | Response time [0.75s] | Time elapsed [423.42s]\n",
      "[REQUEST] | 07/31/23 14:40:40 | Status 200 | Endpoint: https://api.igdb.com/v4/language_supports | Batch 616 | Response time [0.84s] | Time elapsed [424.25s]\n",
      "[REQUEST] | 07/31/23 14:40:41 | Status 200 | Endpoint: https://api.igdb.com/v4/language_supports | Batch 617 | Response time [0.8s] | Time elapsed [425.05s]\n",
      "[REQUEST] | 07/31/23 14:40:42 | Status 200 | Endpoint: https://api.igdb.com/v4/language_supports | Batch 618 | Response time [0.76s] | Time elapsed [425.81s]\n",
      "[REQUEST] | 07/31/23 14:40:43 | Status 200 | Endpoint: https://api.igdb.com/v4/language_supports | Batch 619 | Response time [0.79s] | Time elapsed [426.6s]\n",
      "[REQUEST] | 07/31/23 14:40:43 | Status 200 | Endpoint: https://api.igdb.com/v4/language_supports | Batch 620 | Response time [0.35s] | Time elapsed [426.95s]\n",
      "[REQUEST] | 07/31/23 14:40:44 | Status 200 | Endpoint: https://api.igdb.com/v4/language_supports | Batch 621 | Response time [0.75s] | Time elapsed [427.7s]\n",
      "[REQUEST] | 07/31/23 14:40:44 | Status 200 | Endpoint: https://api.igdb.com/v4/language_supports | Batch 622 | Response time [0.77s] | Time elapsed [428.47s]\n",
      "[REQUEST] | 07/31/23 14:40:45 | Status 200 | Endpoint: https://api.igdb.com/v4/language_supports | Batch 623 | Response time [0.36s] | Time elapsed [428.83s]\n",
      "[REQUEST] | 07/31/23 14:40:46 | Status 200 | Endpoint: https://api.igdb.com/v4/language_supports | Batch 624 | Response time [0.76s] | Time elapsed [429.6s]\n",
      "[REQUEST] | 07/31/23 14:40:46 | Status 200 | Endpoint: https://api.igdb.com/v4/language_supports | Batch 625 | Response time [0.77s] | Time elapsed [430.37s]\n",
      "[REQUEST] | 07/31/23 14:40:47 | Status 200 | Endpoint: https://api.igdb.com/v4/language_supports | Batch 626 | Response time [0.45s] | Time elapsed [430.82s]\n",
      "[REQUEST] | 07/31/23 14:40:48 | Status 200 | Endpoint: https://api.igdb.com/v4/language_supports | Batch 627 | Response time [0.78s] | Time elapsed [431.6s]\n",
      "[REQUEST] | 07/31/23 14:40:48 | Status 200 | Endpoint: https://api.igdb.com/v4/language_supports | Batch 628 | Response time [0.8s] | Time elapsed [432.41s]\n",
      "[REQUEST] | 07/31/23 14:40:49 | Status 200 | Endpoint: https://api.igdb.com/v4/language_supports | Batch 629 | Response time [0.78s] | Time elapsed [433.19s]\n",
      "[REQUEST] | 07/31/23 14:40:50 | Status 200 | Endpoint: https://api.igdb.com/v4/language_supports | Batch 630 | Response time [0.54s] | Time elapsed [433.73s]\n",
      "[REQUEST] | 07/31/23 14:40:50 | Status 200 | Endpoint: https://api.igdb.com/v4/language_supports | Batch 631 | Response time [0.34s] | Time elapsed [434.07s]\n",
      "[REQUEST] | 07/31/23 14:40:50 | Status 200 | Endpoint: https://api.igdb.com/v4/language_supports | Batch 632 | Response time [0.31s] | Time elapsed [434.39s]\n",
      "[REQUEST] | 07/31/23 14:40:51 | Status 200 | Endpoint: https://api.igdb.com/v4/language_supports | Batch 633 | Response time [0.5s] | Time elapsed [434.89s]\n",
      "[REQUEST] | 07/31/23 14:40:51 | Status 200 | Endpoint: https://api.igdb.com/v4/language_supports | Batch 634 | Response time [0.48s] | Time elapsed [435.37s]\n",
      "[REQUEST] | 07/31/23 14:40:52 | Status 200 | Endpoint: https://api.igdb.com/v4/language_supports | Batch 635 | Response time [0.82s] | Time elapsed [436.19s]\n",
      "[REQUEST] | 07/31/23 14:40:53 | Status 200 | Endpoint: https://api.igdb.com/v4/language_supports | Batch 636 | Response time [0.81s] | Time elapsed [437.0s]\n",
      "[REQUEST] | 07/31/23 14:40:54 | Status 200 | Endpoint: https://api.igdb.com/v4/language_supports | Batch 637 | Response time [0.82s] | Time elapsed [437.83s]\n",
      "[REQUEST] | 07/31/23 14:40:55 | Status 200 | Endpoint: https://api.igdb.com/v4/language_supports | Batch 638 | Response time [0.76s] | Time elapsed [438.59s]\n",
      "[REQUEST] | 07/31/23 14:40:55 | Status 200 | Endpoint: https://api.igdb.com/v4/language_supports | Batch 639 | Response time [0.47s] | Time elapsed [439.06s]\n",
      "[REQUEST] | 07/31/23 14:40:55 | Status 200 | Endpoint: https://api.igdb.com/v4/language_supports | Batch 640 | Response time [0.33s] | Time elapsed [439.39s]\n",
      "[REQUEST] | 07/31/23 14:40:56 | Status 200 | Endpoint: https://api.igdb.com/v4/language_supports | Batch 641 | Response time [0.45s] | Time elapsed [439.85s]\n",
      "[REQUEST] | 07/31/23 14:40:56 | Status 200 | Endpoint: https://api.igdb.com/v4/language_supports | Batch 642 | Response time [0.33s] | Time elapsed [440.18s]\n",
      "[REQUEST] | 07/31/23 14:40:57 | Status 200 | Endpoint: https://api.igdb.com/v4/language_supports | Batch 643 | Response time [0.77s] | Time elapsed [440.95s]\n",
      "[REQUEST] | 07/31/23 14:40:58 | Status 200 | Endpoint: https://api.igdb.com/v4/language_supports | Batch 644 | Response time [0.78s] | Time elapsed [441.74s]\n",
      "[REQUEST] | 07/31/23 14:40:58 | Status 200 | Endpoint: https://api.igdb.com/v4/language_supports | Batch 645 | Response time [0.8s] | Time elapsed [442.54s]\n",
      "[REQUEST] | 07/31/23 14:40:59 | Status 200 | Endpoint: https://api.igdb.com/v4/language_supports | Batch 646 | Response time [0.78s] | Time elapsed [443.32s]\n",
      "[REQUEST] | 07/31/23 14:41:00 | Status 200 | Endpoint: https://api.igdb.com/v4/language_supports | Batch 647 | Response time [0.3s] | Time elapsed [443.63s]\n",
      "[REQUEST] | 07/31/23 14:41:00 | Status 200 | Endpoint: https://api.igdb.com/v4/language_supports | Batch 648 | Response time [0.77s] | Time elapsed [444.41s]\n",
      "[REQUEST] | 07/31/23 14:41:01 | Status 200 | Endpoint: https://api.igdb.com/v4/language_supports | Batch 649 | Response time [0.79s] | Time elapsed [445.2s]\n",
      "[REQUEST] | 07/31/23 14:41:02 | Status 200 | Endpoint: https://api.igdb.com/v4/language_supports | Batch 650 | Response time [0.78s] | Time elapsed [445.98s]\n",
      "[REQUEST] | 07/31/23 14:41:03 | Status 200 | Endpoint: https://api.igdb.com/v4/language_supports | Batch 651 | Response time [0.76s] | Time elapsed [446.75s]\n",
      "[REQUEST] | 07/31/23 14:41:03 | Status 200 | Endpoint: https://api.igdb.com/v4/language_supports | Batch 652 | Response time [0.77s] | Time elapsed [447.53s]\n",
      "[REQUEST] | 07/31/23 14:41:04 | Status 200 | Endpoint: https://api.igdb.com/v4/language_supports | Batch 653 | Response time [0.86s] | Time elapsed [448.39s]\n",
      "[REQUEST] | 07/31/23 14:41:05 | Status 200 | Endpoint: https://api.igdb.com/v4/language_supports | Batch 654 | Response time [0.82s] | Time elapsed [449.21s]\n",
      "[REQUEST] | 07/31/23 14:41:06 | Status 200 | Endpoint: https://api.igdb.com/v4/language_supports | Batch 655 | Response time [1.21s] | Time elapsed [450.43s]\n",
      "[REQUEST] | 07/31/23 14:41:07 | Status 200 | Endpoint: https://api.igdb.com/v4/language_supports | Batch 656 | Response time [0.78s] | Time elapsed [451.21s]\n",
      "[REQUEST] | 07/31/23 14:41:08 | Status 200 | Endpoint: https://api.igdb.com/v4/language_supports | Batch 657 | Response time [0.79s] | Time elapsed [452.0s]\n",
      "[REQUEST] | 07/31/23 14:41:09 | Status 200 | Endpoint: https://api.igdb.com/v4/language_supports | Batch 658 | Response time [0.77s] | Time elapsed [452.78s]\n",
      "[REQUEST] | 07/31/23 14:41:10 | Status 200 | Endpoint: https://api.igdb.com/v4/language_supports | Batch 659 | Response time [0.85s] | Time elapsed [453.64s]\n",
      "[REQUEST] | 07/31/23 14:41:10 | Status 200 | Endpoint: https://api.igdb.com/v4/language_supports | Batch 660 | Response time [0.8s] | Time elapsed [454.44s]\n",
      "[REQUEST] | 07/31/23 14:41:11 | Status 200 | Endpoint: https://api.igdb.com/v4/language_supports | Batch 661 | Response time [0.79s] | Time elapsed [455.23s]\n",
      "[REQUEST] | 07/31/23 14:41:12 | Status 200 | Endpoint: https://api.igdb.com/v4/language_supports | Batch 662 | Response time [0.79s] | Time elapsed [456.02s]\n",
      "[REQUEST] | 07/31/23 14:41:12 | Status 200 | Endpoint: https://api.igdb.com/v4/language_supports | Batch 663 | Response time [0.48s] | Time elapsed [456.51s]\n",
      "[REQUEST] | 07/31/23 14:41:13 | Status 200 | Endpoint: https://api.igdb.com/v4/language_supports | Batch 664 | Response time [0.78s] | Time elapsed [457.29s]\n",
      "[REQUEST] | 07/31/23 14:41:14 | Status 200 | Endpoint: https://api.igdb.com/v4/language_supports | Batch 665 | Response time [0.85s] | Time elapsed [458.14s]\n",
      "[REQUEST] | 07/31/23 14:41:15 | Status 200 | Endpoint: https://api.igdb.com/v4/language_supports | Batch 666 | Response time [0.87s] | Time elapsed [459.01s]\n",
      "[REQUEST] | 07/31/23 14:41:16 | Status 200 | Endpoint: https://api.igdb.com/v4/language_supports | Batch 667 | Response time [0.88s] | Time elapsed [459.89s]\n",
      "[REQUEST] | 07/31/23 14:41:17 | Status 200 | Endpoint: https://api.igdb.com/v4/language_supports | Batch 668 | Response time [0.79s] | Time elapsed [460.69s]\n",
      "[REQUEST] | 07/31/23 14:41:17 | Status 200 | Endpoint: https://api.igdb.com/v4/language_supports | Batch 669 | Response time [0.83s] | Time elapsed [461.52s]\n",
      "[REQUEST] | 07/31/23 14:41:18 | Status 200 | Endpoint: https://api.igdb.com/v4/language_supports | Batch 670 | Response time [0.94s] | Time elapsed [462.47s]\n",
      "[REQUEST] | 07/31/23 14:41:19 | Status 200 | Endpoint: https://api.igdb.com/v4/language_supports | Batch 671 | Response time [0.91s] | Time elapsed [463.38s]\n",
      "[REQUEST] | 07/31/23 14:41:20 | Status 200 | Endpoint: https://api.igdb.com/v4/language_supports | Batch 672 | Response time [0.92s] | Time elapsed [464.31s]\n",
      "[REQUEST] | 07/31/23 14:41:21 | Status 200 | Endpoint: https://api.igdb.com/v4/language_supports | Batch 673 | Response time [0.81s] | Time elapsed [465.12s]\n",
      "[REQUEST] | 07/31/23 14:41:22 | Status 200 | Endpoint: https://api.igdb.com/v4/language_supports | Batch 674 | Response time [0.82s] | Time elapsed [465.94s]\n",
      "[REQUEST] | 07/31/23 14:41:23 | Status 200 | Endpoint: https://api.igdb.com/v4/language_supports | Batch 675 | Response time [0.92s] | Time elapsed [466.86s]\n",
      "[REQUEST] | 07/31/23 14:41:24 | Status 200 | Endpoint: https://api.igdb.com/v4/language_supports | Batch 676 | Response time [0.8s] | Time elapsed [467.66s]\n",
      "[REQUEST] | 07/31/23 14:41:24 | Status 200 | Endpoint: https://api.igdb.com/v4/language_supports | Batch 677 | Response time [0.79s] | Time elapsed [468.45s]\n",
      "[REQUEST] | 07/31/23 14:41:25 | Status 200 | Endpoint: https://api.igdb.com/v4/language_supports | Batch 678 | Response time [0.34s] | Time elapsed [468.8s]\n",
      "[REQUEST] | 07/31/23 14:41:25 | Status 200 | Endpoint: https://api.igdb.com/v4/language_supports | Batch 679 | Response time [0.33s] | Time elapsed [469.13s]\n",
      "[REQUEST] | 07/31/23 14:41:26 | Status 200 | Endpoint: https://api.igdb.com/v4/language_supports | Batch 680 | Response time [0.81s] | Time elapsed [469.95s]\n",
      "[REQUEST] | 07/31/23 14:41:26 | Status 200 | Endpoint: https://api.igdb.com/v4/language_supports | Batch 681 | Response time [0.35s] | Time elapsed [470.3s]\n",
      "[REQUEST] | 07/31/23 14:41:27 | Status 200 | Endpoint: https://api.igdb.com/v4/language_supports | Batch 682 | Response time [0.83s] | Time elapsed [471.13s]\n",
      "[REQUEST] | 07/31/23 14:41:27 | Status 200 | Endpoint: https://api.igdb.com/v4/language_supports | Batch 683 | Response time [0.35s] | Time elapsed [471.49s]\n",
      "[REQUEST] | 07/31/23 14:41:28 | Status 200 | Endpoint: https://api.igdb.com/v4/language_supports | Batch 684 | Response time [0.31s] | Time elapsed [471.8s]\n",
      "[REQUEST] | 07/31/23 14:41:28 | Status 200 | Endpoint: https://api.igdb.com/v4/language_supports | Batch 685 | Response time [0.76s] | Time elapsed [472.56s]\n",
      "[REQUEST] | 07/31/23 14:41:29 | Status 200 | Endpoint: https://api.igdb.com/v4/language_supports | Batch 686 | Response time [0.8s] | Time elapsed [473.36s]\n",
      "[REQUEST] | 07/31/23 14:41:30 | Status 200 | Endpoint: https://api.igdb.com/v4/language_supports | Batch 687 | Response time [0.48s] | Time elapsed [473.84s]\n",
      "[REQUEST] | 07/31/23 14:41:31 | Status 200 | Endpoint: https://api.igdb.com/v4/language_supports | Batch 688 | Response time [0.76s] | Time elapsed [474.6s]\n",
      "[REQUEST] | 07/31/23 14:41:31 | Status 200 | Endpoint: https://api.igdb.com/v4/language_supports | Batch 689 | Response time [0.75s] | Time elapsed [475.36s]\n",
      "[REQUEST] | 07/31/23 14:41:32 | Status 200 | Endpoint: https://api.igdb.com/v4/language_supports | Batch 690 | Response time [0.79s] | Time elapsed [476.15s]\n",
      "[REQUEST] | 07/31/23 14:41:32 | Status 200 | Endpoint: https://api.igdb.com/v4/language_supports | Batch 691 | Response time [0.34s] | Time elapsed [476.5s]\n",
      "[REQUEST] | 07/31/23 14:41:33 | Status 200 | Endpoint: https://api.igdb.com/v4/language_supports | Batch 692 | Response time [0.78s] | Time elapsed [477.28s]\n",
      "[REQUEST] | 07/31/23 14:41:34 | Status 200 | Endpoint: https://api.igdb.com/v4/language_supports | Batch 693 | Response time [0.78s] | Time elapsed [478.07s]\n",
      "[REQUEST] | 07/31/23 14:41:35 | Status 200 | Endpoint: https://api.igdb.com/v4/language_supports | Batch 694 | Response time [0.8s] | Time elapsed [478.87s]\n",
      "[REQUEST] | 07/31/23 14:41:35 | Status 200 | Endpoint: https://api.igdb.com/v4/language_supports | Batch 695 | Response time [0.49s] | Time elapsed [479.36s]\n",
      "[REQUEST] | 07/31/23 14:41:36 | Status 200 | Endpoint: https://api.igdb.com/v4/language_supports | Batch 696 | Response time [0.83s] | Time elapsed [480.19s]\n",
      "[REQUEST] | 07/31/23 14:41:37 | Status 200 | Endpoint: https://api.igdb.com/v4/language_supports | Batch 697 | Response time [0.37s] | Time elapsed [480.56s]\n",
      "[REQUEST] | 07/31/23 14:41:37 | Status 200 | Endpoint: https://api.igdb.com/v4/language_supports | Batch 698 | Response time [0.49s] | Time elapsed [481.06s]\n",
      "[REQUEST] | 07/31/23 14:41:38 | Status 200 | Endpoint: https://api.igdb.com/v4/language_supports | Batch 699 | Response time [0.8s] | Time elapsed [481.86s]\n",
      "[REQUEST] | 07/31/23 14:41:38 | Status 200 | Endpoint: https://api.igdb.com/v4/language_supports | Batch 700 | Response time [0.5s] | Time elapsed [482.37s]\n",
      "[REQUEST] | 07/31/23 14:41:39 | Status 200 | Endpoint: https://api.igdb.com/v4/language_supports | Batch 701 | Response time [0.79s] | Time elapsed [483.16s]\n",
      "[REQUEST] | 07/31/23 14:41:40 | Status 200 | Endpoint: https://api.igdb.com/v4/language_supports | Batch 702 | Response time [0.81s] | Time elapsed [483.97s]\n",
      "[REQUEST] | 07/31/23 14:41:41 | Status 200 | Endpoint: https://api.igdb.com/v4/language_supports | Batch 703 | Response time [0.79s] | Time elapsed [484.76s]\n",
      "[REQUEST] | 07/31/23 14:41:41 | Status 200 | Endpoint: https://api.igdb.com/v4/language_supports | Batch 704 | Response time [0.34s] | Time elapsed [485.11s]\n",
      "[REQUEST] | 07/31/23 14:41:42 | Status 200 | Endpoint: https://api.igdb.com/v4/language_supports | Batch 705 | Response time [0.49s] | Time elapsed [485.59s]\n",
      "[REQUEST] | 07/31/23 14:41:42 | Status 200 | Endpoint: https://api.igdb.com/v4/language_supports | Batch 706 | Response time [0.81s] | Time elapsed [486.41s]\n",
      "[REQUEST] | 07/31/23 14:41:43 | Status 200 | Endpoint: https://api.igdb.com/v4/language_supports | Batch 707 | Response time [0.81s] | Time elapsed [487.22s]\n",
      "[REQUEST] | 07/31/23 14:41:43 | Status 200 | Endpoint: https://api.igdb.com/v4/language_supports | Batch 708 | Response time [0.34s] | Time elapsed [487.56s]\n",
      "[REQUEST] | 07/31/23 14:41:44 | Status 200 | Endpoint: https://api.igdb.com/v4/language_supports | Batch 709 | Response time [0.79s] | Time elapsed [488.35s]\n",
      "[REQUEST] | 07/31/23 14:41:45 | Status 200 | Endpoint: https://api.igdb.com/v4/language_supports | Batch 710 | Response time [0.77s] | Time elapsed [489.13s]\n",
      "[REQUEST] | 07/31/23 14:41:45 | Status 200 | Endpoint: https://api.igdb.com/v4/language_supports | Batch 711 | Response time [0.36s] | Time elapsed [489.49s]\n",
      "[REQUEST] | 07/31/23 14:41:46 | Status 200 | Endpoint: https://api.igdb.com/v4/language_supports | Batch 712 | Response time [0.32s] | Time elapsed [489.82s]\n",
      "[REQUEST] | 07/31/23 14:41:47 | Status 200 | Endpoint: https://api.igdb.com/v4/language_supports | Batch 713 | Response time [0.76s] | Time elapsed [490.58s]\n",
      "[REQUEST] | 07/31/23 14:41:47 | Status 200 | Endpoint: https://api.igdb.com/v4/language_supports | Batch 714 | Response time [0.78s] | Time elapsed [491.37s]\n",
      "[REQUEST] | 07/31/23 14:41:48 | Status 200 | Endpoint: https://api.igdb.com/v4/language_supports | Batch 715 | Response time [0.79s] | Time elapsed [492.16s]\n",
      "[REQUEST] | 07/31/23 14:41:49 | Status 200 | Endpoint: https://api.igdb.com/v4/language_supports | Batch 716 | Response time [0.8s] | Time elapsed [492.97s]\n",
      "[REQUEST] | 07/31/23 14:41:50 | Status 200 | Endpoint: https://api.igdb.com/v4/language_supports | Batch 717 | Response time [0.89s] | Time elapsed [493.86s]\n",
      "[REQUEST] | 07/31/23 14:41:51 | Status 200 | Endpoint: https://api.igdb.com/v4/language_supports | Batch 718 | Response time [0.81s] | Time elapsed [494.68s]\n",
      "[REQUEST] | 07/31/23 14:41:51 | Status 200 | Endpoint: https://api.igdb.com/v4/language_supports | Batch 719 | Response time [0.81s] | Time elapsed [495.5s]\n",
      "[REQUEST] | 07/31/23 14:41:52 | Status 200 | Endpoint: https://api.igdb.com/v4/language_supports | Batch 720 | Response time [0.79s] | Time elapsed [496.29s]\n",
      "[REQUEST] | 07/31/23 14:41:53 | Status 200 | Endpoint: https://api.igdb.com/v4/language_supports | Batch 721 | Response time [0.78s] | Time elapsed [497.07s]\n",
      "[REQUEST] | 07/31/23 14:41:54 | Status 200 | Endpoint: https://api.igdb.com/v4/language_supports | Batch 722 | Response time [0.79s] | Time elapsed [497.86s]\n",
      "[REQUEST] | 07/31/23 14:41:55 | Status 200 | Endpoint: https://api.igdb.com/v4/language_supports | Batch 723 | Response time [0.79s] | Time elapsed [498.65s]\n",
      "[REQUEST] | 07/31/23 14:41:55 | Status 200 | Endpoint: https://api.igdb.com/v4/language_supports | Batch 724 | Response time [0.8s] | Time elapsed [499.46s]\n",
      "[REQUEST] | 07/31/23 14:41:56 | Status 200 | Endpoint: https://api.igdb.com/v4/language_supports | Batch 725 | Response time [0.83s] | Time elapsed [500.3s]\n",
      "[REQUEST] | 07/31/23 14:41:57 | Status 200 | Endpoint: https://api.igdb.com/v4/language_supports | Batch 726 | Response time [0.34s] | Time elapsed [500.65s]\n",
      "[REQUEST] | 07/31/23 14:41:57 | Status 200 | Endpoint: https://api.igdb.com/v4/language_supports | Batch 727 | Response time [0.78s] | Time elapsed [501.43s]\n",
      "[REQUEST] | 07/31/23 14:41:58 | Status 200 | Endpoint: https://api.igdb.com/v4/language_supports | Batch 728 | Response time [0.78s] | Time elapsed [502.22s]\n",
      "[REQUEST] | 07/31/23 14:41:59 | Status 200 | Endpoint: https://api.igdb.com/v4/language_supports | Batch 729 | Response time [0.79s] | Time elapsed [503.0s]\n",
      "[REQUEST] | 07/31/23 14:41:59 | Status 200 | Endpoint: https://api.igdb.com/v4/language_supports | Batch 730 | Response time [0.34s] | Time elapsed [503.34s]\n",
      "[REQUEST] | 07/31/23 14:42:00 | Status 200 | Endpoint: https://api.igdb.com/v4/language_supports | Batch 731 | Response time [0.81s] | Time elapsed [504.16s]\n",
      "[REQUEST] | 07/31/23 14:42:01 | Status 200 | Endpoint: https://api.igdb.com/v4/language_supports | Batch 732 | Response time [0.79s] | Time elapsed [504.96s]\n",
      "[REQUEST] | 07/31/23 14:42:02 | Status 200 | Endpoint: https://api.igdb.com/v4/language_supports | Batch 733 | Response time [0.84s] | Time elapsed [505.8s]\n",
      "[REQUEST] | 07/31/23 14:42:03 | Status 200 | Endpoint: https://api.igdb.com/v4/language_supports | Batch 734 | Response time [0.79s] | Time elapsed [506.59s]\n",
      "[REQUEST] | 07/31/23 14:42:03 | Status 200 | Endpoint: https://api.igdb.com/v4/language_supports | Batch 735 | Response time [0.84s] | Time elapsed [507.43s]\n",
      "[REQUEST] | 07/31/23 14:42:04 | Status 200 | Endpoint: https://api.igdb.com/v4/language_supports | Batch 736 | Response time [0.8s] | Time elapsed [508.23s]\n",
      "[REQUEST] | 07/31/23 14:42:05 | Status 200 | Endpoint: https://api.igdb.com/v4/language_supports | Batch 737 | Response time [0.37s] | Time elapsed [508.61s]\n",
      "[REQUEST] | 07/31/23 14:42:05 | Status 200 | Endpoint: https://api.igdb.com/v4/language_supports | Batch 738 | Response time [0.79s] | Time elapsed [509.4s]\n",
      "[REQUEST] | 07/31/23 14:42:06 | Status 200 | Endpoint: https://api.igdb.com/v4/language_supports | Batch 739 | Response time [0.79s] | Time elapsed [510.2s]\n",
      "[REQUEST] | 07/31/23 14:42:06 | Status 200 | Endpoint: https://api.igdb.com/v4/language_supports | Batch 740 | Response time [0.32s] | Time elapsed [510.53s]\n",
      "[REQUEST] | 07/31/23 14:42:07 | Status 200 | Endpoint: https://api.igdb.com/v4/language_supports | Batch 741 | Response time [0.79s] | Time elapsed [511.32s]\n",
      "[REQUEST] | 07/31/23 14:42:08 | Status 200 | Endpoint: https://api.igdb.com/v4/language_supports | Batch 742 | Response time [0.35s] | Time elapsed [511.67s]\n",
      "[REQUEST] | 07/31/23 14:42:08 | Status 200 | Endpoint: https://api.igdb.com/v4/language_supports | Batch 743 | Response time [0.79s] | Time elapsed [512.47s]\n",
      "[REQUEST] | 07/31/23 14:42:09 | Status 200 | Endpoint: https://api.igdb.com/v4/language_supports | Batch 744 | Response time [0.77s] | Time elapsed [513.24s]\n",
      "[REQUEST] | 07/31/23 14:42:10 | Status 200 | Endpoint: https://api.igdb.com/v4/language_supports | Batch 745 | Response time [0.78s] | Time elapsed [514.03s]\n",
      "[REQUEST] | 07/31/23 14:42:10 | Status 200 | Endpoint: https://api.igdb.com/v4/language_supports | Batch 746 | Response time [0.39s] | Time elapsed [514.42s]\n",
      "[REQUEST] | 07/31/23 14:42:11 | Status 200 | Endpoint: https://api.igdb.com/v4/language_supports | Batch 747 | Response time [0.81s] | Time elapsed [515.23s]\n",
      "[REQUEST] | 07/31/23 14:42:12 | Status 200 | Endpoint: https://api.igdb.com/v4/language_supports | Batch 748 | Response time [0.79s] | Time elapsed [516.02s]\n",
      "[REQUEST] | 07/31/23 14:42:13 | Status 200 | Endpoint: https://api.igdb.com/v4/language_supports | Batch 749 | Response time [0.8s] | Time elapsed [516.83s]\n",
      "[REQUEST] | 07/31/23 14:42:13 | Status 200 | Endpoint: https://api.igdb.com/v4/language_supports | Batch 750 | Response time [0.35s] | Time elapsed [517.19s]\n",
      "[REQUEST] | 07/31/23 14:42:14 | Status 200 | Endpoint: https://api.igdb.com/v4/language_supports | Batch 751 | Response time [0.8s] | Time elapsed [517.99s]\n",
      "[REQUEST] | 07/31/23 14:42:15 | Status 200 | Endpoint: https://api.igdb.com/v4/language_supports | Batch 752 | Response time [0.79s] | Time elapsed [518.78s]\n",
      "[REQUEST] | 07/31/23 14:42:16 | Status 200 | Endpoint: https://api.igdb.com/v4/language_supports | Batch 753 | Response time [0.78s] | Time elapsed [519.56s]\n",
      "[REQUEST] | 07/31/23 14:42:16 | Status 200 | Endpoint: https://api.igdb.com/v4/language_supports | Batch 754 | Response time [0.82s] | Time elapsed [520.39s]\n",
      "[REQUEST] | 07/31/23 14:42:17 | Status 200 | Endpoint: https://api.igdb.com/v4/language_supports | Batch 755 | Response time [0.78s] | Time elapsed [521.18s]\n",
      "[REQUEST] | 07/31/23 14:42:18 | Status 200 | Endpoint: https://api.igdb.com/v4/language_supports | Batch 756 | Response time [0.82s] | Time elapsed [522.0s]\n",
      "[REQUEST] | 07/31/23 14:42:19 | Status 200 | Endpoint: https://api.igdb.com/v4/language_supports | Batch 757 | Response time [0.84s] | Time elapsed [522.84s]\n",
      "[REQUEST] | 07/31/23 14:42:20 | Status 200 | Endpoint: https://api.igdb.com/v4/language_supports | Batch 758 | Response time [0.77s] | Time elapsed [523.62s]\n",
      "[REQUEST] | 07/31/23 14:42:20 | Status 200 | Endpoint: https://api.igdb.com/v4/language_supports | Batch 759 | Response time [0.35s] | Time elapsed [523.97s]\n",
      "[REQUEST] | 07/31/23 14:42:21 | Status 200 | Endpoint: https://api.igdb.com/v4/language_supports | Batch 760 | Response time [0.84s] | Time elapsed [524.81s]\n",
      "[REQUEST] | 07/31/23 14:42:22 | Status 200 | Endpoint: https://api.igdb.com/v4/language_supports | Batch 761 | Response time [0.83s] | Time elapsed [525.65s]\n",
      "[REQUEST] | 07/31/23 14:42:22 | Status 200 | Endpoint: https://api.igdb.com/v4/language_supports | Batch 762 | Response time [0.8s] | Time elapsed [526.45s]\n",
      "[REQUEST] | 07/31/23 14:42:23 | Status 200 | Endpoint: https://api.igdb.com/v4/language_supports | Batch 763 | Response time [0.77s] | Time elapsed [527.22s]\n",
      "[REQUEST] | 07/31/23 14:42:24 | Status 200 | Endpoint: https://api.igdb.com/v4/language_supports | Batch 764 | Response time [0.81s] | Time elapsed [528.04s]\n",
      "[REQUEST] | 07/31/23 14:42:24 | Status 200 | Endpoint: https://api.igdb.com/v4/language_supports | Batch 765 | Response time [0.35s] | Time elapsed [528.39s]\n",
      "[REQUEST] | 07/31/23 14:42:25 | Status 200 | Endpoint: https://api.igdb.com/v4/language_supports | Batch 766 | Response time [0.33s] | Time elapsed [528.72s]\n",
      "[REQUEST] | 07/31/23 14:42:25 | Status 200 | Endpoint: https://api.igdb.com/v4/language_supports | Batch 767 | Response time [0.52s] | Time elapsed [529.24s]\n",
      "[REQUEST] | 07/31/23 14:42:26 | Status 200 | Endpoint: https://api.igdb.com/v4/language_supports | Batch 768 | Response time [0.49s] | Time elapsed [529.74s]\n",
      "[REQUEST] | 07/31/23 14:42:26 | Status 200 | Endpoint: https://api.igdb.com/v4/language_supports | Batch 769 | Response time [0.8s] | Time elapsed [530.53s]\n",
      "[REQUEST] | 07/31/23 14:42:27 | Status 200 | Endpoint: https://api.igdb.com/v4/language_supports | Batch 770 | Response time [0.38s] | Time elapsed [530.92s]\n",
      "[REQUEST] | 07/31/23 14:42:27 | Status 200 | Endpoint: https://api.igdb.com/v4/language_supports | Batch 771 | Response time [0.33s] | Time elapsed [531.26s]\n",
      "[REQUEST] | 07/31/23 14:42:28 | Status 200 | Endpoint: https://api.igdb.com/v4/language_supports | Batch 772 | Response time [0.38s] | Time elapsed [531.65s]\n",
      "[REQUEST] | 07/31/23 14:42:28 | Status 200 | Endpoint: https://api.igdb.com/v4/language_supports | Batch 773 | Response time [0.8s] | Time elapsed [532.45s]\n",
      "[REQUEST] | 07/31/23 14:42:29 | Status 200 | Endpoint: https://api.igdb.com/v4/language_supports | Batch 774 | Response time [0.81s] | Time elapsed [533.27s]\n",
      "[REQUEST] | 07/31/23 14:42:30 | Status 200 | Endpoint: https://api.igdb.com/v4/language_supports | Batch 775 | Response time [0.81s] | Time elapsed [534.09s]\n",
      "[REQUEST] | 07/31/23 14:42:31 | Status 200 | Endpoint: https://api.igdb.com/v4/language_supports | Batch 776 | Response time [0.78s] | Time elapsed [534.87s]\n",
      "[REQUEST] | 07/31/23 14:42:32 | Status 200 | Endpoint: https://api.igdb.com/v4/language_supports | Batch 777 | Response time [0.84s] | Time elapsed [535.72s]\n",
      "[REQUEST] | 07/31/23 14:42:32 | Status 200 | Endpoint: https://api.igdb.com/v4/language_supports | Batch 778 | Response time [0.78s] | Time elapsed [536.5s]\n",
      "[REQUEST] | 07/31/23 14:42:33 | Status 200 | Endpoint: https://api.igdb.com/v4/language_supports | Batch 779 | Response time [0.8s] | Time elapsed [537.3s]\n",
      "[REQUEST] | 07/31/23 14:42:34 | Status 200 | Endpoint: https://api.igdb.com/v4/language_supports | Batch 780 | Response time [0.8s] | Time elapsed [538.1s]\n",
      "[REQUEST] | 07/31/23 14:42:35 | Status 200 | Endpoint: https://api.igdb.com/v4/language_supports | Batch 781 | Response time [0.77s] | Time elapsed [538.88s]\n",
      "[REQUEST] | 07/31/23 14:42:36 | Status 200 | Endpoint: https://api.igdb.com/v4/language_supports | Batch 782 | Response time [0.81s] | Time elapsed [539.69s]\n",
      "[REQUEST] | 07/31/23 14:42:36 | Status 200 | Endpoint: https://api.igdb.com/v4/language_supports | Batch 783 | Response time [0.81s] | Time elapsed [540.5s]\n",
      "[REQUEST] | 07/31/23 14:42:37 | Status 200 | Endpoint: https://api.igdb.com/v4/language_supports | Batch 784 | Response time [0.34s] | Time elapsed [540.84s]\n",
      "[REQUEST] | 07/31/23 14:42:38 | Status 200 | Endpoint: https://api.igdb.com/v4/language_supports | Batch 785 | Response time [0.76s] | Time elapsed [541.61s]\n",
      "[REQUEST] | 07/31/23 14:42:38 | Status 200 | Endpoint: https://api.igdb.com/v4/language_supports | Batch 786 | Response time [0.46s] | Time elapsed [542.08s]\n",
      "[REQUEST] | 07/31/23 14:42:39 | Status 200 | Endpoint: https://api.igdb.com/v4/language_supports | Batch 787 | Response time [0.78s] | Time elapsed [542.87s]\n",
      "[REQUEST] | 07/31/23 14:42:39 | Status 200 | Endpoint: https://api.igdb.com/v4/language_supports | Batch 788 | Response time [0.36s] | Time elapsed [543.23s]\n",
      "[REQUEST] | 07/31/23 14:42:40 | Status 200 | Endpoint: https://api.igdb.com/v4/language_supports | Batch 789 | Response time [0.79s] | Time elapsed [544.02s]\n",
      "[REQUEST] | 07/31/23 14:42:41 | Status 200 | Endpoint: https://api.igdb.com/v4/language_supports | Batch 790 | Response time [0.79s] | Time elapsed [544.81s]\n",
      "[REQUEST] | 07/31/23 14:42:42 | Status 200 | Endpoint: https://api.igdb.com/v4/language_supports | Batch 791 | Response time [0.78s] | Time elapsed [545.6s]\n",
      "[REQUEST] | 07/31/23 14:42:42 | Status 200 | Endpoint: https://api.igdb.com/v4/language_supports | Batch 792 | Response time [0.81s] | Time elapsed [546.41s]\n",
      "[REQUEST] | 07/31/23 14:42:43 | Status 200 | Endpoint: https://api.igdb.com/v4/language_supports | Batch 793 | Response time [0.49s] | Time elapsed [546.91s]\n",
      "[REQUEST] | 07/31/23 14:42:44 | Status 200 | Endpoint: https://api.igdb.com/v4/language_supports | Batch 794 | Response time [0.76s] | Time elapsed [547.67s]\n",
      "[REQUEST] | 07/31/23 14:42:44 | Status 200 | Endpoint: https://api.igdb.com/v4/language_supports | Batch 795 | Response time [0.78s] | Time elapsed [548.46s]\n",
      "[REQUEST] | 07/31/23 14:42:45 | Status 200 | Endpoint: https://api.igdb.com/v4/language_supports | Batch 796 | Response time [0.79s] | Time elapsed [549.25s]\n",
      "[REQUEST] | 07/31/23 14:42:46 | Status 200 | Endpoint: https://api.igdb.com/v4/language_supports | Batch 797 | Response time [0.83s] | Time elapsed [550.08s]\n",
      "[REQUEST] | 07/31/23 14:42:46 | Status 200 | Endpoint: https://api.igdb.com/v4/language_supports | Batch 798 | Response time [0.32s] | Time elapsed [550.41s]\n",
      "[REQUEST] | 07/31/23 14:42:47 | Status 200 | Endpoint: https://api.igdb.com/v4/language_supports | Batch 799 | Response time [0.8s] | Time elapsed [551.21s]\n",
      "[REQUEST] | 07/31/23 14:42:48 | Status 200 | Endpoint: https://api.igdb.com/v4/language_supports | Batch 800 | Response time [0.78s] | Time elapsed [551.99s]\n",
      "[REQUEST] | 07/31/23 14:42:49 | Status 200 | Endpoint: https://api.igdb.com/v4/language_supports | Batch 801 | Response time [0.78s] | Time elapsed [552.77s]\n",
      "[REQUEST] | 07/31/23 14:42:50 | Status 200 | Endpoint: https://api.igdb.com/v4/language_supports | Batch 802 | Response time [0.79s] | Time elapsed [553.57s]\n",
      "[REQUEST] | 07/31/23 14:42:50 | Status 200 | Endpoint: https://api.igdb.com/v4/language_supports | Batch 803 | Response time [0.75s] | Time elapsed [554.32s]\n",
      "[REQUEST] | 07/31/23 14:42:51 | Status 200 | Endpoint: https://api.igdb.com/v4/language_supports | Batch 804 | Response time [0.38s] | Time elapsed [554.7s]\n",
      "[REQUEST] | 07/31/23 14:42:51 | Status 200 | Endpoint: https://api.igdb.com/v4/language_supports | Batch 805 | Response time [0.77s] | Time elapsed [555.48s]\n",
      "[REQUEST] | 07/31/23 14:42:52 | Status 200 | Endpoint: https://api.igdb.com/v4/language_supports | Batch 806 | Response time [0.32s] | Time elapsed [555.81s]\n",
      "[REQUEST] | 07/31/23 14:42:52 | Status 200 | Endpoint: https://api.igdb.com/v4/language_supports | Batch 807 | Response time [0.49s] | Time elapsed [556.29s]\n",
      "[REQUEST] | 07/31/23 14:42:53 | Status 200 | Endpoint: https://api.igdb.com/v4/language_supports | Batch 808 | Response time [0.78s] | Time elapsed [557.08s]\n",
      "[REQUEST] | 07/31/23 14:42:54 | Status 200 | Endpoint: https://api.igdb.com/v4/language_supports | Batch 809 | Response time [0.82s] | Time elapsed [557.9s]\n",
      "[REQUEST] | 07/31/23 14:42:55 | Status 200 | Endpoint: https://api.igdb.com/v4/language_supports | Batch 810 | Response time [0.8s] | Time elapsed [558.71s]\n",
      "[REQUEST] | 07/31/23 14:42:55 | Status 200 | Endpoint: https://api.igdb.com/v4/language_supports | Batch 811 | Response time [0.84s] | Time elapsed [559.56s]\n",
      "[REQUEST] | 07/31/23 14:42:56 | Status 200 | Endpoint: https://api.igdb.com/v4/language_supports | Batch 812 | Response time [0.8s] | Time elapsed [560.36s]\n",
      "[REQUEST] | 07/31/23 14:42:57 | Status 200 | Endpoint: https://api.igdb.com/v4/language_supports | Batch 813 | Response time [0.82s] | Time elapsed [561.18s]\n",
      "[REQUEST] | 07/31/23 14:42:58 | Status 200 | Endpoint: https://api.igdb.com/v4/language_supports | Batch 814 | Response time [0.81s] | Time elapsed [562.0s]\n",
      "[REQUEST] | 07/31/23 14:42:59 | Status 200 | Endpoint: https://api.igdb.com/v4/language_supports | Batch 815 | Response time [0.82s] | Time elapsed [562.82s]\n",
      "[REQUEST] | 07/31/23 14:43:00 | Status 200 | Endpoint: https://api.igdb.com/v4/language_supports | Batch 816 | Response time [0.82s] | Time elapsed [563.64s]\n",
      "[REQUEST] | 07/31/23 14:43:00 | Status 200 | Endpoint: https://api.igdb.com/v4/language_supports | Batch 817 | Response time [0.83s] | Time elapsed [564.48s]\n",
      "[REQUEST] | 07/31/23 14:43:01 | Status 200 | Endpoint: https://api.igdb.com/v4/language_supports | Batch 818 | Response time [0.8s] | Time elapsed [565.28s]\n",
      "[REQUEST] | 07/31/23 14:43:02 | Status 200 | Endpoint: https://api.igdb.com/v4/language_supports | Batch 819 | Response time [0.82s] | Time elapsed [566.11s]\n",
      "[REQUEST] | 07/31/23 14:43:02 | Status 200 | Endpoint: https://api.igdb.com/v4/language_supports | Batch 820 | Response time [0.36s] | Time elapsed [566.47s]\n",
      "[REQUEST] | 07/31/23 14:43:03 | Status 200 | Endpoint: https://api.igdb.com/v4/language_supports | Batch 821 | Response time [0.79s] | Time elapsed [567.27s]\n",
      "[REQUEST] | 07/31/23 14:43:04 | Status 200 | Endpoint: https://api.igdb.com/v4/language_supports | Batch 822 | Response time [0.89s] | Time elapsed [568.16s]\n",
      "[REQUEST] | 07/31/23 14:43:05 | Status 200 | Endpoint: https://api.igdb.com/v4/language_supports | Batch 823 | Response time [0.78s] | Time elapsed [568.95s]\n",
      "[REQUEST] | 07/31/23 14:43:05 | Status 200 | Endpoint: https://api.igdb.com/v4/language_supports | Batch 824 | Response time [0.5s] | Time elapsed [569.45s]\n",
      "[REQUEST] | 07/31/23 14:43:06 | Status 200 | Endpoint: https://api.igdb.com/v4/language_supports | Batch 825 | Response time [0.8s] | Time elapsed [570.25s]\n",
      "[REQUEST] | 07/31/23 14:43:07 | Status 200 | Endpoint: https://api.igdb.com/v4/language_supports | Batch 826 | Response time [0.49s] | Time elapsed [570.74s]\n",
      "[REQUEST] | 07/31/23 14:43:07 | Status 200 | Endpoint: https://api.igdb.com/v4/language_supports | Batch 827 | Response time [0.8s] | Time elapsed [571.54s]\n",
      "[REQUEST] | 07/31/23 14:43:08 | Status 200 | Endpoint: https://api.igdb.com/v4/language_supports | Batch 828 | Response time [0.48s] | Time elapsed [572.02s]\n",
      "[REQUEST] | 07/31/23 14:43:09 | Status 200 | Endpoint: https://api.igdb.com/v4/language_supports | Batch 829 | Response time [0.81s] | Time elapsed [572.84s]\n",
      "[REQUEST] | 07/31/23 14:43:09 | Status 200 | Endpoint: https://api.igdb.com/v4/language_supports | Batch 830 | Response time [0.32s] | Time elapsed [573.17s]\n",
      "[REQUEST] | 07/31/23 14:43:10 | Status 200 | Endpoint: https://api.igdb.com/v4/language_supports | Batch 831 | Response time [0.81s] | Time elapsed [573.98s]\n",
      "[REQUEST] | 07/31/23 14:43:11 | Status 200 | Endpoint: https://api.igdb.com/v4/language_supports | Batch 832 | Response time [0.78s] | Time elapsed [574.77s]\n",
      "[REQUEST] | 07/31/23 14:43:11 | Status 200 | Endpoint: https://api.igdb.com/v4/language_supports | Batch 833 | Response time [0.77s] | Time elapsed [575.54s]\n",
      "[REQUEST] | 07/31/23 14:43:12 | Status 200 | Endpoint: https://api.igdb.com/v4/language_supports | Batch 834 | Response time [0.79s] | Time elapsed [576.34s]\n",
      "[REQUEST] | 07/31/23 14:43:13 | Status 200 | Endpoint: https://api.igdb.com/v4/language_supports | Batch 835 | Response time [0.84s] | Time elapsed [577.19s]\n",
      "[REQUEST] | 07/31/23 14:43:14 | Status 200 | Endpoint: https://api.igdb.com/v4/language_supports | Batch 836 | Response time [0.78s] | Time elapsed [577.97s]\n",
      "[REQUEST] | 07/31/23 14:43:15 | Status 200 | Endpoint: https://api.igdb.com/v4/language_supports | Batch 837 | Response time [0.77s] | Time elapsed [578.75s]\n",
      "[REQUEST] | 07/31/23 14:43:15 | Status 200 | Endpoint: https://api.igdb.com/v4/language_supports | Batch 838 | Response time [0.77s] | Time elapsed [579.52s]\n",
      "[REQUEST] | 07/31/23 14:43:16 | Status 200 | Endpoint: https://api.igdb.com/v4/language_supports | Batch 839 | Response time [0.82s] | Time elapsed [580.35s]\n",
      "[REQUEST] | 07/31/23 14:43:17 | Status 200 | Endpoint: https://api.igdb.com/v4/language_supports | Batch 840 | Response time [0.8s] | Time elapsed [581.14s]\n",
      "[REQUEST] | 07/31/23 14:43:18 | Status 200 | Endpoint: https://api.igdb.com/v4/language_supports | Batch 841 | Response time [0.77s] | Time elapsed [581.92s]\n",
      "[REQUEST] | 07/31/23 14:43:19 | Status 200 | Endpoint: https://api.igdb.com/v4/language_supports | Batch 842 | Response time [0.77s] | Time elapsed [582.7s]\n",
      "[REQUEST] | 07/31/23 14:43:20 | Status 200 | Endpoint: https://api.igdb.com/v4/language_supports | Batch 843 | Response time [0.86s] | Time elapsed [583.57s]\n",
      "[REQUEST] | 07/31/23 14:43:20 | Status 200 | Endpoint: https://api.igdb.com/v4/language_supports | Batch 844 | Response time [0.82s] | Time elapsed [584.39s]\n",
      "[REQUEST] | 07/31/23 14:43:21 | Status 200 | Endpoint: https://api.igdb.com/v4/language_supports | Batch 845 | Response time [0.78s] | Time elapsed [585.17s]\n",
      "[REQUEST] | 07/31/23 14:43:21 | Status 200 | Endpoint: https://api.igdb.com/v4/language_supports | Batch 846 | Response time [0.33s] | Time elapsed [585.5s]\n",
      "[REQUEST] | 07/31/23 14:43:22 | Status 200 | Endpoint: https://api.igdb.com/v4/language_supports | Batch 847 | Response time [0.51s] | Time elapsed [586.02s]\n",
      "[REQUEST] | 07/31/23 14:43:23 | Status 200 | Endpoint: https://api.igdb.com/v4/language_supports | Batch 848 | Response time [0.8s] | Time elapsed [586.82s]\n",
      "[REQUEST] | 07/31/23 14:43:24 | Status 200 | Endpoint: https://api.igdb.com/v4/language_supports | Batch 849 | Response time [0.82s] | Time elapsed [587.64s]\n",
      "[REQUEST] | 07/31/23 14:43:24 | Status 200 | Endpoint: https://api.igdb.com/v4/language_supports | Batch 850 | Response time [0.82s] | Time elapsed [588.47s]\n",
      "[REQUEST] | 07/31/23 14:43:25 | Status 200 | Endpoint: https://api.igdb.com/v4/language_supports | Batch 851 | Response time [0.81s] | Time elapsed [589.28s]\n",
      "[REQUEST] | 07/31/23 14:43:26 | Status 200 | Endpoint: https://api.igdb.com/v4/language_supports | Batch 852 | Response time [0.8s] | Time elapsed [590.08s]\n",
      "[REQUEST] | 07/31/23 14:43:26 | Status 200 | Endpoint: https://api.igdb.com/v4/language_supports | Batch 853 | Response time [0.31s] | Time elapsed [590.39s]\n",
      "[REQUEST] | 07/31/23 14:43:27 | Status 200 | Endpoint: https://api.igdb.com/v4/language_supports | Batch 854 | Response time [0.79s] | Time elapsed [591.19s]\n",
      "[REQUEST] | 07/31/23 14:43:28 | Status 200 | Endpoint: https://api.igdb.com/v4/language_supports | Batch 855 | Response time [0.84s] | Time elapsed [592.03s]\n",
      "[REQUEST] | 07/31/23 14:43:29 | Status 200 | Endpoint: https://api.igdb.com/v4/language_supports | Batch 856 | Response time [0.77s] | Time elapsed [592.8s]\n",
      "[REQUEST] | 07/31/23 14:43:30 | Status 200 | Endpoint: https://api.igdb.com/v4/language_supports | Batch 857 | Response time [0.81s] | Time elapsed [593.62s]\n",
      "[REQUEST] | 07/31/23 14:43:30 | Status 200 | Endpoint: https://api.igdb.com/v4/language_supports | Batch 858 | Response time [0.76s] | Time elapsed [594.39s]\n",
      "[REQUEST] | 07/31/23 14:43:31 | Status 200 | Endpoint: https://api.igdb.com/v4/language_supports | Batch 859 | Response time [0.79s] | Time elapsed [595.18s]\n",
      "[REQUEST] | 07/31/23 14:43:32 | Status 200 | Endpoint: https://api.igdb.com/v4/language_supports | Batch 860 | Response time [0.76s] | Time elapsed [595.94s]\n",
      "[REQUEST] | 07/31/23 14:43:33 | Status 200 | Endpoint: https://api.igdb.com/v4/language_supports | Batch 861 | Response time [0.79s] | Time elapsed [596.73s]\n",
      "[REQUEST] | 07/31/23 14:43:33 | Status 200 | Endpoint: https://api.igdb.com/v4/language_supports | Batch 862 | Response time [0.79s] | Time elapsed [597.53s]\n",
      "[REQUEST] | 07/31/23 14:43:34 | Status 200 | Endpoint: https://api.igdb.com/v4/language_supports | Batch 863 | Response time [0.78s] | Time elapsed [598.31s]\n",
      "[REQUEST] | 07/31/23 14:43:35 | Status 200 | Endpoint: https://api.igdb.com/v4/language_supports | Batch 864 | Response time [0.37s] | Time elapsed [598.69s]\n",
      "[REQUEST] | 07/31/23 14:43:35 | Status 200 | Endpoint: https://api.igdb.com/v4/language_supports | Batch 865 | Response time [0.83s] | Time elapsed [599.53s]\n",
      "[REQUEST] | 07/31/23 14:43:36 | Status 200 | Endpoint: https://api.igdb.com/v4/language_supports | Batch 866 | Response time [0.77s] | Time elapsed [600.3s]\n",
      "[REQUEST] | 07/31/23 14:43:37 | Status 200 | Endpoint: https://api.igdb.com/v4/language_supports | Batch 867 | Response time [0.81s] | Time elapsed [601.11s]\n",
      "[REQUEST] | 07/31/23 14:43:38 | Status 200 | Endpoint: https://api.igdb.com/v4/language_supports | Batch 868 | Response time [0.79s] | Time elapsed [601.91s]\n",
      "[REQUEST] | 07/31/23 14:43:39 | Status 200 | Endpoint: https://api.igdb.com/v4/language_supports | Batch 869 | Response time [0.81s] | Time elapsed [602.72s]\n",
      "[REQUEST] | 07/31/23 14:43:39 | Status 200 | Endpoint: https://api.igdb.com/v4/language_supports | Batch 870 | Response time [0.79s] | Time elapsed [603.51s]\n",
      "[REQUEST] | 07/31/23 14:43:40 | Status 200 | Endpoint: https://api.igdb.com/v4/language_supports | Batch 871 | Response time [0.79s] | Time elapsed [604.31s]\n",
      "[REQUEST] | 07/31/23 14:43:41 | Status 200 | Endpoint: https://api.igdb.com/v4/language_supports | Batch 872 | Response time [0.75s] | Time elapsed [605.06s]\n",
      "[REQUEST] | 07/31/23 14:43:42 | Status 200 | Endpoint: https://api.igdb.com/v4/language_supports | Batch 873 | Response time [0.51s] | Time elapsed [605.58s]\n",
      "[REQUEST] | 07/31/23 14:43:42 | Status 200 | Endpoint: https://api.igdb.com/v4/language_supports | Batch 874 | Response time [0.52s] | Time elapsed [606.1s]\n",
      "[REQUEST] | 07/31/23 14:43:43 | Status 200 | Endpoint: https://api.igdb.com/v4/language_supports | Batch 875 | Response time [0.79s] | Time elapsed [606.89s]\n",
      "[REQUEST] | 07/31/23 14:43:44 | Status 200 | Endpoint: https://api.igdb.com/v4/language_supports | Batch 876 | Response time [0.79s] | Time elapsed [607.69s]\n",
      "[REQUEST] | 07/31/23 14:43:44 | Status 200 | Endpoint: https://api.igdb.com/v4/language_supports | Batch 877 | Response time [0.81s] | Time elapsed [608.5s]\n",
      "[REQUEST] | 07/31/23 14:43:45 | Status 200 | Endpoint: https://api.igdb.com/v4/language_supports | Batch 878 | Response time [0.8s] | Time elapsed [609.3s]\n",
      "[REQUEST] | 07/31/23 14:43:46 | Status 200 | Endpoint: https://api.igdb.com/v4/language_supports | Batch 879 | Response time [0.77s] | Time elapsed [610.08s]\n",
      "[REQUEST] | 07/31/23 14:43:47 | Status 200 | Endpoint: https://api.igdb.com/v4/language_supports | Batch 880 | Response time [0.82s] | Time elapsed [610.9s]\n",
      "[REQUEST] | 07/31/23 14:43:48 | Status 200 | Endpoint: https://api.igdb.com/v4/language_supports | Batch 881 | Response time [0.79s] | Time elapsed [611.69s]\n",
      "[REQUEST] | 07/31/23 14:43:48 | Status 200 | Endpoint: https://api.igdb.com/v4/language_supports | Batch 882 | Response time [0.75s] | Time elapsed [612.45s]\n",
      "[REQUEST] | 07/31/23 14:43:49 | Status 200 | Endpoint: https://api.igdb.com/v4/language_supports | Batch 883 | Response time [0.76s] | Time elapsed [613.22s]\n",
      "[REQUEST] | 07/31/23 14:43:49 | Status 200 | Endpoint: https://api.igdb.com/v4/language_supports | Batch 884 | Response time [0.33s] | Time elapsed [613.55s]\n",
      "[REQUEST] | 07/31/23 14:43:50 | Status 200 | Endpoint: https://api.igdb.com/v4/language_supports | Batch 885 | Response time [0.83s] | Time elapsed [614.39s]\n",
      "[REQUEST] | 07/31/23 14:43:51 | Status 200 | Endpoint: https://api.igdb.com/v4/language_supports | Batch 886 | Response time [0.77s] | Time elapsed [615.16s]\n",
      "[REQUEST] | 07/31/23 14:43:52 | Status 200 | Endpoint: https://api.igdb.com/v4/language_supports | Batch 887 | Response time [0.76s] | Time elapsed [615.93s]\n",
      "[REQUEST] | 07/31/23 14:43:53 | Status 200 | Endpoint: https://api.igdb.com/v4/language_supports | Batch 888 | Response time [0.88s] | Time elapsed [616.82s]\n",
      "[REQUEST] | 07/31/23 14:43:54 | Status 200 | Endpoint: https://api.igdb.com/v4/language_supports | Batch 889 | Response time [0.86s] | Time elapsed [617.68s]\n",
      "[REQUEST] | 07/31/23 14:43:54 | Status 200 | Endpoint: https://api.igdb.com/v4/language_supports | Batch 890 | Response time [0.77s] | Time elapsed [618.45s]\n",
      "[REQUEST] | 07/31/23 14:43:55 | Status 200 | Endpoint: https://api.igdb.com/v4/language_supports | Batch 891 | Response time [0.83s] | Time elapsed [619.29s]\n",
      "[REQUEST] | 07/31/23 14:43:56 | Status 200 | Endpoint: https://api.igdb.com/v4/language_supports | Batch 892 | Response time [0.79s] | Time elapsed [620.07s]\n",
      "[REQUEST] | 07/31/23 14:43:57 | Status 200 | Endpoint: https://api.igdb.com/v4/language_supports | Batch 893 | Response time [0.5s] | Time elapsed [620.58s]\n",
      "[REQUEST] | 07/31/23 14:43:57 | Status 200 | Endpoint: https://api.igdb.com/v4/language_supports | Batch 894 | Response time [0.48s] | Time elapsed [621.06s]\n",
      "[REQUEST] | 07/31/23 14:43:58 | Status 200 | Endpoint: https://api.igdb.com/v4/language_supports | Batch 895 | Response time [0.79s] | Time elapsed [621.86s]\n",
      "[REQUEST] | 07/31/23 14:43:59 | Status 200 | Endpoint: https://api.igdb.com/v4/language_supports | Batch 896 | Response time [0.79s] | Time elapsed [622.65s]\n",
      "[REQUEST] | 07/31/23 14:43:59 | Status 200 | Endpoint: https://api.igdb.com/v4/language_supports | Batch 897 | Response time [0.83s] | Time elapsed [623.48s]\n",
      "[REQUEST] | 07/31/23 14:44:00 | Status 200 | Endpoint: https://api.igdb.com/v4/language_supports | Batch 898 | Response time [0.5s] | Time elapsed [623.98s]\n",
      "[REQUEST] | 07/31/23 14:44:00 | Status 200 | Endpoint: https://api.igdb.com/v4/language_supports | Batch 899 | Response time [0.52s] | Time elapsed [624.51s]\n",
      "[REQUEST] | 07/31/23 14:44:01 | Status 200 | Endpoint: https://api.igdb.com/v4/language_supports | Batch 900 | Response time [0.31s] | Time elapsed [624.83s]\n",
      "[REQUEST] | 07/31/23 14:44:01 | Status 200 | Endpoint: https://api.igdb.com/v4/language_supports | Batch 901 | Response time [0.51s] | Time elapsed [625.34s]\n",
      "[REQUEST] | 07/31/23 14:44:02 | Status 200 | Endpoint: https://api.igdb.com/v4/language_supports | Batch 902 | Response time [0.8s] | Time elapsed [626.14s]\n",
      "[REQUEST] | 07/31/23 14:44:03 | Status 200 | Endpoint: https://api.igdb.com/v4/language_supports | Batch 903 | Response time [0.79s] | Time elapsed [626.94s]\n",
      "[REQUEST] | 07/31/23 14:44:03 | Status 200 | Endpoint: https://api.igdb.com/v4/language_supports | Batch 904 | Response time [0.32s] | Time elapsed [627.26s]\n",
      "[REQUEST] | 07/31/23 14:44:04 | Status 200 | Endpoint: https://api.igdb.com/v4/language_supports | Batch 905 | Response time [0.61s] | Time elapsed [627.88s]\n",
      "[REQUEST] | 07/31/23 14:44:05 | Status 200 | Endpoint: https://api.igdb.com/v4/language_supports | Batch 906 | Response time [0.83s] | Time elapsed [628.71s]\n",
      "[REQUEST] | 07/31/23 14:44:05 | Status 200 | Endpoint: https://api.igdb.com/v4/language_supports | Batch 907 | Response time [0.82s] | Time elapsed [629.53s]\n",
      "[REQUEST] | 07/31/23 14:44:06 | Status 200 | Endpoint: https://api.igdb.com/v4/language_supports | Batch 908 | Response time [0.79s] | Time elapsed [630.32s]\n",
      "[REQUEST] | 07/31/23 14:44:07 | Status 200 | Endpoint: https://api.igdb.com/v4/language_supports | Batch 909 | Response time [0.35s] | Time elapsed [630.67s]\n",
      "[REQUEST] | 07/31/23 14:44:07 | Status 200 | Endpoint: https://api.igdb.com/v4/language_supports | Batch 910 | Response time [0.37s] | Time elapsed [631.04s]\n",
      "[REQUEST] | 07/31/23 14:44:07 | Status 200 | Endpoint: https://api.igdb.com/v4/language_supports | Batch 911 | Response time [0.4s] | Time elapsed [631.44s]\n",
      "[REQUEST] | 07/31/23 14:44:08 | Status 200 | Endpoint: https://api.igdb.com/v4/language_supports | Batch 912 | Response time [0.88s] | Time elapsed [632.32s]\n",
      "[REQUEST] | 07/31/23 14:44:09 | Status 200 | Endpoint: https://api.igdb.com/v4/language_supports | Batch 913 | Response time [0.84s] | Time elapsed [633.17s]\n",
      "[REQUEST] | 07/31/23 14:44:10 | Status 200 | Endpoint: https://api.igdb.com/v4/language_supports | Batch 914 | Response time [0.48s] | Time elapsed [633.65s]\n",
      "[REQUEST] | 07/31/23 14:44:10 | Status 200 | Endpoint: https://api.igdb.com/v4/language_supports | Batch 915 | Response time [0.37s] | Time elapsed [634.03s]\n",
      "[REQUEST] | 07/31/23 14:44:11 | Status 200 | Endpoint: https://api.igdb.com/v4/language_supports | Batch 916 | Response time [0.79s] | Time elapsed [634.82s]\n",
      "[REQUEST] | 07/31/23 14:44:12 | Status 200 | Endpoint: https://api.igdb.com/v4/language_supports | Batch 917 | Response time [0.83s] | Time elapsed [635.66s]\n",
      "[REQUEST] | 07/31/23 14:44:12 | Status 200 | Endpoint: https://api.igdb.com/v4/language_supports | Batch 918 | Response time [0.33s] | Time elapsed [636.0s]\n",
      "[REQUEST] | 07/31/23 14:44:13 | Status 200 | Endpoint: https://api.igdb.com/v4/language_supports | Batch 919 | Response time [0.83s] | Time elapsed [636.83s]\n",
      "[REQUEST] | 07/31/23 14:44:14 | Status 200 | Endpoint: https://api.igdb.com/v4/language_supports | Batch 920 | Response time [0.79s] | Time elapsed [637.63s]\n",
      "[REQUEST] | 07/31/23 14:44:14 | Status 200 | Endpoint: https://api.igdb.com/v4/language_supports | Batch 921 | Response time [0.33s] | Time elapsed [637.96s]\n",
      "[REQUEST] | 07/31/23 14:44:15 | Status 200 | Endpoint: https://api.igdb.com/v4/language_supports | Batch 922 | Response time [0.78s] | Time elapsed [638.75s]\n",
      "[REQUEST] | 07/31/23 14:44:16 | Status 200 | Endpoint: https://api.igdb.com/v4/language_supports | Batch 923 | Response time [0.82s] | Time elapsed [639.56s]\n",
      "[REQUEST] | 07/31/23 14:44:16 | Status 200 | Endpoint: https://api.igdb.com/v4/language_supports | Batch 924 | Response time [0.8s] | Time elapsed [640.37s]\n",
      "[REQUEST] | 07/31/23 14:44:17 | Status 200 | Endpoint: https://api.igdb.com/v4/language_supports | Batch 925 | Response time [0.82s] | Time elapsed [641.19s]\n",
      "[REQUEST] | 07/31/23 14:44:18 | Status 200 | Endpoint: https://api.igdb.com/v4/language_supports | Batch 926 | Response time [0.83s] | Time elapsed [642.02s]\n",
      "[REQUEST] | 07/31/23 14:44:19 | Status 200 | Endpoint: https://api.igdb.com/v4/language_supports | Batch 927 | Response time [0.77s] | Time elapsed [642.8s]\n",
      "[REQUEST] | 07/31/23 14:44:19 | Status 200 | Endpoint: https://api.igdb.com/v4/language_supports | Batch 928 | Response time [0.32s] | Time elapsed [643.12s]\n",
      "[REQUEST] | 07/31/23 14:44:19 | Status 200 | Endpoint: https://api.igdb.com/v4/language_supports | Batch 929 | Response time [0.33s] | Time elapsed [643.46s]\n",
      "[REQUEST] | 07/31/23 14:44:20 | Status 200 | Endpoint: https://api.igdb.com/v4/language_supports | Batch 930 | Response time [0.8s] | Time elapsed [644.26s]\n",
      "[REQUEST] | 07/31/23 14:44:21 | Status 200 | Endpoint: https://api.igdb.com/v4/language_supports | Batch 931 | Response time [0.82s] | Time elapsed [645.08s]\n",
      "[REQUEST] | 07/31/23 14:44:21 | Status 200 | Endpoint: https://api.igdb.com/v4/language_supports | Batch 932 | Response time [0.34s] | Time elapsed [645.42s]\n",
      "[REQUEST] | 07/31/23 14:44:22 | Status 200 | Endpoint: https://api.igdb.com/v4/language_supports | Batch 933 | Response time [0.79s] | Time elapsed [646.22s]\n",
      "[REQUEST] | 07/31/23 14:44:23 | Status 200 | Endpoint: https://api.igdb.com/v4/language_supports | Batch 934 | Response time [0.51s] | Time elapsed [646.73s]\n",
      "[REQUEST] | 07/31/23 14:44:23 | Status 200 | Endpoint: https://api.igdb.com/v4/language_supports | Batch 935 | Response time [0.79s] | Time elapsed [647.52s]\n",
      "[REQUEST] | 07/31/23 14:44:24 | Status 200 | Endpoint: https://api.igdb.com/v4/language_supports | Batch 936 | Response time [0.81s] | Time elapsed [648.33s]\n",
      "[REQUEST] | 07/31/23 14:44:25 | Status 200 | Endpoint: https://api.igdb.com/v4/language_supports | Batch 937 | Response time [0.49s] | Time elapsed [648.82s]\n",
      "[REQUEST] | 07/31/23 14:44:26 | Status 200 | Endpoint: https://api.igdb.com/v4/language_supports | Batch 938 | Response time [0.81s] | Time elapsed [649.63s]\n",
      "[REQUEST] | 07/31/23 14:44:26 | Status 200 | Endpoint: https://api.igdb.com/v4/language_supports | Batch 939 | Response time [0.35s] | Time elapsed [649.99s]\n",
      "[REQUEST] | 07/31/23 14:44:26 | Status 200 | Endpoint: https://api.igdb.com/v4/language_supports | Batch 940 | Response time [0.31s] | Time elapsed [650.31s]\n",
      "[REQUEST] | 07/31/23 14:44:27 | Status 200 | Endpoint: https://api.igdb.com/v4/language_supports | Batch 941 | Response time [0.78s] | Time elapsed [651.09s]\n",
      "[REQUEST] | 07/31/23 14:44:28 | Status 200 | Endpoint: https://api.igdb.com/v4/language_supports | Batch 942 | Response time [0.85s] | Time elapsed [651.94s]\n",
      "[REQUEST] | 07/31/23 14:44:29 | Status 200 | Endpoint: https://api.igdb.com/v4/language_supports | Batch 943 | Response time [0.83s] | Time elapsed [652.77s]\n",
      "[REQUEST] | 07/31/23 14:44:30 | Status 200 | Endpoint: https://api.igdb.com/v4/language_supports | Batch 944 | Response time [0.79s] | Time elapsed [653.57s]\n",
      "[REQUEST] | 07/31/23 14:44:30 | Status 200 | Endpoint: https://api.igdb.com/v4/language_supports | Batch 945 | Response time [0.8s] | Time elapsed [654.37s]\n",
      "[REQUEST] | 07/31/23 14:44:31 | Status 200 | Endpoint: https://api.igdb.com/v4/language_supports | Batch 946 | Response time [0.75s] | Time elapsed [655.12s]\n",
      "[REQUEST] | 07/31/23 14:44:32 | Status 200 | Endpoint: https://api.igdb.com/v4/language_supports | Batch 947 | Response time [0.78s] | Time elapsed [655.91s]\n",
      "[REQUEST] | 07/31/23 14:44:32 | Status 200 | Endpoint: https://api.igdb.com/v4/language_supports | Batch 948 | Response time [0.49s] | Time elapsed [656.41s]\n",
      "[REQUEST] | 07/31/23 14:44:33 | Status 200 | Endpoint: https://api.igdb.com/v4/language_supports | Batch 949 | Response time [0.5s] | Time elapsed [656.91s]\n",
      "[REQUEST] | 07/31/23 14:44:34 | Status 200 | Endpoint: https://api.igdb.com/v4/language_supports | Batch 950 | Response time [0.8s] | Time elapsed [657.71s]\n",
      "[REQUEST] | 07/31/23 14:44:34 | Status 200 | Endpoint: https://api.igdb.com/v4/language_supports | Batch 951 | Response time [0.49s] | Time elapsed [658.21s]\n",
      "[REQUEST] | 07/31/23 14:44:35 | Status 200 | Endpoint: https://api.igdb.com/v4/language_supports | Batch 952 | Response time [0.86s] | Time elapsed [659.08s]\n",
      "[REQUEST] | 07/31/23 14:44:36 | Status 200 | Endpoint: https://api.igdb.com/v4/language_supports | Batch 953 | Response time [0.81s] | Time elapsed [659.89s]\n",
      "[REQUEST] | 07/31/23 14:44:37 | Status 200 | Endpoint: https://api.igdb.com/v4/language_supports | Batch 954 | Response time [0.76s] | Time elapsed [660.66s]\n",
      "[REQUEST] | 07/31/23 14:44:37 | Status 200 | Endpoint: https://api.igdb.com/v4/language_supports | Batch 955 | Response time [0.76s] | Time elapsed [661.42s]\n",
      "[REQUEST] | 07/31/23 14:44:38 | Status 200 | Endpoint: https://api.igdb.com/v4/language_supports | Batch 956 | Response time [0.8s] | Time elapsed [662.23s]\n",
      "[REQUEST] | 07/31/23 14:44:39 | Status 200 | Endpoint: https://api.igdb.com/v4/language_supports | Batch 957 | Response time [0.8s] | Time elapsed [663.04s]\n",
      "[REQUEST] | 07/31/23 14:44:40 | Status 200 | Endpoint: https://api.igdb.com/v4/language_supports | Batch 958 | Response time [0.8s] | Time elapsed [663.84s]\n",
      "[REQUEST] | 07/31/23 14:44:41 | Status 200 | Endpoint: https://api.igdb.com/v4/language_supports | Batch 959 | Response time [0.83s] | Time elapsed [664.67s]\n",
      "[REQUEST] | 07/31/23 14:44:41 | Status 200 | Endpoint: https://api.igdb.com/v4/language_supports | Batch 960 | Response time [0.8s] | Time elapsed [665.47s]\n",
      "[REQUEST] | 07/31/23 14:44:42 | Status 200 | Endpoint: https://api.igdb.com/v4/language_supports | Batch 961 | Response time [0.5s] | Time elapsed [665.98s]\n",
      "[REQUEST] | 07/31/23 14:44:42 | Status 200 | Endpoint: https://api.igdb.com/v4/language_supports | Batch 962 | Response time [0.56s] | Time elapsed [666.54s]\n",
      "[REQUEST] | 07/31/23 14:44:43 | Status 200 | Endpoint: https://api.igdb.com/v4/language_supports | Batch 963 | Response time [0.51s] | Time elapsed [667.05s]\n",
      "[REQUEST] | 07/31/23 14:44:44 | Status 200 | Endpoint: https://api.igdb.com/v4/language_supports | Batch 964 | Response time [0.85s] | Time elapsed [667.91s]\n",
      "[REQUEST] | 07/31/23 14:44:45 | Status 200 | Endpoint: https://api.igdb.com/v4/language_supports | Batch 965 | Response time [0.8s] | Time elapsed [668.71s]\n",
      "[REQUEST] | 07/31/23 14:44:45 | Status 200 | Endpoint: https://api.igdb.com/v4/language_supports | Batch 966 | Response time [0.84s] | Time elapsed [669.55s]\n",
      "[REQUEST] | 07/31/23 14:44:46 | Status 200 | Endpoint: https://api.igdb.com/v4/language_supports | Batch 967 | Response time [0.83s] | Time elapsed [670.38s]\n",
      "[REQUEST] | 07/31/23 14:44:47 | Status 200 | Endpoint: https://api.igdb.com/v4/language_supports | Batch 968 | Response time [0.35s] | Time elapsed [670.74s]\n",
      "[REQUEST] | 07/31/23 14:44:47 | Status 200 | Endpoint: https://api.igdb.com/v4/language_supports | Batch 969 | Response time [0.78s] | Time elapsed [671.52s]\n",
      "[REQUEST] | 07/31/23 14:44:48 | Status 200 | Endpoint: https://api.igdb.com/v4/language_supports | Batch 970 | Response time [0.35s] | Time elapsed [671.87s]\n",
      "[REQUEST] | 07/31/23 14:44:49 | Status 200 | Endpoint: https://api.igdb.com/v4/language_supports | Batch 971 | Response time [0.75s] | Time elapsed [672.62s]\n",
      "[REQUEST] | 07/31/23 14:44:49 | Status 200 | Endpoint: https://api.igdb.com/v4/language_supports | Batch 972 | Response time [0.8s] | Time elapsed [673.43s]\n",
      "[REQUEST] | 07/31/23 14:44:50 | Status 200 | Endpoint: https://api.igdb.com/v4/language_supports | Batch 973 | Response time [0.32s] | Time elapsed [673.75s]\n",
      "[REQUEST] | 07/31/23 14:44:50 | Status 200 | Endpoint: https://api.igdb.com/v4/language_supports | Batch 974 | Response time [0.74s] | Time elapsed [674.5s]\n",
      "[REQUEST] | 07/31/23 14:44:51 | Status 200 | Endpoint: https://api.igdb.com/v4/language_supports | Batch 975 | Response time [0.78s] | Time elapsed [675.28s]\n",
      "[REQUEST] | 07/31/23 14:44:52 | Status 200 | Endpoint: https://api.igdb.com/v4/language_supports | Batch 976 | Response time [0.81s] | Time elapsed [676.09s]\n",
      "[REQUEST] | 07/31/23 14:44:53 | Status 200 | Endpoint: https://api.igdb.com/v4/language_supports | Batch 977 | Response time [0.83s] | Time elapsed [676.93s]\n",
      "[REQUEST] | 07/31/23 14:44:53 | Status 200 | Endpoint: https://api.igdb.com/v4/language_supports | Batch 978 | Response time [0.35s] | Time elapsed [677.28s]\n",
      "[REQUEST] | 07/31/23 14:44:54 | Status 200 | Endpoint: https://api.igdb.com/v4/language_supports | Batch 979 | Response time [0.83s] | Time elapsed [678.12s]\n",
      "[REQUEST] | 07/31/23 14:44:55 | Status 200 | Endpoint: https://api.igdb.com/v4/language_supports | Batch 980 | Response time [0.49s] | Time elapsed [678.61s]\n",
      "[REQUEST] | 07/31/23 14:44:55 | Status 200 | Endpoint: https://api.igdb.com/v4/language_supports | Batch 981 | Response time [0.81s] | Time elapsed [679.42s]\n",
      "[REQUEST] | 07/31/23 14:44:56 | Status 200 | Endpoint: https://api.igdb.com/v4/language_supports | Batch 982 | Response time [0.79s] | Time elapsed [680.21s]\n",
      "[REQUEST] | 07/31/23 14:44:57 | Status 200 | Endpoint: https://api.igdb.com/v4/language_supports | Batch 983 | Response time [0.38s] | Time elapsed [680.6s]\n",
      "[REQUEST] | 07/31/23 14:44:57 | Status 200 | Endpoint: https://api.igdb.com/v4/language_supports | Batch 984 | Response time [0.8s] | Time elapsed [681.4s]\n",
      "[REQUEST] | 07/31/23 14:44:58 | Status 200 | Endpoint: https://api.igdb.com/v4/language_supports | Batch 985 | Response time [0.81s] | Time elapsed [682.21s]\n",
      "[REQUEST] | 07/31/23 14:44:59 | Status 200 | Endpoint: https://api.igdb.com/v4/language_supports | Batch 986 | Response time [0.79s] | Time elapsed [683.0s]\n",
      "[REQUEST] | 07/31/23 14:44:59 | Status 200 | Endpoint: https://api.igdb.com/v4/language_supports | Batch 987 | Response time [0.34s] | Time elapsed [683.35s]\n",
      "[REQUEST] | 07/31/23 14:45:00 | Status 200 | Endpoint: https://api.igdb.com/v4/language_supports | Batch 988 | Response time [0.82s] | Time elapsed [684.17s]\n",
      "[REQUEST] | 07/31/23 14:45:01 | Status 200 | Endpoint: https://api.igdb.com/v4/language_supports | Batch 989 | Response time [0.79s] | Time elapsed [684.97s]\n",
      "[REQUEST] | 07/31/23 14:45:02 | Status 200 | Endpoint: https://api.igdb.com/v4/language_supports | Batch 990 | Response time [0.81s] | Time elapsed [685.78s]\n",
      "[REQUEST] | 07/31/23 14:45:02 | Status 200 | Endpoint: https://api.igdb.com/v4/language_supports | Batch 991 | Response time [0.33s] | Time elapsed [686.11s]\n",
      "[REQUEST] | 07/31/23 14:45:03 | Status 200 | Endpoint: https://api.igdb.com/v4/language_supports | Batch 992 | Response time [0.52s] | Time elapsed [686.64s]\n",
      "[REQUEST] | 07/31/23 14:45:03 | Status 200 | Endpoint: https://api.igdb.com/v4/language_supports | Batch 993 | Response time [0.81s] | Time elapsed [687.45s]\n",
      "[REQUEST] | 07/31/23 14:45:04 | Status 200 | Endpoint: https://api.igdb.com/v4/language_supports | Batch 994 | Response time [0.79s] | Time elapsed [688.25s]\n",
      "[REQUEST] | 07/31/23 14:45:05 | Status 200 | Endpoint: https://api.igdb.com/v4/language_supports | Batch 995 | Response time [0.52s] | Time elapsed [688.78s]\n",
      "[REQUEST] | 07/31/23 14:45:06 | Status 200 | Endpoint: https://api.igdb.com/v4/language_supports | Batch 996 | Response time [0.84s] | Time elapsed [689.62s]\n",
      "[REQUEST] | 07/31/23 14:45:06 | Status 200 | Endpoint: https://api.igdb.com/v4/language_supports | Batch 997 | Response time [0.82s] | Time elapsed [690.45s]\n",
      "[REQUEST] | 07/31/23 14:45:07 | Status 200 | Endpoint: https://api.igdb.com/v4/language_supports | Batch 998 | Response time [0.78s] | Time elapsed [691.23s]\n",
      "[REQUEST] | 07/31/23 14:45:08 | Status 200 | Endpoint: https://api.igdb.com/v4/language_supports | Batch 999 | Response time [0.82s] | Time elapsed [692.05s]\n",
      "[REQUEST] | 07/31/23 14:45:09 | Status 200 | Endpoint: https://api.igdb.com/v4/language_supports | Batch 1000 | Response time [0.84s] | Time elapsed [692.89s]\n",
      "[REQUEST] | 07/31/23 14:45:10 | Status 200 | Endpoint: https://api.igdb.com/v4/language_supports | Batch 1001 | Response time [0.8s] | Time elapsed [693.7s]\n",
      "[REQUEST] | 07/31/23 14:45:10 | Status 200 | Endpoint: https://api.igdb.com/v4/language_supports | Batch 1002 | Response time [0.8s] | Time elapsed [694.5s]\n",
      "[REQUEST] | 07/31/23 14:45:11 | Status 200 | Endpoint: https://api.igdb.com/v4/language_supports | Batch 1003 | Response time [0.9s] | Time elapsed [695.41s]\n",
      "[REQUEST] | 07/31/23 14:45:12 | Status 200 | Endpoint: https://api.igdb.com/v4/language_supports | Batch 1004 | Response time [0.53s] | Time elapsed [695.94s]\n",
      "[REQUEST] | 07/31/23 14:45:13 | Status 200 | Endpoint: https://api.igdb.com/v4/language_supports | Batch 1005 | Response time [0.83s] | Time elapsed [696.76s]\n",
      "[REQUEST] | 07/31/23 14:45:13 | Status 200 | Endpoint: https://api.igdb.com/v4/language_supports | Batch 1006 | Response time [0.78s] | Time elapsed [697.55s]\n",
      "[REQUEST] | 07/31/23 14:45:14 | Status 200 | Endpoint: https://api.igdb.com/v4/language_supports | Batch 1007 | Response time [0.78s] | Time elapsed [698.33s]\n",
      "[REQUEST] | 07/31/23 14:45:15 | Status 200 | Endpoint: https://api.igdb.com/v4/language_supports | Batch 1008 | Response time [0.8s] | Time elapsed [699.14s]\n",
      "[REQUEST] | 07/31/23 14:45:15 | Status 200 | Endpoint: https://api.igdb.com/v4/language_supports | Batch 1009 | Response time [0.34s] | Time elapsed [699.48s]\n",
      "[REQUEST] | 07/31/23 14:45:16 | Status 200 | Endpoint: https://api.igdb.com/v4/language_supports | Batch 1010 | Response time [0.86s] | Time elapsed [700.35s]\n",
      "[REQUEST] | 07/31/23 14:45:17 | Status 200 | Endpoint: https://api.igdb.com/v4/language_supports | Batch 1011 | Response time [0.8s] | Time elapsed [701.16s]\n",
      "[REQUEST] | 07/31/23 14:45:18 | Status 200 | Endpoint: https://api.igdb.com/v4/language_supports | Batch 1012 | Response time [0.83s] | Time elapsed [702.0s]\n",
      "[REQUEST] | 07/31/23 14:45:19 | Status 200 | Endpoint: https://api.igdb.com/v4/language_supports | Batch 1013 | Response time [0.82s] | Time elapsed [702.82s]\n",
      "[REQUEST] | 07/31/23 14:45:19 | Status 200 | Endpoint: https://api.igdb.com/v4/language_supports | Batch 1014 | Response time [0.34s] | Time elapsed [703.16s]\n",
      "[REQUEST] | 07/31/23 14:45:19 | Status 200 | Endpoint: https://api.igdb.com/v4/language_supports | Batch 1015 | Response time [0.34s] | Time elapsed [703.5s]\n",
      "[REQUEST] | 07/31/23 14:45:20 | Status 200 | Endpoint: https://api.igdb.com/v4/language_supports | Batch 1016 | Response time [0.8s] | Time elapsed [704.3s]\n",
      "[REQUEST] | 07/31/23 14:45:21 | Status 200 | Endpoint: https://api.igdb.com/v4/language_supports | Batch 1017 | Response time [0.37s] | Time elapsed [704.68s]\n",
      "[REQUEST] | 07/31/23 14:45:21 | Status 200 | Endpoint: https://api.igdb.com/v4/language_supports | Batch 1018 | Response time [0.8s] | Time elapsed [705.49s]\n",
      "[REQUEST] | 07/31/23 14:45:22 | Status 200 | Endpoint: https://api.igdb.com/v4/language_supports | Batch 1019 | Response time [0.83s] | Time elapsed [706.32s]\n",
      "[REQUEST] | 07/31/23 14:45:23 | Status 200 | Endpoint: https://api.igdb.com/v4/language_supports | Batch 1020 | Response time [0.76s] | Time elapsed [707.09s]\n",
      "[REQUEST] | 07/31/23 14:45:23 | Status 200 | Endpoint: https://api.igdb.com/v4/language_supports | Batch 1021 | Response time [0.33s] | Time elapsed [707.42s]\n",
      "[REQUEST] | 07/31/23 14:45:24 | Status 200 | Endpoint: https://api.igdb.com/v4/language_supports | Batch 1022 | Response time [0.86s] | Time elapsed [708.28s]\n",
      "[REQUEST] | 07/31/23 14:45:25 | Status 200 | Endpoint: https://api.igdb.com/v4/language_supports | Batch 1023 | Response time [0.81s] | Time elapsed [709.09s]\n",
      "[REQUEST] | 07/31/23 14:45:26 | Status 200 | Endpoint: https://api.igdb.com/v4/language_supports | Batch 1024 | Response time [0.76s] | Time elapsed [709.86s]\n",
      "[REQUEST] | 07/31/23 14:45:26 | Status 200 | Endpoint: https://api.igdb.com/v4/language_supports | Batch 1025 | Response time [0.31s] | Time elapsed [710.17s]\n",
      "[REQUEST] | 07/31/23 14:45:27 | Status 200 | Endpoint: https://api.igdb.com/v4/language_supports | Batch 1026 | Response time [0.81s] | Time elapsed [710.99s]\n",
      "[REQUEST] | 07/31/23 14:45:28 | Status 200 | Endpoint: https://api.igdb.com/v4/language_supports | Batch 1027 | Response time [0.9s] | Time elapsed [711.89s]\n",
      "[REQUEST] | 07/31/23 14:45:29 | Status 200 | Endpoint: https://api.igdb.com/v4/language_supports | Batch 1028 | Response time [0.85s] | Time elapsed [712.75s]\n",
      "[REQUEST] | 07/31/23 14:45:30 | Status 200 | Endpoint: https://api.igdb.com/v4/language_supports | Batch 1029 | Response time [0.81s] | Time elapsed [713.56s]\n",
      "[REQUEST] | 07/31/23 14:45:30 | Status 200 | Endpoint: https://api.igdb.com/v4/language_supports | Batch 1030 | Response time [0.81s] | Time elapsed [714.37s]\n",
      "[REQUEST] | 07/31/23 14:45:31 | Status 200 | Endpoint: https://api.igdb.com/v4/language_supports | Batch 1031 | Response time [0.81s] | Time elapsed [715.19s]\n",
      "[REQUEST] | 07/31/23 14:45:32 | Status 200 | Endpoint: https://api.igdb.com/v4/language_supports | Batch 1032 | Response time [0.5s] | Time elapsed [715.69s]\n",
      "[REQUEST] | 07/31/23 14:45:32 | Status 200 | Endpoint: https://api.igdb.com/v4/language_supports | Batch 1033 | Response time [0.8s] | Time elapsed [716.49s]\n",
      "[REQUEST] | 07/31/23 14:45:33 | Status 200 | Endpoint: https://api.igdb.com/v4/language_supports | Batch 1034 | Response time [0.78s] | Time elapsed [717.28s]\n",
      "[REQUEST] | 07/31/23 14:45:34 | Status 200 | Endpoint: https://api.igdb.com/v4/language_supports | Batch 1035 | Response time [0.8s] | Time elapsed [718.08s]\n",
      "[REQUEST] | 07/31/23 14:45:35 | Status 200 | Endpoint: https://api.igdb.com/v4/language_supports | Batch 1036 | Response time [0.77s] | Time elapsed [718.85s]\n",
      "[REQUEST] | 07/31/23 14:45:36 | Status 200 | Endpoint: https://api.igdb.com/v4/language_supports | Batch 1037 | Response time [0.81s] | Time elapsed [719.67s]\n",
      "[REQUEST] | 07/31/23 14:45:36 | Status 200 | Endpoint: https://api.igdb.com/v4/language_supports | Batch 1038 | Response time [0.33s] | Time elapsed [720.01s]\n",
      "[REQUEST] | 07/31/23 14:45:37 | Status 200 | Endpoint: https://api.igdb.com/v4/language_supports | Batch 1039 | Response time [0.83s] | Time elapsed [720.84s]\n",
      "[REQUEST] | 07/31/23 14:45:38 | Status 200 | Endpoint: https://api.igdb.com/v4/language_supports | Batch 1040 | Response time [0.82s] | Time elapsed [721.66s]\n",
      "[REQUEST] | 07/31/23 14:45:38 | Status 200 | Endpoint: https://api.igdb.com/v4/language_supports | Batch 1041 | Response time [0.49s] | Time elapsed [722.15s]\n",
      "[REQUEST] | 07/31/23 14:45:39 | Status 200 | Endpoint: https://api.igdb.com/v4/language_supports | Batch 1042 | Response time [0.81s] | Time elapsed [722.97s]\n",
      "[REQUEST] | 07/31/23 14:45:39 | Status 200 | Endpoint: https://api.igdb.com/v4/language_supports | Batch 1043 | Response time [0.33s] | Time elapsed [723.3s]\n",
      "[REQUEST] | 07/31/23 14:45:40 | Status 200 | Endpoint: https://api.igdb.com/v4/language_supports | Batch 1044 | Response time [0.81s] | Time elapsed [724.11s]\n",
      "[REQUEST] | 07/31/23 14:45:41 | Status 200 | Endpoint: https://api.igdb.com/v4/language_supports | Batch 1045 | Response time [0.81s] | Time elapsed [724.93s]\n",
      "[REQUEST] | 07/31/23 14:45:42 | Status 200 | Endpoint: https://api.igdb.com/v4/language_supports | Batch 1046 | Response time [0.79s] | Time elapsed [725.72s]\n",
      "[REQUEST] | 07/31/23 14:45:42 | Status 200 | Endpoint: https://api.igdb.com/v4/language_supports | Batch 1047 | Response time [0.37s] | Time elapsed [726.09s]\n",
      "[REQUEST] | 07/31/23 14:45:43 | Status 200 | Endpoint: https://api.igdb.com/v4/language_supports | Batch 1048 | Response time [0.48s] | Time elapsed [726.57s]\n",
      "[REQUEST] | 07/31/23 14:45:43 | Status 200 | Endpoint: https://api.igdb.com/v4/language_supports | Batch 1049 | Response time [0.37s] | Time elapsed [726.94s]\n",
      "[REQUEST] | 07/31/23 14:45:44 | Status 200 | Endpoint: https://api.igdb.com/v4/language_supports | Batch 1050 | Response time [0.82s] | Time elapsed [727.77s]\n",
      "[REQUEST] | 07/31/23 14:45:44 | Status 200 | Endpoint: https://api.igdb.com/v4/language_supports | Batch 1051 | Response time [0.4s] | Time elapsed [728.17s]\n",
      "[REQUEST] | 07/31/23 14:45:45 | Status 200 | Endpoint: https://api.igdb.com/v4/language_supports | Batch 1052 | Response time [0.81s] | Time elapsed [728.98s]\n",
      "[REQUEST] | 07/31/23 14:45:45 | Status 200 | Endpoint: https://api.igdb.com/v4/language_supports | Batch 1053 | Response time [0.52s] | Time elapsed [729.5s]\n",
      "[REQUEST] | 07/31/23 14:45:46 | Status 200 | Endpoint: https://api.igdb.com/v4/language_supports | Batch 1054 | Response time [0.78s] | Time elapsed [730.28s]\n",
      "[REQUEST] | 07/31/23 14:45:47 | Status 200 | Endpoint: https://api.igdb.com/v4/language_supports | Batch 1055 | Response time [0.81s] | Time elapsed [731.1s]\n",
      "[REQUEST] | 07/31/23 14:45:48 | Status 200 | Endpoint: https://api.igdb.com/v4/language_supports | Batch 1056 | Response time [0.78s] | Time elapsed [731.87s]\n",
      "[REQUEST] | 07/31/23 14:45:49 | Status 200 | Endpoint: https://api.igdb.com/v4/language_supports | Batch 1057 | Response time [0.79s] | Time elapsed [732.67s]\n",
      "[REQUEST] | 07/31/23 14:45:49 | Status 200 | Endpoint: https://api.igdb.com/v4/language_supports | Batch 1058 | Response time [0.77s] | Time elapsed [733.45s]\n",
      "[REQUEST] | 07/31/23 14:45:50 | Status 200 | Endpoint: https://api.igdb.com/v4/language_supports | Batch 1059 | Response time [0.48s] | Time elapsed [733.93s]\n",
      "[REQUEST] | 07/31/23 14:45:51 | Status 200 | Endpoint: https://api.igdb.com/v4/language_supports | Batch 1060 | Response time [0.82s] | Time elapsed [734.76s]\n",
      "[REQUEST] | 07/31/23 14:45:51 | Status 200 | Endpoint: https://api.igdb.com/v4/language_supports | Batch 1061 | Response time [0.77s] | Time elapsed [735.53s]\n",
      "[REQUEST] | 07/31/23 14:45:52 | Status 200 | Endpoint: https://api.igdb.com/v4/language_supports | Batch 1062 | Response time [0.33s] | Time elapsed [735.86s]\n",
      "[REQUEST] | 07/31/23 14:45:52 | Status 200 | Endpoint: https://api.igdb.com/v4/language_supports | Batch 1063 | Response time [0.51s] | Time elapsed [736.37s]\n",
      "[REQUEST] | 07/31/23 14:45:53 | Status 200 | Endpoint: https://api.igdb.com/v4/language_supports | Batch 1064 | Response time [0.47s] | Time elapsed [736.84s]\n",
      "[REQUEST] | 07/31/23 14:45:54 | Status 200 | Endpoint: https://api.igdb.com/v4/language_supports | Batch 1065 | Response time [0.8s] | Time elapsed [737.64s]\n",
      "[REQUEST] | 07/31/23 14:45:54 | Status 200 | Endpoint: https://api.igdb.com/v4/language_supports | Batch 1066 | Response time [0.8s] | Time elapsed [738.44s]\n",
      "[REQUEST] | 07/31/23 14:45:55 | Status 200 | Endpoint: https://api.igdb.com/v4/language_supports | Batch 1067 | Response time [0.86s] | Time elapsed [739.3s]\n",
      "[REQUEST] | 07/31/23 14:45:56 | Status 200 | Endpoint: https://api.igdb.com/v4/language_supports | Batch 1068 | Response time [0.39s] | Time elapsed [739.69s]\n",
      "[REQUEST] | 07/31/23 14:45:56 | Status 200 | Endpoint: https://api.igdb.com/v4/language_supports | Batch 1069 | Response time [0.5s] | Time elapsed [740.2s]\n",
      "[REQUEST] | 07/31/23 14:45:57 | Status 200 | Endpoint: https://api.igdb.com/v4/language_supports | Batch 1070 | Response time [0.79s] | Time elapsed [740.99s]\n",
      "[REQUEST] | 07/31/23 14:45:58 | Status 200 | Endpoint: https://api.igdb.com/v4/language_supports | Batch 1071 | Response time [0.76s] | Time elapsed [741.75s]\n",
      "[REQUEST] | 07/31/23 14:45:58 | Status 200 | Endpoint: https://api.igdb.com/v4/language_supports | Batch 1072 | Response time [0.48s] | Time elapsed [742.24s]\n",
      "[REQUEST] | 07/31/23 14:45:59 | Status 200 | Endpoint: https://api.igdb.com/v4/language_supports | Batch 1073 | Response time [0.78s] | Time elapsed [743.02s]\n",
      "[REQUEST] | 07/31/23 14:46:00 | Status 200 | Endpoint: https://api.igdb.com/v4/language_supports | Batch 1074 | Response time [0.81s] | Time elapsed [743.83s]\n",
      "[REQUEST] | 07/31/23 14:46:00 | Status 200 | Endpoint: https://api.igdb.com/v4/language_supports | Batch 1075 | Response time [0.34s] | Time elapsed [744.17s]\n",
      "[REQUEST] | 07/31/23 14:46:01 | Status 200 | Endpoint: https://api.igdb.com/v4/language_supports | Batch 1076 | Response time [0.79s] | Time elapsed [744.96s]\n",
      "[REQUEST] | 07/31/23 14:46:02 | Status 200 | Endpoint: https://api.igdb.com/v4/language_supports | Batch 1077 | Response time [0.91s] | Time elapsed [745.87s]\n",
      "[REQUEST] | 07/31/23 14:46:03 | Status 200 | Endpoint: https://api.igdb.com/v4/language_supports | Batch 1078 | Response time [0.79s] | Time elapsed [746.67s]\n",
      "[REQUEST] | 07/31/23 14:46:03 | Status 200 | Endpoint: https://api.igdb.com/v4/language_supports | Batch 1079 | Response time [0.51s] | Time elapsed [747.18s]\n",
      "[REQUEST] | 07/31/23 14:46:04 | Status 200 | Endpoint: https://api.igdb.com/v4/language_supports | Batch 1080 | Response time [0.89s] | Time elapsed [748.08s]\n",
      "[REQUEST] | 07/31/23 14:46:05 | Status 200 | Endpoint: https://api.igdb.com/v4/language_supports | Batch 1081 | Response time [0.88s] | Time elapsed [748.97s]\n",
      "[REQUEST] | 07/31/23 14:46:06 | Status 200 | Endpoint: https://api.igdb.com/v4/language_supports | Batch 1082 | Response time [0.81s] | Time elapsed [749.77s]\n",
      "[REQUEST] | 07/31/23 14:46:07 | Status 200 | Endpoint: https://api.igdb.com/v4/language_supports | Batch 1083 | Response time [0.79s] | Time elapsed [750.56s]\n",
      "[REQUEST] | 07/31/23 14:46:07 | Status 200 | Endpoint: https://api.igdb.com/v4/language_supports | Batch 1084 | Response time [0.85s] | Time elapsed [751.41s]\n",
      "[REQUEST] | 07/31/23 14:46:08 | Status 200 | Endpoint: https://api.igdb.com/v4/language_supports | Batch 1085 | Response time [0.8s] | Time elapsed [752.22s]\n",
      "[REQUEST] | 07/31/23 14:46:09 | Status 200 | Endpoint: https://api.igdb.com/v4/language_supports | Batch 1086 | Response time [0.77s] | Time elapsed [752.99s]\n",
      "[REQUEST] | 07/31/23 14:46:10 | Status 200 | Endpoint: https://api.igdb.com/v4/language_supports | Batch 1087 | Response time [0.79s] | Time elapsed [753.79s]\n",
      "[REQUEST] | 07/31/23 14:46:11 | Status 200 | Endpoint: https://api.igdb.com/v4/language_supports | Batch 1088 | Response time [0.91s] | Time elapsed [754.69s]\n",
      "[REQUEST] | 07/31/23 14:46:11 | Status 200 | Endpoint: https://api.igdb.com/v4/language_supports | Batch 1089 | Response time [0.81s] | Time elapsed [755.5s]\n",
      "[REQUEST] | 07/31/23 14:46:12 | Status 200 | Endpoint: https://api.igdb.com/v4/language_supports | Batch 1090 | Response time [0.3s] | Time elapsed [755.81s]\n",
      "[REQUEST] | 07/31/23 14:46:13 | Status 200 | Endpoint: https://api.igdb.com/v4/language_supports | Batch 1091 | Response time [0.8s] | Time elapsed [756.61s]\n",
      "[REQUEST] | 07/31/23 14:46:13 | Status 200 | Endpoint: https://api.igdb.com/v4/language_supports | Batch 1092 | Response time [0.8s] | Time elapsed [757.41s]\n",
      "[REQUEST] | 07/31/23 14:46:14 | Status 200 | Endpoint: https://api.igdb.com/v4/language_supports | Batch 1093 | Response time [0.34s] | Time elapsed [757.75s]\n",
      "[REQUEST] | 07/31/23 14:46:15 | Status 200 | Endpoint: https://api.igdb.com/v4/language_supports | Batch 1094 | Response time [0.88s] | Time elapsed [758.64s]\n",
      "[REQUEST] | 07/31/23 14:46:15 | Status 200 | Endpoint: https://api.igdb.com/v4/language_supports | Batch 1095 | Response time [0.8s] | Time elapsed [759.44s]\n",
      "[REQUEST] | 07/31/23 14:46:16 | Status 200 | Endpoint: https://api.igdb.com/v4/language_supports | Batch 1096 | Response time [0.77s] | Time elapsed [760.22s]\n",
      "[REQUEST] | 07/31/23 14:46:17 | Status 200 | Endpoint: https://api.igdb.com/v4/language_supports | Batch 1097 | Response time [0.8s] | Time elapsed [761.02s]\n",
      "[REQUEST] | 07/31/23 14:46:18 | Status 200 | Endpoint: https://api.igdb.com/v4/language_supports | Batch 1098 | Response time [0.78s] | Time elapsed [761.81s]\n",
      "[REQUEST] | 07/31/23 14:46:18 | Status 200 | Endpoint: https://api.igdb.com/v4/language_supports | Batch 1099 | Response time [0.32s] | Time elapsed [762.13s]\n",
      "[REQUEST] | 07/31/23 14:46:19 | Status 200 | Endpoint: https://api.igdb.com/v4/language_supports | Batch 1100 | Response time [0.85s] | Time elapsed [762.98s]\n",
      "[REQUEST] | 07/31/23 14:46:19 | Status 200 | Endpoint: https://api.igdb.com/v4/language_supports | Batch 1101 | Response time [0.36s] | Time elapsed [763.34s]\n",
      "[REQUEST] | 07/31/23 14:46:20 | Status 200 | Endpoint: https://api.igdb.com/v4/language_supports | Batch 1102 | Response time [0.82s] | Time elapsed [764.16s]\n",
      "[REQUEST] | 07/31/23 14:46:21 | Status 200 | Endpoint: https://api.igdb.com/v4/language_supports | Batch 1103 | Response time [0.79s] | Time elapsed [764.95s]\n",
      "[REQUEST] | 07/31/23 14:46:22 | Status 200 | Endpoint: https://api.igdb.com/v4/language_supports | Batch 1104 | Response time [0.86s] | Time elapsed [765.81s]\n",
      "[REQUEST] | 07/31/23 14:46:23 | Status 200 | Endpoint: https://api.igdb.com/v4/language_supports | Batch 1105 | Response time [0.77s] | Time elapsed [766.59s]\n",
      "[REQUEST] | 07/31/23 14:46:23 | Status 200 | Endpoint: https://api.igdb.com/v4/language_supports | Batch 1106 | Response time [0.83s] | Time elapsed [767.42s]\n",
      "[REQUEST] | 07/31/23 14:46:24 | Status 200 | Endpoint: https://api.igdb.com/v4/language_supports | Batch 1107 | Response time [0.88s] | Time elapsed [768.3s]\n",
      "[REQUEST] | 07/31/23 14:46:25 | Status 200 | Endpoint: https://api.igdb.com/v4/language_supports | Batch 1108 | Response time [0.79s] | Time elapsed [769.1s]\n",
      "[REQUEST] | 07/31/23 14:46:26 | Status 200 | Endpoint: https://api.igdb.com/v4/language_supports | Batch 1109 | Response time [0.81s] | Time elapsed [769.9s]\n",
      "[REQUEST] | 07/31/23 14:46:27 | Status 200 | Endpoint: https://api.igdb.com/v4/language_supports | Batch 1110 | Response time [1.01s] | Time elapsed [770.92s]\n",
      "[REQUEST] | 07/31/23 14:46:28 | Status 200 | Endpoint: https://api.igdb.com/v4/language_supports | Batch 1111 | Response time [0.93s] | Time elapsed [771.85s]\n",
      "[REQUEST] | 07/31/23 14:46:29 | Status 200 | Endpoint: https://api.igdb.com/v4/language_supports | Batch 1112 | Response time [1.01s] | Time elapsed [772.87s]\n",
      "[REQUEST] | 07/31/23 14:46:30 | Status 200 | Endpoint: https://api.igdb.com/v4/language_supports | Batch 1113 | Response time [0.7s] | Time elapsed [773.57s]\n",
      "[REQUEST] | 07/31/23 14:46:30 | Status 200 | Endpoint: https://api.igdb.com/v4/language_supports | Batch 1114 | Response time [0.73s] | Time elapsed [774.3s]\n",
      "[REQUEST] | 07/31/23 14:46:31 | Status 200 | Endpoint: https://api.igdb.com/v4/language_supports | Batch 1115 | Response time [1.14s] | Time elapsed [775.45s]\n",
      "[REQUEST] | 07/31/23 14:46:33 | Status 200 | Endpoint: https://api.igdb.com/v4/language_supports | Batch 1116 | Response time [1.13s] | Time elapsed [776.58s]\n",
      "[REQUEST] | 07/31/23 14:46:33 | Status 200 | Endpoint: https://api.igdb.com/v4/language_supports | Batch 1117 | Response time [0.96s] | Time elapsed [777.55s]\n",
      "[REQUEST] | 07/31/23 14:46:34 | Status 200 | Endpoint: https://api.igdb.com/v4/language_supports | Batch 1118 | Response time [1.0s] | Time elapsed [778.55s]\n",
      "[REQUEST] | 07/31/23 14:46:35 | Status 200 | Endpoint: https://api.igdb.com/v4/language_supports | Batch 1119 | Response time [0.93s] | Time elapsed [779.48s]\n",
      "[REQUEST] | 07/31/23 14:46:36 | Status 200 | Endpoint: https://api.igdb.com/v4/language_supports | Batch 1120 | Response time [0.99s] | Time elapsed [780.48s]\n",
      "[REQUEST] | 07/31/23 14:46:37 | Status 200 | Endpoint: https://api.igdb.com/v4/language_supports | Batch 1121 | Response time [0.57s] | Time elapsed [781.05s]\n",
      "[REQUEST] | 07/31/23 14:46:38 | Status 200 | Endpoint: https://api.igdb.com/v4/language_supports | Batch 1122 | Response time [0.89s] | Time elapsed [781.95s]\n",
      "[REQUEST] | 07/31/23 14:46:39 | Status 200 | Endpoint: https://api.igdb.com/v4/language_supports | Batch 1123 | Response time [0.83s] | Time elapsed [782.79s]\n",
      "[REQUEST] | 07/31/23 14:46:40 | Status 200 | Endpoint: https://api.igdb.com/v4/language_supports | Batch 1124 | Response time [0.89s] | Time elapsed [783.68s]\n",
      "[REQUEST] | 07/31/23 14:46:40 | Status 200 | Endpoint: https://api.igdb.com/v4/language_supports | Batch 1125 | Response time [0.8s] | Time elapsed [784.48s]\n",
      "[REQUEST] | 07/31/23 14:46:41 | Status 200 | Endpoint: https://api.igdb.com/v4/language_supports | Batch 1126 | Response time [0.81s] | Time elapsed [785.3s]\n",
      "[REQUEST] | 07/31/23 14:46:42 | Status 200 | Endpoint: https://api.igdb.com/v4/language_supports | Batch 1127 | Response time [0.34s] | Time elapsed [785.64s]\n",
      "[REQUEST] | 07/31/23 14:46:42 | Status 200 | Endpoint: https://api.igdb.com/v4/language_supports | Batch 1128 | Response time [0.47s] | Time elapsed [786.12s]\n",
      "[REQUEST] | 07/31/23 14:46:43 | Status 200 | Endpoint: https://api.igdb.com/v4/language_supports | Batch 1129 | Response time [0.47s] | Time elapsed [786.59s]\n",
      "[REQUEST] | 07/31/23 14:46:43 | Status 200 | Endpoint: https://api.igdb.com/v4/language_supports | Batch 1130 | Response time [0.81s] | Time elapsed [787.4s]\n",
      "[REQUEST] | 07/31/23 14:46:44 | Status 200 | Endpoint: https://api.igdb.com/v4/language_supports | Batch 1131 | Response time [0.5s] | Time elapsed [787.9s]\n",
      "[REQUEST] | 07/31/23 14:46:45 | Status 200 | Endpoint: https://api.igdb.com/v4/language_supports | Batch 1132 | Response time [0.8s] | Time elapsed [788.7s]\n",
      "[REQUEST] | 07/31/23 14:46:45 | Status 200 | Endpoint: https://api.igdb.com/v4/language_supports | Batch 1133 | Response time [0.34s] | Time elapsed [789.04s]\n",
      "[REQUEST] | 07/31/23 14:46:45 | Status 200 | Endpoint: https://api.igdb.com/v4/language_supports | Batch 1134 | Response time [0.35s] | Time elapsed [789.39s]\n",
      "[REQUEST] | 07/31/23 14:46:46 | Status 200 | Endpoint: https://api.igdb.com/v4/language_supports | Batch 1135 | Response time [0.51s] | Time elapsed [789.9s]\n",
      "[REQUEST] | 07/31/23 14:46:46 | Status 200 | Endpoint: https://api.igdb.com/v4/language_supports | Batch 1136 | Response time [0.33s] | Time elapsed [790.24s]\n",
      "[REQUEST] | 07/31/23 14:46:47 | Status 200 | Endpoint: https://api.igdb.com/v4/language_supports | Batch 1137 | Response time [0.82s] | Time elapsed [791.07s]\n",
      "[REQUEST] | 07/31/23 14:46:48 | Status 200 | Endpoint: https://api.igdb.com/v4/language_supports | Batch 1138 | Response time [0.8s] | Time elapsed [791.87s]\n",
      "[REQUEST] | 07/31/23 14:46:49 | Status 200 | Endpoint: https://api.igdb.com/v4/language_supports | Batch 1139 | Response time [0.81s] | Time elapsed [792.69s]\n",
      "[REQUEST] | 07/31/23 14:46:49 | Status 200 | Endpoint: https://api.igdb.com/v4/language_supports | Batch 1140 | Response time [0.77s] | Time elapsed [793.46s]\n",
      "[REQUEST] | 07/31/23 14:46:50 | Status 200 | Endpoint: https://api.igdb.com/v4/language_supports | Batch 1141 | Response time [0.81s] | Time elapsed [794.27s]\n",
      "[REQUEST] | 07/31/23 14:46:51 | Status 200 | Endpoint: https://api.igdb.com/v4/language_supports | Batch 1142 | Response time [0.82s] | Time elapsed [795.09s]\n",
      "[REQUEST] | 07/31/23 14:46:52 | Status 200 | Endpoint: https://api.igdb.com/v4/language_supports | Batch 1143 | Response time [0.77s] | Time elapsed [795.87s]\n",
      "[REQUEST] | 07/31/23 14:46:53 | Status 200 | Endpoint: https://api.igdb.com/v4/language_supports | Batch 1144 | Response time [0.81s] | Time elapsed [796.68s]\n",
      "[REQUEST] | 07/31/23 14:46:53 | Status 200 | Endpoint: https://api.igdb.com/v4/language_supports | Batch 1145 | Response time [0.81s] | Time elapsed [797.49s]\n",
      "[REQUEST] | 07/31/23 14:46:54 | Status 200 | Endpoint: https://api.igdb.com/v4/language_supports | Batch 1146 | Response time [0.81s] | Time elapsed [798.3s]\n",
      "[REQUEST] | 07/31/23 14:46:55 | Status 200 | Endpoint: https://api.igdb.com/v4/language_supports | Batch 1147 | Response time [0.33s] | Time elapsed [798.63s]\n",
      "[REQUEST] | 07/31/23 14:46:55 | Status 200 | Endpoint: https://api.igdb.com/v4/language_supports | Batch 1148 | Response time [0.78s] | Time elapsed [799.41s]\n",
      "[REQUEST] | 07/31/23 14:46:56 | Status 200 | Endpoint: https://api.igdb.com/v4/language_supports | Batch 1149 | Response time [0.8s] | Time elapsed [800.21s]\n",
      "[REQUEST] | 07/31/23 14:46:57 | Status 200 | Endpoint: https://api.igdb.com/v4/language_supports | Batch 1150 | Response time [0.81s] | Time elapsed [801.03s]\n",
      "[REQUEST] | 07/31/23 14:46:58 | Status 200 | Endpoint: https://api.igdb.com/v4/language_supports | Batch 1151 | Response time [0.8s] | Time elapsed [801.83s]\n",
      "[REQUEST] | 07/31/23 14:46:59 | Status 200 | Endpoint: https://api.igdb.com/v4/language_supports | Batch 1152 | Response time [0.8s] | Time elapsed [802.63s]\n",
      "[REQUEST] | 07/31/23 14:46:59 | Status 200 | Endpoint: https://api.igdb.com/v4/language_supports | Batch 1153 | Response time [0.35s] | Time elapsed [802.98s]\n",
      "[REQUEST] | 07/31/23 14:47:00 | Status 200 | Endpoint: https://api.igdb.com/v4/language_supports | Batch 1154 | Response time [0.8s] | Time elapsed [803.79s]\n",
      "[REQUEST] | 07/31/23 14:47:00 | Status 200 | Endpoint: https://api.igdb.com/v4/language_supports | Batch 1155 | Response time [0.51s] | Time elapsed [804.31s]\n",
      "[REQUEST] | 07/31/23 14:47:01 | Status 200 | Endpoint: https://api.igdb.com/v4/language_supports | Batch 1156 | Response time [0.81s] | Time elapsed [805.12s]\n",
      "[REQUEST] | 07/31/23 14:47:02 | Status 200 | Endpoint: https://api.igdb.com/v4/language_supports | Batch 1157 | Response time [0.77s] | Time elapsed [805.89s]\n",
      "[REQUEST] | 07/31/23 14:47:03 | Status 200 | Endpoint: https://api.igdb.com/v4/language_supports | Batch 1158 | Response time [0.78s] | Time elapsed [806.67s]\n",
      "[REQUEST] | 07/31/23 14:47:03 | Status 200 | Endpoint: https://api.igdb.com/v4/language_supports | Batch 1159 | Response time [0.34s] | Time elapsed [807.02s]\n",
      "[REQUEST] | 07/31/23 14:47:04 | Status 200 | Endpoint: https://api.igdb.com/v4/language_supports | Batch 1160 | Response time [0.8s] | Time elapsed [807.83s]\n",
      "[REQUEST] | 07/31/23 14:47:04 | Status 200 | Endpoint: https://api.igdb.com/v4/language_supports | Batch 1161 | Response time [0.35s] | Time elapsed [808.18s]\n",
      "[REQUEST] | 07/31/23 14:47:05 | Status 200 | Endpoint: https://api.igdb.com/v4/language_supports | Batch 1162 | Response time [0.83s] | Time elapsed [809.01s]\n",
      "[REQUEST] | 07/31/23 14:47:06 | Status 200 | Endpoint: https://api.igdb.com/v4/language_supports | Batch 1163 | Response time [0.81s] | Time elapsed [809.82s]\n",
      "[REQUEST] | 07/31/23 14:47:06 | Status 200 | Endpoint: https://api.igdb.com/v4/language_supports | Batch 1164 | Response time [0.51s] | Time elapsed [810.33s]\n",
      "[REQUEST] | 07/31/23 14:47:07 | Status 200 | Endpoint: https://api.igdb.com/v4/language_supports | Batch 1165 | Response time [0.91s] | Time elapsed [811.25s]\n",
      "[REQUEST] | 07/31/23 14:47:08 | Status 200 | Endpoint: https://api.igdb.com/v4/language_supports | Batch 1166 | Response time [0.9s] | Time elapsed [812.15s]\n",
      "[REQUEST] | 07/31/23 14:47:09 | Status 200 | Endpoint: https://api.igdb.com/v4/language_supports | Batch 1167 | Response time [0.83s] | Time elapsed [812.99s]\n",
      "[REQUEST] | 07/31/23 14:47:10 | Status 200 | Endpoint: https://api.igdb.com/v4/language_supports | Batch 1168 | Response time [0.86s] | Time elapsed [813.85s]\n",
      "[REQUEST] | 07/31/23 14:47:10 | Status 200 | Endpoint: https://api.igdb.com/v4/language_supports | Batch 1169 | Response time [0.38s] | Time elapsed [814.24s]\n",
      "[REQUEST] | 07/31/23 14:47:11 | Status 200 | Endpoint: https://api.igdb.com/v4/language_supports | Batch 1170 | Response time [1.05s] | Time elapsed [815.28s]\n",
      "[REQUEST] | 07/31/23 14:47:12 | Status 200 | Endpoint: https://api.igdb.com/v4/language_supports | Batch 1171 | Response time [0.56s] | Time elapsed [815.85s]\n",
      "[REQUEST] | 07/31/23 14:47:13 | Status 200 | Endpoint: https://api.igdb.com/v4/language_supports | Batch 1172 | Response time [0.82s] | Time elapsed [816.67s]\n",
      "[REQUEST] | 07/31/23 14:47:13 | Status 200 | Endpoint: https://api.igdb.com/v4/language_supports | Batch 1173 | Response time [0.82s] | Time elapsed [817.49s]\n",
      "[REQUEST] | 07/31/23 14:47:14 | Status 200 | Endpoint: https://api.igdb.com/v4/language_supports | Batch 1174 | Response time [0.87s] | Time elapsed [818.36s]\n",
      "[REQUEST] | 07/31/23 14:47:15 | Status 200 | Endpoint: https://api.igdb.com/v4/language_supports | Batch 1175 | Response time [0.91s] | Time elapsed [819.27s]\n",
      "[REQUEST] | 07/31/23 14:47:16 | Status 200 | Endpoint: https://api.igdb.com/v4/language_supports | Batch 1176 | Response time [0.82s] | Time elapsed [820.09s]\n",
      "[REQUEST] | 07/31/23 14:47:17 | Status 200 | Endpoint: https://api.igdb.com/v4/language_supports | Batch 1177 | Response time [0.93s] | Time elapsed [821.02s]\n",
      "[REQUEST] | 07/31/23 14:47:18 | Status 200 | Endpoint: https://api.igdb.com/v4/language_supports | Batch 1178 | Response time [0.78s] | Time elapsed [821.8s]\n",
      "[REQUEST] | 07/31/23 14:47:19 | Status 200 | Endpoint: https://api.igdb.com/v4/language_supports | Batch 1179 | Response time [0.81s] | Time elapsed [822.62s]\n",
      "[REQUEST] | 07/31/23 14:47:19 | Status 200 | Endpoint: https://api.igdb.com/v4/language_supports | Batch 1180 | Response time [0.83s] | Time elapsed [823.45s]\n",
      "[REQUEST] | 07/31/23 14:47:20 | Status 200 | Endpoint: https://api.igdb.com/v4/language_supports | Batch 1181 | Response time [0.83s] | Time elapsed [824.29s]\n",
      "[REQUEST] | 07/31/23 14:47:21 | Status 200 | Endpoint: https://api.igdb.com/v4/language_supports | Batch 1182 | Response time [0.78s] | Time elapsed [825.07s]\n",
      "[REQUEST] | 07/31/23 14:47:22 | Status 200 | Endpoint: https://api.igdb.com/v4/language_supports | Batch 1183 | Response time [0.51s] | Time elapsed [825.58s]\n",
      "[REQUEST] | 07/31/23 14:47:22 | Status 200 | Endpoint: https://api.igdb.com/v4/language_supports | Batch 1184 | Response time [0.8s] | Time elapsed [826.38s]\n",
      "[REQUEST] | 07/31/23 14:47:23 | Status 200 | Endpoint: https://api.igdb.com/v4/language_supports | Batch 1185 | Response time [0.35s] | Time elapsed [826.73s]\n",
      "[REQUEST] | 07/31/23 14:47:23 | Status 200 | Endpoint: https://api.igdb.com/v4/language_supports | Batch 1186 | Response time [0.8s] | Time elapsed [827.53s]\n",
      "[REQUEST] | 07/31/23 14:47:24 | Status 200 | Endpoint: https://api.igdb.com/v4/language_supports | Batch 1187 | Response time [0.8s] | Time elapsed [828.34s]\n",
      "[REQUEST] | 07/31/23 14:47:25 | Status 200 | Endpoint: https://api.igdb.com/v4/language_supports | Batch 1188 | Response time [0.81s] | Time elapsed [829.15s]\n",
      "[REQUEST] | 07/31/23 14:47:25 | Status 200 | Endpoint: https://api.igdb.com/v4/language_supports | Batch 1189 | Response time [0.37s] | Time elapsed [829.52s]\n",
      "[REQUEST] | 07/31/23 14:47:26 | Status 200 | Endpoint: https://api.igdb.com/v4/language_supports | Batch 1190 | Response time [0.84s] | Time elapsed [830.36s]\n",
      "[REQUEST] | 07/31/23 14:47:27 | Status 200 | Endpoint: https://api.igdb.com/v4/language_supports | Batch 1191 | Response time [0.83s] | Time elapsed [831.19s]\n",
      "[REQUEST] | 07/31/23 14:47:28 | Status 200 | Endpoint: https://api.igdb.com/v4/language_supports | Batch 1192 | Response time [0.78s] | Time elapsed [831.98s]\n",
      "[REQUEST] | 07/31/23 14:47:28 | Status 200 | Endpoint: https://api.igdb.com/v4/language_supports | Batch 1193 | Response time [0.48s] | Time elapsed [832.47s]\n",
      "[REQUEST] | 07/31/23 14:47:29 | Status 200 | Endpoint: https://api.igdb.com/v4/language_supports | Batch 1194 | Response time [0.48s] | Time elapsed [832.94s]\n",
      "[REQUEST] | 07/31/23 14:47:30 | Status 200 | Endpoint: https://api.igdb.com/v4/language_supports | Batch 1195 | Response time [0.77s] | Time elapsed [833.72s]\n",
      "[REQUEST] | 07/31/23 14:47:30 | Status 200 | Endpoint: https://api.igdb.com/v4/language_supports | Batch 1196 | Response time [0.81s] | Time elapsed [834.54s]\n",
      "[REQUEST] | 07/31/23 14:47:31 | Status 200 | Endpoint: https://api.igdb.com/v4/language_supports | Batch 1197 | Response time [0.82s] | Time elapsed [835.36s]\n",
      "[REQUEST] | 07/31/23 14:47:32 | Status 200 | Endpoint: https://api.igdb.com/v4/language_supports | Batch 1198 | Response time [0.81s] | Time elapsed [836.18s]\n",
      "[REQUEST] | 07/31/23 14:47:33 | Status 200 | Endpoint: https://api.igdb.com/v4/language_supports | Batch 1199 | Response time [0.79s] | Time elapsed [836.97s]\n",
      "[REQUEST] | 07/31/23 14:47:34 | Status 200 | Endpoint: https://api.igdb.com/v4/language_supports | Batch 1200 | Response time [0.8s] | Time elapsed [837.77s]\n",
      "[REQUEST] | 07/31/23 14:47:35 | Status 200 | Endpoint: https://api.igdb.com/v4/language_supports | Batch 1201 | Response time [0.81s] | Time elapsed [838.58s]\n",
      "[REQUEST] | 07/31/23 14:47:35 | Status 200 | Endpoint: https://api.igdb.com/v4/language_supports | Batch 1202 | Response time [0.8s] | Time elapsed [839.38s]\n",
      "[REQUEST] | 07/31/23 14:47:36 | Status 200 | Endpoint: https://api.igdb.com/v4/language_supports | Batch 1203 | Response time [0.8s] | Time elapsed [840.18s]\n",
      "[REQUEST] | 07/31/23 14:47:37 | Status 200 | Endpoint: https://api.igdb.com/v4/language_supports | Batch 1204 | Response time [0.81s] | Time elapsed [840.99s]\n",
      "[REQUEST] | 07/31/23 14:47:38 | Status 200 | Endpoint: https://api.igdb.com/v4/language_supports | Batch 1205 | Response time [0.81s] | Time elapsed [841.81s]\n",
      "[REQUEST] | 07/31/23 14:47:39 | Status 200 | Endpoint: https://api.igdb.com/v4/language_supports | Batch 1206 | Response time [0.82s] | Time elapsed [842.63s]\n",
      "[REQUEST] | 07/31/23 14:47:39 | Status 200 | Endpoint: https://api.igdb.com/v4/language_supports | Batch 1207 | Response time [0.37s] | Time elapsed [843.0s]\n",
      "[REQUEST] | 07/31/23 14:47:39 | Status 200 | Endpoint: https://api.igdb.com/v4/language_supports | Batch 1208 | Response time [0.52s] | Time elapsed [843.53s]\n",
      "[REQUEST] | 07/31/23 14:47:40 | Status 200 | Endpoint: https://api.igdb.com/v4/language_supports | Batch 1209 | Response time [0.8s] | Time elapsed [844.33s]\n",
      "[REQUEST] | 07/31/23 14:47:41 | Status 200 | Endpoint: https://api.igdb.com/v4/language_supports | Batch 1210 | Response time [0.81s] | Time elapsed [845.15s]\n",
      "[REQUEST] | 07/31/23 14:47:42 | Status 200 | Endpoint: https://api.igdb.com/v4/language_supports | Batch 1211 | Response time [0.79s] | Time elapsed [845.94s]\n",
      "[REQUEST] | 07/31/23 14:47:43 | Status 200 | Endpoint: https://api.igdb.com/v4/language_supports | Batch 1212 | Response time [0.81s] | Time elapsed [846.75s]\n",
      "[REQUEST] | 07/31/23 14:47:43 | Status 200 | Endpoint: https://api.igdb.com/v4/language_supports | Batch 1213 | Response time [0.8s] | Time elapsed [847.55s]\n",
      "[REQUEST] | 07/31/23 14:47:44 | Status 200 | Endpoint: https://api.igdb.com/v4/language_supports | Batch 1214 | Response time [0.84s] | Time elapsed [848.39s]\n",
      "[REQUEST] | 07/31/23 14:47:45 | Status 200 | Endpoint: https://api.igdb.com/v4/language_supports | Batch 1215 | Response time [0.81s] | Time elapsed [849.21s]\n",
      "[REQUEST] | 07/31/23 14:47:46 | Status 200 | Endpoint: https://api.igdb.com/v4/language_supports | Batch 1216 | Response time [0.79s] | Time elapsed [850.0s]\n",
      "[REQUEST] | 07/31/23 14:47:47 | Status 200 | Endpoint: https://api.igdb.com/v4/language_supports | Batch 1217 | Response time [0.88s] | Time elapsed [850.89s]\n",
      "[REQUEST] | 07/31/23 14:47:48 | Status 200 | Endpoint: https://api.igdb.com/v4/language_supports | Batch 1218 | Response time [0.8s] | Time elapsed [851.69s]\n",
      "[REQUEST] | 07/31/23 14:47:48 | Status 200 | Endpoint: https://api.igdb.com/v4/language_supports | Batch 1219 | Response time [0.81s] | Time elapsed [852.5s]\n",
      "[REQUEST] | 07/31/23 14:47:49 | Status 200 | Endpoint: https://api.igdb.com/v4/language_supports | Batch 1220 | Response time [0.79s] | Time elapsed [853.29s]\n",
      "[REQUEST] | 07/31/23 14:47:50 | Status 200 | Endpoint: https://api.igdb.com/v4/language_supports | Batch 1221 | Response time [0.37s] | Time elapsed [853.66s]\n",
      "[REQUEST] | 07/31/23 14:47:50 | Status 200 | Endpoint: https://api.igdb.com/v4/language_supports | Batch 1222 | Response time [0.81s] | Time elapsed [854.47s]\n",
      "[REQUEST] | 07/31/23 14:47:51 | Status 200 | Endpoint: https://api.igdb.com/v4/language_supports | Batch 1223 | Response time [0.8s] | Time elapsed [855.28s]\n",
      "[REQUEST] | 07/31/23 14:47:52 | Status 200 | Endpoint: https://api.igdb.com/v4/language_supports | Batch 1224 | Response time [0.47s] | Time elapsed [855.75s]\n",
      "[REQUEST] | 07/31/23 14:47:53 | Status 200 | Endpoint: https://api.igdb.com/v4/language_supports | Batch 1225 | Response time [0.83s] | Time elapsed [856.58s]\n",
      "[REQUEST] | 07/31/23 14:47:53 | Status 200 | Endpoint: https://api.igdb.com/v4/language_supports | Batch 1226 | Response time [0.81s] | Time elapsed [857.4s]\n",
      "[REQUEST] | 07/31/23 14:47:54 | Status 200 | Endpoint: https://api.igdb.com/v4/language_supports | Batch 1227 | Response time [0.33s] | Time elapsed [857.73s]\n",
      "[REQUEST] | 07/31/23 14:47:54 | Status 200 | Endpoint: https://api.igdb.com/v4/language_supports | Batch 1228 | Response time [0.5s] | Time elapsed [858.24s]\n",
      "[REQUEST] | 07/31/23 14:47:55 | Status 200 | Endpoint: https://api.igdb.com/v4/language_supports | Batch 1229 | Response time [0.8s] | Time elapsed [859.04s]\n",
      "[REQUEST] | 07/31/23 14:47:56 | Status 200 | Endpoint: https://api.igdb.com/v4/language_supports | Batch 1230 | Response time [0.81s] | Time elapsed [859.85s]\n",
      "[REQUEST] | 07/31/23 14:47:57 | Status 200 | Endpoint: https://api.igdb.com/v4/language_supports | Batch 1231 | Response time [0.87s] | Time elapsed [860.73s]\n",
      "[REQUEST] | 07/31/23 14:47:57 | Status 200 | Endpoint: https://api.igdb.com/v4/language_supports | Batch 1232 | Response time [0.77s] | Time elapsed [861.51s]\n",
      "[REQUEST] | 07/31/23 14:47:58 | Status 200 | Endpoint: https://api.igdb.com/v4/language_supports | Batch 1233 | Response time [0.48s] | Time elapsed [861.99s]\n",
      "[REQUEST] | 07/31/23 14:47:59 | Status 200 | Endpoint: https://api.igdb.com/v4/language_supports | Batch 1234 | Response time [0.78s] | Time elapsed [862.77s]\n",
      "[REQUEST] | 07/31/23 14:47:59 | Status 200 | Endpoint: https://api.igdb.com/v4/language_supports | Batch 1235 | Response time [0.5s] | Time elapsed [863.27s]\n",
      "[REQUEST] | 07/31/23 14:48:00 | Status 200 | Endpoint: https://api.igdb.com/v4/language_supports | Batch 1236 | Response time [0.82s] | Time elapsed [864.09s]\n",
      "[REQUEST] | 07/31/23 14:48:01 | Status 200 | Endpoint: https://api.igdb.com/v4/language_supports | Batch 1237 | Response time [0.52s] | Time elapsed [864.61s]\n",
      "[REQUEST] | 07/31/23 14:48:01 | Status 200 | Endpoint: https://api.igdb.com/v4/language_supports | Batch 1238 | Response time [0.8s] | Time elapsed [865.41s]\n",
      "[REQUEST] | 07/31/23 14:48:02 | Status 200 | Endpoint: https://api.igdb.com/v4/language_supports | Batch 1239 | Response time [0.51s] | Time elapsed [865.92s]\n",
      "[REQUEST] | 07/31/23 14:48:02 | Status 200 | Endpoint: https://api.igdb.com/v4/language_supports | Batch 1240 | Response time [0.35s] | Time elapsed [866.28s]\n",
      "[REQUEST] | 07/31/23 14:48:03 | Status 200 | Endpoint: https://api.igdb.com/v4/language_supports | Batch 1241 | Response time [0.78s] | Time elapsed [867.06s]\n",
      "[REQUEST] | 07/31/23 14:48:04 | Status 200 | Endpoint: https://api.igdb.com/v4/language_supports | Batch 1242 | Response time [0.52s] | Time elapsed [867.59s]\n",
      "[REQUEST] | 07/31/23 14:48:04 | Status 200 | Endpoint: https://api.igdb.com/v4/language_supports | Batch 1243 | Response time [0.51s] | Time elapsed [868.1s]\n",
      "[REQUEST] | 07/31/23 14:48:05 | Status 200 | Endpoint: https://api.igdb.com/v4/language_supports | Batch 1244 | Response time [0.52s] | Time elapsed [868.63s]\n",
      "[REQUEST] | 07/31/23 14:48:05 | Status 200 | Endpoint: https://api.igdb.com/v4/language_supports | Batch 1245 | Response time [0.86s] | Time elapsed [869.49s]\n",
      "[REQUEST] | 07/31/23 14:48:06 | Status 200 | Endpoint: https://api.igdb.com/v4/language_supports | Batch 1246 | Response time [0.51s] | Time elapsed [870.0s]\n",
      "[REQUEST] | 07/31/23 14:48:07 | Status 200 | Endpoint: https://api.igdb.com/v4/language_supports | Batch 1247 | Response time [0.79s] | Time elapsed [870.8s]\n",
      "[REQUEST] | 07/31/23 14:48:07 | Status 200 | Endpoint: https://api.igdb.com/v4/language_supports | Batch 1248 | Response time [0.58s] | Time elapsed [871.39s]\n",
      "[REQUEST] | 07/31/23 14:48:08 | Status 200 | Endpoint: https://api.igdb.com/v4/language_supports | Batch 1249 | Response time [0.33s] | Time elapsed [871.71s]\n",
      "[REQUEST] | 07/31/23 14:48:08 | Status 200 | Endpoint: https://api.igdb.com/v4/language_supports | Batch 1250 | Response time [0.35s] | Time elapsed [872.06s]\n",
      "[REQUEST] | 07/31/23 14:48:09 | Status 200 | Endpoint: https://api.igdb.com/v4/language_supports | Batch 1251 | Response time [0.77s] | Time elapsed [872.84s]\n",
      "[REQUEST] | 07/31/23 14:48:10 | Status 200 | Endpoint: https://api.igdb.com/v4/language_supports | Batch 1252 | Response time [0.86s] | Time elapsed [873.7s]\n",
      "[REQUEST] | 07/31/23 14:48:10 | Status 200 | Endpoint: https://api.igdb.com/v4/language_supports | Batch 1253 | Response time [0.84s] | Time elapsed [874.54s]\n",
      "[REQUEST] | 07/31/23 14:48:11 | Status 200 | Endpoint: https://api.igdb.com/v4/language_supports | Batch 1254 | Response time [0.49s] | Time elapsed [875.03s]\n",
      "[REQUEST] | 07/31/23 14:48:11 | Status 200 | Endpoint: https://api.igdb.com/v4/language_supports | Batch 1255 | Response time [0.36s] | Time elapsed [875.39s]\n",
      "[REQUEST] | 07/31/23 14:48:12 | Status 200 | Endpoint: https://api.igdb.com/v4/language_supports | Batch 1256 | Response time [0.43s] | Time elapsed [875.82s]\n",
      "[REQUEST] | 07/31/23 14:48:13 | Status 200 | Endpoint: https://api.igdb.com/v4/language_supports | Batch 1257 | Response time [0.84s] | Time elapsed [876.66s]\n",
      "[REQUEST] | 07/31/23 14:48:13 | Status 200 | Endpoint: https://api.igdb.com/v4/language_supports | Batch 1258 | Response time [0.8s] | Time elapsed [877.47s]\n",
      "[REQUEST] | 07/31/23 14:48:14 | Status 200 | Endpoint: https://api.igdb.com/v4/language_supports | Batch 1259 | Response time [0.78s] | Time elapsed [878.25s]\n",
      "[REQUEST] | 07/31/23 14:48:15 | Status 200 | Endpoint: https://api.igdb.com/v4/language_supports | Batch 1260 | Response time [1.13s] | Time elapsed [879.39s]\n",
      "[REQUEST] | 07/31/23 14:48:16 | Status 200 | Endpoint: https://api.igdb.com/v4/language_supports | Batch 1261 | Response time [0.88s] | Time elapsed [880.27s]\n",
      "[REQUEST] | 07/31/23 14:48:17 | Status 200 | Endpoint: https://api.igdb.com/v4/language_supports | Batch 1262 | Response time [0.85s] | Time elapsed [881.12s]\n",
      "[REQUEST] | 07/31/23 14:48:18 | Status 200 | Endpoint: https://api.igdb.com/v4/language_supports | Batch 1263 | Response time [0.87s] | Time elapsed [881.99s]\n",
      "[REQUEST] | 07/31/23 14:48:19 | Status 200 | Endpoint: https://api.igdb.com/v4/language_supports | Batch 1264 | Response time [0.84s] | Time elapsed [882.84s]\n",
      "[REQUEST] | 07/31/23 14:48:20 | Status 200 | Endpoint: https://api.igdb.com/v4/language_supports | Batch 1265 | Response time [0.81s] | Time elapsed [883.66s]\n",
      "[REQUEST] | 07/31/23 14:48:20 | Status 200 | Endpoint: https://api.igdb.com/v4/language_supports | Batch 1266 | Response time [0.84s] | Time elapsed [884.5s]\n",
      "[REQUEST] | 07/31/23 14:48:21 | Status 200 | Endpoint: https://api.igdb.com/v4/language_supports | Batch 1267 | Response time [0.81s] | Time elapsed [885.32s]\n",
      "[REQUEST] | 07/31/23 14:48:22 | Status 200 | Endpoint: https://api.igdb.com/v4/language_supports | Batch 1268 | Response time [0.8s] | Time elapsed [886.12s]\n",
      "[REQUEST] | 07/31/23 14:48:23 | Status 200 | Endpoint: https://api.igdb.com/v4/language_supports | Batch 1269 | Response time [0.84s] | Time elapsed [886.96s]\n",
      "[REQUEST] | 07/31/23 14:48:24 | Status 200 | Endpoint: https://api.igdb.com/v4/language_supports | Batch 1270 | Response time [0.82s] | Time elapsed [887.79s]\n",
      "[REQUEST] | 07/31/23 14:48:25 | Status 200 | Endpoint: https://api.igdb.com/v4/language_supports | Batch 1271 | Response time [0.82s] | Time elapsed [888.61s]\n",
      "[REQUEST] | 07/31/23 14:48:25 | Status 200 | Endpoint: https://api.igdb.com/v4/language_supports | Batch 1272 | Response time [0.83s] | Time elapsed [889.45s]\n",
      "[REQUEST] | 07/31/23 14:48:26 | Status 200 | Endpoint: https://api.igdb.com/v4/language_supports | Batch 1273 | Response time [0.78s] | Time elapsed [890.23s]\n",
      "[REQUEST] | 07/31/23 14:48:27 | Status 200 | Endpoint: https://api.igdb.com/v4/language_supports | Batch 1274 | Response time [0.82s] | Time elapsed [891.05s]\n",
      "[REQUEST] | 07/31/23 14:48:27 | Status 200 | Endpoint: https://api.igdb.com/v4/language_supports | Batch 1275 | Response time [0.34s] | Time elapsed [891.4s]\n",
      "[REQUEST] | 07/31/23 14:48:28 | Status 200 | Endpoint: https://api.igdb.com/v4/language_supports | Batch 1276 | Response time [0.34s] | Time elapsed [891.74s]\n",
      "[REQUEST] | 07/31/23 14:48:28 | Status 200 | Endpoint: https://api.igdb.com/v4/language_supports | Batch 1277 | Response time [0.8s] | Time elapsed [892.54s]\n",
      "[REQUEST] | 07/31/23 14:48:29 | Status 200 | Endpoint: https://api.igdb.com/v4/language_supports | Batch 1278 | Response time [0.32s] | Time elapsed [892.86s]\n",
      "[REQUEST] | 07/31/23 14:48:29 | Status 200 | Endpoint: https://api.igdb.com/v4/language_supports | Batch 1279 | Response time [0.51s] | Time elapsed [893.38s]\n",
      "[REQUEST] | 07/31/23 14:48:30 | Status 200 | Endpoint: https://api.igdb.com/v4/language_supports | Batch 1280 | Response time [0.8s] | Time elapsed [894.18s]\n",
      "[REQUEST] | 07/31/23 14:48:31 | Status 200 | Endpoint: https://api.igdb.com/v4/language_supports | Batch 1281 | Response time [0.92s] | Time elapsed [895.1s]\n",
      "[REQUEST] | 07/31/23 14:48:32 | Status 200 | Endpoint: https://api.igdb.com/v4/language_supports | Batch 1282 | Response time [0.81s] | Time elapsed [895.92s]\n",
      "[REQUEST] | 07/31/23 14:48:33 | Status 200 | Endpoint: https://api.igdb.com/v4/language_supports | Batch 1283 | Response time [0.83s] | Time elapsed [896.75s]\n",
      "[REQUEST] | 07/31/23 14:48:33 | Status 200 | Endpoint: https://api.igdb.com/v4/language_supports | Batch 1284 | Response time [0.8s] | Time elapsed [897.55s]\n",
      "[REQUEST] | 07/31/23 14:48:34 | Status 200 | Endpoint: https://api.igdb.com/v4/language_supports | Batch 1285 | Response time [0.54s] | Time elapsed [898.1s]\n",
      "[REQUEST] | 07/31/23 14:48:34 | Status 200 | Endpoint: https://api.igdb.com/v4/language_supports | Batch 1286 | Response time [0.35s] | Time elapsed [898.45s]\n",
      "[REQUEST] | 07/31/23 14:48:35 | Status 200 | Endpoint: https://api.igdb.com/v4/language_supports | Batch 1287 | Response time [0.38s] | Time elapsed [898.84s]\n",
      "[REQUEST] | 07/31/23 14:48:35 | Status 200 | Endpoint: https://api.igdb.com/v4/language_supports | Batch 1288 | Response time [0.52s] | Time elapsed [899.36s]\n",
      "[REQUEST] | 07/31/23 14:48:36 | Status 200 | Endpoint: https://api.igdb.com/v4/language_supports | Batch 1289 | Response time [0.79s] | Time elapsed [900.16s]\n",
      "[REQUEST] | 07/31/23 14:48:37 | Status 200 | Endpoint: https://api.igdb.com/v4/language_supports | Batch 1290 | Response time [0.82s] | Time elapsed [900.99s]\n",
      "[REQUEST] | 07/31/23 14:48:38 | Status 200 | Endpoint: https://api.igdb.com/v4/language_supports | Batch 1291 | Response time [0.82s] | Time elapsed [901.8s]\n",
      "[REQUEST] | 07/31/23 14:48:39 | Status 200 | Endpoint: https://api.igdb.com/v4/language_supports | Batch 1292 | Response time [0.86s] | Time elapsed [902.67s]\n",
      "[REQUEST] | 07/31/23 14:48:39 | Status 200 | Endpoint: https://api.igdb.com/v4/language_supports | Batch 1293 | Response time [0.47s] | Time elapsed [903.14s]\n",
      "[REQUEST] | 07/31/23 14:48:40 | Status 200 | Endpoint: https://api.igdb.com/v4/language_supports | Batch 1294 | Response time [0.81s] | Time elapsed [903.94s]\n",
      "[REQUEST] | 07/31/23 14:48:41 | Status 200 | Endpoint: https://api.igdb.com/v4/language_supports | Batch 1295 | Response time [0.79s] | Time elapsed [904.73s]\n",
      "[REQUEST] | 07/31/23 14:48:41 | Status 200 | Endpoint: https://api.igdb.com/v4/language_supports | Batch 1296 | Response time [0.49s] | Time elapsed [905.23s]\n",
      "[REQUEST] | 07/31/23 14:48:42 | Status 200 | Endpoint: https://api.igdb.com/v4/language_supports | Batch 1297 | Response time [0.84s] | Time elapsed [906.07s]\n",
      "[REQUEST] | 07/31/23 14:48:43 | Status 200 | Endpoint: https://api.igdb.com/v4/language_supports | Batch 1298 | Response time [0.92s] | Time elapsed [906.99s]\n",
      "[REQUEST] | 07/31/23 14:48:44 | Status 200 | Endpoint: https://api.igdb.com/v4/language_supports | Batch 1299 | Response time [0.91s] | Time elapsed [907.9s]\n",
      "[REQUEST] | 07/31/23 14:48:45 | Status 200 | Endpoint: https://api.igdb.com/v4/language_supports | Batch 1300 | Response time [0.85s] | Time elapsed [908.76s]\n",
      "[REQUEST] | 07/31/23 14:48:45 | Status 200 | Endpoint: https://api.igdb.com/v4/language_supports | Batch 1301 | Response time [0.58s] | Time elapsed [909.34s]\n",
      "[REQUEST] | 07/31/23 14:48:46 | Status 200 | Endpoint: https://api.igdb.com/v4/language_supports | Batch 1302 | Response time [0.62s] | Time elapsed [909.96s]\n",
      "[REQUEST] | 07/31/23 14:48:47 | Status 200 | Endpoint: https://api.igdb.com/v4/language_supports | Batch 1303 | Response time [0.85s] | Time elapsed [910.82s]\n",
      "[REQUEST] | 07/31/23 14:48:47 | Status 200 | Endpoint: https://api.igdb.com/v4/language_supports | Batch 1304 | Response time [0.55s] | Time elapsed [911.37s]\n",
      "[REQUEST] | 07/31/23 14:48:48 | Status 200 | Endpoint: https://api.igdb.com/v4/language_supports | Batch 1305 | Response time [0.92s] | Time elapsed [912.28s]\n",
      "[REQUEST] | 07/31/23 14:48:49 | Status 200 | Endpoint: https://api.igdb.com/v4/language_supports | Batch 1306 | Response time [0.33s] | Time elapsed [912.62s]\n",
      "[REQUEST] | 07/31/23 14:48:49 | Status 200 | Endpoint: https://api.igdb.com/v4/language_supports | Batch 1307 | Response time [0.78s] | Time elapsed [913.4s]\n",
      "[REQUEST] | 07/31/23 14:48:50 | Status 200 | Endpoint: https://api.igdb.com/v4/language_supports | Batch 1308 | Response time [0.8s] | Time elapsed [914.2s]\n",
      "[REQUEST] | 07/31/23 14:48:51 | Status 200 | Endpoint: https://api.igdb.com/v4/language_supports | Batch 1309 | Response time [0.82s] | Time elapsed [915.02s]\n",
      "[REQUEST] | 07/31/23 14:48:52 | Status 200 | Endpoint: https://api.igdb.com/v4/language_supports | Batch 1310 | Response time [0.81s] | Time elapsed [915.84s]\n",
      "[REQUEST] | 07/31/23 14:48:53 | Status 200 | Endpoint: https://api.igdb.com/v4/language_supports | Batch 1311 | Response time [0.79s] | Time elapsed [916.64s]\n",
      "[REQUEST] | 07/31/23 14:48:53 | Status 200 | Endpoint: https://api.igdb.com/v4/language_supports | Batch 1312 | Response time [0.83s] | Time elapsed [917.47s]\n",
      "[REQUEST] | 07/31/23 14:48:54 | Status 200 | Endpoint: https://api.igdb.com/v4/language_supports | Batch 1313 | Response time [0.81s] | Time elapsed [918.28s]\n",
      "[REQUEST] | 07/31/23 14:48:55 | Status 200 | Endpoint: https://api.igdb.com/v4/language_supports | Batch 1314 | Response time [0.83s] | Time elapsed [919.11s]\n",
      "[REQUEST] | 07/31/23 14:48:56 | Status 200 | Endpoint: https://api.igdb.com/v4/language_supports | Batch 1315 | Response time [0.82s] | Time elapsed [919.94s]\n",
      "[REQUEST] | 07/31/23 14:48:57 | Status 200 | Endpoint: https://api.igdb.com/v4/language_supports | Batch 1316 | Response time [0.86s] | Time elapsed [920.8s]\n",
      "[REQUEST] | 07/31/23 14:48:57 | Status 200 | Endpoint: https://api.igdb.com/v4/language_supports | Batch 1317 | Response time [0.53s] | Time elapsed [921.33s]\n",
      "[REQUEST] | 07/31/23 14:48:58 | Status 200 | Endpoint: https://api.igdb.com/v4/language_supports | Batch 1318 | Response time [0.37s] | Time elapsed [921.71s]\n",
      "[REQUEST] | 07/31/23 14:48:58 | Status 200 | Endpoint: https://api.igdb.com/v4/language_supports | Batch 1319 | Response time [0.51s] | Time elapsed [922.22s]\n",
      "[REQUEST] | 07/31/23 14:48:59 | Status 200 | Endpoint: https://api.igdb.com/v4/language_supports | Batch 1320 | Response time [0.8s] | Time elapsed [923.02s]\n",
      "[REQUEST] | 07/31/23 14:49:00 | Status 200 | Endpoint: https://api.igdb.com/v4/language_supports | Batch 1321 | Response time [0.81s] | Time elapsed [923.83s]\n",
      "[REQUEST] | 07/31/23 14:49:00 | Status 200 | Endpoint: https://api.igdb.com/v4/language_supports | Batch 1322 | Response time [0.39s] | Time elapsed [924.23s]\n",
      "[REQUEST] | 07/31/23 14:49:01 | Status 200 | Endpoint: https://api.igdb.com/v4/language_supports | Batch 1323 | Response time [0.82s] | Time elapsed [925.05s]\n",
      "[REQUEST] | 07/31/23 14:49:02 | Status 200 | Endpoint: https://api.igdb.com/v4/language_supports | Batch 1324 | Response time [0.88s] | Time elapsed [925.93s]\n",
      "[REQUEST] | 07/31/23 14:49:02 | Status 200 | Endpoint: https://api.igdb.com/v4/language_supports | Batch 1325 | Response time [0.53s] | Time elapsed [926.46s]\n",
      "[REQUEST] | 07/31/23 14:49:03 | Status 200 | Endpoint: https://api.igdb.com/v4/language_supports | Batch 1326 | Response time [0.84s] | Time elapsed [927.3s]\n",
      "[REQUEST] | 07/31/23 14:49:04 | Status 200 | Endpoint: https://api.igdb.com/v4/language_supports | Batch 1327 | Response time [0.35s] | Time elapsed [927.66s]\n",
      "[REQUEST] | 07/31/23 14:49:04 | Status 200 | Endpoint: https://api.igdb.com/v4/language_supports | Batch 1328 | Response time [0.37s] | Time elapsed [928.03s]\n",
      "[REQUEST] | 07/31/23 14:49:05 | Status 200 | Endpoint: https://api.igdb.com/v4/language_supports | Batch 1329 | Response time [0.55s] | Time elapsed [928.59s]\n",
      "[REQUEST] | 07/31/23 14:49:05 | Status 200 | Endpoint: https://api.igdb.com/v4/language_supports | Batch 1330 | Response time [0.89s] | Time elapsed [929.48s]\n",
      "[REQUEST] | 07/31/23 14:49:06 | Status 200 | Endpoint: https://api.igdb.com/v4/language_supports | Batch 1331 | Response time [0.82s] | Time elapsed [930.3s]\n",
      "[REQUEST] | 07/31/23 14:49:07 | Status 200 | Endpoint: https://api.igdb.com/v4/language_supports | Batch 1332 | Response time [0.49s] | Time elapsed [930.8s]\n",
      "[REQUEST] | 07/31/23 14:49:08 | Status 200 | Endpoint: https://api.igdb.com/v4/language_supports | Batch 1333 | Response time [0.82s] | Time elapsed [931.62s]\n",
      "[REQUEST] | 07/31/23 14:49:08 | Status 200 | Endpoint: https://api.igdb.com/v4/language_supports | Batch 1334 | Response time [0.82s] | Time elapsed [932.45s]\n",
      "[REQUEST] | 07/31/23 14:49:09 | Status 200 | Endpoint: https://api.igdb.com/v4/language_supports | Batch 1335 | Response time [0.33s] | Time elapsed [932.78s]\n",
      "[REQUEST] | 07/31/23 14:49:10 | Status 200 | Endpoint: https://api.igdb.com/v4/language_supports | Batch 1336 | Response time [0.82s] | Time elapsed [933.61s]\n",
      "[REQUEST] | 07/31/23 14:49:10 | Status 200 | Endpoint: https://api.igdb.com/v4/language_supports | Batch 1337 | Response time [0.82s] | Time elapsed [934.43s]\n",
      "[REQUEST] | 07/31/23 14:49:11 | Status 200 | Endpoint: https://api.igdb.com/v4/language_supports | Batch 1338 | Response time [0.83s] | Time elapsed [935.26s]\n",
      "[REQUEST] | 07/31/23 14:49:12 | Status 200 | Endpoint: https://api.igdb.com/v4/language_supports | Batch 1339 | Response time [0.81s] | Time elapsed [936.07s]\n",
      "[REQUEST] | 07/31/23 14:49:13 | Status 200 | Endpoint: https://api.igdb.com/v4/language_supports | Batch 1340 | Response time [0.88s] | Time elapsed [936.95s]\n",
      "[REQUEST] | 07/31/23 14:49:13 | Status 200 | Endpoint: https://api.igdb.com/v4/language_supports | Batch 1341 | Response time [0.5s] | Time elapsed [937.46s]\n",
      "[REQUEST] | 07/31/23 14:49:14 | Status 200 | Endpoint: https://api.igdb.com/v4/language_supports | Batch 1342 | Response time [0.39s] | Time elapsed [937.85s]\n",
      "[REQUEST] | 07/31/23 14:49:15 | Status 200 | Endpoint: https://api.igdb.com/v4/language_supports | Batch 1343 | Response time [0.79s] | Time elapsed [938.64s]\n",
      "[REQUEST] | 07/31/23 14:49:15 | Status 200 | Endpoint: https://api.igdb.com/v4/language_supports | Batch 1344 | Response time [0.79s] | Time elapsed [939.44s]\n",
      "[REQUEST] | 07/31/23 14:49:16 | Status 200 | Endpoint: https://api.igdb.com/v4/language_supports | Batch 1345 | Response time [0.87s] | Time elapsed [940.31s]\n",
      "[REQUEST] | 07/31/23 14:49:17 | Status 200 | Endpoint: https://api.igdb.com/v4/language_supports | Batch 1346 | Response time [0.81s] | Time elapsed [941.12s]\n",
      "[REQUEST] | 07/31/23 14:49:18 | Status 200 | Endpoint: https://api.igdb.com/v4/language_supports | Batch 1347 | Response time [0.79s] | Time elapsed [941.91s]\n",
      "[REQUEST] | 07/31/23 14:49:19 | Status 200 | Endpoint: https://api.igdb.com/v4/language_supports | Batch 1348 | Response time [0.8s] | Time elapsed [942.72s]\n",
      "[REQUEST] | 07/31/23 14:49:19 | Status 200 | Endpoint: https://api.igdb.com/v4/language_supports | Batch 1349 | Response time [0.81s] | Time elapsed [943.53s]\n",
      "[REQUEST] | 07/31/23 14:49:20 | Status 200 | Endpoint: https://api.igdb.com/v4/language_supports | Batch 1350 | Response time [0.87s] | Time elapsed [944.41s]\n",
      "[REQUEST] | 07/31/23 14:49:21 | Status 200 | Endpoint: https://api.igdb.com/v4/language_supports | Batch 1351 | Response time [0.8s] | Time elapsed [945.22s]\n",
      "[REQUEST] | 07/31/23 14:49:22 | Status 200 | Endpoint: https://api.igdb.com/v4/language_supports | Batch 1352 | Response time [0.85s] | Time elapsed [946.07s]\n",
      "[REQUEST] | 07/31/23 14:49:22 | Status 200 | Endpoint: https://api.igdb.com/v4/language_supports | Batch 1353 | Response time [0.37s] | Time elapsed [946.45s]\n",
      "[REQUEST] | 07/31/23 14:49:23 | Status 200 | Endpoint: https://api.igdb.com/v4/language_supports | Batch 1354 | Response time [0.81s] | Time elapsed [947.26s]\n",
      "[REQUEST] | 07/31/23 14:49:24 | Status 200 | Endpoint: https://api.igdb.com/v4/language_supports | Batch 1355 | Response time [0.83s] | Time elapsed [948.09s]\n",
      "[REQUEST] | 07/31/23 14:49:25 | Status 200 | Endpoint: https://api.igdb.com/v4/language_supports | Batch 1356 | Response time [0.83s] | Time elapsed [948.92s]\n",
      "[REQUEST] | 07/31/23 14:49:26 | Status 200 | Endpoint: https://api.igdb.com/v4/language_supports | Batch 1357 | Response time [0.85s] | Time elapsed [949.78s]\n",
      "[REQUEST] | 07/31/23 14:49:26 | Status 200 | Endpoint: https://api.igdb.com/v4/language_supports | Batch 1358 | Response time [0.76s] | Time elapsed [950.54s]\n",
      "[REQUEST] | 07/31/23 14:49:27 | Status 200 | Endpoint: https://api.igdb.com/v4/language_supports | Batch 1359 | Response time [0.82s] | Time elapsed [951.36s]\n",
      "[REQUEST] | 07/31/23 14:49:28 | Status 200 | Endpoint: https://api.igdb.com/v4/language_supports | Batch 1360 | Response time [0.83s] | Time elapsed [952.19s]\n",
      "[REQUEST] | 07/31/23 14:49:29 | Status 200 | Endpoint: https://api.igdb.com/v4/language_supports | Batch 1361 | Response time [0.86s] | Time elapsed [953.05s]\n",
      "[REQUEST] | 07/31/23 14:49:30 | Status 200 | Endpoint: https://api.igdb.com/v4/language_supports | Batch 1362 | Response time [0.83s] | Time elapsed [953.89s]\n",
      "[REQUEST] | 07/31/23 14:49:31 | Status 200 | Endpoint: https://api.igdb.com/v4/language_supports | Batch 1363 | Response time [0.8s] | Time elapsed [954.69s]\n",
      "[REQUEST] | 07/31/23 14:49:31 | Status 200 | Endpoint: https://api.igdb.com/v4/language_supports | Batch 1364 | Response time [0.55s] | Time elapsed [955.24s]\n",
      "[REQUEST] | 07/31/23 14:49:32 | Status 200 | Endpoint: https://api.igdb.com/v4/language_supports | Batch 1365 | Response time [0.84s] | Time elapsed [956.08s]\n",
      "[REQUEST] | 07/31/23 14:49:33 | Status 200 | Endpoint: https://api.igdb.com/v4/language_supports | Batch 1366 | Response time [0.81s] | Time elapsed [956.89s]\n",
      "[REQUEST] | 07/31/23 14:49:34 | Status 200 | Endpoint: https://api.igdb.com/v4/language_supports | Batch 1367 | Response time [0.8s] | Time elapsed [957.7s]\n",
      "[REQUEST] | 07/31/23 14:49:34 | Status 200 | Endpoint: https://api.igdb.com/v4/language_supports | Batch 1368 | Response time [0.8s] | Time elapsed [958.5s]\n",
      "[REQUEST] | 07/31/23 14:49:35 | Status 200 | Endpoint: https://api.igdb.com/v4/language_supports | Batch 1369 | Response time [0.81s] | Time elapsed [959.32s]\n",
      "[REQUEST] | 07/31/23 14:49:36 | Status 200 | Endpoint: https://api.igdb.com/v4/language_supports | Batch 1370 | Response time [0.86s] | Time elapsed [960.18s]\n",
      "[REQUEST] | 07/31/23 14:49:37 | Status 200 | Endpoint: https://api.igdb.com/v4/language_supports | Batch 1371 | Response time [0.77s] | Time elapsed [960.95s]\n",
      "[REQUEST] | 07/31/23 14:49:38 | Status 200 | Endpoint: https://api.igdb.com/v4/language_supports | Batch 1372 | Response time [0.79s] | Time elapsed [961.75s]\n",
      "[REQUEST] | 07/31/23 14:49:38 | Status 200 | Endpoint: https://api.igdb.com/v4/language_supports | Batch 1373 | Response time [0.78s] | Time elapsed [962.53s]\n",
      "[REQUEST] | 07/31/23 14:49:39 | Status 200 | Endpoint: https://api.igdb.com/v4/language_supports | Batch 1374 | Response time [0.84s] | Time elapsed [963.37s]\n",
      "[REQUEST] | 07/31/23 14:49:40 | Status 200 | Endpoint: https://api.igdb.com/v4/language_supports | Batch 1375 | Response time [0.81s] | Time elapsed [964.19s]\n",
      "[REQUEST] | 07/31/23 14:49:41 | Status 200 | Endpoint: https://api.igdb.com/v4/language_supports | Batch 1376 | Response time [0.82s] | Time elapsed [965.01s]\n",
      "[REQUEST] | 07/31/23 14:49:41 | Status 200 | Endpoint: https://api.igdb.com/v4/language_supports | Batch 1377 | Response time [0.37s] | Time elapsed [965.38s]\n",
      "[REQUEST] | 07/31/23 14:49:42 | Status 200 | Endpoint: https://api.igdb.com/v4/language_supports | Batch 1378 | Response time [0.78s] | Time elapsed [966.17s]\n",
      "[REQUEST] | 07/31/23 14:49:42 | Status 200 | Endpoint: https://api.igdb.com/v4/language_supports | Batch 1379 | Response time [0.39s] | Time elapsed [966.56s]\n",
      "[REQUEST] | 07/31/23 14:49:43 | Status 200 | Endpoint: https://api.igdb.com/v4/language_supports | Batch 1380 | Response time [0.55s] | Time elapsed [967.11s]\n",
      "[REQUEST] | 07/31/23 14:49:44 | Status 200 | Endpoint: https://api.igdb.com/v4/language_supports | Batch 1381 | Response time [0.83s] | Time elapsed [967.94s]\n",
      "[REQUEST] | 07/31/23 14:49:45 | Status 200 | Endpoint: https://api.igdb.com/v4/language_supports | Batch 1382 | Response time [0.81s] | Time elapsed [968.76s]\n",
      "[REQUEST] | 07/31/23 14:49:46 | Status 200 | Endpoint: https://api.igdb.com/v4/language_supports | Batch 1383 | Response time [0.87s] | Time elapsed [969.63s]\n",
      "[REQUEST] | 07/31/23 14:49:46 | Status 200 | Endpoint: https://api.igdb.com/v4/language_supports | Batch 1384 | Response time [0.85s] | Time elapsed [970.48s]\n",
      "[REQUEST] | 07/31/23 14:49:47 | Status 200 | Endpoint: https://api.igdb.com/v4/language_supports | Batch 1385 | Response time [0.83s] | Time elapsed [971.31s]\n",
      "[REQUEST] | 07/31/23 14:49:48 | Status 200 | Endpoint: https://api.igdb.com/v4/language_supports | Batch 1386 | Response time [0.83s] | Time elapsed [972.15s]\n",
      "[REQUEST] | 07/31/23 14:49:49 | Status 200 | Endpoint: https://api.igdb.com/v4/language_supports | Batch 1387 | Response time [0.82s] | Time elapsed [972.97s]\n",
      "[REQUEST] | 07/31/23 14:49:50 | Status 200 | Endpoint: https://api.igdb.com/v4/language_supports | Batch 1388 | Response time [0.8s] | Time elapsed [973.77s]\n",
      "[REQUEST] | 07/31/23 14:49:51 | Status 200 | Endpoint: https://api.igdb.com/v4/language_supports | Batch 1389 | Response time [0.83s] | Time elapsed [974.6s]\n",
      "[REQUEST] | 07/31/23 14:49:51 | Status 200 | Endpoint: https://api.igdb.com/v4/language_supports | Batch 1390 | Response time [0.82s] | Time elapsed [975.43s]\n",
      "[REQUEST] | 07/31/23 14:49:52 | Status 200 | Endpoint: https://api.igdb.com/v4/language_supports | Batch 1391 | Response time [0.48s] | Time elapsed [975.9s]\n",
      "[REQUEST] | 07/31/23 14:49:53 | Status 200 | Endpoint: https://api.igdb.com/v4/language_supports | Batch 1392 | Response time [0.81s] | Time elapsed [976.72s]\n",
      "[REQUEST] | 07/31/23 14:49:53 | Status 200 | Endpoint: https://api.igdb.com/v4/language_supports | Batch 1393 | Response time [0.36s] | Time elapsed [977.08s]\n",
      "\n",
      "[FETCH_DATA] | 07/31/23 14:49:54 | Total time 977.76s | Dataset size 696225\n",
      "\n",
      "====================================================================================================\n",
      "\n",
      "\n",
      "[REQUEST] | 07/31/23 14:49:57 | Status 200 | Endpoint: https://api.igdb.com/v4/languages | Batch 1 | Response time [0.58s] | Time elapsed [0.58s]\n",
      "\n",
      "[FETCH_DATA] | 07/31/23 14:49:57 | Total time 1.16s | Dataset size 28\n",
      "\n",
      "====================================================================================================\n",
      "\n",
      "\n",
      "[REQUEST] | 07/31/23 14:49:58 | Status 200 | Endpoint: https://api.igdb.com/v4/genres | Batch 1 | Response time [0.28s] | Time elapsed [0.28s]\n",
      "\n",
      "[FETCH_DATA] | 07/31/23 14:49:59 | Total time 0.87s | Dataset size 23\n",
      "\n",
      "====================================================================================================\n",
      "\n",
      "\n",
      "[Data.extract] | 07/31/23 14:49:59 | DATA EXTRACTION FINISHED | TOTAL TIME: 0 hours, 27 minutes and 3 seconds\n"
     ]
    }
   ],
   "source": [
    "# Extraemos datos de IGDB utilizando su API\n",
    "data.extract(endpoints = ['games', 'game_engines', 'language_supports', 'languages', 'genres'], batches = 10000, show_logs = True, keep_logs = True, save_csv = True)"
   ]
  },
  {
   "cell_type": "code",
   "execution_count": 23,
   "id": "8e40afd1",
   "metadata": {},
   "outputs": [
    {
     "name": "stderr",
     "output_type": "stream",
     "text": [
      "/home/cobayaculera/bootcamp/PROJECTS/Project 1 ETL/data.py:50: DtypeWarning:\n",
      "\n",
      "Columns (57) have mixed types. Specify dtype option on import or set low_memory=False.\n",
      "\n"
     ]
    }
   ],
   "source": [
    "# Leemos los datos extraidos\n",
    "data.read_csvs(paths = ['games_data.csv', 'game_engines_data.csv', 'language_supports_data.csv', 'languages_data.csv', 'genres_data.csv'])"
   ]
  },
  {
   "cell_type": "code",
   "execution_count": 24,
   "id": "7d05c503",
   "metadata": {},
   "outputs": [],
   "source": [
    "# Nos quedamos solamente con las columnas que nos interesan\n",
    "data.filterColumns(columns = ['id', 'name', 'language_supports', 'game_engines', 'first_release_date', 'genres', 'category'], inplace = True)"
   ]
  },
  {
   "cell_type": "code",
   "execution_count": 25,
   "id": "cea2b250",
   "metadata": {},
   "outputs": [
    {
     "data": {
      "text/html": [
       "<div>\n",
       "<style scoped>\n",
       "    .dataframe tbody tr th:only-of-type {\n",
       "        vertical-align: middle;\n",
       "    }\n",
       "\n",
       "    .dataframe tbody tr th {\n",
       "        vertical-align: top;\n",
       "    }\n",
       "\n",
       "    .dataframe thead th {\n",
       "        text-align: right;\n",
       "    }\n",
       "</style>\n",
       "<table border=\"1\" class=\"dataframe\">\n",
       "  <thead>\n",
       "    <tr style=\"text-align: right;\">\n",
       "      <th></th>\n",
       "      <th>id</th>\n",
       "      <th>name</th>\n",
       "      <th>language_supports</th>\n",
       "      <th>game_engines</th>\n",
       "      <th>first_release_date</th>\n",
       "      <th>genres</th>\n",
       "      <th>category</th>\n",
       "    </tr>\n",
       "  </thead>\n",
       "  <tbody>\n",
       "    <tr>\n",
       "      <th>0</th>\n",
       "      <td>35642</td>\n",
       "      <td>Dungeon Crawlers HD</td>\n",
       "      <td>[76103, 76104, 76105]</td>\n",
       "      <td>NaN</td>\n",
       "      <td>1.433117e+09</td>\n",
       "      <td>[12, 15, 16, 24, 32]</td>\n",
       "      <td>0</td>\n",
       "    </tr>\n",
       "    <tr>\n",
       "      <th>1</th>\n",
       "      <td>246925</td>\n",
       "      <td>Stickman and the Sword of Legends</td>\n",
       "      <td>[678670, 678671, 678672]</td>\n",
       "      <td>NaN</td>\n",
       "      <td>1.682640e+09</td>\n",
       "      <td>[31, 32]</td>\n",
       "      <td>0</td>\n",
       "    </tr>\n",
       "    <tr>\n",
       "      <th>2</th>\n",
       "      <td>245087</td>\n",
       "      <td>Cry Baby</td>\n",
       "      <td>NaN</td>\n",
       "      <td>NaN</td>\n",
       "      <td>6.836832e+08</td>\n",
       "      <td>[8]</td>\n",
       "      <td>0</td>\n",
       "    </tr>\n",
       "    <tr>\n",
       "      <th>3</th>\n",
       "      <td>85450</td>\n",
       "      <td>Transformers Prime: The Game</td>\n",
       "      <td>NaN</td>\n",
       "      <td>NaN</td>\n",
       "      <td>NaN</td>\n",
       "      <td>NaN</td>\n",
       "      <td>0</td>\n",
       "    </tr>\n",
       "    <tr>\n",
       "      <th>4</th>\n",
       "      <td>95080</td>\n",
       "      <td>Dotra</td>\n",
       "      <td>NaN</td>\n",
       "      <td>NaN</td>\n",
       "      <td>NaN</td>\n",
       "      <td>NaN</td>\n",
       "      <td>0</td>\n",
       "    </tr>\n",
       "    <tr>\n",
       "      <th>...</th>\n",
       "      <td>...</td>\n",
       "      <td>...</td>\n",
       "      <td>...</td>\n",
       "      <td>...</td>\n",
       "      <td>...</td>\n",
       "      <td>...</td>\n",
       "      <td>...</td>\n",
       "    </tr>\n",
       "    <tr>\n",
       "      <th>241299</th>\n",
       "      <td>2598</td>\n",
       "      <td>Teenage Mutant Ninja Turtles: Out of the Shadows</td>\n",
       "      <td>[87425, 87426, 87427, 87428, 87429, 87430]</td>\n",
       "      <td>[6]</td>\n",
       "      <td>1.377648e+09</td>\n",
       "      <td>[25, 31]</td>\n",
       "      <td>0</td>\n",
       "    </tr>\n",
       "    <tr>\n",
       "      <th>241300</th>\n",
       "      <td>144598</td>\n",
       "      <td>Moorhuhn VR</td>\n",
       "      <td>NaN</td>\n",
       "      <td>NaN</td>\n",
       "      <td>1.514678e+09</td>\n",
       "      <td>[5]</td>\n",
       "      <td>0</td>\n",
       "    </tr>\n",
       "    <tr>\n",
       "      <th>241301</th>\n",
       "      <td>121767</td>\n",
       "      <td>The Big Con</td>\n",
       "      <td>[288072, 288073, 288074, 288075, 288076, 28807...</td>\n",
       "      <td>NaN</td>\n",
       "      <td>1.630368e+09</td>\n",
       "      <td>[2, 31, 32]</td>\n",
       "      <td>0</td>\n",
       "    </tr>\n",
       "    <tr>\n",
       "      <th>241302</th>\n",
       "      <td>248598</td>\n",
       "      <td>Attack of the Silver Ball</td>\n",
       "      <td>NaN</td>\n",
       "      <td>NaN</td>\n",
       "      <td>1.037578e+09</td>\n",
       "      <td>[30, 33]</td>\n",
       "      <td>0</td>\n",
       "    </tr>\n",
       "    <tr>\n",
       "      <th>241303</th>\n",
       "      <td>28500</td>\n",
       "      <td>ACA Neo Geo: Over Top</td>\n",
       "      <td>[493844, 493845, 493846, 493847, 493848]</td>\n",
       "      <td>NaN</td>\n",
       "      <td>1.493251e+09</td>\n",
       "      <td>[10, 33]</td>\n",
       "      <td>11</td>\n",
       "    </tr>\n",
       "  </tbody>\n",
       "</table>\n",
       "<p>241304 rows × 7 columns</p>\n",
       "</div>"
      ],
      "text/plain": [
       "            id                                              name  \\\n",
       "0        35642                               Dungeon Crawlers HD   \n",
       "1       246925                 Stickman and the Sword of Legends   \n",
       "2       245087                                          Cry Baby   \n",
       "3        85450                      Transformers Prime: The Game   \n",
       "4        95080                                             Dotra   \n",
       "...        ...                                               ...   \n",
       "241299    2598  Teenage Mutant Ninja Turtles: Out of the Shadows   \n",
       "241300  144598                                       Moorhuhn VR   \n",
       "241301  121767                                       The Big Con   \n",
       "241302  248598                         Attack of the Silver Ball   \n",
       "241303   28500                             ACA Neo Geo: Over Top   \n",
       "\n",
       "                                        language_supports game_engines  \\\n",
       "0                                   [76103, 76104, 76105]          NaN   \n",
       "1                                [678670, 678671, 678672]          NaN   \n",
       "2                                                     NaN          NaN   \n",
       "3                                                     NaN          NaN   \n",
       "4                                                     NaN          NaN   \n",
       "...                                                   ...          ...   \n",
       "241299         [87425, 87426, 87427, 87428, 87429, 87430]          [6]   \n",
       "241300                                                NaN          NaN   \n",
       "241301  [288072, 288073, 288074, 288075, 288076, 28807...          NaN   \n",
       "241302                                                NaN          NaN   \n",
       "241303           [493844, 493845, 493846, 493847, 493848]          NaN   \n",
       "\n",
       "        first_release_date                genres  category  \n",
       "0             1.433117e+09  [12, 15, 16, 24, 32]         0  \n",
       "1             1.682640e+09              [31, 32]         0  \n",
       "2             6.836832e+08                   [8]         0  \n",
       "3                      NaN                   NaN         0  \n",
       "4                      NaN                   NaN         0  \n",
       "...                    ...                   ...       ...  \n",
       "241299        1.377648e+09              [25, 31]         0  \n",
       "241300        1.514678e+09                   [5]         0  \n",
       "241301        1.630368e+09           [2, 31, 32]         0  \n",
       "241302        1.037578e+09              [30, 33]         0  \n",
       "241303        1.493251e+09              [10, 33]        11  \n",
       "\n",
       "[241304 rows x 7 columns]"
      ]
     },
     "execution_count": 25,
     "metadata": {},
     "output_type": "execute_result"
    }
   ],
   "source": [
    "# Columnas con las que se va a trabajar\n",
    "data.main"
   ]
  },
  {
   "cell_type": "code",
   "execution_count": 26,
   "id": "a20f4416",
   "metadata": {},
   "outputs": [],
   "source": [
    "# Se crean columnas en el dataframe de language_supports, una por cada tipo de language_support_type\n",
    "# Excluimos el language_support para la interfaz porque no nos parece un dato interesante\n",
    "data.splitColumn(data_frame = 'language_supports',\n",
    "                column = 'language',\n",
    "                query_field = 'language_support_type',\n",
    "                queries = [1,2],\n",
    "                inplace = True\n",
    "                 )\n",
    "\n",
    "# Se crean dos columnas nuevas con supports para audio y subtitulos con la copia de la columna de language_supports\n",
    "data.main['audio_language_supports'] = data.main['language_supports']\n",
    "data.main['subtitles_language_supports'] = data.main['language_supports']\n",
    "\n",
    "# Se modifican los id's de la tabla language_support por los id's de la tabla languages\n",
    "data.parseLists(columns = ['audio_language_supports', 'subtitles_language_supports'],\n",
    "                data_frames = ['language_supports', 'language_supports'],\n",
    "                fields = ['language_1', 'language_2'],\n",
    "                inplace = True\n",
    "               )\n",
    "\n",
    "# Se eliminan todos los np.nan que se encuentran dentro de listas\n",
    "# Si la lista está compuesta completamente por np.nan, se sustituye por un np.nan\n",
    "data.main['audio_language_supports'] = data.main['audio_language_supports'].apply(removeNaFromLists).apply(removeEmptyLists)\n",
    "data.main['subtitles_language_supports'] = data.main['subtitles_language_supports'].apply(removeNaFromLists).apply(removeEmptyLists)\n",
    "\n",
    "# Se cambian los id's de la tabla languages por los nombres de los lenguajes\n",
    "data.parseLists(columns = ['audio_language_supports', 'subtitles_language_supports'],\n",
    "                data_frames = ['languages', 'languages'],\n",
    "                fields = ['name', 'name'],\n",
    "                inplace = True\n",
    "               )"
   ]
  },
  {
   "cell_type": "code",
   "execution_count": 27,
   "id": "9a3a0853",
   "metadata": {},
   "outputs": [],
   "source": [
    "# Convertimos timestamp en un objeto datetime\n",
    "data.main['first_release_date'] = data.main['first_release_date'].apply(lambda x : datetime.fromtimestamp(x).strftime('%m-%d-%Y') if not pd.isna(x) else np.nan)\n",
    "\n",
    "# Creamos columna con los meses\n",
    "data.main['month_release'] = data.main['first_release_date'].apply(lambda x : x[:2] if not pd.isna(x) else np.nan)\n",
    "\n",
    "# Creamos columna con los años\n",
    "data.main['year_release'] = data.main['first_release_date'].apply(lambda x : x[-4:] if not pd.isna(x) else np.nan)"
   ]
  },
  {
   "cell_type": "code",
   "execution_count": 28,
   "id": "d7b6a736",
   "metadata": {},
   "outputs": [],
   "source": [
    "# Se cambian los id's de la tabla game_engines por los nombres de los motores\n",
    "data.parseLists(columns = ['game_engines'],\n",
    "                data_frames = ['game_engines'],\n",
    "                fields = ['name'],\n",
    "                inplace = True\n",
    "               )"
   ]
  },
  {
   "cell_type": "code",
   "execution_count": 29,
   "id": "d3d2d784",
   "metadata": {},
   "outputs": [],
   "source": [
    "# Se cambian los id's de la tabla genres por los nombres de los géneros\n",
    "data.parseLists(columns = ['genres'],\n",
    "                data_frames = ['genres'],\n",
    "                fields = ['name'],\n",
    "                inplace = True\n",
    "               )"
   ]
  },
  {
   "cell_type": "code",
   "execution_count": 30,
   "id": "261b51c0",
   "metadata": {},
   "outputs": [],
   "source": [
    "# Se cambian los id's de las categorías por los nombres\n",
    "categorys = diccionario = {0: 'main_game',\n",
    "                           1: 'dlc_addon',\n",
    "                           2: 'expansion',\n",
    "                           3: 'bundle',\n",
    "                           4: 'standalone_expansion',\n",
    "                           5: 'mod',\n",
    "                           6: 'episode',\n",
    "                           7: 'season',\n",
    "                           8: 'remake',\n",
    "                           9: 'remaster',\n",
    "                           10: 'expanded_game',\n",
    "                           11: 'port',\n",
    "                           12: 'fork',\n",
    "                           13: 'pack',\n",
    "                           14: 'update'}\n",
    "\n",
    "\n",
    "data.main['category'] = data.main['category'].replace(categorys)"
   ]
  },
  {
   "cell_type": "code",
   "execution_count": 31,
   "id": "36285b9a",
   "metadata": {},
   "outputs": [],
   "source": [
    "# Nos quedamos con las columnas procesadas\n",
    "data.filterColumns(columns = ['id',\n",
    "                              'name',\n",
    "                              'game_engines',\n",
    "                              'genres',\n",
    "                              'category',\n",
    "                              'audio_language_supports',\n",
    "                              'subtitles_language_supports',\n",
    "                              'month_release',\n",
    "                              'year_release'\n",
    "                             ],\n",
    "                   inplace = True\n",
    "                  )"
   ]
  },
  {
   "cell_type": "code",
   "execution_count": 32,
   "id": "6073dc10",
   "metadata": {},
   "outputs": [
    {
     "data": {
      "text/html": [
       "<div>\n",
       "<style scoped>\n",
       "    .dataframe tbody tr th:only-of-type {\n",
       "        vertical-align: middle;\n",
       "    }\n",
       "\n",
       "    .dataframe tbody tr th {\n",
       "        vertical-align: top;\n",
       "    }\n",
       "\n",
       "    .dataframe thead th {\n",
       "        text-align: right;\n",
       "    }\n",
       "</style>\n",
       "<table border=\"1\" class=\"dataframe\">\n",
       "  <thead>\n",
       "    <tr style=\"text-align: right;\">\n",
       "      <th></th>\n",
       "      <th>id</th>\n",
       "      <th>name</th>\n",
       "      <th>game_engines</th>\n",
       "      <th>genres</th>\n",
       "      <th>category</th>\n",
       "      <th>audio_language_supports</th>\n",
       "      <th>subtitles_language_supports</th>\n",
       "      <th>month_release</th>\n",
       "      <th>year_release</th>\n",
       "    </tr>\n",
       "  </thead>\n",
       "  <tbody>\n",
       "    <tr>\n",
       "      <th>0</th>\n",
       "      <td>35642</td>\n",
       "      <td>Dungeon Crawlers HD</td>\n",
       "      <td>NaN</td>\n",
       "      <td>[Role-playing (RPG), Strategy, Turn-based stra...</td>\n",
       "      <td>main_game</td>\n",
       "      <td>[English]</td>\n",
       "      <td>[English]</td>\n",
       "      <td>05</td>\n",
       "      <td>2015</td>\n",
       "    </tr>\n",
       "    <tr>\n",
       "      <th>1</th>\n",
       "      <td>246925</td>\n",
       "      <td>Stickman and the Sword of Legends</td>\n",
       "      <td>NaN</td>\n",
       "      <td>[Adventure, Indie]</td>\n",
       "      <td>main_game</td>\n",
       "      <td>[English]</td>\n",
       "      <td>[English]</td>\n",
       "      <td>04</td>\n",
       "      <td>2023</td>\n",
       "    </tr>\n",
       "    <tr>\n",
       "      <th>2</th>\n",
       "      <td>245087</td>\n",
       "      <td>Cry Baby</td>\n",
       "      <td>NaN</td>\n",
       "      <td>[Platform]</td>\n",
       "      <td>main_game</td>\n",
       "      <td>NaN</td>\n",
       "      <td>NaN</td>\n",
       "      <td>08</td>\n",
       "      <td>1991</td>\n",
       "    </tr>\n",
       "    <tr>\n",
       "      <th>3</th>\n",
       "      <td>85450</td>\n",
       "      <td>Transformers Prime: The Game</td>\n",
       "      <td>NaN</td>\n",
       "      <td>NaN</td>\n",
       "      <td>main_game</td>\n",
       "      <td>NaN</td>\n",
       "      <td>NaN</td>\n",
       "      <td>NaN</td>\n",
       "      <td>NaN</td>\n",
       "    </tr>\n",
       "    <tr>\n",
       "      <th>4</th>\n",
       "      <td>95080</td>\n",
       "      <td>Dotra</td>\n",
       "      <td>NaN</td>\n",
       "      <td>NaN</td>\n",
       "      <td>main_game</td>\n",
       "      <td>NaN</td>\n",
       "      <td>NaN</td>\n",
       "      <td>NaN</td>\n",
       "      <td>NaN</td>\n",
       "    </tr>\n",
       "    <tr>\n",
       "      <th>...</th>\n",
       "      <td>...</td>\n",
       "      <td>...</td>\n",
       "      <td>...</td>\n",
       "      <td>...</td>\n",
       "      <td>...</td>\n",
       "      <td>...</td>\n",
       "      <td>...</td>\n",
       "      <td>...</td>\n",
       "      <td>...</td>\n",
       "    </tr>\n",
       "    <tr>\n",
       "      <th>241299</th>\n",
       "      <td>2598</td>\n",
       "      <td>Teenage Mutant Ninja Turtles: Out of the Shadows</td>\n",
       "      <td>[Unreal Engine]</td>\n",
       "      <td>[Hack and slash/Beat 'em up, Adventure]</td>\n",
       "      <td>main_game</td>\n",
       "      <td>[English]</td>\n",
       "      <td>NaN</td>\n",
       "      <td>08</td>\n",
       "      <td>2013</td>\n",
       "    </tr>\n",
       "    <tr>\n",
       "      <th>241300</th>\n",
       "      <td>144598</td>\n",
       "      <td>Moorhuhn VR</td>\n",
       "      <td>NaN</td>\n",
       "      <td>[Shooter]</td>\n",
       "      <td>main_game</td>\n",
       "      <td>NaN</td>\n",
       "      <td>NaN</td>\n",
       "      <td>12</td>\n",
       "      <td>2017</td>\n",
       "    </tr>\n",
       "    <tr>\n",
       "      <th>241301</th>\n",
       "      <td>121767</td>\n",
       "      <td>The Big Con</td>\n",
       "      <td>NaN</td>\n",
       "      <td>[Point-and-click, Adventure, Indie]</td>\n",
       "      <td>main_game</td>\n",
       "      <td>[English]</td>\n",
       "      <td>[English, French, German, Spanish (Spain), Por...</td>\n",
       "      <td>08</td>\n",
       "      <td>2021</td>\n",
       "    </tr>\n",
       "    <tr>\n",
       "      <th>241302</th>\n",
       "      <td>248598</td>\n",
       "      <td>Attack of the Silver Ball</td>\n",
       "      <td>NaN</td>\n",
       "      <td>[Pinball, Arcade]</td>\n",
       "      <td>main_game</td>\n",
       "      <td>NaN</td>\n",
       "      <td>NaN</td>\n",
       "      <td>11</td>\n",
       "      <td>2002</td>\n",
       "    </tr>\n",
       "    <tr>\n",
       "      <th>241303</th>\n",
       "      <td>28500</td>\n",
       "      <td>ACA Neo Geo: Over Top</td>\n",
       "      <td>NaN</td>\n",
       "      <td>[Racing, Arcade]</td>\n",
       "      <td>port</td>\n",
       "      <td>NaN</td>\n",
       "      <td>NaN</td>\n",
       "      <td>04</td>\n",
       "      <td>2017</td>\n",
       "    </tr>\n",
       "  </tbody>\n",
       "</table>\n",
       "<p>241304 rows × 9 columns</p>\n",
       "</div>"
      ],
      "text/plain": [
       "            id                                              name  \\\n",
       "0        35642                               Dungeon Crawlers HD   \n",
       "1       246925                 Stickman and the Sword of Legends   \n",
       "2       245087                                          Cry Baby   \n",
       "3        85450                      Transformers Prime: The Game   \n",
       "4        95080                                             Dotra   \n",
       "...        ...                                               ...   \n",
       "241299    2598  Teenage Mutant Ninja Turtles: Out of the Shadows   \n",
       "241300  144598                                       Moorhuhn VR   \n",
       "241301  121767                                       The Big Con   \n",
       "241302  248598                         Attack of the Silver Ball   \n",
       "241303   28500                             ACA Neo Geo: Over Top   \n",
       "\n",
       "           game_engines                                             genres  \\\n",
       "0                   NaN  [Role-playing (RPG), Strategy, Turn-based stra...   \n",
       "1                   NaN                                 [Adventure, Indie]   \n",
       "2                   NaN                                         [Platform]   \n",
       "3                   NaN                                                NaN   \n",
       "4                   NaN                                                NaN   \n",
       "...                 ...                                                ...   \n",
       "241299  [Unreal Engine]            [Hack and slash/Beat 'em up, Adventure]   \n",
       "241300              NaN                                          [Shooter]   \n",
       "241301              NaN                [Point-and-click, Adventure, Indie]   \n",
       "241302              NaN                                  [Pinball, Arcade]   \n",
       "241303              NaN                                   [Racing, Arcade]   \n",
       "\n",
       "         category audio_language_supports  \\\n",
       "0       main_game               [English]   \n",
       "1       main_game               [English]   \n",
       "2       main_game                     NaN   \n",
       "3       main_game                     NaN   \n",
       "4       main_game                     NaN   \n",
       "...           ...                     ...   \n",
       "241299  main_game               [English]   \n",
       "241300  main_game                     NaN   \n",
       "241301  main_game               [English]   \n",
       "241302  main_game                     NaN   \n",
       "241303       port                     NaN   \n",
       "\n",
       "                              subtitles_language_supports month_release  \\\n",
       "0                                               [English]            05   \n",
       "1                                               [English]            04   \n",
       "2                                                     NaN            08   \n",
       "3                                                     NaN           NaN   \n",
       "4                                                     NaN           NaN   \n",
       "...                                                   ...           ...   \n",
       "241299                                                NaN            08   \n",
       "241300                                                NaN            12   \n",
       "241301  [English, French, German, Spanish (Spain), Por...            08   \n",
       "241302                                                NaN            11   \n",
       "241303                                                NaN            04   \n",
       "\n",
       "       year_release  \n",
       "0              2015  \n",
       "1              2023  \n",
       "2              1991  \n",
       "3               NaN  \n",
       "4               NaN  \n",
       "...             ...  \n",
       "241299         2013  \n",
       "241300         2017  \n",
       "241301         2021  \n",
       "241302         2002  \n",
       "241303         2017  \n",
       "\n",
       "[241304 rows x 9 columns]"
      ]
     },
     "execution_count": 32,
     "metadata": {},
     "output_type": "execute_result"
    }
   ],
   "source": [
    "# Datos procesados\n",
    "\n",
    "data.main"
   ]
  },
  {
   "cell_type": "code",
   "execution_count": 15,
   "id": "7a695495",
   "metadata": {},
   "outputs": [],
   "source": [
    "key = api['Airtable']['key']\n",
    "app = api['Airtable']['app']\n",
    "tbls = api['Airtable']['tbls']"
   ]
  },
  {
   "cell_type": "code",
   "execution_count": 16,
   "id": "2b1663f0",
   "metadata": {},
   "outputs": [],
   "source": [
    "loadToAirtable(key, app, tbls, data.main) #tarda aprox 4 horas y media"
   ]
  },
  {
   "cell_type": "code",
   "execution_count": 17,
   "id": "95ea620b",
   "metadata": {},
   "outputs": [],
   "source": [
    "dataframe = extractFromAirtable(key, app, tbls) #tarda menos de media hora"
   ]
  },
  {
   "cell_type": "code",
   "execution_count": 34,
   "id": "ae6fc1b1",
   "metadata": {},
   "outputs": [
    {
     "data": {
      "application/vnd.plotly.v1+json": {
       "config": {
        "plotlyServerURL": "https://plot.ly"
       },
       "data": [
        {
         "alignmentgroup": "True",
         "hovertemplate": "variable=audio_language_supports_count<br>value=%{x}<br>language=%{y}<extra></extra>",
         "legendgroup": "audio_language_supports_count",
         "marker": {
          "color": "#636efa",
          "pattern": {
           "shape": ""
          }
         },
         "name": "audio_language_supports_count",
         "offsetgroup": "audio_language_supports_count",
         "orientation": "h",
         "showlegend": true,
         "textposition": "auto",
         "type": "bar",
         "x": [
          270,
          624,
          581,
          1085,
          1258,
          1257,
          1281,
          1248,
          1250,
          1366,
          1356,
          1363,
          1379,
          1484,
          1729,
          1649,
          2343,
          2108,
          2159,
          2912,
          3642,
          4395,
          4484,
          6024,
          4001,
          5302,
          5909,
          43704
         ],
         "xaxis": "x",
         "y": [
          "Spanish (Mexico)",
          "Hebrew",
          "English (UK)",
          "Vietnamese",
          "Norwegian",
          "Finnish",
          "Danish",
          "Thai",
          "Hungarian",
          "Swedish",
          "Ukrainian",
          "Arabic",
          "Czech",
          "Dutch",
          "Portuguese (Portugal)",
          "Turkish",
          "Polish",
          "Chinese (Traditional)",
          "Korean",
          "Portuguese (Brazil)",
          "Italian",
          "Spanish (Spain)",
          "Russian",
          "Japanese",
          "Chinese (Simplified)",
          "French",
          "German",
          "English"
         ],
         "yaxis": "y"
        },
        {
         "alignmentgroup": "True",
         "hovertemplate": "variable=subtitles_language_supports_count<br>value=%{x}<br>language=%{y}<extra></extra>",
         "legendgroup": "subtitles_language_supports_count",
         "marker": {
          "color": "#EF553B",
          "pattern": {
           "shape": ""
          }
         },
         "name": "subtitles_language_supports_count",
         "offsetgroup": "subtitles_language_supports_count",
         "orientation": "h",
         "showlegend": true,
         "textposition": "auto",
         "type": "bar",
         "x": [
          579,
          633,
          718,
          1345,
          1548,
          1586,
          1656,
          1810,
          1908,
          1892,
          1988,
          2056,
          2550,
          2745,
          3868,
          4000,
          6830,
          7782,
          7993,
          8335,
          10001,
          13467,
          13747,
          12539,
          14819,
          13870,
          14523,
          49613
         ],
         "xaxis": "x",
         "y": [
          "Spanish (Mexico)",
          "Hebrew",
          "English (UK)",
          "Vietnamese",
          "Norwegian",
          "Finnish",
          "Danish",
          "Thai",
          "Hungarian",
          "Swedish",
          "Ukrainian",
          "Arabic",
          "Czech",
          "Dutch",
          "Portuguese (Portugal)",
          "Turkish",
          "Polish",
          "Chinese (Traditional)",
          "Korean",
          "Portuguese (Brazil)",
          "Italian",
          "Spanish (Spain)",
          "Russian",
          "Japanese",
          "Chinese (Simplified)",
          "French",
          "German",
          "English"
         ],
         "yaxis": "y"
        }
       ],
       "layout": {
        "barmode": "relative",
        "height": 800,
        "legend": {
         "title": {
          "text": "variable"
         },
         "tracegroupgap": 0
        },
        "margin": {
         "t": 60
        },
        "template": {
         "data": {
          "bar": [
           {
            "error_x": {
             "color": "#2a3f5f"
            },
            "error_y": {
             "color": "#2a3f5f"
            },
            "marker": {
             "line": {
              "color": "#E5ECF6",
              "width": 0.5
             },
             "pattern": {
              "fillmode": "overlay",
              "size": 10,
              "solidity": 0.2
             }
            },
            "type": "bar"
           }
          ],
          "barpolar": [
           {
            "marker": {
             "line": {
              "color": "#E5ECF6",
              "width": 0.5
             },
             "pattern": {
              "fillmode": "overlay",
              "size": 10,
              "solidity": 0.2
             }
            },
            "type": "barpolar"
           }
          ],
          "carpet": [
           {
            "aaxis": {
             "endlinecolor": "#2a3f5f",
             "gridcolor": "white",
             "linecolor": "white",
             "minorgridcolor": "white",
             "startlinecolor": "#2a3f5f"
            },
            "baxis": {
             "endlinecolor": "#2a3f5f",
             "gridcolor": "white",
             "linecolor": "white",
             "minorgridcolor": "white",
             "startlinecolor": "#2a3f5f"
            },
            "type": "carpet"
           }
          ],
          "choropleth": [
           {
            "colorbar": {
             "outlinewidth": 0,
             "ticks": ""
            },
            "type": "choropleth"
           }
          ],
          "contour": [
           {
            "colorbar": {
             "outlinewidth": 0,
             "ticks": ""
            },
            "colorscale": [
             [
              0,
              "#0d0887"
             ],
             [
              0.1111111111111111,
              "#46039f"
             ],
             [
              0.2222222222222222,
              "#7201a8"
             ],
             [
              0.3333333333333333,
              "#9c179e"
             ],
             [
              0.4444444444444444,
              "#bd3786"
             ],
             [
              0.5555555555555556,
              "#d8576b"
             ],
             [
              0.6666666666666666,
              "#ed7953"
             ],
             [
              0.7777777777777778,
              "#fb9f3a"
             ],
             [
              0.8888888888888888,
              "#fdca26"
             ],
             [
              1,
              "#f0f921"
             ]
            ],
            "type": "contour"
           }
          ],
          "contourcarpet": [
           {
            "colorbar": {
             "outlinewidth": 0,
             "ticks": ""
            },
            "type": "contourcarpet"
           }
          ],
          "heatmap": [
           {
            "colorbar": {
             "outlinewidth": 0,
             "ticks": ""
            },
            "colorscale": [
             [
              0,
              "#0d0887"
             ],
             [
              0.1111111111111111,
              "#46039f"
             ],
             [
              0.2222222222222222,
              "#7201a8"
             ],
             [
              0.3333333333333333,
              "#9c179e"
             ],
             [
              0.4444444444444444,
              "#bd3786"
             ],
             [
              0.5555555555555556,
              "#d8576b"
             ],
             [
              0.6666666666666666,
              "#ed7953"
             ],
             [
              0.7777777777777778,
              "#fb9f3a"
             ],
             [
              0.8888888888888888,
              "#fdca26"
             ],
             [
              1,
              "#f0f921"
             ]
            ],
            "type": "heatmap"
           }
          ],
          "heatmapgl": [
           {
            "colorbar": {
             "outlinewidth": 0,
             "ticks": ""
            },
            "colorscale": [
             [
              0,
              "#0d0887"
             ],
             [
              0.1111111111111111,
              "#46039f"
             ],
             [
              0.2222222222222222,
              "#7201a8"
             ],
             [
              0.3333333333333333,
              "#9c179e"
             ],
             [
              0.4444444444444444,
              "#bd3786"
             ],
             [
              0.5555555555555556,
              "#d8576b"
             ],
             [
              0.6666666666666666,
              "#ed7953"
             ],
             [
              0.7777777777777778,
              "#fb9f3a"
             ],
             [
              0.8888888888888888,
              "#fdca26"
             ],
             [
              1,
              "#f0f921"
             ]
            ],
            "type": "heatmapgl"
           }
          ],
          "histogram": [
           {
            "marker": {
             "pattern": {
              "fillmode": "overlay",
              "size": 10,
              "solidity": 0.2
             }
            },
            "type": "histogram"
           }
          ],
          "histogram2d": [
           {
            "colorbar": {
             "outlinewidth": 0,
             "ticks": ""
            },
            "colorscale": [
             [
              0,
              "#0d0887"
             ],
             [
              0.1111111111111111,
              "#46039f"
             ],
             [
              0.2222222222222222,
              "#7201a8"
             ],
             [
              0.3333333333333333,
              "#9c179e"
             ],
             [
              0.4444444444444444,
              "#bd3786"
             ],
             [
              0.5555555555555556,
              "#d8576b"
             ],
             [
              0.6666666666666666,
              "#ed7953"
             ],
             [
              0.7777777777777778,
              "#fb9f3a"
             ],
             [
              0.8888888888888888,
              "#fdca26"
             ],
             [
              1,
              "#f0f921"
             ]
            ],
            "type": "histogram2d"
           }
          ],
          "histogram2dcontour": [
           {
            "colorbar": {
             "outlinewidth": 0,
             "ticks": ""
            },
            "colorscale": [
             [
              0,
              "#0d0887"
             ],
             [
              0.1111111111111111,
              "#46039f"
             ],
             [
              0.2222222222222222,
              "#7201a8"
             ],
             [
              0.3333333333333333,
              "#9c179e"
             ],
             [
              0.4444444444444444,
              "#bd3786"
             ],
             [
              0.5555555555555556,
              "#d8576b"
             ],
             [
              0.6666666666666666,
              "#ed7953"
             ],
             [
              0.7777777777777778,
              "#fb9f3a"
             ],
             [
              0.8888888888888888,
              "#fdca26"
             ],
             [
              1,
              "#f0f921"
             ]
            ],
            "type": "histogram2dcontour"
           }
          ],
          "mesh3d": [
           {
            "colorbar": {
             "outlinewidth": 0,
             "ticks": ""
            },
            "type": "mesh3d"
           }
          ],
          "parcoords": [
           {
            "line": {
             "colorbar": {
              "outlinewidth": 0,
              "ticks": ""
             }
            },
            "type": "parcoords"
           }
          ],
          "pie": [
           {
            "automargin": true,
            "type": "pie"
           }
          ],
          "scatter": [
           {
            "fillpattern": {
             "fillmode": "overlay",
             "size": 10,
             "solidity": 0.2
            },
            "type": "scatter"
           }
          ],
          "scatter3d": [
           {
            "line": {
             "colorbar": {
              "outlinewidth": 0,
              "ticks": ""
             }
            },
            "marker": {
             "colorbar": {
              "outlinewidth": 0,
              "ticks": ""
             }
            },
            "type": "scatter3d"
           }
          ],
          "scattercarpet": [
           {
            "marker": {
             "colorbar": {
              "outlinewidth": 0,
              "ticks": ""
             }
            },
            "type": "scattercarpet"
           }
          ],
          "scattergeo": [
           {
            "marker": {
             "colorbar": {
              "outlinewidth": 0,
              "ticks": ""
             }
            },
            "type": "scattergeo"
           }
          ],
          "scattergl": [
           {
            "marker": {
             "colorbar": {
              "outlinewidth": 0,
              "ticks": ""
             }
            },
            "type": "scattergl"
           }
          ],
          "scattermapbox": [
           {
            "marker": {
             "colorbar": {
              "outlinewidth": 0,
              "ticks": ""
             }
            },
            "type": "scattermapbox"
           }
          ],
          "scatterpolar": [
           {
            "marker": {
             "colorbar": {
              "outlinewidth": 0,
              "ticks": ""
             }
            },
            "type": "scatterpolar"
           }
          ],
          "scatterpolargl": [
           {
            "marker": {
             "colorbar": {
              "outlinewidth": 0,
              "ticks": ""
             }
            },
            "type": "scatterpolargl"
           }
          ],
          "scatterternary": [
           {
            "marker": {
             "colorbar": {
              "outlinewidth": 0,
              "ticks": ""
             }
            },
            "type": "scatterternary"
           }
          ],
          "surface": [
           {
            "colorbar": {
             "outlinewidth": 0,
             "ticks": ""
            },
            "colorscale": [
             [
              0,
              "#0d0887"
             ],
             [
              0.1111111111111111,
              "#46039f"
             ],
             [
              0.2222222222222222,
              "#7201a8"
             ],
             [
              0.3333333333333333,
              "#9c179e"
             ],
             [
              0.4444444444444444,
              "#bd3786"
             ],
             [
              0.5555555555555556,
              "#d8576b"
             ],
             [
              0.6666666666666666,
              "#ed7953"
             ],
             [
              0.7777777777777778,
              "#fb9f3a"
             ],
             [
              0.8888888888888888,
              "#fdca26"
             ],
             [
              1,
              "#f0f921"
             ]
            ],
            "type": "surface"
           }
          ],
          "table": [
           {
            "cells": {
             "fill": {
              "color": "#EBF0F8"
             },
             "line": {
              "color": "white"
             }
            },
            "header": {
             "fill": {
              "color": "#C8D4E3"
             },
             "line": {
              "color": "white"
             }
            },
            "type": "table"
           }
          ]
         },
         "layout": {
          "annotationdefaults": {
           "arrowcolor": "#2a3f5f",
           "arrowhead": 0,
           "arrowwidth": 1
          },
          "autotypenumbers": "strict",
          "coloraxis": {
           "colorbar": {
            "outlinewidth": 0,
            "ticks": ""
           }
          },
          "colorscale": {
           "diverging": [
            [
             0,
             "#8e0152"
            ],
            [
             0.1,
             "#c51b7d"
            ],
            [
             0.2,
             "#de77ae"
            ],
            [
             0.3,
             "#f1b6da"
            ],
            [
             0.4,
             "#fde0ef"
            ],
            [
             0.5,
             "#f7f7f7"
            ],
            [
             0.6,
             "#e6f5d0"
            ],
            [
             0.7,
             "#b8e186"
            ],
            [
             0.8,
             "#7fbc41"
            ],
            [
             0.9,
             "#4d9221"
            ],
            [
             1,
             "#276419"
            ]
           ],
           "sequential": [
            [
             0,
             "#0d0887"
            ],
            [
             0.1111111111111111,
             "#46039f"
            ],
            [
             0.2222222222222222,
             "#7201a8"
            ],
            [
             0.3333333333333333,
             "#9c179e"
            ],
            [
             0.4444444444444444,
             "#bd3786"
            ],
            [
             0.5555555555555556,
             "#d8576b"
            ],
            [
             0.6666666666666666,
             "#ed7953"
            ],
            [
             0.7777777777777778,
             "#fb9f3a"
            ],
            [
             0.8888888888888888,
             "#fdca26"
            ],
            [
             1,
             "#f0f921"
            ]
           ],
           "sequentialminus": [
            [
             0,
             "#0d0887"
            ],
            [
             0.1111111111111111,
             "#46039f"
            ],
            [
             0.2222222222222222,
             "#7201a8"
            ],
            [
             0.3333333333333333,
             "#9c179e"
            ],
            [
             0.4444444444444444,
             "#bd3786"
            ],
            [
             0.5555555555555556,
             "#d8576b"
            ],
            [
             0.6666666666666666,
             "#ed7953"
            ],
            [
             0.7777777777777778,
             "#fb9f3a"
            ],
            [
             0.8888888888888888,
             "#fdca26"
            ],
            [
             1,
             "#f0f921"
            ]
           ]
          },
          "colorway": [
           "#636efa",
           "#EF553B",
           "#00cc96",
           "#ab63fa",
           "#FFA15A",
           "#19d3f3",
           "#FF6692",
           "#B6E880",
           "#FF97FF",
           "#FECB52"
          ],
          "font": {
           "color": "#2a3f5f"
          },
          "geo": {
           "bgcolor": "white",
           "lakecolor": "white",
           "landcolor": "#E5ECF6",
           "showlakes": true,
           "showland": true,
           "subunitcolor": "white"
          },
          "hoverlabel": {
           "align": "left"
          },
          "hovermode": "closest",
          "mapbox": {
           "style": "light"
          },
          "paper_bgcolor": "white",
          "plot_bgcolor": "#E5ECF6",
          "polar": {
           "angularaxis": {
            "gridcolor": "white",
            "linecolor": "white",
            "ticks": ""
           },
           "bgcolor": "#E5ECF6",
           "radialaxis": {
            "gridcolor": "white",
            "linecolor": "white",
            "ticks": ""
           }
          },
          "scene": {
           "xaxis": {
            "backgroundcolor": "#E5ECF6",
            "gridcolor": "white",
            "gridwidth": 2,
            "linecolor": "white",
            "showbackground": true,
            "ticks": "",
            "zerolinecolor": "white"
           },
           "yaxis": {
            "backgroundcolor": "#E5ECF6",
            "gridcolor": "white",
            "gridwidth": 2,
            "linecolor": "white",
            "showbackground": true,
            "ticks": "",
            "zerolinecolor": "white"
           },
           "zaxis": {
            "backgroundcolor": "#E5ECF6",
            "gridcolor": "white",
            "gridwidth": 2,
            "linecolor": "white",
            "showbackground": true,
            "ticks": "",
            "zerolinecolor": "white"
           }
          },
          "shapedefaults": {
           "line": {
            "color": "#2a3f5f"
           }
          },
          "ternary": {
           "aaxis": {
            "gridcolor": "white",
            "linecolor": "white",
            "ticks": ""
           },
           "baxis": {
            "gridcolor": "white",
            "linecolor": "white",
            "ticks": ""
           },
           "bgcolor": "#E5ECF6",
           "caxis": {
            "gridcolor": "white",
            "linecolor": "white",
            "ticks": ""
           }
          },
          "title": {
           "x": 0.05
          },
          "xaxis": {
           "automargin": true,
           "gridcolor": "white",
           "linecolor": "white",
           "ticks": "",
           "title": {
            "standoff": 15
           },
           "zerolinecolor": "white",
           "zerolinewidth": 2
          },
          "yaxis": {
           "automargin": true,
           "gridcolor": "white",
           "linecolor": "white",
           "ticks": "",
           "title": {
            "standoff": 15
           },
           "zerolinecolor": "white",
           "zerolinewidth": 2
          }
         }
        },
        "width": 900,
        "xaxis": {
         "anchor": "y",
         "domain": [
          0,
          1
         ],
         "title": {
          "text": "value"
         }
        },
        "yaxis": {
         "anchor": "x",
         "domain": [
          0,
          1
         ],
         "title": {
          "text": "language"
         }
        }
       }
      }
     },
     "metadata": {},
     "output_type": "display_data"
    }
   ],
   "source": [
    "languages_fig(dataframe)"
   ]
  },
  {
   "cell_type": "code",
   "execution_count": 35,
   "id": "38122272",
   "metadata": {},
   "outputs": [
    {
     "data": {
      "application/vnd.plotly.v1+json": {
       "config": {
        "plotlyServerURL": "https://plot.ly"
       },
       "data": [
        {
         "hovertemplate": "month_release=Jan<br>year_release=%{x}<br>count=%{y}<extra></extra>",
         "legendgroup": "Jan",
         "line": {
          "color": "deepskyblue",
          "dash": "solid"
         },
         "marker": {
          "symbol": "circle"
         },
         "mode": "lines",
         "name": "Jan",
         "orientation": "v",
         "showlegend": true,
         "type": "scatter",
         "x": [
          1959,
          1974,
          1975,
          1976,
          1977,
          1978,
          1979,
          1980,
          1981,
          1982,
          1983,
          1984,
          1985,
          1986,
          1987,
          1988,
          1989,
          1990,
          1991,
          1992,
          1993,
          1994,
          1995,
          1996,
          1997,
          1998,
          1999,
          2000,
          2001,
          2002,
          2003,
          2004,
          2005,
          2006,
          2007,
          2008,
          2009,
          2010,
          2011,
          2012,
          2013,
          2014,
          2015,
          2016,
          2017,
          2018,
          2019,
          2020,
          2021,
          2022,
          2023,
          2024,
          2025,
          2030
         ],
         "xaxis": "x",
         "y": [
          1,
          1,
          1,
          2,
          3,
          10,
          11,
          9,
          21,
          42,
          136,
          59,
          48,
          52,
          94,
          87,
          88,
          125,
          160,
          183,
          178,
          176,
          143,
          123,
          76,
          93,
          85,
          125,
          114,
          98,
          94,
          73,
          79,
          86,
          94,
          92,
          119,
          168,
          184,
          188,
          207,
          273,
          385,
          427,
          683,
          794,
          893,
          810,
          864,
          1024,
          876,
          8,
          2,
          1
         ],
         "yaxis": "y"
        },
        {
         "hovertemplate": "month_release=Feb<br>year_release=%{x}<br>count=%{y}<extra></extra>",
         "legendgroup": "Feb",
         "line": {
          "color": "royalblue",
          "dash": "solid"
         },
         "marker": {
          "symbol": "circle"
         },
         "mode": "lines",
         "name": "Feb",
         "orientation": "v",
         "showlegend": true,
         "type": "scatter",
         "x": [
          1973,
          1974,
          1975,
          1976,
          1977,
          1978,
          1979,
          1980,
          1981,
          1982,
          1983,
          1984,
          1985,
          1986,
          1987,
          1988,
          1989,
          1990,
          1991,
          1992,
          1993,
          1994,
          1995,
          1996,
          1997,
          1998,
          1999,
          2000,
          2001,
          2002,
          2003,
          2004,
          2005,
          2006,
          2007,
          2008,
          2009,
          2010,
          2011,
          2012,
          2013,
          2014,
          2015,
          2016,
          2017,
          2018,
          2019,
          2020,
          2021,
          2022,
          2023,
          2024,
          2029
         ],
         "xaxis": "x",
         "y": [
          3,
          3,
          1,
          3,
          2,
          8,
          3,
          8,
          6,
          7,
          11,
          21,
          14,
          12,
          15,
          20,
          31,
          22,
          33,
          37,
          47,
          58,
          74,
          85,
          62,
          69,
          66,
          83,
          69,
          88,
          95,
          89,
          86,
          123,
          113,
          115,
          156,
          205,
          212,
          216,
          208,
          301,
          399,
          471,
          721,
          880,
          786,
          910,
          1054,
          917,
          804,
          8,
          1
         ],
         "yaxis": "y"
        },
        {
         "hovertemplate": "month_release=Mar<br>year_release=%{x}<br>count=%{y}<extra></extra>",
         "legendgroup": "Mar",
         "line": {
          "color": "hotpink",
          "dash": "solid"
         },
         "marker": {
          "symbol": "circle"
         },
         "mode": "lines",
         "name": "Mar",
         "orientation": "v",
         "showlegend": true,
         "type": "scatter",
         "x": [
          1969,
          1973,
          1974,
          1976,
          1977,
          1978,
          1979,
          1980,
          1981,
          1982,
          1983,
          1984,
          1985,
          1986,
          1987,
          1988,
          1989,
          1990,
          1991,
          1992,
          1993,
          1994,
          1995,
          1996,
          1997,
          1998,
          1999,
          2000,
          2001,
          2002,
          2003,
          2004,
          2005,
          2006,
          2007,
          2008,
          2009,
          2010,
          2011,
          2012,
          2013,
          2014,
          2015,
          2016,
          2017,
          2018,
          2019,
          2020,
          2021,
          2022,
          2023,
          2024,
          2025
         ],
         "xaxis": "x",
         "y": [
          1,
          2,
          5,
          6,
          4,
          5,
          4,
          3,
          2,
          10,
          10,
          12,
          16,
          11,
          25,
          27,
          37,
          56,
          58,
          76,
          61,
          98,
          92,
          111,
          94,
          98,
          113,
          127,
          140,
          132,
          124,
          139,
          138,
          174,
          160,
          149,
          216,
          249,
          257,
          251,
          263,
          363,
          446,
          603,
          799,
          1044,
          824,
          905,
          1161,
          1036,
          935,
          29,
          4
         ],
         "yaxis": "y"
        },
        {
         "hovertemplate": "month_release=Apr<br>year_release=%{x}<br>count=%{y}<extra></extra>",
         "legendgroup": "Apr",
         "line": {
          "color": "orchid",
          "dash": "solid"
         },
         "marker": {
          "symbol": "circle"
         },
         "mode": "lines",
         "name": "Apr",
         "orientation": "v",
         "showlegend": true,
         "type": "scatter",
         "x": [
          1962,
          1974,
          1975,
          1976,
          1977,
          1979,
          1980,
          1981,
          1982,
          1983,
          1984,
          1985,
          1986,
          1987,
          1988,
          1989,
          1990,
          1991,
          1992,
          1993,
          1994,
          1995,
          1996,
          1997,
          1998,
          1999,
          2000,
          2001,
          2002,
          2003,
          2004,
          2005,
          2006,
          2007,
          2008,
          2009,
          2010,
          2011,
          2012,
          2013,
          2014,
          2015,
          2016,
          2017,
          2018,
          2019,
          2020,
          2021,
          2022,
          2023,
          2024,
          2025,
          2026
         ],
         "xaxis": "x",
         "y": [
          1,
          1,
          4,
          1,
          2,
          1,
          3,
          2,
          7,
          12,
          7,
          12,
          25,
          25,
          25,
          37,
          46,
          56,
          56,
          57,
          61,
          77,
          64,
          80,
          78,
          100,
          86,
          83,
          98,
          94,
          128,
          119,
          121,
          116,
          116,
          174,
          199,
          218,
          203,
          274,
          350,
          486,
          610,
          731,
          959,
          891,
          834,
          1035,
          914,
          855,
          1,
          1,
          2
         ],
         "yaxis": "y"
        },
        {
         "hovertemplate": "month_release=May<br>year_release=%{x}<br>count=%{y}<extra></extra>",
         "legendgroup": "May",
         "line": {
          "color": "deeppink",
          "dash": "solid"
         },
         "marker": {
          "symbol": "circle"
         },
         "mode": "lines",
         "name": "May",
         "orientation": "v",
         "showlegend": true,
         "type": "scatter",
         "x": [
          1972,
          1975,
          1976,
          1977,
          1978,
          1979,
          1980,
          1981,
          1982,
          1983,
          1984,
          1985,
          1986,
          1987,
          1988,
          1989,
          1990,
          1991,
          1992,
          1993,
          1994,
          1995,
          1996,
          1997,
          1998,
          1999,
          2000,
          2001,
          2002,
          2003,
          2004,
          2005,
          2006,
          2007,
          2008,
          2009,
          2010,
          2011,
          2012,
          2013,
          2014,
          2015,
          2016,
          2017,
          2018,
          2019,
          2020,
          2021,
          2022,
          2023,
          2024,
          2025
         ],
         "xaxis": "x",
         "y": [
          1,
          2,
          5,
          6,
          9,
          9,
          14,
          13,
          15,
          22,
          40,
          36,
          22,
          31,
          26,
          36,
          50,
          53,
          46,
          100,
          67,
          61,
          73,
          64,
          63,
          78,
          79,
          90,
          96,
          80,
          86,
          107,
          105,
          129,
          118,
          172,
          189,
          204,
          220,
          278,
          350,
          446,
          578,
          794,
          975,
          888,
          836,
          1150,
          1059,
          810,
          3,
          1
         ],
         "yaxis": "y"
        },
        {
         "hovertemplate": "month_release=Jun<br>year_release=%{x}<br>count=%{y}<extra></extra>",
         "legendgroup": "Jun",
         "line": {
          "color": "palegreen",
          "dash": "solid"
         },
         "marker": {
          "symbol": "circle"
         },
         "mode": "lines",
         "name": "Jun",
         "orientation": "v",
         "showlegend": true,
         "type": "scatter",
         "x": [
          1954,
          1970,
          1971,
          1973,
          1974,
          1975,
          1976,
          1977,
          1978,
          1979,
          1980,
          1981,
          1982,
          1983,
          1984,
          1985,
          1986,
          1987,
          1988,
          1989,
          1990,
          1991,
          1992,
          1993,
          1994,
          1995,
          1996,
          1997,
          1998,
          1999,
          2000,
          2001,
          2002,
          2003,
          2004,
          2005,
          2006,
          2007,
          2008,
          2009,
          2010,
          2011,
          2012,
          2013,
          2014,
          2015,
          2016,
          2017,
          2018,
          2019,
          2020,
          2021,
          2022,
          2023,
          2024
         ],
         "xaxis": "x",
         "y": [
          1,
          1,
          1,
          2,
          1,
          1,
          3,
          11,
          3,
          6,
          6,
          10,
          26,
          46,
          28,
          13,
          23,
          36,
          38,
          33,
          55,
          54,
          57,
          65,
          76,
          92,
          68,
          81,
          78,
          90,
          100,
          122,
          141,
          99,
          101,
          111,
          139,
          152,
          169,
          194,
          266,
          263,
          219,
          252,
          328,
          450,
          605,
          724,
          814,
          782,
          848,
          1298,
          997,
          743,
          11
         ],
         "yaxis": "y"
        },
        {
         "hovertemplate": "month_release=Jul<br>year_release=%{x}<br>count=%{y}<extra></extra>",
         "legendgroup": "Jul",
         "line": {
          "color": "lawngreen",
          "dash": "solid"
         },
         "marker": {
          "symbol": "circle"
         },
         "mode": "lines",
         "name": "Jul",
         "orientation": "v",
         "showlegend": true,
         "type": "scatter",
         "x": [
          1973,
          1974,
          1976,
          1977,
          1978,
          1979,
          1980,
          1981,
          1982,
          1983,
          1984,
          1985,
          1986,
          1987,
          1988,
          1989,
          1990,
          1991,
          1992,
          1993,
          1994,
          1995,
          1996,
          1997,
          1998,
          1999,
          2000,
          2001,
          2002,
          2003,
          2004,
          2005,
          2006,
          2007,
          2008,
          2009,
          2010,
          2011,
          2012,
          2013,
          2014,
          2015,
          2016,
          2017,
          2018,
          2019,
          2020,
          2021,
          2022,
          2023,
          2024,
          2025
         ],
         "xaxis": "x",
         "y": [
          2,
          1,
          3,
          2,
          2,
          4,
          3,
          9,
          6,
          14,
          17,
          17,
          22,
          36,
          28,
          27,
          38,
          49,
          60,
          61,
          77,
          90,
          77,
          81,
          97,
          93,
          88,
          75,
          115,
          105,
          82,
          119,
          114,
          125,
          198,
          195,
          213,
          216,
          217,
          237,
          359,
          506,
          646,
          958,
          902,
          777,
          865,
          1158,
          998,
          625,
          3,
          1
         ],
         "yaxis": "y"
        },
        {
         "hovertemplate": "month_release=Aug<br>year_release=%{x}<br>count=%{y}<extra></extra>",
         "legendgroup": "Aug",
         "line": {
          "color": "lime",
          "dash": "solid"
         },
         "marker": {
          "symbol": "circle"
         },
         "mode": "lines",
         "name": "Aug",
         "orientation": "v",
         "showlegend": true,
         "type": "scatter",
         "x": [
          1950,
          1952,
          1971,
          1972,
          1973,
          1975,
          1976,
          1977,
          1979,
          1981,
          1982,
          1983,
          1984,
          1985,
          1986,
          1987,
          1988,
          1989,
          1990,
          1991,
          1992,
          1993,
          1994,
          1995,
          1996,
          1997,
          1998,
          1999,
          2000,
          2001,
          2002,
          2003,
          2004,
          2005,
          2006,
          2007,
          2008,
          2009,
          2010,
          2011,
          2012,
          2013,
          2014,
          2015,
          2016,
          2017,
          2018,
          2019,
          2020,
          2021,
          2022,
          2023,
          2024
         ],
         "xaxis": "x",
         "y": [
          1,
          1,
          1,
          2,
          1,
          1,
          4,
          7,
          1,
          9,
          7,
          18,
          14,
          11,
          18,
          28,
          40,
          35,
          49,
          99,
          51,
          59,
          70,
          106,
          83,
          85,
          75,
          91,
          102,
          94,
          121,
          106,
          118,
          135,
          137,
          140,
          155,
          222,
          227,
          230,
          227,
          266,
          307,
          500,
          710,
          1061,
          917,
          765,
          930,
          1179,
          1024,
          143,
          3
         ],
         "yaxis": "y"
        },
        {
         "hovertemplate": "month_release=Sep<br>year_release=%{x}<br>count=%{y}<extra></extra>",
         "legendgroup": "Sep",
         "line": {
          "color": "navajowhite",
          "dash": "solid"
         },
         "marker": {
          "symbol": "circle"
         },
         "mode": "lines",
         "name": "Sep",
         "orientation": "v",
         "showlegend": true,
         "type": "scatter",
         "x": [
          1969,
          1970,
          1973,
          1975,
          1976,
          1977,
          1978,
          1979,
          1980,
          1981,
          1982,
          1983,
          1984,
          1985,
          1986,
          1987,
          1988,
          1989,
          1990,
          1991,
          1992,
          1993,
          1994,
          1995,
          1996,
          1997,
          1998,
          1999,
          2000,
          2001,
          2002,
          2003,
          2004,
          2005,
          2006,
          2007,
          2008,
          2009,
          2010,
          2011,
          2012,
          2013,
          2014,
          2015,
          2016,
          2017,
          2018,
          2019,
          2020,
          2021,
          2022,
          2023,
          2024,
          2025
         ],
         "xaxis": "x",
         "y": [
          1,
          1,
          1,
          2,
          6,
          10,
          5,
          6,
          1,
          5,
          12,
          14,
          16,
          14,
          27,
          37,
          32,
          36,
          48,
          49,
          70,
          71,
          81,
          92,
          120,
          132,
          103,
          129,
          133,
          159,
          167,
          153,
          144,
          180,
          164,
          179,
          214,
          275,
          242,
          234,
          246,
          277,
          354,
          539,
          765,
          1040,
          925,
          862,
          915,
          1351,
          953,
          224,
          13,
          1
         ],
         "yaxis": "y"
        },
        {
         "hovertemplate": "month_release=Oct<br>year_release=%{x}<br>count=%{y}<extra></extra>",
         "legendgroup": "Oct",
         "line": {
          "color": "bisque",
          "dash": "solid"
         },
         "marker": {
          "symbol": "circle"
         },
         "mode": "lines",
         "name": "Oct",
         "orientation": "v",
         "showlegend": true,
         "type": "scatter",
         "x": [
          1958,
          1971,
          1973,
          1974,
          1975,
          1976,
          1977,
          1978,
          1979,
          1980,
          1981,
          1982,
          1983,
          1984,
          1985,
          1986,
          1987,
          1988,
          1989,
          1990,
          1991,
          1992,
          1993,
          1994,
          1995,
          1996,
          1997,
          1998,
          1999,
          2000,
          2001,
          2002,
          2003,
          2004,
          2005,
          2006,
          2007,
          2008,
          2009,
          2010,
          2011,
          2012,
          2013,
          2014,
          2015,
          2016,
          2017,
          2018,
          2019,
          2020,
          2021,
          2022,
          2023,
          2024
         ],
         "xaxis": "x",
         "y": [
          1,
          1,
          7,
          2,
          8,
          2,
          1,
          2,
          6,
          5,
          10,
          15,
          14,
          11,
          25,
          19,
          25,
          39,
          36,
          54,
          49,
          64,
          75,
          97,
          121,
          95,
          107,
          104,
          157,
          156,
          153,
          191,
          163,
          135,
          203,
          212,
          274,
          283,
          306,
          291,
          271,
          354,
          326,
          433,
          470,
          884,
          1135,
          934,
          911,
          1119,
          1218,
          1243,
          84,
          2
         ],
         "yaxis": "y"
        },
        {
         "hovertemplate": "month_release=Nov<br>year_release=%{x}<br>count=%{y}<extra></extra>",
         "legendgroup": "Nov",
         "line": {
          "color": "peachpuff",
          "dash": "solid"
         },
         "marker": {
          "symbol": "circle"
         },
         "mode": "lines",
         "name": "Nov",
         "orientation": "v",
         "showlegend": true,
         "type": "scatter",
         "x": [
          1972,
          1973,
          1974,
          1976,
          1977,
          1978,
          1979,
          1980,
          1981,
          1982,
          1983,
          1984,
          1985,
          1986,
          1987,
          1988,
          1989,
          1990,
          1991,
          1992,
          1993,
          1994,
          1995,
          1996,
          1997,
          1998,
          1999,
          2000,
          2001,
          2002,
          2003,
          2004,
          2005,
          2006,
          2007,
          2008,
          2009,
          2010,
          2011,
          2012,
          2013,
          2014,
          2015,
          2016,
          2017,
          2018,
          2019,
          2020,
          2021,
          2022,
          2023,
          2024
         ],
         "xaxis": "x",
         "y": [
          1,
          4,
          1,
          1,
          4,
          3,
          6,
          6,
          5,
          9,
          23,
          16,
          22,
          40,
          45,
          39,
          36,
          54,
          66,
          79,
          84,
          86,
          117,
          120,
          122,
          126,
          159,
          179,
          193,
          210,
          199,
          200,
          205,
          263,
          254,
          308,
          295,
          300,
          322,
          299,
          370,
          410,
          511,
          830,
          1067,
          935,
          808,
          1092,
          1136,
          1160,
          47,
          2
         ],
         "yaxis": "y"
        },
        {
         "hovertemplate": "month_release=Dec<br>year_release=%{x}<br>count=%{y}<extra></extra>",
         "legendgroup": "Dec",
         "line": {
          "color": "dodgerblue",
          "dash": "solid"
         },
         "marker": {
          "symbol": "circle"
         },
         "mode": "lines",
         "name": "Dec",
         "orientation": "v",
         "showlegend": true,
         "type": "scatter",
         "x": [
          1947,
          1952,
          1964,
          1968,
          1969,
          1970,
          1971,
          1972,
          1973,
          1974,
          1975,
          1976,
          1977,
          1978,
          1979,
          1980,
          1981,
          1982,
          1983,
          1984,
          1985,
          1986,
          1987,
          1988,
          1989,
          1990,
          1991,
          1992,
          1993,
          1994,
          1995,
          1996,
          1997,
          1998,
          1999,
          2000,
          2001,
          2002,
          2003,
          2004,
          2005,
          2006,
          2007,
          2008,
          2009,
          2010,
          2011,
          2012,
          2013,
          2014,
          2015,
          2016,
          2017,
          2018,
          2019,
          2020,
          2021,
          2022,
          2023,
          2024,
          2025,
          2026,
          2030
         ],
         "xaxis": "x",
         "y": [
          1,
          1,
          1,
          2,
          2,
          1,
          2,
          23,
          11,
          12,
          13,
          19,
          36,
          80,
          137,
          130,
          244,
          521,
          646,
          517,
          446,
          559,
          652,
          620,
          666,
          672,
          660,
          729,
          690,
          726,
          767,
          561,
          570,
          627,
          591,
          464,
          452,
          348,
          370,
          449,
          472,
          475,
          446,
          482,
          475,
          496,
          430,
          477,
          491,
          568,
          614,
          1069,
          1147,
          1332,
          993,
          1123,
          1213,
          954,
          1195,
          212,
          12,
          1,
          1
         ],
         "yaxis": "y"
        },
        {
         "hovertemplate": "month_release=MEAN<br>year_release=%{x}<br>count=%{y}<extra></extra>",
         "legendgroup": "MEAN",
         "line": {
          "color": "black",
          "dash": "solid"
         },
         "marker": {
          "symbol": "circle"
         },
         "mode": "lines",
         "name": "MEAN",
         "orientation": "v",
         "showlegend": true,
         "type": "scatter",
         "x": [
          "1947",
          "1950",
          "1952",
          "1954",
          "1958",
          "1959",
          "1962",
          "1964",
          "1968",
          "1969",
          "1970",
          "1971",
          "1972",
          "1973",
          "1974",
          "1975",
          "1976",
          "1977",
          "1978",
          "1979",
          "1980",
          "1981",
          "1982",
          "1983",
          "1984",
          "1985",
          "1986",
          "1987",
          "1988",
          "1989",
          "1990",
          "1991",
          "1992",
          "1993",
          "1994",
          "1995",
          "1996",
          "1997",
          "1998",
          "1999",
          "2000",
          "2001",
          "2002",
          "2003",
          "2004",
          "2005",
          "2006",
          "2007",
          "2008",
          "2009",
          "2010",
          "2011",
          "2012",
          "2013",
          "2014",
          "2015",
          "2016",
          "2017",
          "2018",
          "2019",
          "2020",
          "2021",
          "2022",
          "2023",
          "2024",
          "2025",
          "2026",
          "2029",
          "2030"
         ],
         "xaxis": "x",
         "y": [
          0.08333333333333333,
          0.08333333333333333,
          0.16666666666666666,
          0.08333333333333333,
          0.08333333333333333,
          0.08333333333333333,
          0.08333333333333333,
          0.08333333333333333,
          0.16666666666666666,
          0.3333333333333333,
          0.25,
          0.4166666666666667,
          2.25,
          2.75,
          2.25,
          2.75,
          4.583333333333333,
          7.333333333333333,
          10.583333333333334,
          16.166666666666668,
          15.666666666666666,
          28,
          56.416666666666664,
          80.5,
          63.166666666666664,
          56.166666666666664,
          69.16666666666667,
          87.41666666666667,
          85.08333333333333,
          91.5,
          105.75,
          115.5,
          125.66666666666667,
          129,
          139.41666666666666,
          152.66666666666666,
          131.66666666666666,
          129.5,
          134.25,
          146,
          143.5,
          145.33333333333334,
          150.41666666666666,
          140.16666666666666,
          145.33333333333334,
          162.83333333333334,
          176.08333333333334,
          181.83333333333334,
          199.91666666666666,
          233.25,
          253.75,
          253.41666666666666,
          259.75,
          287.4166666666667,
          366.3333333333333,
          479.3333333333333,
          683.1666666666666,
          905,
          950.9166666666666,
          848.3333333333334,
          932.25,
          1151.4166666666667,
          1023.25,
          611.75,
          24.583333333333332,
          1.8333333333333333,
          0.25,
          0.08333333333333333,
          0.16666666666666666
         ],
         "yaxis": "y"
        }
       ],
       "layout": {
        "legend": {
         "title": {
          "text": "month_release"
         },
         "tracegroupgap": 0
        },
        "margin": {
         "t": 60
        },
        "template": {
         "data": {
          "bar": [
           {
            "error_x": {
             "color": "#2a3f5f"
            },
            "error_y": {
             "color": "#2a3f5f"
            },
            "marker": {
             "line": {
              "color": "#E5ECF6",
              "width": 0.5
             },
             "pattern": {
              "fillmode": "overlay",
              "size": 10,
              "solidity": 0.2
             }
            },
            "type": "bar"
           }
          ],
          "barpolar": [
           {
            "marker": {
             "line": {
              "color": "#E5ECF6",
              "width": 0.5
             },
             "pattern": {
              "fillmode": "overlay",
              "size": 10,
              "solidity": 0.2
             }
            },
            "type": "barpolar"
           }
          ],
          "carpet": [
           {
            "aaxis": {
             "endlinecolor": "#2a3f5f",
             "gridcolor": "white",
             "linecolor": "white",
             "minorgridcolor": "white",
             "startlinecolor": "#2a3f5f"
            },
            "baxis": {
             "endlinecolor": "#2a3f5f",
             "gridcolor": "white",
             "linecolor": "white",
             "minorgridcolor": "white",
             "startlinecolor": "#2a3f5f"
            },
            "type": "carpet"
           }
          ],
          "choropleth": [
           {
            "colorbar": {
             "outlinewidth": 0,
             "ticks": ""
            },
            "type": "choropleth"
           }
          ],
          "contour": [
           {
            "colorbar": {
             "outlinewidth": 0,
             "ticks": ""
            },
            "colorscale": [
             [
              0,
              "#0d0887"
             ],
             [
              0.1111111111111111,
              "#46039f"
             ],
             [
              0.2222222222222222,
              "#7201a8"
             ],
             [
              0.3333333333333333,
              "#9c179e"
             ],
             [
              0.4444444444444444,
              "#bd3786"
             ],
             [
              0.5555555555555556,
              "#d8576b"
             ],
             [
              0.6666666666666666,
              "#ed7953"
             ],
             [
              0.7777777777777778,
              "#fb9f3a"
             ],
             [
              0.8888888888888888,
              "#fdca26"
             ],
             [
              1,
              "#f0f921"
             ]
            ],
            "type": "contour"
           }
          ],
          "contourcarpet": [
           {
            "colorbar": {
             "outlinewidth": 0,
             "ticks": ""
            },
            "type": "contourcarpet"
           }
          ],
          "heatmap": [
           {
            "colorbar": {
             "outlinewidth": 0,
             "ticks": ""
            },
            "colorscale": [
             [
              0,
              "#0d0887"
             ],
             [
              0.1111111111111111,
              "#46039f"
             ],
             [
              0.2222222222222222,
              "#7201a8"
             ],
             [
              0.3333333333333333,
              "#9c179e"
             ],
             [
              0.4444444444444444,
              "#bd3786"
             ],
             [
              0.5555555555555556,
              "#d8576b"
             ],
             [
              0.6666666666666666,
              "#ed7953"
             ],
             [
              0.7777777777777778,
              "#fb9f3a"
             ],
             [
              0.8888888888888888,
              "#fdca26"
             ],
             [
              1,
              "#f0f921"
             ]
            ],
            "type": "heatmap"
           }
          ],
          "heatmapgl": [
           {
            "colorbar": {
             "outlinewidth": 0,
             "ticks": ""
            },
            "colorscale": [
             [
              0,
              "#0d0887"
             ],
             [
              0.1111111111111111,
              "#46039f"
             ],
             [
              0.2222222222222222,
              "#7201a8"
             ],
             [
              0.3333333333333333,
              "#9c179e"
             ],
             [
              0.4444444444444444,
              "#bd3786"
             ],
             [
              0.5555555555555556,
              "#d8576b"
             ],
             [
              0.6666666666666666,
              "#ed7953"
             ],
             [
              0.7777777777777778,
              "#fb9f3a"
             ],
             [
              0.8888888888888888,
              "#fdca26"
             ],
             [
              1,
              "#f0f921"
             ]
            ],
            "type": "heatmapgl"
           }
          ],
          "histogram": [
           {
            "marker": {
             "pattern": {
              "fillmode": "overlay",
              "size": 10,
              "solidity": 0.2
             }
            },
            "type": "histogram"
           }
          ],
          "histogram2d": [
           {
            "colorbar": {
             "outlinewidth": 0,
             "ticks": ""
            },
            "colorscale": [
             [
              0,
              "#0d0887"
             ],
             [
              0.1111111111111111,
              "#46039f"
             ],
             [
              0.2222222222222222,
              "#7201a8"
             ],
             [
              0.3333333333333333,
              "#9c179e"
             ],
             [
              0.4444444444444444,
              "#bd3786"
             ],
             [
              0.5555555555555556,
              "#d8576b"
             ],
             [
              0.6666666666666666,
              "#ed7953"
             ],
             [
              0.7777777777777778,
              "#fb9f3a"
             ],
             [
              0.8888888888888888,
              "#fdca26"
             ],
             [
              1,
              "#f0f921"
             ]
            ],
            "type": "histogram2d"
           }
          ],
          "histogram2dcontour": [
           {
            "colorbar": {
             "outlinewidth": 0,
             "ticks": ""
            },
            "colorscale": [
             [
              0,
              "#0d0887"
             ],
             [
              0.1111111111111111,
              "#46039f"
             ],
             [
              0.2222222222222222,
              "#7201a8"
             ],
             [
              0.3333333333333333,
              "#9c179e"
             ],
             [
              0.4444444444444444,
              "#bd3786"
             ],
             [
              0.5555555555555556,
              "#d8576b"
             ],
             [
              0.6666666666666666,
              "#ed7953"
             ],
             [
              0.7777777777777778,
              "#fb9f3a"
             ],
             [
              0.8888888888888888,
              "#fdca26"
             ],
             [
              1,
              "#f0f921"
             ]
            ],
            "type": "histogram2dcontour"
           }
          ],
          "mesh3d": [
           {
            "colorbar": {
             "outlinewidth": 0,
             "ticks": ""
            },
            "type": "mesh3d"
           }
          ],
          "parcoords": [
           {
            "line": {
             "colorbar": {
              "outlinewidth": 0,
              "ticks": ""
             }
            },
            "type": "parcoords"
           }
          ],
          "pie": [
           {
            "automargin": true,
            "type": "pie"
           }
          ],
          "scatter": [
           {
            "fillpattern": {
             "fillmode": "overlay",
             "size": 10,
             "solidity": 0.2
            },
            "type": "scatter"
           }
          ],
          "scatter3d": [
           {
            "line": {
             "colorbar": {
              "outlinewidth": 0,
              "ticks": ""
             }
            },
            "marker": {
             "colorbar": {
              "outlinewidth": 0,
              "ticks": ""
             }
            },
            "type": "scatter3d"
           }
          ],
          "scattercarpet": [
           {
            "marker": {
             "colorbar": {
              "outlinewidth": 0,
              "ticks": ""
             }
            },
            "type": "scattercarpet"
           }
          ],
          "scattergeo": [
           {
            "marker": {
             "colorbar": {
              "outlinewidth": 0,
              "ticks": ""
             }
            },
            "type": "scattergeo"
           }
          ],
          "scattergl": [
           {
            "marker": {
             "colorbar": {
              "outlinewidth": 0,
              "ticks": ""
             }
            },
            "type": "scattergl"
           }
          ],
          "scattermapbox": [
           {
            "marker": {
             "colorbar": {
              "outlinewidth": 0,
              "ticks": ""
             }
            },
            "type": "scattermapbox"
           }
          ],
          "scatterpolar": [
           {
            "marker": {
             "colorbar": {
              "outlinewidth": 0,
              "ticks": ""
             }
            },
            "type": "scatterpolar"
           }
          ],
          "scatterpolargl": [
           {
            "marker": {
             "colorbar": {
              "outlinewidth": 0,
              "ticks": ""
             }
            },
            "type": "scatterpolargl"
           }
          ],
          "scatterternary": [
           {
            "marker": {
             "colorbar": {
              "outlinewidth": 0,
              "ticks": ""
             }
            },
            "type": "scatterternary"
           }
          ],
          "surface": [
           {
            "colorbar": {
             "outlinewidth": 0,
             "ticks": ""
            },
            "colorscale": [
             [
              0,
              "#0d0887"
             ],
             [
              0.1111111111111111,
              "#46039f"
             ],
             [
              0.2222222222222222,
              "#7201a8"
             ],
             [
              0.3333333333333333,
              "#9c179e"
             ],
             [
              0.4444444444444444,
              "#bd3786"
             ],
             [
              0.5555555555555556,
              "#d8576b"
             ],
             [
              0.6666666666666666,
              "#ed7953"
             ],
             [
              0.7777777777777778,
              "#fb9f3a"
             ],
             [
              0.8888888888888888,
              "#fdca26"
             ],
             [
              1,
              "#f0f921"
             ]
            ],
            "type": "surface"
           }
          ],
          "table": [
           {
            "cells": {
             "fill": {
              "color": "#EBF0F8"
             },
             "line": {
              "color": "white"
             }
            },
            "header": {
             "fill": {
              "color": "#C8D4E3"
             },
             "line": {
              "color": "white"
             }
            },
            "type": "table"
           }
          ]
         },
         "layout": {
          "annotationdefaults": {
           "arrowcolor": "#2a3f5f",
           "arrowhead": 0,
           "arrowwidth": 1
          },
          "autotypenumbers": "strict",
          "coloraxis": {
           "colorbar": {
            "outlinewidth": 0,
            "ticks": ""
           }
          },
          "colorscale": {
           "diverging": [
            [
             0,
             "#8e0152"
            ],
            [
             0.1,
             "#c51b7d"
            ],
            [
             0.2,
             "#de77ae"
            ],
            [
             0.3,
             "#f1b6da"
            ],
            [
             0.4,
             "#fde0ef"
            ],
            [
             0.5,
             "#f7f7f7"
            ],
            [
             0.6,
             "#e6f5d0"
            ],
            [
             0.7,
             "#b8e186"
            ],
            [
             0.8,
             "#7fbc41"
            ],
            [
             0.9,
             "#4d9221"
            ],
            [
             1,
             "#276419"
            ]
           ],
           "sequential": [
            [
             0,
             "#0d0887"
            ],
            [
             0.1111111111111111,
             "#46039f"
            ],
            [
             0.2222222222222222,
             "#7201a8"
            ],
            [
             0.3333333333333333,
             "#9c179e"
            ],
            [
             0.4444444444444444,
             "#bd3786"
            ],
            [
             0.5555555555555556,
             "#d8576b"
            ],
            [
             0.6666666666666666,
             "#ed7953"
            ],
            [
             0.7777777777777778,
             "#fb9f3a"
            ],
            [
             0.8888888888888888,
             "#fdca26"
            ],
            [
             1,
             "#f0f921"
            ]
           ],
           "sequentialminus": [
            [
             0,
             "#0d0887"
            ],
            [
             0.1111111111111111,
             "#46039f"
            ],
            [
             0.2222222222222222,
             "#7201a8"
            ],
            [
             0.3333333333333333,
             "#9c179e"
            ],
            [
             0.4444444444444444,
             "#bd3786"
            ],
            [
             0.5555555555555556,
             "#d8576b"
            ],
            [
             0.6666666666666666,
             "#ed7953"
            ],
            [
             0.7777777777777778,
             "#fb9f3a"
            ],
            [
             0.8888888888888888,
             "#fdca26"
            ],
            [
             1,
             "#f0f921"
            ]
           ]
          },
          "colorway": [
           "#636efa",
           "#EF553B",
           "#00cc96",
           "#ab63fa",
           "#FFA15A",
           "#19d3f3",
           "#FF6692",
           "#B6E880",
           "#FF97FF",
           "#FECB52"
          ],
          "font": {
           "color": "#2a3f5f"
          },
          "geo": {
           "bgcolor": "white",
           "lakecolor": "white",
           "landcolor": "#E5ECF6",
           "showlakes": true,
           "showland": true,
           "subunitcolor": "white"
          },
          "hoverlabel": {
           "align": "left"
          },
          "hovermode": "closest",
          "mapbox": {
           "style": "light"
          },
          "paper_bgcolor": "white",
          "plot_bgcolor": "#E5ECF6",
          "polar": {
           "angularaxis": {
            "gridcolor": "white",
            "linecolor": "white",
            "ticks": ""
           },
           "bgcolor": "#E5ECF6",
           "radialaxis": {
            "gridcolor": "white",
            "linecolor": "white",
            "ticks": ""
           }
          },
          "scene": {
           "xaxis": {
            "backgroundcolor": "#E5ECF6",
            "gridcolor": "white",
            "gridwidth": 2,
            "linecolor": "white",
            "showbackground": true,
            "ticks": "",
            "zerolinecolor": "white"
           },
           "yaxis": {
            "backgroundcolor": "#E5ECF6",
            "gridcolor": "white",
            "gridwidth": 2,
            "linecolor": "white",
            "showbackground": true,
            "ticks": "",
            "zerolinecolor": "white"
           },
           "zaxis": {
            "backgroundcolor": "#E5ECF6",
            "gridcolor": "white",
            "gridwidth": 2,
            "linecolor": "white",
            "showbackground": true,
            "ticks": "",
            "zerolinecolor": "white"
           }
          },
          "shapedefaults": {
           "line": {
            "color": "#2a3f5f"
           }
          },
          "ternary": {
           "aaxis": {
            "gridcolor": "white",
            "linecolor": "white",
            "ticks": ""
           },
           "baxis": {
            "gridcolor": "white",
            "linecolor": "white",
            "ticks": ""
           },
           "bgcolor": "#E5ECF6",
           "caxis": {
            "gridcolor": "white",
            "linecolor": "white",
            "ticks": ""
           }
          },
          "title": {
           "x": 0.05
          },
          "xaxis": {
           "automargin": true,
           "gridcolor": "white",
           "linecolor": "white",
           "ticks": "",
           "title": {
            "standoff": 15
           },
           "zerolinecolor": "white",
           "zerolinewidth": 2
          },
          "yaxis": {
           "automargin": true,
           "gridcolor": "white",
           "linecolor": "white",
           "ticks": "",
           "title": {
            "standoff": 15
           },
           "zerolinecolor": "white",
           "zerolinewidth": 2
          }
         }
        },
        "xaxis": {
         "anchor": "y",
         "domain": [
          0,
          1
         ],
         "title": {
          "text": "year_release"
         }
        },
        "yaxis": {
         "anchor": "x",
         "domain": [
          0,
          1
         ],
         "title": {
          "text": "count"
         }
        }
       }
      }
     },
     "metadata": {},
     "output_type": "display_data"
    }
   ],
   "source": [
    "releases_fig(dataframe)"
   ]
  },
  {
   "cell_type": "code",
   "execution_count": 36,
   "id": "e7080c2a",
   "metadata": {},
   "outputs": [
    {
     "data": {
      "application/vnd.plotly.v1+json": {
       "config": {
        "plotlyServerURL": "https://plot.ly"
       },
       "data": [
        {
         "alignmentgroup": "True",
         "bingroup": "y",
         "histfunc": "sum",
         "hovertemplate": "top=Top 25<br>sum of count=%{x}<br>game_engines=%{y}<extra></extra>",
         "legendgroup": "Top 25",
         "marker": {
          "color": "#636efa",
          "pattern": {
           "shape": ""
          }
         },
         "name": "Top 25",
         "offsetgroup": "Top 25",
         "orientation": "h",
         "showlegend": true,
         "type": "histogram",
         "x": [
          170,
          174,
          177,
          183,
          194
         ],
         "xaxis": "x",
         "y": [
          "RPG Maker 2000",
          "GoldSrc",
          "Ren'Py Visual Novel Engine",
          "Clickteam Fusion",
          "Godot Engine"
         ],
         "yaxis": "y"
        },
        {
         "alignmentgroup": "True",
         "bingroup": "y",
         "histfunc": "sum",
         "hovertemplate": "top=Top 20<br>sum of count=%{x}<br>game_engines=%{y}<extra></extra>",
         "legendgroup": "Top 20",
         "marker": {
          "color": "#EF553B",
          "pattern": {
           "shape": ""
          }
         },
         "name": "Top 20",
         "offsetgroup": "Top 20",
         "orientation": "h",
         "showlegend": true,
         "type": "histogram",
         "x": [
          195,
          199,
          201,
          212,
          232
         ],
         "xaxis": "x",
         "y": [
          "Godot",
          "Unity 3d",
          "Unity 4",
          "GameMaker Studio 2",
          "RPG Maker MV"
         ],
         "yaxis": "y"
        },
        {
         "alignmentgroup": "True",
         "bingroup": "y",
         "histfunc": "sum",
         "hovertemplate": "top=Top 15<br>sum of count=%{x}<br>game_engines=%{y}<extra></extra>",
         "legendgroup": "Top 15",
         "marker": {
          "color": "#00cc96",
          "pattern": {
           "shape": ""
          }
         },
         "name": "Top 15",
         "offsetgroup": "Top 15",
         "orientation": "h",
         "showlegend": true,
         "type": "histogram",
         "x": [
          232,
          233,
          234,
          241,
          243
         ],
         "xaxis": "x",
         "y": [
          "RPG Maker 2003",
          "RPG Maker VX Ace",
          "Source",
          "Adventure Game Studio",
          "Ren'Py"
         ],
         "yaxis": "y"
        },
        {
         "alignmentgroup": "True",
         "bingroup": "y",
         "histfunc": "sum",
         "hovertemplate": "top=Top 10<br>sum of count=%{x}<br>game_engines=%{y}<extra></extra>",
         "legendgroup": "Top 10",
         "marker": {
          "color": "#ab63fa",
          "pattern": {
           "shape": ""
          }
         },
         "name": "Top 10",
         "offsetgroup": "Top 10",
         "orientation": "h",
         "showlegend": true,
         "type": "histogram",
         "x": [
          268,
          270,
          272,
          294,
          300
         ],
         "xaxis": "x",
         "y": [
          "GameMaker: Studio",
          "Unreal Engine 5",
          "Twine",
          "Bitsy",
          "Unity 2019"
         ],
         "yaxis": "y"
        },
        {
         "alignmentgroup": "True",
         "bingroup": "y",
         "histfunc": "sum",
         "hovertemplate": "top=Top 5<br>sum of count=%{x}<br>game_engines=%{y}<extra></extra>",
         "legendgroup": "Top 5",
         "marker": {
          "color": "#FFA15A",
          "pattern": {
           "shape": ""
          }
         },
         "name": "Top 5",
         "offsetgroup": "Top 5",
         "orientation": "h",
         "showlegend": true,
         "type": "histogram",
         "x": [
          372,
          382,
          717,
          1374,
          4869
         ],
         "xaxis": "x",
         "y": [
          "Adobe Flash Player",
          "Unity3D",
          "Unreal Engine",
          "Unreal Engine 4",
          "Unity"
         ],
         "yaxis": "y"
        }
       ],
       "layout": {
        "barmode": "relative",
        "height": 800,
        "legend": {
         "title": {
          "text": "top"
         },
         "tracegroupgap": 0
        },
        "margin": {
         "t": 60
        },
        "template": {
         "data": {
          "bar": [
           {
            "error_x": {
             "color": "#2a3f5f"
            },
            "error_y": {
             "color": "#2a3f5f"
            },
            "marker": {
             "line": {
              "color": "#E5ECF6",
              "width": 0.5
             },
             "pattern": {
              "fillmode": "overlay",
              "size": 10,
              "solidity": 0.2
             }
            },
            "type": "bar"
           }
          ],
          "barpolar": [
           {
            "marker": {
             "line": {
              "color": "#E5ECF6",
              "width": 0.5
             },
             "pattern": {
              "fillmode": "overlay",
              "size": 10,
              "solidity": 0.2
             }
            },
            "type": "barpolar"
           }
          ],
          "carpet": [
           {
            "aaxis": {
             "endlinecolor": "#2a3f5f",
             "gridcolor": "white",
             "linecolor": "white",
             "minorgridcolor": "white",
             "startlinecolor": "#2a3f5f"
            },
            "baxis": {
             "endlinecolor": "#2a3f5f",
             "gridcolor": "white",
             "linecolor": "white",
             "minorgridcolor": "white",
             "startlinecolor": "#2a3f5f"
            },
            "type": "carpet"
           }
          ],
          "choropleth": [
           {
            "colorbar": {
             "outlinewidth": 0,
             "ticks": ""
            },
            "type": "choropleth"
           }
          ],
          "contour": [
           {
            "colorbar": {
             "outlinewidth": 0,
             "ticks": ""
            },
            "colorscale": [
             [
              0,
              "#0d0887"
             ],
             [
              0.1111111111111111,
              "#46039f"
             ],
             [
              0.2222222222222222,
              "#7201a8"
             ],
             [
              0.3333333333333333,
              "#9c179e"
             ],
             [
              0.4444444444444444,
              "#bd3786"
             ],
             [
              0.5555555555555556,
              "#d8576b"
             ],
             [
              0.6666666666666666,
              "#ed7953"
             ],
             [
              0.7777777777777778,
              "#fb9f3a"
             ],
             [
              0.8888888888888888,
              "#fdca26"
             ],
             [
              1,
              "#f0f921"
             ]
            ],
            "type": "contour"
           }
          ],
          "contourcarpet": [
           {
            "colorbar": {
             "outlinewidth": 0,
             "ticks": ""
            },
            "type": "contourcarpet"
           }
          ],
          "heatmap": [
           {
            "colorbar": {
             "outlinewidth": 0,
             "ticks": ""
            },
            "colorscale": [
             [
              0,
              "#0d0887"
             ],
             [
              0.1111111111111111,
              "#46039f"
             ],
             [
              0.2222222222222222,
              "#7201a8"
             ],
             [
              0.3333333333333333,
              "#9c179e"
             ],
             [
              0.4444444444444444,
              "#bd3786"
             ],
             [
              0.5555555555555556,
              "#d8576b"
             ],
             [
              0.6666666666666666,
              "#ed7953"
             ],
             [
              0.7777777777777778,
              "#fb9f3a"
             ],
             [
              0.8888888888888888,
              "#fdca26"
             ],
             [
              1,
              "#f0f921"
             ]
            ],
            "type": "heatmap"
           }
          ],
          "heatmapgl": [
           {
            "colorbar": {
             "outlinewidth": 0,
             "ticks": ""
            },
            "colorscale": [
             [
              0,
              "#0d0887"
             ],
             [
              0.1111111111111111,
              "#46039f"
             ],
             [
              0.2222222222222222,
              "#7201a8"
             ],
             [
              0.3333333333333333,
              "#9c179e"
             ],
             [
              0.4444444444444444,
              "#bd3786"
             ],
             [
              0.5555555555555556,
              "#d8576b"
             ],
             [
              0.6666666666666666,
              "#ed7953"
             ],
             [
              0.7777777777777778,
              "#fb9f3a"
             ],
             [
              0.8888888888888888,
              "#fdca26"
             ],
             [
              1,
              "#f0f921"
             ]
            ],
            "type": "heatmapgl"
           }
          ],
          "histogram": [
           {
            "marker": {
             "pattern": {
              "fillmode": "overlay",
              "size": 10,
              "solidity": 0.2
             }
            },
            "type": "histogram"
           }
          ],
          "histogram2d": [
           {
            "colorbar": {
             "outlinewidth": 0,
             "ticks": ""
            },
            "colorscale": [
             [
              0,
              "#0d0887"
             ],
             [
              0.1111111111111111,
              "#46039f"
             ],
             [
              0.2222222222222222,
              "#7201a8"
             ],
             [
              0.3333333333333333,
              "#9c179e"
             ],
             [
              0.4444444444444444,
              "#bd3786"
             ],
             [
              0.5555555555555556,
              "#d8576b"
             ],
             [
              0.6666666666666666,
              "#ed7953"
             ],
             [
              0.7777777777777778,
              "#fb9f3a"
             ],
             [
              0.8888888888888888,
              "#fdca26"
             ],
             [
              1,
              "#f0f921"
             ]
            ],
            "type": "histogram2d"
           }
          ],
          "histogram2dcontour": [
           {
            "colorbar": {
             "outlinewidth": 0,
             "ticks": ""
            },
            "colorscale": [
             [
              0,
              "#0d0887"
             ],
             [
              0.1111111111111111,
              "#46039f"
             ],
             [
              0.2222222222222222,
              "#7201a8"
             ],
             [
              0.3333333333333333,
              "#9c179e"
             ],
             [
              0.4444444444444444,
              "#bd3786"
             ],
             [
              0.5555555555555556,
              "#d8576b"
             ],
             [
              0.6666666666666666,
              "#ed7953"
             ],
             [
              0.7777777777777778,
              "#fb9f3a"
             ],
             [
              0.8888888888888888,
              "#fdca26"
             ],
             [
              1,
              "#f0f921"
             ]
            ],
            "type": "histogram2dcontour"
           }
          ],
          "mesh3d": [
           {
            "colorbar": {
             "outlinewidth": 0,
             "ticks": ""
            },
            "type": "mesh3d"
           }
          ],
          "parcoords": [
           {
            "line": {
             "colorbar": {
              "outlinewidth": 0,
              "ticks": ""
             }
            },
            "type": "parcoords"
           }
          ],
          "pie": [
           {
            "automargin": true,
            "type": "pie"
           }
          ],
          "scatter": [
           {
            "fillpattern": {
             "fillmode": "overlay",
             "size": 10,
             "solidity": 0.2
            },
            "type": "scatter"
           }
          ],
          "scatter3d": [
           {
            "line": {
             "colorbar": {
              "outlinewidth": 0,
              "ticks": ""
             }
            },
            "marker": {
             "colorbar": {
              "outlinewidth": 0,
              "ticks": ""
             }
            },
            "type": "scatter3d"
           }
          ],
          "scattercarpet": [
           {
            "marker": {
             "colorbar": {
              "outlinewidth": 0,
              "ticks": ""
             }
            },
            "type": "scattercarpet"
           }
          ],
          "scattergeo": [
           {
            "marker": {
             "colorbar": {
              "outlinewidth": 0,
              "ticks": ""
             }
            },
            "type": "scattergeo"
           }
          ],
          "scattergl": [
           {
            "marker": {
             "colorbar": {
              "outlinewidth": 0,
              "ticks": ""
             }
            },
            "type": "scattergl"
           }
          ],
          "scattermapbox": [
           {
            "marker": {
             "colorbar": {
              "outlinewidth": 0,
              "ticks": ""
             }
            },
            "type": "scattermapbox"
           }
          ],
          "scatterpolar": [
           {
            "marker": {
             "colorbar": {
              "outlinewidth": 0,
              "ticks": ""
             }
            },
            "type": "scatterpolar"
           }
          ],
          "scatterpolargl": [
           {
            "marker": {
             "colorbar": {
              "outlinewidth": 0,
              "ticks": ""
             }
            },
            "type": "scatterpolargl"
           }
          ],
          "scatterternary": [
           {
            "marker": {
             "colorbar": {
              "outlinewidth": 0,
              "ticks": ""
             }
            },
            "type": "scatterternary"
           }
          ],
          "surface": [
           {
            "colorbar": {
             "outlinewidth": 0,
             "ticks": ""
            },
            "colorscale": [
             [
              0,
              "#0d0887"
             ],
             [
              0.1111111111111111,
              "#46039f"
             ],
             [
              0.2222222222222222,
              "#7201a8"
             ],
             [
              0.3333333333333333,
              "#9c179e"
             ],
             [
              0.4444444444444444,
              "#bd3786"
             ],
             [
              0.5555555555555556,
              "#d8576b"
             ],
             [
              0.6666666666666666,
              "#ed7953"
             ],
             [
              0.7777777777777778,
              "#fb9f3a"
             ],
             [
              0.8888888888888888,
              "#fdca26"
             ],
             [
              1,
              "#f0f921"
             ]
            ],
            "type": "surface"
           }
          ],
          "table": [
           {
            "cells": {
             "fill": {
              "color": "#EBF0F8"
             },
             "line": {
              "color": "white"
             }
            },
            "header": {
             "fill": {
              "color": "#C8D4E3"
             },
             "line": {
              "color": "white"
             }
            },
            "type": "table"
           }
          ]
         },
         "layout": {
          "annotationdefaults": {
           "arrowcolor": "#2a3f5f",
           "arrowhead": 0,
           "arrowwidth": 1
          },
          "autotypenumbers": "strict",
          "coloraxis": {
           "colorbar": {
            "outlinewidth": 0,
            "ticks": ""
           }
          },
          "colorscale": {
           "diverging": [
            [
             0,
             "#8e0152"
            ],
            [
             0.1,
             "#c51b7d"
            ],
            [
             0.2,
             "#de77ae"
            ],
            [
             0.3,
             "#f1b6da"
            ],
            [
             0.4,
             "#fde0ef"
            ],
            [
             0.5,
             "#f7f7f7"
            ],
            [
             0.6,
             "#e6f5d0"
            ],
            [
             0.7,
             "#b8e186"
            ],
            [
             0.8,
             "#7fbc41"
            ],
            [
             0.9,
             "#4d9221"
            ],
            [
             1,
             "#276419"
            ]
           ],
           "sequential": [
            [
             0,
             "#0d0887"
            ],
            [
             0.1111111111111111,
             "#46039f"
            ],
            [
             0.2222222222222222,
             "#7201a8"
            ],
            [
             0.3333333333333333,
             "#9c179e"
            ],
            [
             0.4444444444444444,
             "#bd3786"
            ],
            [
             0.5555555555555556,
             "#d8576b"
            ],
            [
             0.6666666666666666,
             "#ed7953"
            ],
            [
             0.7777777777777778,
             "#fb9f3a"
            ],
            [
             0.8888888888888888,
             "#fdca26"
            ],
            [
             1,
             "#f0f921"
            ]
           ],
           "sequentialminus": [
            [
             0,
             "#0d0887"
            ],
            [
             0.1111111111111111,
             "#46039f"
            ],
            [
             0.2222222222222222,
             "#7201a8"
            ],
            [
             0.3333333333333333,
             "#9c179e"
            ],
            [
             0.4444444444444444,
             "#bd3786"
            ],
            [
             0.5555555555555556,
             "#d8576b"
            ],
            [
             0.6666666666666666,
             "#ed7953"
            ],
            [
             0.7777777777777778,
             "#fb9f3a"
            ],
            [
             0.8888888888888888,
             "#fdca26"
            ],
            [
             1,
             "#f0f921"
            ]
           ]
          },
          "colorway": [
           "#636efa",
           "#EF553B",
           "#00cc96",
           "#ab63fa",
           "#FFA15A",
           "#19d3f3",
           "#FF6692",
           "#B6E880",
           "#FF97FF",
           "#FECB52"
          ],
          "font": {
           "color": "#2a3f5f"
          },
          "geo": {
           "bgcolor": "white",
           "lakecolor": "white",
           "landcolor": "#E5ECF6",
           "showlakes": true,
           "showland": true,
           "subunitcolor": "white"
          },
          "hoverlabel": {
           "align": "left"
          },
          "hovermode": "closest",
          "mapbox": {
           "style": "light"
          },
          "paper_bgcolor": "white",
          "plot_bgcolor": "#E5ECF6",
          "polar": {
           "angularaxis": {
            "gridcolor": "white",
            "linecolor": "white",
            "ticks": ""
           },
           "bgcolor": "#E5ECF6",
           "radialaxis": {
            "gridcolor": "white",
            "linecolor": "white",
            "ticks": ""
           }
          },
          "scene": {
           "xaxis": {
            "backgroundcolor": "#E5ECF6",
            "gridcolor": "white",
            "gridwidth": 2,
            "linecolor": "white",
            "showbackground": true,
            "ticks": "",
            "zerolinecolor": "white"
           },
           "yaxis": {
            "backgroundcolor": "#E5ECF6",
            "gridcolor": "white",
            "gridwidth": 2,
            "linecolor": "white",
            "showbackground": true,
            "ticks": "",
            "zerolinecolor": "white"
           },
           "zaxis": {
            "backgroundcolor": "#E5ECF6",
            "gridcolor": "white",
            "gridwidth": 2,
            "linecolor": "white",
            "showbackground": true,
            "ticks": "",
            "zerolinecolor": "white"
           }
          },
          "shapedefaults": {
           "line": {
            "color": "#2a3f5f"
           }
          },
          "ternary": {
           "aaxis": {
            "gridcolor": "white",
            "linecolor": "white",
            "ticks": ""
           },
           "baxis": {
            "gridcolor": "white",
            "linecolor": "white",
            "ticks": ""
           },
           "bgcolor": "#E5ECF6",
           "caxis": {
            "gridcolor": "white",
            "linecolor": "white",
            "ticks": ""
           }
          },
          "title": {
           "x": 0.05
          },
          "xaxis": {
           "automargin": true,
           "gridcolor": "white",
           "linecolor": "white",
           "ticks": "",
           "title": {
            "standoff": 15
           },
           "zerolinecolor": "white",
           "zerolinewidth": 2
          },
          "yaxis": {
           "automargin": true,
           "gridcolor": "white",
           "linecolor": "white",
           "ticks": "",
           "title": {
            "standoff": 15
           },
           "zerolinecolor": "white",
           "zerolinewidth": 2
          }
         }
        },
        "width": 900,
        "xaxis": {
         "anchor": "y",
         "domain": [
          0,
          1
         ],
         "title": {
          "text": "sum of count"
         }
        },
        "yaxis": {
         "anchor": "x",
         "domain": [
          0,
          1
         ],
         "title": {
          "text": "game_engines"
         }
        }
       }
      }
     },
     "metadata": {},
     "output_type": "display_data"
    }
   ],
   "source": [
    "engines_fig(dataframe)"
   ]
  },
  {
   "cell_type": "code",
   "execution_count": 37,
   "id": "a33fadad",
   "metadata": {},
   "outputs": [
    {
     "data": {
      "application/vnd.plotly.v1+json": {
       "config": {
        "plotlyServerURL": "https://plot.ly"
       },
       "data": [
        {
         "hovertemplate": "Engine=Bitsy<br>Year=%{x}<br>Value=%{y}<extra></extra>",
         "legendgroup": "Bitsy",
         "line": {
          "color": "#636efa",
          "dash": "solid"
         },
         "marker": {
          "symbol": "circle"
         },
         "mode": "lines",
         "name": "Bitsy",
         "orientation": "v",
         "showlegend": true,
         "type": "scatter",
         "x": [
          "1968",
          "1969",
          "1970",
          "1972",
          "1973",
          "1974",
          "1978",
          "1979",
          "1980",
          "1981",
          "1982",
          "1983",
          "1984",
          "1985",
          "1986",
          "1987",
          "1988",
          "1989",
          "1990",
          "1991",
          "1992",
          "1993",
          "1994",
          "1995",
          "1996",
          "1997",
          "1998",
          "1999",
          "2000",
          "2001",
          "2002",
          "2003",
          "2004",
          "2005",
          "2006",
          "2007",
          "2008",
          "2009",
          "2010",
          "2011",
          "2012",
          "2013",
          "2014",
          "2015",
          "2016",
          "2017",
          "2018",
          "2019",
          "2020",
          "2021",
          "2022",
          "2023",
          "2024",
          "2025"
         ],
         "xaxis": "x",
         "y": [
          0,
          0,
          0,
          0,
          0,
          0,
          0,
          0,
          0,
          0,
          0,
          0,
          0,
          0,
          0,
          0,
          0,
          0,
          0,
          0,
          0,
          0,
          0,
          0,
          0,
          0,
          0,
          0,
          0,
          0,
          0,
          0,
          0,
          0,
          0,
          0,
          0,
          0,
          0,
          0,
          0,
          0,
          0,
          0,
          5,
          31,
          80,
          44,
          70,
          40,
          16,
          5,
          0,
          0
         ],
         "yaxis": "y"
        },
        {
         "hovertemplate": "Engine=Unreal Engine<br>Year=%{x}<br>Value=%{y}<extra></extra>",
         "legendgroup": "Unreal Engine",
         "line": {
          "color": "#EF553B",
          "dash": "solid"
         },
         "marker": {
          "symbol": "circle"
         },
         "mode": "lines",
         "name": "Unreal Engine",
         "orientation": "v",
         "showlegend": true,
         "type": "scatter",
         "x": [
          "1968",
          "1969",
          "1970",
          "1972",
          "1973",
          "1974",
          "1978",
          "1979",
          "1980",
          "1981",
          "1982",
          "1983",
          "1984",
          "1985",
          "1986",
          "1987",
          "1988",
          "1989",
          "1990",
          "1991",
          "1992",
          "1993",
          "1994",
          "1995",
          "1996",
          "1997",
          "1998",
          "1999",
          "2000",
          "2001",
          "2002",
          "2003",
          "2004",
          "2005",
          "2006",
          "2007",
          "2008",
          "2009",
          "2010",
          "2011",
          "2012",
          "2013",
          "2014",
          "2015",
          "2016",
          "2017",
          "2018",
          "2019",
          "2020",
          "2021",
          "2022",
          "2023",
          "2024",
          "2025"
         ],
         "xaxis": "x",
         "y": [
          0,
          0,
          0,
          0,
          0,
          0,
          0,
          0,
          0,
          0,
          0,
          0,
          0,
          0,
          0,
          0,
          0,
          0,
          0,
          0,
          0,
          0,
          0,
          0,
          0,
          0,
          2,
          3,
          4,
          4,
          5,
          3,
          3,
          3,
          4,
          5,
          9,
          18,
          23,
          23,
          31,
          36,
          25,
          76,
          69,
          53,
          43,
          37,
          53,
          40,
          38,
          27,
          4,
          0
         ],
         "yaxis": "y"
        },
        {
         "hovertemplate": "Engine=GameMaker: Studio<br>Year=%{x}<br>Value=%{y}<extra></extra>",
         "legendgroup": "GameMaker: Studio",
         "line": {
          "color": "#00cc96",
          "dash": "solid"
         },
         "marker": {
          "symbol": "circle"
         },
         "mode": "lines",
         "name": "GameMaker: Studio",
         "orientation": "v",
         "showlegend": true,
         "type": "scatter",
         "x": [
          "1968",
          "1969",
          "1970",
          "1972",
          "1973",
          "1974",
          "1978",
          "1979",
          "1980",
          "1981",
          "1982",
          "1983",
          "1984",
          "1985",
          "1986",
          "1987",
          "1988",
          "1989",
          "1990",
          "1991",
          "1992",
          "1993",
          "1994",
          "1995",
          "1996",
          "1997",
          "1998",
          "1999",
          "2000",
          "2001",
          "2002",
          "2003",
          "2004",
          "2005",
          "2006",
          "2007",
          "2008",
          "2009",
          "2010",
          "2011",
          "2012",
          "2013",
          "2014",
          "2015",
          "2016",
          "2017",
          "2018",
          "2019",
          "2020",
          "2021",
          "2022",
          "2023",
          "2024",
          "2025"
         ],
         "xaxis": "x",
         "y": [
          0,
          0,
          0,
          0,
          0,
          0,
          0,
          0,
          0,
          0,
          0,
          0,
          0,
          0,
          0,
          0,
          0,
          0,
          0,
          0,
          0,
          0,
          0,
          0,
          0,
          0,
          0,
          0,
          0,
          0,
          0,
          0,
          0,
          0,
          0,
          0,
          2,
          0,
          0,
          1,
          3,
          7,
          9,
          12,
          35,
          36,
          21,
          24,
          38,
          30,
          13,
          7,
          0,
          0
         ],
         "yaxis": "y"
        },
        {
         "hovertemplate": "Engine=Unity<br>Year=%{x}<br>Value=%{y}<extra></extra>",
         "legendgroup": "Unity",
         "line": {
          "color": "#ab63fa",
          "dash": "solid"
         },
         "marker": {
          "symbol": "circle"
         },
         "mode": "lines",
         "name": "Unity",
         "orientation": "v",
         "showlegend": true,
         "type": "scatter",
         "x": [
          "1968",
          "1969",
          "1970",
          "1972",
          "1973",
          "1974",
          "1978",
          "1979",
          "1980",
          "1981",
          "1982",
          "1983",
          "1984",
          "1985",
          "1986",
          "1987",
          "1988",
          "1989",
          "1990",
          "1991",
          "1992",
          "1993",
          "1994",
          "1995",
          "1996",
          "1997",
          "1998",
          "1999",
          "2000",
          "2001",
          "2002",
          "2003",
          "2004",
          "2005",
          "2006",
          "2007",
          "2008",
          "2009",
          "2010",
          "2011",
          "2012",
          "2013",
          "2014",
          "2015",
          "2016",
          "2017",
          "2018",
          "2019",
          "2020",
          "2021",
          "2022",
          "2023",
          "2024",
          "2025"
         ],
         "xaxis": "x",
         "y": [
          0,
          0,
          0,
          0,
          0,
          0,
          0,
          0,
          0,
          0,
          0,
          0,
          0,
          0,
          0,
          0,
          0,
          0,
          0,
          0,
          0,
          0,
          0,
          0,
          0,
          0,
          0,
          0,
          0,
          0,
          0,
          0,
          0,
          0,
          0,
          2,
          4,
          8,
          12,
          16,
          41,
          95,
          146,
          182,
          328,
          342,
          382,
          373,
          534,
          732,
          653,
          356,
          22,
          2
         ],
         "yaxis": "y"
        },
        {
         "hovertemplate": "Engine=Unity 2019<br>Year=%{x}<br>Value=%{y}<extra></extra>",
         "legendgroup": "Unity 2019",
         "line": {
          "color": "#FFA15A",
          "dash": "solid"
         },
         "marker": {
          "symbol": "circle"
         },
         "mode": "lines",
         "name": "Unity 2019",
         "orientation": "v",
         "showlegend": true,
         "type": "scatter",
         "x": [
          "1968",
          "1969",
          "1970",
          "1972",
          "1973",
          "1974",
          "1978",
          "1979",
          "1980",
          "1981",
          "1982",
          "1983",
          "1984",
          "1985",
          "1986",
          "1987",
          "1988",
          "1989",
          "1990",
          "1991",
          "1992",
          "1993",
          "1994",
          "1995",
          "1996",
          "1997",
          "1998",
          "1999",
          "2000",
          "2001",
          "2002",
          "2003",
          "2004",
          "2005",
          "2006",
          "2007",
          "2008",
          "2009",
          "2010",
          "2011",
          "2012",
          "2013",
          "2014",
          "2015",
          "2016",
          "2017",
          "2018",
          "2019",
          "2020",
          "2021",
          "2022",
          "2023",
          "2024",
          "2025"
         ],
         "xaxis": "x",
         "y": [
          0,
          0,
          0,
          0,
          0,
          0,
          0,
          0,
          0,
          0,
          0,
          0,
          0,
          0,
          0,
          0,
          0,
          0,
          0,
          0,
          0,
          0,
          0,
          0,
          0,
          0,
          0,
          0,
          0,
          0,
          0,
          0,
          0,
          0,
          0,
          0,
          0,
          0,
          0,
          0,
          0,
          0,
          0,
          0,
          3,
          1,
          4,
          23,
          85,
          93,
          28,
          15,
          1,
          0
         ],
         "yaxis": "y"
        },
        {
         "hovertemplate": "Engine=Unreal Engine 5<br>Year=%{x}<br>Value=%{y}<extra></extra>",
         "legendgroup": "Unreal Engine 5",
         "line": {
          "color": "#19d3f3",
          "dash": "solid"
         },
         "marker": {
          "symbol": "circle"
         },
         "mode": "lines",
         "name": "Unreal Engine 5",
         "orientation": "v",
         "showlegend": true,
         "type": "scatter",
         "x": [
          "1968",
          "1969",
          "1970",
          "1972",
          "1973",
          "1974",
          "1978",
          "1979",
          "1980",
          "1981",
          "1982",
          "1983",
          "1984",
          "1985",
          "1986",
          "1987",
          "1988",
          "1989",
          "1990",
          "1991",
          "1992",
          "1993",
          "1994",
          "1995",
          "1996",
          "1997",
          "1998",
          "1999",
          "2000",
          "2001",
          "2002",
          "2003",
          "2004",
          "2005",
          "2006",
          "2007",
          "2008",
          "2009",
          "2010",
          "2011",
          "2012",
          "2013",
          "2014",
          "2015",
          "2016",
          "2017",
          "2018",
          "2019",
          "2020",
          "2021",
          "2022",
          "2023",
          "2024",
          "2025"
         ],
         "xaxis": "x",
         "y": [
          0,
          0,
          0,
          0,
          0,
          0,
          0,
          0,
          0,
          0,
          0,
          0,
          0,
          0,
          0,
          0,
          0,
          0,
          0,
          0,
          0,
          0,
          0,
          0,
          0,
          0,
          0,
          0,
          0,
          0,
          0,
          0,
          0,
          0,
          0,
          0,
          0,
          0,
          0,
          0,
          0,
          0,
          0,
          0,
          0,
          1,
          0,
          0,
          1,
          9,
          48,
          85,
          9,
          1
         ],
         "yaxis": "y"
        },
        {
         "hovertemplate": "Engine=Twine<br>Year=%{x}<br>Value=%{y}<extra></extra>",
         "legendgroup": "Twine",
         "line": {
          "color": "#FF6692",
          "dash": "solid"
         },
         "marker": {
          "symbol": "circle"
         },
         "mode": "lines",
         "name": "Twine",
         "orientation": "v",
         "showlegend": true,
         "type": "scatter",
         "x": [
          "1968",
          "1969",
          "1970",
          "1972",
          "1973",
          "1974",
          "1978",
          "1979",
          "1980",
          "1981",
          "1982",
          "1983",
          "1984",
          "1985",
          "1986",
          "1987",
          "1988",
          "1989",
          "1990",
          "1991",
          "1992",
          "1993",
          "1994",
          "1995",
          "1996",
          "1997",
          "1998",
          "1999",
          "2000",
          "2001",
          "2002",
          "2003",
          "2004",
          "2005",
          "2006",
          "2007",
          "2008",
          "2009",
          "2010",
          "2011",
          "2012",
          "2013",
          "2014",
          "2015",
          "2016",
          "2017",
          "2018",
          "2019",
          "2020",
          "2021",
          "2022",
          "2023",
          "2024",
          "2025"
         ],
         "xaxis": "x",
         "y": [
          0,
          0,
          0,
          0,
          0,
          0,
          0,
          0,
          0,
          0,
          0,
          0,
          0,
          0,
          0,
          0,
          0,
          0,
          0,
          0,
          0,
          0,
          0,
          0,
          0,
          0,
          0,
          0,
          0,
          0,
          0,
          0,
          0,
          0,
          0,
          0,
          0,
          1,
          1,
          0,
          5,
          31,
          41,
          35,
          17,
          10,
          18,
          23,
          30,
          24,
          18,
          6,
          0,
          0
         ],
         "yaxis": "y"
        },
        {
         "hovertemplate": "Engine=Adobe Flash Player<br>Year=%{x}<br>Value=%{y}<extra></extra>",
         "legendgroup": "Adobe Flash Player",
         "line": {
          "color": "#B6E880",
          "dash": "solid"
         },
         "marker": {
          "symbol": "circle"
         },
         "mode": "lines",
         "name": "Adobe Flash Player",
         "orientation": "v",
         "showlegend": true,
         "type": "scatter",
         "x": [
          "1968",
          "1969",
          "1970",
          "1972",
          "1973",
          "1974",
          "1978",
          "1979",
          "1980",
          "1981",
          "1982",
          "1983",
          "1984",
          "1985",
          "1986",
          "1987",
          "1988",
          "1989",
          "1990",
          "1991",
          "1992",
          "1993",
          "1994",
          "1995",
          "1996",
          "1997",
          "1998",
          "1999",
          "2000",
          "2001",
          "2002",
          "2003",
          "2004",
          "2005",
          "2006",
          "2007",
          "2008",
          "2009",
          "2010",
          "2011",
          "2012",
          "2013",
          "2014",
          "2015",
          "2016",
          "2017",
          "2018",
          "2019",
          "2020",
          "2021",
          "2022",
          "2023",
          "2024",
          "2025"
         ],
         "xaxis": "x",
         "y": [
          0,
          0,
          0,
          0,
          0,
          0,
          0,
          0,
          0,
          0,
          0,
          0,
          0,
          0,
          0,
          0,
          0,
          1,
          0,
          0,
          0,
          0,
          0,
          0,
          0,
          0,
          1,
          1,
          5,
          5,
          4,
          12,
          15,
          20,
          20,
          18,
          41,
          42,
          37,
          28,
          27,
          18,
          14,
          6,
          6,
          4,
          3,
          6,
          8,
          0,
          1,
          1,
          0,
          0
         ],
         "yaxis": "y"
        },
        {
         "hovertemplate": "Engine=Unity3D<br>Year=%{x}<br>Value=%{y}<extra></extra>",
         "legendgroup": "Unity3D",
         "line": {
          "color": "#FF97FF",
          "dash": "solid"
         },
         "marker": {
          "symbol": "circle"
         },
         "mode": "lines",
         "name": "Unity3D",
         "orientation": "v",
         "showlegend": true,
         "type": "scatter",
         "x": [
          "1968",
          "1969",
          "1970",
          "1972",
          "1973",
          "1974",
          "1978",
          "1979",
          "1980",
          "1981",
          "1982",
          "1983",
          "1984",
          "1985",
          "1986",
          "1987",
          "1988",
          "1989",
          "1990",
          "1991",
          "1992",
          "1993",
          "1994",
          "1995",
          "1996",
          "1997",
          "1998",
          "1999",
          "2000",
          "2001",
          "2002",
          "2003",
          "2004",
          "2005",
          "2006",
          "2007",
          "2008",
          "2009",
          "2010",
          "2011",
          "2012",
          "2013",
          "2014",
          "2015",
          "2016",
          "2017",
          "2018",
          "2019",
          "2020",
          "2021",
          "2022",
          "2023",
          "2024",
          "2025"
         ],
         "xaxis": "x",
         "y": [
          0,
          0,
          0,
          0,
          0,
          0,
          0,
          0,
          0,
          0,
          0,
          0,
          0,
          0,
          0,
          0,
          0,
          0,
          0,
          0,
          0,
          0,
          0,
          0,
          0,
          0,
          0,
          0,
          0,
          0,
          0,
          0,
          0,
          0,
          0,
          0,
          0,
          0,
          0,
          0,
          3,
          0,
          2,
          4,
          12,
          8,
          18,
          41,
          49,
          77,
          59,
          41,
          1,
          0
         ],
         "yaxis": "y"
        },
        {
         "hovertemplate": "Engine=Unreal Engine 4<br>Year=%{x}<br>Value=%{y}<extra></extra>",
         "legendgroup": "Unreal Engine 4",
         "line": {
          "color": "#FECB52",
          "dash": "solid"
         },
         "marker": {
          "symbol": "circle"
         },
         "mode": "lines",
         "name": "Unreal Engine 4",
         "orientation": "v",
         "showlegend": true,
         "type": "scatter",
         "x": [
          "1968",
          "1969",
          "1970",
          "1972",
          "1973",
          "1974",
          "1978",
          "1979",
          "1980",
          "1981",
          "1982",
          "1983",
          "1984",
          "1985",
          "1986",
          "1987",
          "1988",
          "1989",
          "1990",
          "1991",
          "1992",
          "1993",
          "1994",
          "1995",
          "1996",
          "1997",
          "1998",
          "1999",
          "2000",
          "2001",
          "2002",
          "2003",
          "2004",
          "2005",
          "2006",
          "2007",
          "2008",
          "2009",
          "2010",
          "2011",
          "2012",
          "2013",
          "2014",
          "2015",
          "2016",
          "2017",
          "2018",
          "2019",
          "2020",
          "2021",
          "2022",
          "2023",
          "2024",
          "2025"
         ],
         "xaxis": "x",
         "y": [
          0,
          0,
          0,
          0,
          0,
          0,
          0,
          0,
          0,
          0,
          0,
          0,
          0,
          0,
          0,
          0,
          0,
          0,
          0,
          0,
          0,
          0,
          0,
          0,
          0,
          0,
          0,
          0,
          0,
          0,
          0,
          0,
          0,
          0,
          0,
          0,
          0,
          0,
          0,
          0,
          0,
          0,
          1,
          13,
          29,
          63,
          103,
          139,
          176,
          271,
          200,
          124,
          15,
          1
         ],
         "yaxis": "y"
        }
       ],
       "layout": {
        "legend": {
         "title": {
          "text": "Engine"
         },
         "tracegroupgap": 0
        },
        "margin": {
         "t": 60
        },
        "template": {
         "data": {
          "bar": [
           {
            "error_x": {
             "color": "#2a3f5f"
            },
            "error_y": {
             "color": "#2a3f5f"
            },
            "marker": {
             "line": {
              "color": "#E5ECF6",
              "width": 0.5
             },
             "pattern": {
              "fillmode": "overlay",
              "size": 10,
              "solidity": 0.2
             }
            },
            "type": "bar"
           }
          ],
          "barpolar": [
           {
            "marker": {
             "line": {
              "color": "#E5ECF6",
              "width": 0.5
             },
             "pattern": {
              "fillmode": "overlay",
              "size": 10,
              "solidity": 0.2
             }
            },
            "type": "barpolar"
           }
          ],
          "carpet": [
           {
            "aaxis": {
             "endlinecolor": "#2a3f5f",
             "gridcolor": "white",
             "linecolor": "white",
             "minorgridcolor": "white",
             "startlinecolor": "#2a3f5f"
            },
            "baxis": {
             "endlinecolor": "#2a3f5f",
             "gridcolor": "white",
             "linecolor": "white",
             "minorgridcolor": "white",
             "startlinecolor": "#2a3f5f"
            },
            "type": "carpet"
           }
          ],
          "choropleth": [
           {
            "colorbar": {
             "outlinewidth": 0,
             "ticks": ""
            },
            "type": "choropleth"
           }
          ],
          "contour": [
           {
            "colorbar": {
             "outlinewidth": 0,
             "ticks": ""
            },
            "colorscale": [
             [
              0,
              "#0d0887"
             ],
             [
              0.1111111111111111,
              "#46039f"
             ],
             [
              0.2222222222222222,
              "#7201a8"
             ],
             [
              0.3333333333333333,
              "#9c179e"
             ],
             [
              0.4444444444444444,
              "#bd3786"
             ],
             [
              0.5555555555555556,
              "#d8576b"
             ],
             [
              0.6666666666666666,
              "#ed7953"
             ],
             [
              0.7777777777777778,
              "#fb9f3a"
             ],
             [
              0.8888888888888888,
              "#fdca26"
             ],
             [
              1,
              "#f0f921"
             ]
            ],
            "type": "contour"
           }
          ],
          "contourcarpet": [
           {
            "colorbar": {
             "outlinewidth": 0,
             "ticks": ""
            },
            "type": "contourcarpet"
           }
          ],
          "heatmap": [
           {
            "colorbar": {
             "outlinewidth": 0,
             "ticks": ""
            },
            "colorscale": [
             [
              0,
              "#0d0887"
             ],
             [
              0.1111111111111111,
              "#46039f"
             ],
             [
              0.2222222222222222,
              "#7201a8"
             ],
             [
              0.3333333333333333,
              "#9c179e"
             ],
             [
              0.4444444444444444,
              "#bd3786"
             ],
             [
              0.5555555555555556,
              "#d8576b"
             ],
             [
              0.6666666666666666,
              "#ed7953"
             ],
             [
              0.7777777777777778,
              "#fb9f3a"
             ],
             [
              0.8888888888888888,
              "#fdca26"
             ],
             [
              1,
              "#f0f921"
             ]
            ],
            "type": "heatmap"
           }
          ],
          "heatmapgl": [
           {
            "colorbar": {
             "outlinewidth": 0,
             "ticks": ""
            },
            "colorscale": [
             [
              0,
              "#0d0887"
             ],
             [
              0.1111111111111111,
              "#46039f"
             ],
             [
              0.2222222222222222,
              "#7201a8"
             ],
             [
              0.3333333333333333,
              "#9c179e"
             ],
             [
              0.4444444444444444,
              "#bd3786"
             ],
             [
              0.5555555555555556,
              "#d8576b"
             ],
             [
              0.6666666666666666,
              "#ed7953"
             ],
             [
              0.7777777777777778,
              "#fb9f3a"
             ],
             [
              0.8888888888888888,
              "#fdca26"
             ],
             [
              1,
              "#f0f921"
             ]
            ],
            "type": "heatmapgl"
           }
          ],
          "histogram": [
           {
            "marker": {
             "pattern": {
              "fillmode": "overlay",
              "size": 10,
              "solidity": 0.2
             }
            },
            "type": "histogram"
           }
          ],
          "histogram2d": [
           {
            "colorbar": {
             "outlinewidth": 0,
             "ticks": ""
            },
            "colorscale": [
             [
              0,
              "#0d0887"
             ],
             [
              0.1111111111111111,
              "#46039f"
             ],
             [
              0.2222222222222222,
              "#7201a8"
             ],
             [
              0.3333333333333333,
              "#9c179e"
             ],
             [
              0.4444444444444444,
              "#bd3786"
             ],
             [
              0.5555555555555556,
              "#d8576b"
             ],
             [
              0.6666666666666666,
              "#ed7953"
             ],
             [
              0.7777777777777778,
              "#fb9f3a"
             ],
             [
              0.8888888888888888,
              "#fdca26"
             ],
             [
              1,
              "#f0f921"
             ]
            ],
            "type": "histogram2d"
           }
          ],
          "histogram2dcontour": [
           {
            "colorbar": {
             "outlinewidth": 0,
             "ticks": ""
            },
            "colorscale": [
             [
              0,
              "#0d0887"
             ],
             [
              0.1111111111111111,
              "#46039f"
             ],
             [
              0.2222222222222222,
              "#7201a8"
             ],
             [
              0.3333333333333333,
              "#9c179e"
             ],
             [
              0.4444444444444444,
              "#bd3786"
             ],
             [
              0.5555555555555556,
              "#d8576b"
             ],
             [
              0.6666666666666666,
              "#ed7953"
             ],
             [
              0.7777777777777778,
              "#fb9f3a"
             ],
             [
              0.8888888888888888,
              "#fdca26"
             ],
             [
              1,
              "#f0f921"
             ]
            ],
            "type": "histogram2dcontour"
           }
          ],
          "mesh3d": [
           {
            "colorbar": {
             "outlinewidth": 0,
             "ticks": ""
            },
            "type": "mesh3d"
           }
          ],
          "parcoords": [
           {
            "line": {
             "colorbar": {
              "outlinewidth": 0,
              "ticks": ""
             }
            },
            "type": "parcoords"
           }
          ],
          "pie": [
           {
            "automargin": true,
            "type": "pie"
           }
          ],
          "scatter": [
           {
            "fillpattern": {
             "fillmode": "overlay",
             "size": 10,
             "solidity": 0.2
            },
            "type": "scatter"
           }
          ],
          "scatter3d": [
           {
            "line": {
             "colorbar": {
              "outlinewidth": 0,
              "ticks": ""
             }
            },
            "marker": {
             "colorbar": {
              "outlinewidth": 0,
              "ticks": ""
             }
            },
            "type": "scatter3d"
           }
          ],
          "scattercarpet": [
           {
            "marker": {
             "colorbar": {
              "outlinewidth": 0,
              "ticks": ""
             }
            },
            "type": "scattercarpet"
           }
          ],
          "scattergeo": [
           {
            "marker": {
             "colorbar": {
              "outlinewidth": 0,
              "ticks": ""
             }
            },
            "type": "scattergeo"
           }
          ],
          "scattergl": [
           {
            "marker": {
             "colorbar": {
              "outlinewidth": 0,
              "ticks": ""
             }
            },
            "type": "scattergl"
           }
          ],
          "scattermapbox": [
           {
            "marker": {
             "colorbar": {
              "outlinewidth": 0,
              "ticks": ""
             }
            },
            "type": "scattermapbox"
           }
          ],
          "scatterpolar": [
           {
            "marker": {
             "colorbar": {
              "outlinewidth": 0,
              "ticks": ""
             }
            },
            "type": "scatterpolar"
           }
          ],
          "scatterpolargl": [
           {
            "marker": {
             "colorbar": {
              "outlinewidth": 0,
              "ticks": ""
             }
            },
            "type": "scatterpolargl"
           }
          ],
          "scatterternary": [
           {
            "marker": {
             "colorbar": {
              "outlinewidth": 0,
              "ticks": ""
             }
            },
            "type": "scatterternary"
           }
          ],
          "surface": [
           {
            "colorbar": {
             "outlinewidth": 0,
             "ticks": ""
            },
            "colorscale": [
             [
              0,
              "#0d0887"
             ],
             [
              0.1111111111111111,
              "#46039f"
             ],
             [
              0.2222222222222222,
              "#7201a8"
             ],
             [
              0.3333333333333333,
              "#9c179e"
             ],
             [
              0.4444444444444444,
              "#bd3786"
             ],
             [
              0.5555555555555556,
              "#d8576b"
             ],
             [
              0.6666666666666666,
              "#ed7953"
             ],
             [
              0.7777777777777778,
              "#fb9f3a"
             ],
             [
              0.8888888888888888,
              "#fdca26"
             ],
             [
              1,
              "#f0f921"
             ]
            ],
            "type": "surface"
           }
          ],
          "table": [
           {
            "cells": {
             "fill": {
              "color": "#EBF0F8"
             },
             "line": {
              "color": "white"
             }
            },
            "header": {
             "fill": {
              "color": "#C8D4E3"
             },
             "line": {
              "color": "white"
             }
            },
            "type": "table"
           }
          ]
         },
         "layout": {
          "annotationdefaults": {
           "arrowcolor": "#2a3f5f",
           "arrowhead": 0,
           "arrowwidth": 1
          },
          "autotypenumbers": "strict",
          "coloraxis": {
           "colorbar": {
            "outlinewidth": 0,
            "ticks": ""
           }
          },
          "colorscale": {
           "diverging": [
            [
             0,
             "#8e0152"
            ],
            [
             0.1,
             "#c51b7d"
            ],
            [
             0.2,
             "#de77ae"
            ],
            [
             0.3,
             "#f1b6da"
            ],
            [
             0.4,
             "#fde0ef"
            ],
            [
             0.5,
             "#f7f7f7"
            ],
            [
             0.6,
             "#e6f5d0"
            ],
            [
             0.7,
             "#b8e186"
            ],
            [
             0.8,
             "#7fbc41"
            ],
            [
             0.9,
             "#4d9221"
            ],
            [
             1,
             "#276419"
            ]
           ],
           "sequential": [
            [
             0,
             "#0d0887"
            ],
            [
             0.1111111111111111,
             "#46039f"
            ],
            [
             0.2222222222222222,
             "#7201a8"
            ],
            [
             0.3333333333333333,
             "#9c179e"
            ],
            [
             0.4444444444444444,
             "#bd3786"
            ],
            [
             0.5555555555555556,
             "#d8576b"
            ],
            [
             0.6666666666666666,
             "#ed7953"
            ],
            [
             0.7777777777777778,
             "#fb9f3a"
            ],
            [
             0.8888888888888888,
             "#fdca26"
            ],
            [
             1,
             "#f0f921"
            ]
           ],
           "sequentialminus": [
            [
             0,
             "#0d0887"
            ],
            [
             0.1111111111111111,
             "#46039f"
            ],
            [
             0.2222222222222222,
             "#7201a8"
            ],
            [
             0.3333333333333333,
             "#9c179e"
            ],
            [
             0.4444444444444444,
             "#bd3786"
            ],
            [
             0.5555555555555556,
             "#d8576b"
            ],
            [
             0.6666666666666666,
             "#ed7953"
            ],
            [
             0.7777777777777778,
             "#fb9f3a"
            ],
            [
             0.8888888888888888,
             "#fdca26"
            ],
            [
             1,
             "#f0f921"
            ]
           ]
          },
          "colorway": [
           "#636efa",
           "#EF553B",
           "#00cc96",
           "#ab63fa",
           "#FFA15A",
           "#19d3f3",
           "#FF6692",
           "#B6E880",
           "#FF97FF",
           "#FECB52"
          ],
          "font": {
           "color": "#2a3f5f"
          },
          "geo": {
           "bgcolor": "white",
           "lakecolor": "white",
           "landcolor": "#E5ECF6",
           "showlakes": true,
           "showland": true,
           "subunitcolor": "white"
          },
          "hoverlabel": {
           "align": "left"
          },
          "hovermode": "closest",
          "mapbox": {
           "style": "light"
          },
          "paper_bgcolor": "white",
          "plot_bgcolor": "#E5ECF6",
          "polar": {
           "angularaxis": {
            "gridcolor": "white",
            "linecolor": "white",
            "ticks": ""
           },
           "bgcolor": "#E5ECF6",
           "radialaxis": {
            "gridcolor": "white",
            "linecolor": "white",
            "ticks": ""
           }
          },
          "scene": {
           "xaxis": {
            "backgroundcolor": "#E5ECF6",
            "gridcolor": "white",
            "gridwidth": 2,
            "linecolor": "white",
            "showbackground": true,
            "ticks": "",
            "zerolinecolor": "white"
           },
           "yaxis": {
            "backgroundcolor": "#E5ECF6",
            "gridcolor": "white",
            "gridwidth": 2,
            "linecolor": "white",
            "showbackground": true,
            "ticks": "",
            "zerolinecolor": "white"
           },
           "zaxis": {
            "backgroundcolor": "#E5ECF6",
            "gridcolor": "white",
            "gridwidth": 2,
            "linecolor": "white",
            "showbackground": true,
            "ticks": "",
            "zerolinecolor": "white"
           }
          },
          "shapedefaults": {
           "line": {
            "color": "#2a3f5f"
           }
          },
          "ternary": {
           "aaxis": {
            "gridcolor": "white",
            "linecolor": "white",
            "ticks": ""
           },
           "baxis": {
            "gridcolor": "white",
            "linecolor": "white",
            "ticks": ""
           },
           "bgcolor": "#E5ECF6",
           "caxis": {
            "gridcolor": "white",
            "linecolor": "white",
            "ticks": ""
           }
          },
          "title": {
           "x": 0.05
          },
          "xaxis": {
           "automargin": true,
           "gridcolor": "white",
           "linecolor": "white",
           "ticks": "",
           "title": {
            "standoff": 15
           },
           "zerolinecolor": "white",
           "zerolinewidth": 2
          },
          "yaxis": {
           "automargin": true,
           "gridcolor": "white",
           "linecolor": "white",
           "ticks": "",
           "title": {
            "standoff": 15
           },
           "zerolinecolor": "white",
           "zerolinewidth": 2
          }
         }
        },
        "xaxis": {
         "anchor": "y",
         "domain": [
          0,
          1
         ],
         "title": {
          "text": "Year"
         }
        },
        "yaxis": {
         "anchor": "x",
         "domain": [
          0,
          1
         ],
         "title": {
          "text": "Value"
         }
        }
       }
      }
     },
     "metadata": {},
     "output_type": "display_data"
    }
   ],
   "source": [
    "engines_years_fig(dataframe)"
   ]
  },
  {
   "cell_type": "code",
   "execution_count": 38,
   "id": "0a84896e",
   "metadata": {},
   "outputs": [
    {
     "data": {
      "application/vnd.plotly.v1+json": {
       "config": {
        "plotlyServerURL": "https://plot.ly"
       },
       "data": [
        {
         "branchvalues": "total",
         "customdata": [
          [
           "Role-playing (RPG)"
          ],
          [
           "Role-playing (RPG)"
          ],
          [
           "Role-playing (RPG)"
          ],
          [
           "Role-playing (RPG)"
          ],
          [
           "Role-playing (RPG)"
          ],
          [
           "Role-playing (RPG)"
          ],
          [
           "Role-playing (RPG)"
          ],
          [
           "Role-playing (RPG)"
          ],
          [
           "Role-playing (RPG)"
          ],
          [
           "Role-playing (RPG)"
          ],
          [
           "Role-playing (RPG)"
          ],
          [
           "Role-playing (RPG)"
          ],
          [
           "Role-playing (RPG)"
          ],
          [
           "Role-playing (RPG)"
          ],
          [
           "Arcade"
          ],
          [
           "Arcade"
          ],
          [
           "Arcade"
          ],
          [
           "Arcade"
          ],
          [
           "Arcade"
          ],
          [
           "Arcade"
          ],
          [
           "Arcade"
          ],
          [
           "Arcade"
          ],
          [
           "Arcade"
          ],
          [
           "Arcade"
          ],
          [
           "Arcade"
          ],
          [
           "Arcade"
          ],
          [
           "Arcade"
          ],
          [
           "Arcade"
          ],
          [
           "Pinball"
          ],
          [
           "Pinball"
          ],
          [
           "Pinball"
          ],
          [
           "Pinball"
          ],
          [
           "Pinball"
          ],
          [
           "Pinball"
          ],
          [
           "Pinball"
          ],
          [
           "Pinball"
          ],
          [
           "Pinball"
          ],
          [
           "Pinball"
          ],
          [
           "Pinball"
          ],
          [
           "Pinball"
          ],
          [
           "Pinball"
          ],
          [
           "Pinball"
          ],
          [
           "Tactical"
          ],
          [
           "Tactical"
          ],
          [
           "Tactical"
          ],
          [
           "Tactical"
          ],
          [
           "Tactical"
          ],
          [
           "Tactical"
          ],
          [
           "Tactical"
          ],
          [
           "Tactical"
          ],
          [
           "Tactical"
          ],
          [
           "Tactical"
          ],
          [
           "Tactical"
          ],
          [
           "Tactical"
          ],
          [
           "Tactical"
          ],
          [
           "Tactical"
          ],
          [
           "Simulator"
          ],
          [
           "Simulator"
          ],
          [
           "Simulator"
          ],
          [
           "Simulator"
          ],
          [
           "Simulator"
          ],
          [
           "Simulator"
          ],
          [
           "Simulator"
          ],
          [
           "Simulator"
          ],
          [
           "Simulator"
          ],
          [
           "Simulator"
          ],
          [
           "Simulator"
          ],
          [
           "Simulator"
          ],
          [
           "Simulator"
          ],
          [
           "Simulator"
          ],
          [
           "Sport"
          ],
          [
           "Sport"
          ],
          [
           "Sport"
          ],
          [
           "Sport"
          ],
          [
           "Sport"
          ],
          [
           "Sport"
          ],
          [
           "Sport"
          ],
          [
           "Sport"
          ],
          [
           "Sport"
          ],
          [
           "Sport"
          ],
          [
           "Sport"
          ],
          [
           "Sport"
          ],
          [
           "Sport"
          ],
          [
           "Sport"
          ],
          [
           "Point-and-click"
          ],
          [
           "Point-and-click"
          ],
          [
           "Point-and-click"
          ],
          [
           "Point-and-click"
          ],
          [
           "Point-and-click"
          ],
          [
           "Point-and-click"
          ],
          [
           "Point-and-click"
          ],
          [
           "Point-and-click"
          ],
          [
           "Point-and-click"
          ],
          [
           "Point-and-click"
          ],
          [
           "Point-and-click"
          ],
          [
           "Point-and-click"
          ],
          [
           "Point-and-click"
          ],
          [
           "Point-and-click"
          ],
          [
           "Adventure"
          ],
          [
           "Adventure"
          ],
          [
           "Adventure"
          ],
          [
           "Adventure"
          ],
          [
           "Adventure"
          ],
          [
           "Adventure"
          ],
          [
           "Adventure"
          ],
          [
           "Adventure"
          ],
          [
           "Adventure"
          ],
          [
           "Adventure"
          ],
          [
           "Adventure"
          ],
          [
           "Adventure"
          ],
          [
           "Adventure"
          ],
          [
           "Adventure"
          ],
          [
           "Fighting"
          ],
          [
           "Fighting"
          ],
          [
           "Fighting"
          ],
          [
           "Fighting"
          ],
          [
           "Fighting"
          ],
          [
           "Fighting"
          ],
          [
           "Fighting"
          ],
          [
           "Fighting"
          ],
          [
           "Fighting"
          ],
          [
           "Fighting"
          ],
          [
           "Fighting"
          ],
          [
           "Fighting"
          ],
          [
           "Fighting"
          ],
          [
           "Fighting"
          ],
          [
           "Platform"
          ],
          [
           "Platform"
          ],
          [
           "Platform"
          ],
          [
           "Platform"
          ],
          [
           "Platform"
          ],
          [
           "Platform"
          ],
          [
           "Platform"
          ],
          [
           "Platform"
          ],
          [
           "Platform"
          ],
          [
           "Platform"
          ],
          [
           "Platform"
          ],
          [
           "Platform"
          ],
          [
           "Platform"
          ],
          [
           "Platform"
          ],
          [
           "Strategy"
          ],
          [
           "Strategy"
          ],
          [
           "Strategy"
          ],
          [
           "Strategy"
          ],
          [
           "Strategy"
          ],
          [
           "Strategy"
          ],
          [
           "Strategy"
          ],
          [
           "Strategy"
          ],
          [
           "Strategy"
          ],
          [
           "Strategy"
          ],
          [
           "Strategy"
          ],
          [
           "Strategy"
          ],
          [
           "Strategy"
          ],
          [
           "Strategy"
          ],
          [
           "Real Time Strategy (RTS)"
          ],
          [
           "Real Time Strategy (RTS)"
          ],
          [
           "Real Time Strategy (RTS)"
          ],
          [
           "Real Time Strategy (RTS)"
          ],
          [
           "Real Time Strategy (RTS)"
          ],
          [
           "Real Time Strategy (RTS)"
          ],
          [
           "Real Time Strategy (RTS)"
          ],
          [
           "Real Time Strategy (RTS)"
          ],
          [
           "Real Time Strategy (RTS)"
          ],
          [
           "Real Time Strategy (RTS)"
          ],
          [
           "Real Time Strategy (RTS)"
          ],
          [
           "Real Time Strategy (RTS)"
          ],
          [
           "Real Time Strategy (RTS)"
          ],
          [
           "Real Time Strategy (RTS)"
          ],
          [
           "Quiz/Trivia"
          ],
          [
           "Quiz/Trivia"
          ],
          [
           "Quiz/Trivia"
          ],
          [
           "Quiz/Trivia"
          ],
          [
           "Quiz/Trivia"
          ],
          [
           "Quiz/Trivia"
          ],
          [
           "Quiz/Trivia"
          ],
          [
           "Quiz/Trivia"
          ],
          [
           "Quiz/Trivia"
          ],
          [
           "Quiz/Trivia"
          ],
          [
           "Quiz/Trivia"
          ],
          [
           "Quiz/Trivia"
          ],
          [
           "Quiz/Trivia"
          ],
          [
           "Quiz/Trivia"
          ],
          [
           "Shooter"
          ],
          [
           "Shooter"
          ],
          [
           "Shooter"
          ],
          [
           "Shooter"
          ],
          [
           "Shooter"
          ],
          [
           "Shooter"
          ],
          [
           "Shooter"
          ],
          [
           "Shooter"
          ],
          [
           "Shooter"
          ],
          [
           "Shooter"
          ],
          [
           "Shooter"
          ],
          [
           "Shooter"
          ],
          [
           "Shooter"
          ],
          [
           "Shooter"
          ],
          [
           "Turn-based strategy (TBS)"
          ],
          [
           "Turn-based strategy (TBS)"
          ],
          [
           "Turn-based strategy (TBS)"
          ],
          [
           "Turn-based strategy (TBS)"
          ],
          [
           "Turn-based strategy (TBS)"
          ],
          [
           "Turn-based strategy (TBS)"
          ],
          [
           "Turn-based strategy (TBS)"
          ],
          [
           "Turn-based strategy (TBS)"
          ],
          [
           "Turn-based strategy (TBS)"
          ],
          [
           "Turn-based strategy (TBS)"
          ],
          [
           "Turn-based strategy (TBS)"
          ],
          [
           "Turn-based strategy (TBS)"
          ],
          [
           "Turn-based strategy (TBS)"
          ],
          [
           "Turn-based strategy (TBS)"
          ],
          [
           "Puzzle"
          ],
          [
           "Puzzle"
          ],
          [
           "Puzzle"
          ],
          [
           "Puzzle"
          ],
          [
           "Puzzle"
          ],
          [
           "Puzzle"
          ],
          [
           "Puzzle"
          ],
          [
           "Puzzle"
          ],
          [
           "Puzzle"
          ],
          [
           "Puzzle"
          ],
          [
           "Puzzle"
          ],
          [
           "Puzzle"
          ],
          [
           "Puzzle"
          ],
          [
           "Puzzle"
          ],
          [
           "Card & Board Game"
          ],
          [
           "Card & Board Game"
          ],
          [
           "Card & Board Game"
          ],
          [
           "Card & Board Game"
          ],
          [
           "Card & Board Game"
          ],
          [
           "Card & Board Game"
          ],
          [
           "Card & Board Game"
          ],
          [
           "Card & Board Game"
          ],
          [
           "Card & Board Game"
          ],
          [
           "Card & Board Game"
          ],
          [
           "Card & Board Game"
          ],
          [
           "Card & Board Game"
          ],
          [
           "Card & Board Game"
          ],
          [
           "Card & Board Game"
          ],
          [
           "Indie"
          ],
          [
           "Indie"
          ],
          [
           "Indie"
          ],
          [
           "Indie"
          ],
          [
           "Indie"
          ],
          [
           "Indie"
          ],
          [
           "Indie"
          ],
          [
           "Indie"
          ],
          [
           "Indie"
          ],
          [
           "Indie"
          ],
          [
           "Indie"
          ],
          [
           "Indie"
          ],
          [
           "Indie"
          ],
          [
           "Indie"
          ],
          [
           "Visual Novel"
          ],
          [
           "Visual Novel"
          ],
          [
           "Visual Novel"
          ],
          [
           "Visual Novel"
          ],
          [
           "Visual Novel"
          ],
          [
           "Visual Novel"
          ],
          [
           "Visual Novel"
          ],
          [
           "Visual Novel"
          ],
          [
           "Visual Novel"
          ],
          [
           "Visual Novel"
          ],
          [
           "Visual Novel"
          ],
          [
           "Visual Novel"
          ],
          [
           "Visual Novel"
          ],
          [
           "Visual Novel"
          ],
          [
           "Racing"
          ],
          [
           "Racing"
          ],
          [
           "Racing"
          ],
          [
           "Racing"
          ],
          [
           "Racing"
          ],
          [
           "Racing"
          ],
          [
           "Racing"
          ],
          [
           "Racing"
          ],
          [
           "Racing"
          ],
          [
           "Racing"
          ],
          [
           "Racing"
          ],
          [
           "Racing"
          ],
          [
           "Racing"
          ],
          [
           "Racing"
          ],
          [
           "Hack and slash/Beat 'em up"
          ],
          [
           "Hack and slash/Beat 'em up"
          ],
          [
           "Hack and slash/Beat 'em up"
          ],
          [
           "Hack and slash/Beat 'em up"
          ],
          [
           "Hack and slash/Beat 'em up"
          ],
          [
           "Hack and slash/Beat 'em up"
          ],
          [
           "Hack and slash/Beat 'em up"
          ],
          [
           "Hack and slash/Beat 'em up"
          ],
          [
           "Hack and slash/Beat 'em up"
          ],
          [
           "Hack and slash/Beat 'em up"
          ],
          [
           "Hack and slash/Beat 'em up"
          ],
          [
           "Hack and slash/Beat 'em up"
          ],
          [
           "Hack and slash/Beat 'em up"
          ],
          [
           "Hack and slash/Beat 'em up"
          ],
          [
           "MOBA"
          ],
          [
           "MOBA"
          ],
          [
           "MOBA"
          ],
          [
           "MOBA"
          ],
          [
           "MOBA"
          ],
          [
           "MOBA"
          ],
          [
           "MOBA"
          ],
          [
           "MOBA"
          ],
          [
           "MOBA"
          ],
          [
           "MOBA"
          ],
          [
           "MOBA"
          ],
          [
           "MOBA"
          ],
          [
           "MOBA"
          ],
          [
           "MOBA"
          ],
          [
           "Music"
          ],
          [
           "Music"
          ],
          [
           "Music"
          ],
          [
           "Music"
          ],
          [
           "Music"
          ],
          [
           "Music"
          ],
          [
           "Music"
          ],
          [
           "Music"
          ],
          [
           "Music"
          ],
          [
           "Music"
          ],
          [
           "Music"
          ],
          [
           "Music"
          ],
          [
           "Music"
          ],
          [
           "Music"
          ],
          [
           "Adventure"
          ],
          [
           "Arcade"
          ],
          [
           "Card & Board Game"
          ],
          [
           "Fighting"
          ],
          [
           "Hack and slash/Beat 'em up"
          ],
          [
           "Indie"
          ],
          [
           "MOBA"
          ],
          [
           "Music"
          ],
          [
           "Pinball"
          ],
          [
           "Platform"
          ],
          [
           "Point-and-click"
          ],
          [
           "Puzzle"
          ],
          [
           "Quiz/Trivia"
          ],
          [
           "Racing"
          ],
          [
           "Real Time Strategy (RTS)"
          ],
          [
           "Role-playing (RPG)"
          ],
          [
           "Shooter"
          ],
          [
           "Simulator"
          ],
          [
           "Sport"
          ],
          [
           "Strategy"
          ],
          [
           "Tactical"
          ],
          [
           "Turn-based strategy (TBS)"
          ],
          [
           "Visual Novel"
          ]
         ],
         "domain": {
          "x": [
           0,
           1
          ],
          "y": [
           0,
           1
          ]
         },
         "hovertemplate": "labels=%{label}<br>value=%{value}<br>parent=%{parent}<br>id=%{id}<br>genre=%{customdata[0]}<extra></extra>",
         "ids": [
          "Role-playing (RPG)/expansion",
          "Role-playing (RPG)/season",
          "Role-playing (RPG)/update",
          "Role-playing (RPG)/pack",
          "Role-playing (RPG)/remake",
          "Role-playing (RPG)/episode",
          "Role-playing (RPG)/mod",
          "Role-playing (RPG)/dlc_addon",
          "Role-playing (RPG)/bundle",
          "Role-playing (RPG)/expanded_game",
          "Role-playing (RPG)/port",
          "Role-playing (RPG)/standalone_expansion",
          "Role-playing (RPG)/remaster",
          "Role-playing (RPG)/fork",
          "Arcade/mod",
          "Arcade/bundle",
          "Arcade/episode",
          "Arcade/port",
          "Arcade/remake",
          "Arcade/dlc_addon",
          "Arcade/standalone_expansion",
          "Arcade/fork",
          "Arcade/expanded_game",
          "Arcade/expansion",
          "Arcade/season",
          "Arcade/remaster",
          "Arcade/pack",
          "Arcade/update",
          "Pinball/fork",
          "Pinball/pack",
          "Pinball/mod",
          "Pinball/expansion",
          "Pinball/episode",
          "Pinball/standalone_expansion",
          "Pinball/expanded_game",
          "Pinball/port",
          "Pinball/update",
          "Pinball/season",
          "Pinball/remaster",
          "Pinball/bundle",
          "Pinball/remake",
          "Pinball/dlc_addon",
          "Tactical/bundle",
          "Tactical/episode",
          "Tactical/pack",
          "Tactical/season",
          "Tactical/standalone_expansion",
          "Tactical/mod",
          "Tactical/update",
          "Tactical/dlc_addon",
          "Tactical/remaster",
          "Tactical/expansion",
          "Tactical/expanded_game",
          "Tactical/port",
          "Tactical/remake",
          "Tactical/fork",
          "Simulator/mod",
          "Simulator/episode",
          "Simulator/port",
          "Simulator/bundle",
          "Simulator/fork",
          "Simulator/expanded_game",
          "Simulator/update",
          "Simulator/pack",
          "Simulator/remaster",
          "Simulator/expansion",
          "Simulator/standalone_expansion",
          "Simulator/season",
          "Simulator/dlc_addon",
          "Simulator/remake",
          "Sport/expanded_game",
          "Sport/fork",
          "Sport/remaster",
          "Sport/standalone_expansion",
          "Sport/expansion",
          "Sport/update",
          "Sport/port",
          "Sport/bundle",
          "Sport/mod",
          "Sport/dlc_addon",
          "Sport/episode",
          "Sport/remake",
          "Sport/season",
          "Sport/pack",
          "Point-and-click/mod",
          "Point-and-click/port",
          "Point-and-click/expansion",
          "Point-and-click/dlc_addon",
          "Point-and-click/update",
          "Point-and-click/episode",
          "Point-and-click/fork",
          "Point-and-click/remake",
          "Point-and-click/pack",
          "Point-and-click/season",
          "Point-and-click/standalone_expansion",
          "Point-and-click/remaster",
          "Point-and-click/bundle",
          "Point-and-click/expanded_game",
          "Adventure/port",
          "Adventure/fork",
          "Adventure/remake",
          "Adventure/standalone_expansion",
          "Adventure/pack",
          "Adventure/mod",
          "Adventure/remaster",
          "Adventure/bundle",
          "Adventure/season",
          "Adventure/expansion",
          "Adventure/episode",
          "Adventure/dlc_addon",
          "Adventure/expanded_game",
          "Adventure/update",
          "Fighting/mod",
          "Fighting/port",
          "Fighting/expanded_game",
          "Fighting/dlc_addon",
          "Fighting/remaster",
          "Fighting/remake",
          "Fighting/pack",
          "Fighting/season",
          "Fighting/standalone_expansion",
          "Fighting/bundle",
          "Fighting/update",
          "Fighting/fork",
          "Fighting/episode",
          "Fighting/expansion",
          "Platform/dlc_addon",
          "Platform/expanded_game",
          "Platform/season",
          "Platform/standalone_expansion",
          "Platform/expansion",
          "Platform/update",
          "Platform/remake",
          "Platform/port",
          "Platform/episode",
          "Platform/pack",
          "Platform/fork",
          "Platform/remaster",
          "Platform/bundle",
          "Platform/mod",
          "Strategy/mod",
          "Strategy/episode",
          "Strategy/dlc_addon",
          "Strategy/port",
          "Strategy/pack",
          "Strategy/season",
          "Strategy/remake",
          "Strategy/bundle",
          "Strategy/remaster",
          "Strategy/expansion",
          "Strategy/update",
          "Strategy/fork",
          "Strategy/standalone_expansion",
          "Strategy/expanded_game",
          "Real Time Strategy (RTS)/episode",
          "Real Time Strategy (RTS)/dlc_addon",
          "Real Time Strategy (RTS)/pack",
          "Real Time Strategy (RTS)/port",
          "Real Time Strategy (RTS)/update",
          "Real Time Strategy (RTS)/fork",
          "Real Time Strategy (RTS)/expansion",
          "Real Time Strategy (RTS)/standalone_expansion",
          "Real Time Strategy (RTS)/expanded_game",
          "Real Time Strategy (RTS)/bundle",
          "Real Time Strategy (RTS)/mod",
          "Real Time Strategy (RTS)/remake",
          "Real Time Strategy (RTS)/season",
          "Real Time Strategy (RTS)/remaster",
          "Quiz/Trivia/port",
          "Quiz/Trivia/expansion",
          "Quiz/Trivia/pack",
          "Quiz/Trivia/remaster",
          "Quiz/Trivia/bundle",
          "Quiz/Trivia/dlc_addon",
          "Quiz/Trivia/standalone_expansion",
          "Quiz/Trivia/fork",
          "Quiz/Trivia/mod",
          "Quiz/Trivia/update",
          "Quiz/Trivia/season",
          "Quiz/Trivia/episode",
          "Quiz/Trivia/remake",
          "Quiz/Trivia/expanded_game",
          "Shooter/bundle",
          "Shooter/port",
          "Shooter/dlc_addon",
          "Shooter/season",
          "Shooter/remake",
          "Shooter/remaster",
          "Shooter/update",
          "Shooter/standalone_expansion",
          "Shooter/expanded_game",
          "Shooter/episode",
          "Shooter/fork",
          "Shooter/pack",
          "Shooter/mod",
          "Shooter/expansion",
          "Turn-based strategy (TBS)/port",
          "Turn-based strategy (TBS)/expansion",
          "Turn-based strategy (TBS)/pack",
          "Turn-based strategy (TBS)/bundle",
          "Turn-based strategy (TBS)/season",
          "Turn-based strategy (TBS)/remake",
          "Turn-based strategy (TBS)/expanded_game",
          "Turn-based strategy (TBS)/mod",
          "Turn-based strategy (TBS)/remaster",
          "Turn-based strategy (TBS)/dlc_addon",
          "Turn-based strategy (TBS)/standalone_expansion",
          "Turn-based strategy (TBS)/episode",
          "Turn-based strategy (TBS)/fork",
          "Turn-based strategy (TBS)/update",
          "Puzzle/expanded_game",
          "Puzzle/expansion",
          "Puzzle/bundle",
          "Puzzle/standalone_expansion",
          "Puzzle/remaster",
          "Puzzle/remake",
          "Puzzle/mod",
          "Puzzle/fork",
          "Puzzle/episode",
          "Puzzle/update",
          "Puzzle/port",
          "Puzzle/season",
          "Puzzle/dlc_addon",
          "Puzzle/pack",
          "Card & Board Game/expansion",
          "Card & Board Game/season",
          "Card & Board Game/fork",
          "Card & Board Game/expanded_game",
          "Card & Board Game/remaster",
          "Card & Board Game/pack",
          "Card & Board Game/port",
          "Card & Board Game/update",
          "Card & Board Game/mod",
          "Card & Board Game/bundle",
          "Card & Board Game/episode",
          "Card & Board Game/dlc_addon",
          "Card & Board Game/standalone_expansion",
          "Card & Board Game/remake",
          "Indie/bundle",
          "Indie/expansion",
          "Indie/episode",
          "Indie/update",
          "Indie/dlc_addon",
          "Indie/season",
          "Indie/pack",
          "Indie/remake",
          "Indie/mod",
          "Indie/standalone_expansion",
          "Indie/expanded_game",
          "Indie/port",
          "Indie/fork",
          "Indie/remaster",
          "Visual Novel/season",
          "Visual Novel/standalone_expansion",
          "Visual Novel/mod",
          "Visual Novel/update",
          "Visual Novel/fork",
          "Visual Novel/bundle",
          "Visual Novel/remaster",
          "Visual Novel/dlc_addon",
          "Visual Novel/remake",
          "Visual Novel/episode",
          "Visual Novel/pack",
          "Visual Novel/expanded_game",
          "Visual Novel/port",
          "Visual Novel/expansion",
          "Racing/fork",
          "Racing/standalone_expansion",
          "Racing/expanded_game",
          "Racing/episode",
          "Racing/dlc_addon",
          "Racing/update",
          "Racing/bundle",
          "Racing/expansion",
          "Racing/mod",
          "Racing/remaster",
          "Racing/season",
          "Racing/pack",
          "Racing/port",
          "Racing/remake",
          "Hack and slash/Beat 'em up/expanded_game",
          "Hack and slash/Beat 'em up/remake",
          "Hack and slash/Beat 'em up/fork",
          "Hack and slash/Beat 'em up/update",
          "Hack and slash/Beat 'em up/episode",
          "Hack and slash/Beat 'em up/port",
          "Hack and slash/Beat 'em up/dlc_addon",
          "Hack and slash/Beat 'em up/season",
          "Hack and slash/Beat 'em up/remaster",
          "Hack and slash/Beat 'em up/standalone_expansion",
          "Hack and slash/Beat 'em up/bundle",
          "Hack and slash/Beat 'em up/pack",
          "Hack and slash/Beat 'em up/mod",
          "Hack and slash/Beat 'em up/expansion",
          "MOBA/update",
          "MOBA/pack",
          "MOBA/remaster",
          "MOBA/dlc_addon",
          "MOBA/bundle",
          "MOBA/episode",
          "MOBA/season",
          "MOBA/fork",
          "MOBA/mod",
          "MOBA/remake",
          "MOBA/expansion",
          "MOBA/standalone_expansion",
          "MOBA/expanded_game",
          "MOBA/port",
          "Music/pack",
          "Music/mod",
          "Music/bundle",
          "Music/remaster",
          "Music/standalone_expansion",
          "Music/dlc_addon",
          "Music/port",
          "Music/season",
          "Music/expansion",
          "Music/update",
          "Music/episode",
          "Music/remake",
          "Music/fork",
          "Music/expanded_game",
          "Adventure",
          "Arcade",
          "Card & Board Game",
          "Fighting",
          "Hack and slash/Beat 'em up",
          "Indie",
          "MOBA",
          "Music",
          "Pinball",
          "Platform",
          "Point-and-click",
          "Puzzle",
          "Quiz/Trivia",
          "Racing",
          "Real Time Strategy (RTS)",
          "Role-playing (RPG)",
          "Shooter",
          "Simulator",
          "Sport",
          "Strategy",
          "Tactical",
          "Turn-based strategy (TBS)",
          "Visual Novel"
         ],
         "labels": [
          "expansion",
          "season",
          "update",
          "pack",
          "remake",
          "episode",
          "mod",
          "dlc_addon",
          "bundle",
          "expanded_game",
          "port",
          "standalone_expansion",
          "remaster",
          "fork",
          "mod",
          "bundle",
          "episode",
          "port",
          "remake",
          "dlc_addon",
          "standalone_expansion",
          "fork",
          "expanded_game",
          "expansion",
          "season",
          "remaster",
          "pack",
          "update",
          "fork",
          "pack",
          "mod",
          "expansion",
          "episode",
          "standalone_expansion",
          "expanded_game",
          "port",
          "update",
          "season",
          "remaster",
          "bundle",
          "remake",
          "dlc_addon",
          "bundle",
          "episode",
          "pack",
          "season",
          "standalone_expansion",
          "mod",
          "update",
          "dlc_addon",
          "remaster",
          "expansion",
          "expanded_game",
          "port",
          "remake",
          "fork",
          "mod",
          "episode",
          "port",
          "bundle",
          "fork",
          "expanded_game",
          "update",
          "pack",
          "remaster",
          "expansion",
          "standalone_expansion",
          "season",
          "dlc_addon",
          "remake",
          "expanded_game",
          "fork",
          "remaster",
          "standalone_expansion",
          "expansion",
          "update",
          "port",
          "bundle",
          "mod",
          "dlc_addon",
          "episode",
          "remake",
          "season",
          "pack",
          "mod",
          "port",
          "expansion",
          "dlc_addon",
          "update",
          "episode",
          "fork",
          "remake",
          "pack",
          "season",
          "standalone_expansion",
          "remaster",
          "bundle",
          "expanded_game",
          "port",
          "fork",
          "remake",
          "standalone_expansion",
          "pack",
          "mod",
          "remaster",
          "bundle",
          "season",
          "expansion",
          "episode",
          "dlc_addon",
          "expanded_game",
          "update",
          "mod",
          "port",
          "expanded_game",
          "dlc_addon",
          "remaster",
          "remake",
          "pack",
          "season",
          "standalone_expansion",
          "bundle",
          "update",
          "fork",
          "episode",
          "expansion",
          "dlc_addon",
          "expanded_game",
          "season",
          "standalone_expansion",
          "expansion",
          "update",
          "remake",
          "port",
          "episode",
          "pack",
          "fork",
          "remaster",
          "bundle",
          "mod",
          "mod",
          "episode",
          "dlc_addon",
          "port",
          "pack",
          "season",
          "remake",
          "bundle",
          "remaster",
          "expansion",
          "update",
          "fork",
          "standalone_expansion",
          "expanded_game",
          "episode",
          "dlc_addon",
          "pack",
          "port",
          "update",
          "fork",
          "expansion",
          "standalone_expansion",
          "expanded_game",
          "bundle",
          "mod",
          "remake",
          "season",
          "remaster",
          "port",
          "expansion",
          "pack",
          "remaster",
          "bundle",
          "dlc_addon",
          "standalone_expansion",
          "fork",
          "mod",
          "update",
          "season",
          "episode",
          "remake",
          "expanded_game",
          "bundle",
          "port",
          "dlc_addon",
          "season",
          "remake",
          "remaster",
          "update",
          "standalone_expansion",
          "expanded_game",
          "episode",
          "fork",
          "pack",
          "mod",
          "expansion",
          "port",
          "expansion",
          "pack",
          "bundle",
          "season",
          "remake",
          "expanded_game",
          "mod",
          "remaster",
          "dlc_addon",
          "standalone_expansion",
          "episode",
          "fork",
          "update",
          "expanded_game",
          "expansion",
          "bundle",
          "standalone_expansion",
          "remaster",
          "remake",
          "mod",
          "fork",
          "episode",
          "update",
          "port",
          "season",
          "dlc_addon",
          "pack",
          "expansion",
          "season",
          "fork",
          "expanded_game",
          "remaster",
          "pack",
          "port",
          "update",
          "mod",
          "bundle",
          "episode",
          "dlc_addon",
          "standalone_expansion",
          "remake",
          "bundle",
          "expansion",
          "episode",
          "update",
          "dlc_addon",
          "season",
          "pack",
          "remake",
          "mod",
          "standalone_expansion",
          "expanded_game",
          "port",
          "fork",
          "remaster",
          "season",
          "standalone_expansion",
          "mod",
          "update",
          "fork",
          "bundle",
          "remaster",
          "dlc_addon",
          "remake",
          "episode",
          "pack",
          "expanded_game",
          "port",
          "expansion",
          "fork",
          "standalone_expansion",
          "expanded_game",
          "episode",
          "dlc_addon",
          "update",
          "bundle",
          "expansion",
          "mod",
          "remaster",
          "season",
          "pack",
          "port",
          "remake",
          "expanded_game",
          "remake",
          "fork",
          "update",
          "episode",
          "port",
          "dlc_addon",
          "season",
          "remaster",
          "standalone_expansion",
          "bundle",
          "pack",
          "mod",
          "expansion",
          "update",
          "pack",
          "remaster",
          "dlc_addon",
          "bundle",
          "episode",
          "season",
          "fork",
          "mod",
          "remake",
          "expansion",
          "standalone_expansion",
          "expanded_game",
          "port",
          "pack",
          "mod",
          "bundle",
          "remaster",
          "standalone_expansion",
          "dlc_addon",
          "port",
          "season",
          "expansion",
          "update",
          "episode",
          "remake",
          "fork",
          "expanded_game",
          "Adventure",
          "Arcade",
          "Card & Board Game",
          "Fighting",
          "Hack and slash/Beat 'em up",
          "Indie",
          "MOBA",
          "Music",
          "Pinball",
          "Platform",
          "Point-and-click",
          "Puzzle",
          "Quiz/Trivia",
          "Racing",
          "Real Time Strategy (RTS)",
          "Role-playing (RPG)",
          "Shooter",
          "Simulator",
          "Sport",
          "Strategy",
          "Tactical",
          "Turn-based strategy (TBS)",
          "Visual Novel"
         ],
         "marker": {
          "colors": [
           "#636efa",
           "#636efa",
           "#636efa",
           "#636efa",
           "#636efa",
           "#636efa",
           "#636efa",
           "#636efa",
           "#636efa",
           "#636efa",
           "#636efa",
           "#636efa",
           "#636efa",
           "#636efa",
           "#EF553B",
           "#EF553B",
           "#EF553B",
           "#EF553B",
           "#EF553B",
           "#EF553B",
           "#EF553B",
           "#EF553B",
           "#EF553B",
           "#EF553B",
           "#EF553B",
           "#EF553B",
           "#EF553B",
           "#EF553B",
           "#00cc96",
           "#00cc96",
           "#00cc96",
           "#00cc96",
           "#00cc96",
           "#00cc96",
           "#00cc96",
           "#00cc96",
           "#00cc96",
           "#00cc96",
           "#00cc96",
           "#00cc96",
           "#00cc96",
           "#00cc96",
           "#ab63fa",
           "#ab63fa",
           "#ab63fa",
           "#ab63fa",
           "#ab63fa",
           "#ab63fa",
           "#ab63fa",
           "#ab63fa",
           "#ab63fa",
           "#ab63fa",
           "#ab63fa",
           "#ab63fa",
           "#ab63fa",
           "#ab63fa",
           "#FFA15A",
           "#FFA15A",
           "#FFA15A",
           "#FFA15A",
           "#FFA15A",
           "#FFA15A",
           "#FFA15A",
           "#FFA15A",
           "#FFA15A",
           "#FFA15A",
           "#FFA15A",
           "#FFA15A",
           "#FFA15A",
           "#FFA15A",
           "#19d3f3",
           "#19d3f3",
           "#19d3f3",
           "#19d3f3",
           "#19d3f3",
           "#19d3f3",
           "#19d3f3",
           "#19d3f3",
           "#19d3f3",
           "#19d3f3",
           "#19d3f3",
           "#19d3f3",
           "#19d3f3",
           "#19d3f3",
           "#FF6692",
           "#FF6692",
           "#FF6692",
           "#FF6692",
           "#FF6692",
           "#FF6692",
           "#FF6692",
           "#FF6692",
           "#FF6692",
           "#FF6692",
           "#FF6692",
           "#FF6692",
           "#FF6692",
           "#FF6692",
           "#B6E880",
           "#B6E880",
           "#B6E880",
           "#B6E880",
           "#B6E880",
           "#B6E880",
           "#B6E880",
           "#B6E880",
           "#B6E880",
           "#B6E880",
           "#B6E880",
           "#B6E880",
           "#B6E880",
           "#B6E880",
           "#FF97FF",
           "#FF97FF",
           "#FF97FF",
           "#FF97FF",
           "#FF97FF",
           "#FF97FF",
           "#FF97FF",
           "#FF97FF",
           "#FF97FF",
           "#FF97FF",
           "#FF97FF",
           "#FF97FF",
           "#FF97FF",
           "#FF97FF",
           "#FECB52",
           "#FECB52",
           "#FECB52",
           "#FECB52",
           "#FECB52",
           "#FECB52",
           "#FECB52",
           "#FECB52",
           "#FECB52",
           "#FECB52",
           "#FECB52",
           "#FECB52",
           "#FECB52",
           "#FECB52",
           "#636efa",
           "#636efa",
           "#636efa",
           "#636efa",
           "#636efa",
           "#636efa",
           "#636efa",
           "#636efa",
           "#636efa",
           "#636efa",
           "#636efa",
           "#636efa",
           "#636efa",
           "#636efa",
           "#EF553B",
           "#EF553B",
           "#EF553B",
           "#EF553B",
           "#EF553B",
           "#EF553B",
           "#EF553B",
           "#EF553B",
           "#EF553B",
           "#EF553B",
           "#EF553B",
           "#EF553B",
           "#EF553B",
           "#EF553B",
           "#00cc96",
           "#00cc96",
           "#00cc96",
           "#00cc96",
           "#00cc96",
           "#00cc96",
           "#00cc96",
           "#00cc96",
           "#00cc96",
           "#00cc96",
           "#00cc96",
           "#00cc96",
           "#00cc96",
           "#00cc96",
           "#ab63fa",
           "#ab63fa",
           "#ab63fa",
           "#ab63fa",
           "#ab63fa",
           "#ab63fa",
           "#ab63fa",
           "#ab63fa",
           "#ab63fa",
           "#ab63fa",
           "#ab63fa",
           "#ab63fa",
           "#ab63fa",
           "#ab63fa",
           "#FFA15A",
           "#FFA15A",
           "#FFA15A",
           "#FFA15A",
           "#FFA15A",
           "#FFA15A",
           "#FFA15A",
           "#FFA15A",
           "#FFA15A",
           "#FFA15A",
           "#FFA15A",
           "#FFA15A",
           "#FFA15A",
           "#FFA15A",
           "#19d3f3",
           "#19d3f3",
           "#19d3f3",
           "#19d3f3",
           "#19d3f3",
           "#19d3f3",
           "#19d3f3",
           "#19d3f3",
           "#19d3f3",
           "#19d3f3",
           "#19d3f3",
           "#19d3f3",
           "#19d3f3",
           "#19d3f3",
           "#FF6692",
           "#FF6692",
           "#FF6692",
           "#FF6692",
           "#FF6692",
           "#FF6692",
           "#FF6692",
           "#FF6692",
           "#FF6692",
           "#FF6692",
           "#FF6692",
           "#FF6692",
           "#FF6692",
           "#FF6692",
           "#B6E880",
           "#B6E880",
           "#B6E880",
           "#B6E880",
           "#B6E880",
           "#B6E880",
           "#B6E880",
           "#B6E880",
           "#B6E880",
           "#B6E880",
           "#B6E880",
           "#B6E880",
           "#B6E880",
           "#B6E880",
           "#FF97FF",
           "#FF97FF",
           "#FF97FF",
           "#FF97FF",
           "#FF97FF",
           "#FF97FF",
           "#FF97FF",
           "#FF97FF",
           "#FF97FF",
           "#FF97FF",
           "#FF97FF",
           "#FF97FF",
           "#FF97FF",
           "#FF97FF",
           "#FECB52",
           "#FECB52",
           "#FECB52",
           "#FECB52",
           "#FECB52",
           "#FECB52",
           "#FECB52",
           "#FECB52",
           "#FECB52",
           "#FECB52",
           "#FECB52",
           "#FECB52",
           "#FECB52",
           "#FECB52",
           "#636efa",
           "#636efa",
           "#636efa",
           "#636efa",
           "#636efa",
           "#636efa",
           "#636efa",
           "#636efa",
           "#636efa",
           "#636efa",
           "#636efa",
           "#636efa",
           "#636efa",
           "#636efa",
           "#EF553B",
           "#EF553B",
           "#EF553B",
           "#EF553B",
           "#EF553B",
           "#EF553B",
           "#EF553B",
           "#EF553B",
           "#EF553B",
           "#EF553B",
           "#EF553B",
           "#EF553B",
           "#EF553B",
           "#EF553B",
           "#00cc96",
           "#00cc96",
           "#00cc96",
           "#00cc96",
           "#00cc96",
           "#00cc96",
           "#00cc96",
           "#00cc96",
           "#00cc96",
           "#00cc96",
           "#00cc96",
           "#00cc96",
           "#00cc96",
           "#00cc96",
           "#B6E880",
           "#EF553B",
           "#FF6692",
           "#FF97FF",
           "#636efa",
           "#B6E880",
           "#EF553B",
           "#00cc96",
           "#00cc96",
           "#FECB52",
           "#FF6692",
           "#19d3f3",
           "#00cc96",
           "#FECB52",
           "#EF553B",
           "#636efa",
           "#ab63fa",
           "#FFA15A",
           "#19d3f3",
           "#636efa",
           "#ab63fa",
           "#FFA15A",
           "#FF97FF"
          ]
         },
         "name": "",
         "parents": [
          "Role-playing (RPG)",
          "Role-playing (RPG)",
          "Role-playing (RPG)",
          "Role-playing (RPG)",
          "Role-playing (RPG)",
          "Role-playing (RPG)",
          "Role-playing (RPG)",
          "Role-playing (RPG)",
          "Role-playing (RPG)",
          "Role-playing (RPG)",
          "Role-playing (RPG)",
          "Role-playing (RPG)",
          "Role-playing (RPG)",
          "Role-playing (RPG)",
          "Arcade",
          "Arcade",
          "Arcade",
          "Arcade",
          "Arcade",
          "Arcade",
          "Arcade",
          "Arcade",
          "Arcade",
          "Arcade",
          "Arcade",
          "Arcade",
          "Arcade",
          "Arcade",
          "Pinball",
          "Pinball",
          "Pinball",
          "Pinball",
          "Pinball",
          "Pinball",
          "Pinball",
          "Pinball",
          "Pinball",
          "Pinball",
          "Pinball",
          "Pinball",
          "Pinball",
          "Pinball",
          "Tactical",
          "Tactical",
          "Tactical",
          "Tactical",
          "Tactical",
          "Tactical",
          "Tactical",
          "Tactical",
          "Tactical",
          "Tactical",
          "Tactical",
          "Tactical",
          "Tactical",
          "Tactical",
          "Simulator",
          "Simulator",
          "Simulator",
          "Simulator",
          "Simulator",
          "Simulator",
          "Simulator",
          "Simulator",
          "Simulator",
          "Simulator",
          "Simulator",
          "Simulator",
          "Simulator",
          "Simulator",
          "Sport",
          "Sport",
          "Sport",
          "Sport",
          "Sport",
          "Sport",
          "Sport",
          "Sport",
          "Sport",
          "Sport",
          "Sport",
          "Sport",
          "Sport",
          "Sport",
          "Point-and-click",
          "Point-and-click",
          "Point-and-click",
          "Point-and-click",
          "Point-and-click",
          "Point-and-click",
          "Point-and-click",
          "Point-and-click",
          "Point-and-click",
          "Point-and-click",
          "Point-and-click",
          "Point-and-click",
          "Point-and-click",
          "Point-and-click",
          "Adventure",
          "Adventure",
          "Adventure",
          "Adventure",
          "Adventure",
          "Adventure",
          "Adventure",
          "Adventure",
          "Adventure",
          "Adventure",
          "Adventure",
          "Adventure",
          "Adventure",
          "Adventure",
          "Fighting",
          "Fighting",
          "Fighting",
          "Fighting",
          "Fighting",
          "Fighting",
          "Fighting",
          "Fighting",
          "Fighting",
          "Fighting",
          "Fighting",
          "Fighting",
          "Fighting",
          "Fighting",
          "Platform",
          "Platform",
          "Platform",
          "Platform",
          "Platform",
          "Platform",
          "Platform",
          "Platform",
          "Platform",
          "Platform",
          "Platform",
          "Platform",
          "Platform",
          "Platform",
          "Strategy",
          "Strategy",
          "Strategy",
          "Strategy",
          "Strategy",
          "Strategy",
          "Strategy",
          "Strategy",
          "Strategy",
          "Strategy",
          "Strategy",
          "Strategy",
          "Strategy",
          "Strategy",
          "Real Time Strategy (RTS)",
          "Real Time Strategy (RTS)",
          "Real Time Strategy (RTS)",
          "Real Time Strategy (RTS)",
          "Real Time Strategy (RTS)",
          "Real Time Strategy (RTS)",
          "Real Time Strategy (RTS)",
          "Real Time Strategy (RTS)",
          "Real Time Strategy (RTS)",
          "Real Time Strategy (RTS)",
          "Real Time Strategy (RTS)",
          "Real Time Strategy (RTS)",
          "Real Time Strategy (RTS)",
          "Real Time Strategy (RTS)",
          "Quiz/Trivia",
          "Quiz/Trivia",
          "Quiz/Trivia",
          "Quiz/Trivia",
          "Quiz/Trivia",
          "Quiz/Trivia",
          "Quiz/Trivia",
          "Quiz/Trivia",
          "Quiz/Trivia",
          "Quiz/Trivia",
          "Quiz/Trivia",
          "Quiz/Trivia",
          "Quiz/Trivia",
          "Quiz/Trivia",
          "Shooter",
          "Shooter",
          "Shooter",
          "Shooter",
          "Shooter",
          "Shooter",
          "Shooter",
          "Shooter",
          "Shooter",
          "Shooter",
          "Shooter",
          "Shooter",
          "Shooter",
          "Shooter",
          "Turn-based strategy (TBS)",
          "Turn-based strategy (TBS)",
          "Turn-based strategy (TBS)",
          "Turn-based strategy (TBS)",
          "Turn-based strategy (TBS)",
          "Turn-based strategy (TBS)",
          "Turn-based strategy (TBS)",
          "Turn-based strategy (TBS)",
          "Turn-based strategy (TBS)",
          "Turn-based strategy (TBS)",
          "Turn-based strategy (TBS)",
          "Turn-based strategy (TBS)",
          "Turn-based strategy (TBS)",
          "Turn-based strategy (TBS)",
          "Puzzle",
          "Puzzle",
          "Puzzle",
          "Puzzle",
          "Puzzle",
          "Puzzle",
          "Puzzle",
          "Puzzle",
          "Puzzle",
          "Puzzle",
          "Puzzle",
          "Puzzle",
          "Puzzle",
          "Puzzle",
          "Card & Board Game",
          "Card & Board Game",
          "Card & Board Game",
          "Card & Board Game",
          "Card & Board Game",
          "Card & Board Game",
          "Card & Board Game",
          "Card & Board Game",
          "Card & Board Game",
          "Card & Board Game",
          "Card & Board Game",
          "Card & Board Game",
          "Card & Board Game",
          "Card & Board Game",
          "Indie",
          "Indie",
          "Indie",
          "Indie",
          "Indie",
          "Indie",
          "Indie",
          "Indie",
          "Indie",
          "Indie",
          "Indie",
          "Indie",
          "Indie",
          "Indie",
          "Visual Novel",
          "Visual Novel",
          "Visual Novel",
          "Visual Novel",
          "Visual Novel",
          "Visual Novel",
          "Visual Novel",
          "Visual Novel",
          "Visual Novel",
          "Visual Novel",
          "Visual Novel",
          "Visual Novel",
          "Visual Novel",
          "Visual Novel",
          "Racing",
          "Racing",
          "Racing",
          "Racing",
          "Racing",
          "Racing",
          "Racing",
          "Racing",
          "Racing",
          "Racing",
          "Racing",
          "Racing",
          "Racing",
          "Racing",
          "Hack and slash/Beat 'em up",
          "Hack and slash/Beat 'em up",
          "Hack and slash/Beat 'em up",
          "Hack and slash/Beat 'em up",
          "Hack and slash/Beat 'em up",
          "Hack and slash/Beat 'em up",
          "Hack and slash/Beat 'em up",
          "Hack and slash/Beat 'em up",
          "Hack and slash/Beat 'em up",
          "Hack and slash/Beat 'em up",
          "Hack and slash/Beat 'em up",
          "Hack and slash/Beat 'em up",
          "Hack and slash/Beat 'em up",
          "Hack and slash/Beat 'em up",
          "MOBA",
          "MOBA",
          "MOBA",
          "MOBA",
          "MOBA",
          "MOBA",
          "MOBA",
          "MOBA",
          "MOBA",
          "MOBA",
          "MOBA",
          "MOBA",
          "MOBA",
          "MOBA",
          "Music",
          "Music",
          "Music",
          "Music",
          "Music",
          "Music",
          "Music",
          "Music",
          "Music",
          "Music",
          "Music",
          "Music",
          "Music",
          "Music",
          "",
          "",
          "",
          "",
          "",
          "",
          "",
          "",
          "",
          "",
          "",
          "",
          "",
          "",
          "",
          "",
          "",
          "",
          "",
          "",
          "",
          "",
          ""
         ],
         "type": "treemap",
         "values": [
          422,
          48,
          118,
          291,
          237,
          58,
          341,
          798,
          543,
          216,
          282,
          62,
          184,
          16,
          62,
          471,
          4,
          1081,
          143,
          101,
          20,
          7,
          183,
          14,
          1,
          82,
          31,
          14,
          0,
          0,
          2,
          0,
          0,
          6,
          1,
          19,
          1,
          0,
          0,
          20,
          0,
          117,
          61,
          11,
          6,
          48,
          15,
          37,
          2,
          139,
          14,
          62,
          18,
          37,
          17,
          4,
          78,
          21,
          252,
          305,
          8,
          130,
          41,
          765,
          78,
          324,
          63,
          25,
          4487,
          71,
          106,
          2,
          17,
          8,
          22,
          3,
          608,
          154,
          30,
          796,
          19,
          28,
          36,
          202,
          5,
          32,
          4,
          23,
          8,
          128,
          1,
          32,
          0,
          1,
          7,
          48,
          71,
          21,
          729,
          13,
          326,
          98,
          479,
          543,
          412,
          1053,
          70,
          305,
          306,
          1972,
          365,
          120,
          50,
          259,
          122,
          203,
          27,
          23,
          70,
          35,
          6,
          169,
          7,
          2,
          5,
          14,
          128,
          146,
          10,
          25,
          18,
          16,
          133,
          654,
          8,
          68,
          4,
          126,
          433,
          751,
          99,
          13,
          2879,
          243,
          401,
          46,
          117,
          408,
          95,
          458,
          18,
          6,
          83,
          121,
          2,
          237,
          24,
          31,
          2,
          1,
          113,
          28,
          13,
          79,
          38,
          13,
          0,
          31,
          15,
          7,
          0,
          1,
          16,
          2,
          2,
          0,
          1,
          0,
          15,
          22,
          0,
          10,
          516,
          644,
          578,
          220,
          102,
          161,
          87,
          73,
          142,
          25,
          14,
          88,
          1165,
          169,
          32,
          62,
          12,
          82,
          1,
          43,
          30,
          81,
          14,
          267,
          12,
          6,
          2,
          4,
          110,
          19,
          378,
          26,
          108,
          126,
          74,
          2,
          46,
          15,
          368,
          1,
          159,
          65,
          21,
          0,
          0,
          14,
          5,
          6,
          34,
          5,
          2,
          52,
          9,
          77,
          4,
          12,
          175,
          207,
          91,
          43,
          5280,
          38,
          376,
          110,
          104,
          58,
          192,
          124,
          12,
          117,
          5,
          24,
          16,
          1,
          0,
          150,
          44,
          55,
          66,
          51,
          7,
          74,
          239,
          4,
          1,
          6,
          66,
          10,
          576,
          4,
          157,
          32,
          69,
          24,
          14,
          132,
          283,
          25,
          51,
          30,
          0,
          33,
          1,
          200,
          80,
          24,
          50,
          20,
          154,
          81,
          25,
          47,
          1,
          1,
          0,
          5,
          0,
          0,
          3,
          1,
          0,
          1,
          2,
          0,
          0,
          0,
          21,
          67,
          30,
          9,
          6,
          46,
          78,
          1,
          8,
          2,
          0,
          8,
          10,
          38,
          6791,
          2214,
          241,
          992,
          796,
          6927,
          14,
          324,
          166,
          2520,
          381,
          1497,
          91,
          1399,
          612,
          3616,
          3984,
          6648,
          2031,
          4987,
          471,
          648,
          736
         ]
        }
       ],
       "layout": {
        "legend": {
         "tracegroupgap": 0
        },
        "margin": {
         "t": 60
        },
        "template": {
         "data": {
          "bar": [
           {
            "error_x": {
             "color": "#2a3f5f"
            },
            "error_y": {
             "color": "#2a3f5f"
            },
            "marker": {
             "line": {
              "color": "#E5ECF6",
              "width": 0.5
             },
             "pattern": {
              "fillmode": "overlay",
              "size": 10,
              "solidity": 0.2
             }
            },
            "type": "bar"
           }
          ],
          "barpolar": [
           {
            "marker": {
             "line": {
              "color": "#E5ECF6",
              "width": 0.5
             },
             "pattern": {
              "fillmode": "overlay",
              "size": 10,
              "solidity": 0.2
             }
            },
            "type": "barpolar"
           }
          ],
          "carpet": [
           {
            "aaxis": {
             "endlinecolor": "#2a3f5f",
             "gridcolor": "white",
             "linecolor": "white",
             "minorgridcolor": "white",
             "startlinecolor": "#2a3f5f"
            },
            "baxis": {
             "endlinecolor": "#2a3f5f",
             "gridcolor": "white",
             "linecolor": "white",
             "minorgridcolor": "white",
             "startlinecolor": "#2a3f5f"
            },
            "type": "carpet"
           }
          ],
          "choropleth": [
           {
            "colorbar": {
             "outlinewidth": 0,
             "ticks": ""
            },
            "type": "choropleth"
           }
          ],
          "contour": [
           {
            "colorbar": {
             "outlinewidth": 0,
             "ticks": ""
            },
            "colorscale": [
             [
              0,
              "#0d0887"
             ],
             [
              0.1111111111111111,
              "#46039f"
             ],
             [
              0.2222222222222222,
              "#7201a8"
             ],
             [
              0.3333333333333333,
              "#9c179e"
             ],
             [
              0.4444444444444444,
              "#bd3786"
             ],
             [
              0.5555555555555556,
              "#d8576b"
             ],
             [
              0.6666666666666666,
              "#ed7953"
             ],
             [
              0.7777777777777778,
              "#fb9f3a"
             ],
             [
              0.8888888888888888,
              "#fdca26"
             ],
             [
              1,
              "#f0f921"
             ]
            ],
            "type": "contour"
           }
          ],
          "contourcarpet": [
           {
            "colorbar": {
             "outlinewidth": 0,
             "ticks": ""
            },
            "type": "contourcarpet"
           }
          ],
          "heatmap": [
           {
            "colorbar": {
             "outlinewidth": 0,
             "ticks": ""
            },
            "colorscale": [
             [
              0,
              "#0d0887"
             ],
             [
              0.1111111111111111,
              "#46039f"
             ],
             [
              0.2222222222222222,
              "#7201a8"
             ],
             [
              0.3333333333333333,
              "#9c179e"
             ],
             [
              0.4444444444444444,
              "#bd3786"
             ],
             [
              0.5555555555555556,
              "#d8576b"
             ],
             [
              0.6666666666666666,
              "#ed7953"
             ],
             [
              0.7777777777777778,
              "#fb9f3a"
             ],
             [
              0.8888888888888888,
              "#fdca26"
             ],
             [
              1,
              "#f0f921"
             ]
            ],
            "type": "heatmap"
           }
          ],
          "heatmapgl": [
           {
            "colorbar": {
             "outlinewidth": 0,
             "ticks": ""
            },
            "colorscale": [
             [
              0,
              "#0d0887"
             ],
             [
              0.1111111111111111,
              "#46039f"
             ],
             [
              0.2222222222222222,
              "#7201a8"
             ],
             [
              0.3333333333333333,
              "#9c179e"
             ],
             [
              0.4444444444444444,
              "#bd3786"
             ],
             [
              0.5555555555555556,
              "#d8576b"
             ],
             [
              0.6666666666666666,
              "#ed7953"
             ],
             [
              0.7777777777777778,
              "#fb9f3a"
             ],
             [
              0.8888888888888888,
              "#fdca26"
             ],
             [
              1,
              "#f0f921"
             ]
            ],
            "type": "heatmapgl"
           }
          ],
          "histogram": [
           {
            "marker": {
             "pattern": {
              "fillmode": "overlay",
              "size": 10,
              "solidity": 0.2
             }
            },
            "type": "histogram"
           }
          ],
          "histogram2d": [
           {
            "colorbar": {
             "outlinewidth": 0,
             "ticks": ""
            },
            "colorscale": [
             [
              0,
              "#0d0887"
             ],
             [
              0.1111111111111111,
              "#46039f"
             ],
             [
              0.2222222222222222,
              "#7201a8"
             ],
             [
              0.3333333333333333,
              "#9c179e"
             ],
             [
              0.4444444444444444,
              "#bd3786"
             ],
             [
              0.5555555555555556,
              "#d8576b"
             ],
             [
              0.6666666666666666,
              "#ed7953"
             ],
             [
              0.7777777777777778,
              "#fb9f3a"
             ],
             [
              0.8888888888888888,
              "#fdca26"
             ],
             [
              1,
              "#f0f921"
             ]
            ],
            "type": "histogram2d"
           }
          ],
          "histogram2dcontour": [
           {
            "colorbar": {
             "outlinewidth": 0,
             "ticks": ""
            },
            "colorscale": [
             [
              0,
              "#0d0887"
             ],
             [
              0.1111111111111111,
              "#46039f"
             ],
             [
              0.2222222222222222,
              "#7201a8"
             ],
             [
              0.3333333333333333,
              "#9c179e"
             ],
             [
              0.4444444444444444,
              "#bd3786"
             ],
             [
              0.5555555555555556,
              "#d8576b"
             ],
             [
              0.6666666666666666,
              "#ed7953"
             ],
             [
              0.7777777777777778,
              "#fb9f3a"
             ],
             [
              0.8888888888888888,
              "#fdca26"
             ],
             [
              1,
              "#f0f921"
             ]
            ],
            "type": "histogram2dcontour"
           }
          ],
          "mesh3d": [
           {
            "colorbar": {
             "outlinewidth": 0,
             "ticks": ""
            },
            "type": "mesh3d"
           }
          ],
          "parcoords": [
           {
            "line": {
             "colorbar": {
              "outlinewidth": 0,
              "ticks": ""
             }
            },
            "type": "parcoords"
           }
          ],
          "pie": [
           {
            "automargin": true,
            "type": "pie"
           }
          ],
          "scatter": [
           {
            "fillpattern": {
             "fillmode": "overlay",
             "size": 10,
             "solidity": 0.2
            },
            "type": "scatter"
           }
          ],
          "scatter3d": [
           {
            "line": {
             "colorbar": {
              "outlinewidth": 0,
              "ticks": ""
             }
            },
            "marker": {
             "colorbar": {
              "outlinewidth": 0,
              "ticks": ""
             }
            },
            "type": "scatter3d"
           }
          ],
          "scattercarpet": [
           {
            "marker": {
             "colorbar": {
              "outlinewidth": 0,
              "ticks": ""
             }
            },
            "type": "scattercarpet"
           }
          ],
          "scattergeo": [
           {
            "marker": {
             "colorbar": {
              "outlinewidth": 0,
              "ticks": ""
             }
            },
            "type": "scattergeo"
           }
          ],
          "scattergl": [
           {
            "marker": {
             "colorbar": {
              "outlinewidth": 0,
              "ticks": ""
             }
            },
            "type": "scattergl"
           }
          ],
          "scattermapbox": [
           {
            "marker": {
             "colorbar": {
              "outlinewidth": 0,
              "ticks": ""
             }
            },
            "type": "scattermapbox"
           }
          ],
          "scatterpolar": [
           {
            "marker": {
             "colorbar": {
              "outlinewidth": 0,
              "ticks": ""
             }
            },
            "type": "scatterpolar"
           }
          ],
          "scatterpolargl": [
           {
            "marker": {
             "colorbar": {
              "outlinewidth": 0,
              "ticks": ""
             }
            },
            "type": "scatterpolargl"
           }
          ],
          "scatterternary": [
           {
            "marker": {
             "colorbar": {
              "outlinewidth": 0,
              "ticks": ""
             }
            },
            "type": "scatterternary"
           }
          ],
          "surface": [
           {
            "colorbar": {
             "outlinewidth": 0,
             "ticks": ""
            },
            "colorscale": [
             [
              0,
              "#0d0887"
             ],
             [
              0.1111111111111111,
              "#46039f"
             ],
             [
              0.2222222222222222,
              "#7201a8"
             ],
             [
              0.3333333333333333,
              "#9c179e"
             ],
             [
              0.4444444444444444,
              "#bd3786"
             ],
             [
              0.5555555555555556,
              "#d8576b"
             ],
             [
              0.6666666666666666,
              "#ed7953"
             ],
             [
              0.7777777777777778,
              "#fb9f3a"
             ],
             [
              0.8888888888888888,
              "#fdca26"
             ],
             [
              1,
              "#f0f921"
             ]
            ],
            "type": "surface"
           }
          ],
          "table": [
           {
            "cells": {
             "fill": {
              "color": "#EBF0F8"
             },
             "line": {
              "color": "white"
             }
            },
            "header": {
             "fill": {
              "color": "#C8D4E3"
             },
             "line": {
              "color": "white"
             }
            },
            "type": "table"
           }
          ]
         },
         "layout": {
          "annotationdefaults": {
           "arrowcolor": "#2a3f5f",
           "arrowhead": 0,
           "arrowwidth": 1
          },
          "autotypenumbers": "strict",
          "coloraxis": {
           "colorbar": {
            "outlinewidth": 0,
            "ticks": ""
           }
          },
          "colorscale": {
           "diverging": [
            [
             0,
             "#8e0152"
            ],
            [
             0.1,
             "#c51b7d"
            ],
            [
             0.2,
             "#de77ae"
            ],
            [
             0.3,
             "#f1b6da"
            ],
            [
             0.4,
             "#fde0ef"
            ],
            [
             0.5,
             "#f7f7f7"
            ],
            [
             0.6,
             "#e6f5d0"
            ],
            [
             0.7,
             "#b8e186"
            ],
            [
             0.8,
             "#7fbc41"
            ],
            [
             0.9,
             "#4d9221"
            ],
            [
             1,
             "#276419"
            ]
           ],
           "sequential": [
            [
             0,
             "#0d0887"
            ],
            [
             0.1111111111111111,
             "#46039f"
            ],
            [
             0.2222222222222222,
             "#7201a8"
            ],
            [
             0.3333333333333333,
             "#9c179e"
            ],
            [
             0.4444444444444444,
             "#bd3786"
            ],
            [
             0.5555555555555556,
             "#d8576b"
            ],
            [
             0.6666666666666666,
             "#ed7953"
            ],
            [
             0.7777777777777778,
             "#fb9f3a"
            ],
            [
             0.8888888888888888,
             "#fdca26"
            ],
            [
             1,
             "#f0f921"
            ]
           ],
           "sequentialminus": [
            [
             0,
             "#0d0887"
            ],
            [
             0.1111111111111111,
             "#46039f"
            ],
            [
             0.2222222222222222,
             "#7201a8"
            ],
            [
             0.3333333333333333,
             "#9c179e"
            ],
            [
             0.4444444444444444,
             "#bd3786"
            ],
            [
             0.5555555555555556,
             "#d8576b"
            ],
            [
             0.6666666666666666,
             "#ed7953"
            ],
            [
             0.7777777777777778,
             "#fb9f3a"
            ],
            [
             0.8888888888888888,
             "#fdca26"
            ],
            [
             1,
             "#f0f921"
            ]
           ]
          },
          "colorway": [
           "#636efa",
           "#EF553B",
           "#00cc96",
           "#ab63fa",
           "#FFA15A",
           "#19d3f3",
           "#FF6692",
           "#B6E880",
           "#FF97FF",
           "#FECB52"
          ],
          "font": {
           "color": "#2a3f5f"
          },
          "geo": {
           "bgcolor": "white",
           "lakecolor": "white",
           "landcolor": "#E5ECF6",
           "showlakes": true,
           "showland": true,
           "subunitcolor": "white"
          },
          "hoverlabel": {
           "align": "left"
          },
          "hovermode": "closest",
          "mapbox": {
           "style": "light"
          },
          "paper_bgcolor": "white",
          "plot_bgcolor": "#E5ECF6",
          "polar": {
           "angularaxis": {
            "gridcolor": "white",
            "linecolor": "white",
            "ticks": ""
           },
           "bgcolor": "#E5ECF6",
           "radialaxis": {
            "gridcolor": "white",
            "linecolor": "white",
            "ticks": ""
           }
          },
          "scene": {
           "xaxis": {
            "backgroundcolor": "#E5ECF6",
            "gridcolor": "white",
            "gridwidth": 2,
            "linecolor": "white",
            "showbackground": true,
            "ticks": "",
            "zerolinecolor": "white"
           },
           "yaxis": {
            "backgroundcolor": "#E5ECF6",
            "gridcolor": "white",
            "gridwidth": 2,
            "linecolor": "white",
            "showbackground": true,
            "ticks": "",
            "zerolinecolor": "white"
           },
           "zaxis": {
            "backgroundcolor": "#E5ECF6",
            "gridcolor": "white",
            "gridwidth": 2,
            "linecolor": "white",
            "showbackground": true,
            "ticks": "",
            "zerolinecolor": "white"
           }
          },
          "shapedefaults": {
           "line": {
            "color": "#2a3f5f"
           }
          },
          "ternary": {
           "aaxis": {
            "gridcolor": "white",
            "linecolor": "white",
            "ticks": ""
           },
           "baxis": {
            "gridcolor": "white",
            "linecolor": "white",
            "ticks": ""
           },
           "bgcolor": "#E5ECF6",
           "caxis": {
            "gridcolor": "white",
            "linecolor": "white",
            "ticks": ""
           }
          },
          "title": {
           "x": 0.05
          },
          "xaxis": {
           "automargin": true,
           "gridcolor": "white",
           "linecolor": "white",
           "ticks": "",
           "title": {
            "standoff": 15
           },
           "zerolinecolor": "white",
           "zerolinewidth": 2
          },
          "yaxis": {
           "automargin": true,
           "gridcolor": "white",
           "linecolor": "white",
           "ticks": "",
           "title": {
            "standoff": 15
           },
           "zerolinecolor": "white",
           "zerolinewidth": 2
          }
         }
        }
       }
      }
     },
     "metadata": {},
     "output_type": "display_data"
    }
   ],
   "source": [
    "genres_categories_fig(dataframe)"
   ]
  },
  {
   "cell_type": "code",
   "execution_count": null,
   "id": "26a6cee1",
   "metadata": {},
   "outputs": [],
   "source": [
    "###############################################################################################################################################################################"
   ]
  }
 ],
 "metadata": {
  "kernelspec": {
   "display_name": "Python 3 (ipykernel)",
   "language": "python",
   "name": "python3"
  },
  "language_info": {
   "codemirror_mode": {
    "name": "ipython",
    "version": 3
   },
   "file_extension": ".py",
   "mimetype": "text/x-python",
   "name": "python",
   "nbconvert_exporter": "python",
   "pygments_lexer": "ipython3",
   "version": "3.9.12"
  }
 },
 "nbformat": 4,
 "nbformat_minor": 5
}
